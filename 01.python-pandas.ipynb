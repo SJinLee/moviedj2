{
  "cells": [
    {
      "cell_type": "markdown",
      "metadata": {
        "id": "view-in-github",
        "colab_type": "text"
      },
      "source": [
        "<a href=\"https://colab.research.google.com/github/SJinLee/moviedj2/blob/main/01.python-pandas.ipynb\" target=\"_parent\"><img src=\"https://colab.research.google.com/assets/colab-badge.svg\" alt=\"Open In Colab\"/></a>"
      ]
    },
    {
      "cell_type": "markdown",
      "metadata": {
        "id": "CcOIarv9GFhE"
      },
      "source": [
        "### [참고자료]\n",
        "* <a href=\"https://docs.python.org/ko/3/tutorial/index.html\" target=\"_blank\">파이선 자습서(https://docs.python.org/ko/3/tutorial/index.html)</a>\n",
        "\n",
        "* <a href=\"https://doorbw.tistory.com/172\" target=\"_blank\">pandas의 기초(https://doorbw.tistory.com/172)</a>"
      ]
    },
    {
      "cell_type": "markdown",
      "source": [
        "### 연산\n",
        "\n",
        "* 4칙연산: +, -, &#x2a;, / \n",
        "* 거듭제곱: &#x2a;&#x2a;\n",
        "* 몫: //\n",
        "* 나머지: %\n",
        "* 우선순위: 거듭제곱 $\\rightarrow$ (&#x2a;, /, //, %) $\\rightarrow$ (+,-)\n",
        "* 우선순위를 바꿀 때 괄호를 사용\n"
      ],
      "metadata": {
        "id": "evyRuudxm0dZ"
      }
    },
    {
      "cell_type": "code",
      "execution_count": 1,
      "metadata": {
        "id": "tfPMddbtzYXV",
        "outputId": "49519dc9-55c8-4a72-d723-7ebde580694a",
        "colab": {
          "base_uri": "https://localhost:8080/"
        }
      },
      "outputs": [
        {
          "output_type": "execute_result",
          "data": {
            "text/plain": [
              "4"
            ]
          },
          "metadata": {},
          "execution_count": 1
        }
      ],
      "source": [
        "2 + 2"
      ]
    },
    {
      "cell_type": "code",
      "source": [
        "50 - 5 * 6"
      ],
      "metadata": {
        "id": "2iBX6IEi0GpI",
        "outputId": "5e33dca6-c137-44aa-8c1b-a4c9dbffbbfc",
        "colab": {
          "base_uri": "https://localhost:8080/"
        }
      },
      "execution_count": 2,
      "outputs": [
        {
          "output_type": "execute_result",
          "data": {
            "text/plain": [
              "20"
            ]
          },
          "metadata": {},
          "execution_count": 2
        }
      ]
    },
    {
      "cell_type": "code",
      "source": [
        "(50 - 5 * 6) / 4"
      ],
      "metadata": {
        "id": "HX7dzW6k0u6V",
        "outputId": "ef7babc4-6154-4bf8-8c72-75d1b394fcb7",
        "colab": {
          "base_uri": "https://localhost:8080/"
        }
      },
      "execution_count": 3,
      "outputs": [
        {
          "output_type": "execute_result",
          "data": {
            "text/plain": [
              "5.0"
            ]
          },
          "metadata": {},
          "execution_count": 3
        }
      ]
    },
    {
      "cell_type": "code",
      "source": [
        "50 - 5 * 6 / 4"
      ],
      "metadata": {
        "id": "Tt3mGcUu1JEC",
        "outputId": "f6f74ba0-c4e7-4063-a25f-0d3442786649",
        "colab": {
          "base_uri": "https://localhost:8080/"
        }
      },
      "execution_count": 4,
      "outputs": [
        {
          "output_type": "execute_result",
          "data": {
            "text/plain": [
              "42.5"
            ]
          },
          "metadata": {},
          "execution_count": 4
        }
      ]
    },
    {
      "cell_type": "code",
      "source": [
        "17 // 3"
      ],
      "metadata": {
        "id": "L-hAuKeI1Nq6",
        "outputId": "61cd880b-3edf-4595-dc46-4149345177fc",
        "colab": {
          "base_uri": "https://localhost:8080/"
        }
      },
      "execution_count": 5,
      "outputs": [
        {
          "output_type": "execute_result",
          "data": {
            "text/plain": [
              "5"
            ]
          },
          "metadata": {},
          "execution_count": 5
        }
      ]
    },
    {
      "cell_type": "code",
      "source": [
        "17 % 3"
      ],
      "metadata": {
        "id": "NtR3V4p91weH",
        "outputId": "573d3b9b-3ca7-49a6-ef84-5371c8c8a068",
        "colab": {
          "base_uri": "https://localhost:8080/"
        }
      },
      "execution_count": 6,
      "outputs": [
        {
          "output_type": "execute_result",
          "data": {
            "text/plain": [
              "2"
            ]
          },
          "metadata": {},
          "execution_count": 6
        }
      ]
    },
    {
      "cell_type": "code",
      "source": [
        "5 ** 2"
      ],
      "metadata": {
        "id": "h6cwXC3X1zrD",
        "outputId": "83cf9639-74cb-42b5-f125-f0b4c48ea5f6",
        "colab": {
          "base_uri": "https://localhost:8080/"
        }
      },
      "execution_count": 7,
      "outputs": [
        {
          "output_type": "execute_result",
          "data": {
            "text/plain": [
              "25"
            ]
          },
          "metadata": {},
          "execution_count": 7
        }
      ]
    },
    {
      "cell_type": "code",
      "source": [
        "5+4/3//2"
      ],
      "metadata": {
        "id": "zKmJOBAnq8ly",
        "colab": {
          "base_uri": "https://localhost:8080/"
        },
        "outputId": "aba3f8a5-09b3-4097-8314-34b0d2386574"
      },
      "execution_count": 8,
      "outputs": [
        {
          "output_type": "execute_result",
          "data": {
            "text/plain": [
              "5.0"
            ]
          },
          "metadata": {},
          "execution_count": 8
        }
      ]
    },
    {
      "cell_type": "code",
      "source": [
        "40/(30//7)"
      ],
      "metadata": {
        "colab": {
          "base_uri": "https://localhost:8080/"
        },
        "id": "3QbpSRuwrN1X",
        "outputId": "48b6480e-755f-4b54-8e63-531a9a3a459c"
      },
      "execution_count": 10,
      "outputs": [
        {
          "output_type": "execute_result",
          "data": {
            "text/plain": [
              "10.0"
            ]
          },
          "metadata": {},
          "execution_count": 10
        }
      ]
    },
    {
      "cell_type": "code",
      "source": [
        "40/30//7"
      ],
      "metadata": {
        "colab": {
          "base_uri": "https://localhost:8080/"
        },
        "id": "lyoOtAPUrzVO",
        "outputId": "c3a9ec25-ea36-48ec-b7b7-f7463210338e"
      },
      "execution_count": 12,
      "outputs": [
        {
          "output_type": "execute_result",
          "data": {
            "text/plain": [
              "0.0"
            ]
          },
          "metadata": {},
          "execution_count": 12
        }
      ]
    },
    {
      "cell_type": "code",
      "source": [
        "40//30/7"
      ],
      "metadata": {
        "colab": {
          "base_uri": "https://localhost:8080/"
        },
        "id": "xq9c1xGor1O8",
        "outputId": "d3a31b2a-c8a9-420a-b42d-c404a0ed309c"
      },
      "execution_count": 11,
      "outputs": [
        {
          "output_type": "execute_result",
          "data": {
            "text/plain": [
              "0.14285714285714285"
            ]
          },
          "metadata": {},
          "execution_count": 11
        }
      ]
    },
    {
      "cell_type": "markdown",
      "source": [
        "* 거듭제곱 연산: **\n",
        "* &#x2a;와 &#x2a;사이에 공백이 있으면 안됨"
      ],
      "metadata": {
        "id": "lxFzbQC3nMu_"
      }
    },
    {
      "cell_type": "code",
      "source": [
        "5 * * 2"
      ],
      "metadata": {
        "id": "Y8m12-tb2N3U",
        "outputId": "31c52acf-a78c-408a-b4e6-d3b5035194e7",
        "colab": {
          "base_uri": "https://localhost:8080/",
          "height": 137
        }
      },
      "execution_count": null,
      "outputs": [
        {
          "output_type": "error",
          "ename": "SyntaxError",
          "evalue": "ignored",
          "traceback": [
            "\u001b[0;36m  File \u001b[0;32m\"<ipython-input-8-04d6f6ed3ac0>\"\u001b[0;36m, line \u001b[0;32m1\u001b[0m\n\u001b[0;31m    5 * * 2\u001b[0m\n\u001b[0m        ^\u001b[0m\n\u001b[0;31mSyntaxError\u001b[0m\u001b[0;31m:\u001b[0m invalid syntax\n"
          ]
        }
      ]
    },
    {
      "cell_type": "code",
      "source": [
        "2**7"
      ],
      "metadata": {
        "id": "1qJqu1ph2Plp",
        "outputId": "39a53ebe-94e3-4d89-c720-922f142e4d9b",
        "colab": {
          "base_uri": "https://localhost:8080/"
        }
      },
      "execution_count": null,
      "outputs": [
        {
          "output_type": "execute_result",
          "data": {
            "text/plain": [
              "128"
            ]
          },
          "metadata": {},
          "execution_count": 9
        }
      ]
    },
    {
      "cell_type": "markdown",
      "source": [
        "### 변수\n",
        "* 변수는 알파벳, 한글, 숫자, _ (밑줄)을 조합하여 만든다.\n",
        "* 변수에 계산 결과를 저장할 수 있다.\n",
        "* 변수에 저장된 값을 불러올 수 있다."
      ],
      "metadata": {
        "id": "7MMlnArzsF1c"
      }
    },
    {
      "cell_type": "code",
      "source": [
        "width = 20\n",
        "height = 5*9\n",
        "width*height"
      ],
      "metadata": {
        "id": "fFy46z6M2UBb",
        "outputId": "4eaacb92-e26f-408c-fc8a-6fe1f4445fe7",
        "colab": {
          "base_uri": "https://localhost:8080/"
        }
      },
      "execution_count": null,
      "outputs": [
        {
          "output_type": "execute_result",
          "data": {
            "text/plain": [
              "900"
            ]
          },
          "metadata": {},
          "execution_count": 10
        }
      ]
    },
    {
      "cell_type": "code",
      "source": [
        "폭 = 20\n",
        "높이 = 5*9\n",
        "폭*높이"
      ],
      "metadata": {
        "id": "FrJ7rkGt2vGv",
        "outputId": "17c0bc56-f46a-4b80-d30b-d03bd066c7d0",
        "colab": {
          "base_uri": "https://localhost:8080/"
        }
      },
      "execution_count": null,
      "outputs": [
        {
          "output_type": "execute_result",
          "data": {
            "text/plain": [
              "900"
            ]
          },
          "metadata": {},
          "execution_count": 11
        }
      ]
    },
    {
      "cell_type": "code",
      "source": [
        "tax = 12.5 / 100\n",
        "price = 100.50\n",
        "price * tax"
      ],
      "metadata": {
        "id": "q2cWyvOR29Bx",
        "outputId": "cf99f3e1-4a5f-4389-dcf4-4af0ab182f4d",
        "colab": {
          "base_uri": "https://localhost:8080/"
        }
      },
      "execution_count": 14,
      "outputs": [
        {
          "output_type": "execute_result",
          "data": {
            "text/plain": [
              "12.5625"
            ]
          },
          "metadata": {},
          "execution_count": 14
        }
      ]
    },
    {
      "cell_type": "markdown",
      "source": [
        "* _ 에 직전에 계산한 결과가 저장된다"
      ],
      "metadata": {
        "id": "2hsBXBUAsgK6"
      }
    },
    {
      "cell_type": "code",
      "source": [
        "price + _"
      ],
      "metadata": {
        "id": "wcOdY5Uu3_kK",
        "outputId": "23c0dc48-99b7-49e2-8076-71851d8d6a1c",
        "colab": {
          "base_uri": "https://localhost:8080/"
        }
      },
      "execution_count": 15,
      "outputs": [
        {
          "output_type": "execute_result",
          "data": {
            "text/plain": [
              "113.0625"
            ]
          },
          "metadata": {},
          "execution_count": 15
        }
      ]
    },
    {
      "cell_type": "code",
      "source": [
        "round(_, 2)"
      ],
      "metadata": {
        "id": "k2je8uyU4GMj",
        "outputId": "6fe615ff-9c27-414e-d5eb-c1a0975587db",
        "colab": {
          "base_uri": "https://localhost:8080/"
        }
      },
      "execution_count": 16,
      "outputs": [
        {
          "output_type": "execute_result",
          "data": {
            "text/plain": [
              "113.06"
            ]
          },
          "metadata": {},
          "execution_count": 16
        }
      ]
    },
    {
      "cell_type": "code",
      "source": [
        "price = 2\n",
        "_"
      ],
      "metadata": {
        "colab": {
          "base_uri": "https://localhost:8080/"
        },
        "id": "rlf_I0UtstXK",
        "outputId": "11669772-36a9-48ff-f6bf-883509bd8f3a"
      },
      "execution_count": 17,
      "outputs": [
        {
          "output_type": "execute_result",
          "data": {
            "text/plain": [
              "113.06"
            ]
          },
          "metadata": {},
          "execution_count": 17
        }
      ]
    },
    {
      "cell_type": "markdown",
      "source": [
        "### 문자\n",
        "* 따옴표(')사이에 글자들을 나열하여 만든다.\n",
        "* escape character가 있다.\n",
        "    * \\n : enter key\n",
        "    * \\t : tab key\n"
      ],
      "metadata": {
        "id": "QjYkG0YYs8x1"
      }
    },
    {
      "cell_type": "code",
      "source": [
        "'First line\\nSecond line'"
      ],
      "metadata": {
        "id": "6UZSBR7n4U6Q",
        "outputId": "54e77580-1d2e-4f4d-af77-c623bfb2bb8a",
        "colab": {
          "base_uri": "https://localhost:8080/",
          "height": 35
        }
      },
      "execution_count": null,
      "outputs": [
        {
          "output_type": "execute_result",
          "data": {
            "text/plain": [
              "'First line\\nSecond line'"
            ],
            "application/vnd.google.colaboratory.intrinsic+json": {
              "type": "string"
            }
          },
          "metadata": {},
          "execution_count": 15
        }
      ]
    },
    {
      "cell_type": "code",
      "source": [
        "print('First line\\nSecond line')"
      ],
      "metadata": {
        "id": "0EItGUyF50G-",
        "outputId": "254e4e3c-c8e3-4099-9751-2ce111230430",
        "colab": {
          "base_uri": "https://localhost:8080/"
        }
      },
      "execution_count": null,
      "outputs": [
        {
          "output_type": "stream",
          "name": "stdout",
          "text": [
            "First line\n",
            "Second line\n"
          ]
        }
      ]
    },
    {
      "cell_type": "markdown",
      "source": [
        "* 문자의 첫 번째 글자 가져올 때"
      ],
      "metadata": {
        "id": "_pAWUlr-tZr7"
      }
    },
    {
      "cell_type": "code",
      "source": [
        "word = 'Python'\n",
        "word[0]"
      ],
      "metadata": {
        "id": "lzGmrcAE556r",
        "outputId": "62144f1b-5c5f-4366-d6e8-0ce3a5f841eb",
        "colab": {
          "base_uri": "https://localhost:8080/",
          "height": 35
        }
      },
      "execution_count": null,
      "outputs": [
        {
          "output_type": "execute_result",
          "data": {
            "text/plain": [
              "'P'"
            ],
            "application/vnd.google.colaboratory.intrinsic+json": {
              "type": "string"
            }
          },
          "metadata": {},
          "execution_count": 17
        }
      ]
    },
    {
      "cell_type": "markdown",
      "source": [
        "* 문자의 6번째 글자 가져올 때"
      ],
      "metadata": {
        "id": "4Qs9JtEktezm"
      }
    },
    {
      "cell_type": "code",
      "source": [
        "word[5]"
      ],
      "metadata": {
        "id": "JQLdAj6A7CpL",
        "outputId": "00402c17-31b0-40c9-fe17-bdce7c7466e3",
        "colab": {
          "base_uri": "https://localhost:8080/",
          "height": 35
        }
      },
      "execution_count": null,
      "outputs": [
        {
          "output_type": "execute_result",
          "data": {
            "text/plain": [
              "'n'"
            ],
            "application/vnd.google.colaboratory.intrinsic+json": {
              "type": "string"
            }
          },
          "metadata": {},
          "execution_count": 18
        }
      ]
    },
    {
      "cell_type": "markdown",
      "source": [
        "* 마지막 글자"
      ],
      "metadata": {
        "id": "ezmi86OctkR_"
      }
    },
    {
      "cell_type": "code",
      "source": [
        "word[-1]"
      ],
      "metadata": {
        "id": "WVAM__-27Dxw",
        "outputId": "e5d3fe85-929e-448b-eab4-242aedcbf15b",
        "colab": {
          "base_uri": "https://localhost:8080/",
          "height": 35
        }
      },
      "execution_count": null,
      "outputs": [
        {
          "output_type": "execute_result",
          "data": {
            "text/plain": [
              "'n'"
            ],
            "application/vnd.google.colaboratory.intrinsic+json": {
              "type": "string"
            }
          },
          "metadata": {},
          "execution_count": 19
        }
      ]
    },
    {
      "cell_type": "markdown",
      "source": [
        "* 마지막에서 2번째 글자"
      ],
      "metadata": {
        "id": "q2PBPmQatm35"
      }
    },
    {
      "cell_type": "code",
      "source": [
        "word[-2]"
      ],
      "metadata": {
        "id": "pN6kD8zd7XzK",
        "outputId": "0e98c1ef-5074-42b8-c338-735291134e32",
        "colab": {
          "base_uri": "https://localhost:8080/",
          "height": 35
        }
      },
      "execution_count": null,
      "outputs": [
        {
          "output_type": "execute_result",
          "data": {
            "text/plain": [
              "'o'"
            ],
            "application/vnd.google.colaboratory.intrinsic+json": {
              "type": "string"
            }
          },
          "metadata": {},
          "execution_count": 20
        }
      ]
    },
    {
      "cell_type": "code",
      "source": [
        "word[-6]"
      ],
      "metadata": {
        "id": "L5MLzY2E7Y-e",
        "outputId": "0eea39a8-1935-404a-8250-57ac76c5283d",
        "colab": {
          "base_uri": "https://localhost:8080/",
          "height": 35
        }
      },
      "execution_count": null,
      "outputs": [
        {
          "output_type": "execute_result",
          "data": {
            "text/plain": [
              "'P'"
            ],
            "application/vnd.google.colaboratory.intrinsic+json": {
              "type": "string"
            }
          },
          "metadata": {},
          "execution_count": 21
        }
      ]
    },
    {
      "cell_type": "markdown",
      "source": [
        "* 마지막으로부터 7번째 문자는 없다."
      ],
      "metadata": {
        "id": "cpGwIDGFtsAn"
      }
    },
    {
      "cell_type": "code",
      "source": [
        "word[-7]"
      ],
      "metadata": {
        "id": "-1kAK14j7ai4",
        "outputId": "661e6aeb-ea52-4f9f-c37f-f87b23e0550b",
        "colab": {
          "base_uri": "https://localhost:8080/",
          "height": 174
        }
      },
      "execution_count": null,
      "outputs": [
        {
          "output_type": "error",
          "ename": "IndexError",
          "evalue": "ignored",
          "traceback": [
            "\u001b[0;31m---------------------------------------------------------------------------\u001b[0m",
            "\u001b[0;31mIndexError\u001b[0m                                Traceback (most recent call last)",
            "\u001b[0;32m<ipython-input-22-cf1e1da1c9b2>\u001b[0m in \u001b[0;36m<module>\u001b[0;34m()\u001b[0m\n\u001b[0;32m----> 1\u001b[0;31m \u001b[0mword\u001b[0m\u001b[0;34m[\u001b[0m\u001b[0;34m-\u001b[0m\u001b[0;36m7\u001b[0m\u001b[0;34m]\u001b[0m\u001b[0;34m\u001b[0m\u001b[0;34m\u001b[0m\u001b[0m\n\u001b[0m",
            "\u001b[0;31mIndexError\u001b[0m: string index out of range"
          ]
        }
      ]
    },
    {
      "cell_type": "markdown",
      "source": [
        "* 처음부터 2번째 문자까지"
      ],
      "metadata": {
        "id": "2P1CobGOtxpL"
      }
    },
    {
      "cell_type": "code",
      "source": [
        "word[:2]"
      ],
      "metadata": {
        "id": "jA4as4f17dOw",
        "outputId": "7e7c91f2-81d7-43d1-ff83-36b744719437",
        "colab": {
          "base_uri": "https://localhost:8080/",
          "height": 35
        }
      },
      "execution_count": null,
      "outputs": [
        {
          "output_type": "execute_result",
          "data": {
            "text/plain": [
              "'Py'"
            ],
            "application/vnd.google.colaboratory.intrinsic+json": {
              "type": "string"
            }
          },
          "metadata": {},
          "execution_count": 23
        }
      ]
    },
    {
      "cell_type": "markdown",
      "source": [
        "* 두 번째 문자부터 마지막에서 2번째 문자까지"
      ],
      "metadata": {
        "id": "cFK-zyhSt1xB"
      }
    },
    {
      "cell_type": "code",
      "source": [
        "word[1:-1]"
      ],
      "metadata": {
        "id": "nJqvuhQ47pBV",
        "outputId": "d3d26f8a-1b62-4b9d-ddd0-8e82c5881c84",
        "colab": {
          "base_uri": "https://localhost:8080/",
          "height": 35
        }
      },
      "execution_count": null,
      "outputs": [
        {
          "output_type": "execute_result",
          "data": {
            "text/plain": [
              "'ytho'"
            ],
            "application/vnd.google.colaboratory.intrinsic+json": {
              "type": "string"
            }
          },
          "metadata": {},
          "execution_count": 24
        }
      ]
    },
    {
      "cell_type": "markdown",
      "source": [
        "* 리스트\n",
        "    * 리스트는 값들의 나열이다.\n",
        "    * 대괄호 안에 쉼표(,)로 구별하여 나열한다.\n",
        "    * 리스트와 리스트 사이에 +가 있는 경우: 두 리스트를 연결한다."
      ],
      "metadata": {
        "id": "uynruHjQt71_"
      }
    },
    {
      "cell_type": "code",
      "source": [
        "squares = [1,4,9,16,25]"
      ],
      "metadata": {
        "id": "TIHT-Y3L7xQG"
      },
      "execution_count": null,
      "outputs": []
    },
    {
      "cell_type": "code",
      "source": [
        "squares + [36,49,64,81,100]"
      ],
      "metadata": {
        "id": "OsLN7KLT8cb7",
        "outputId": "579d80bf-bb8f-48b4-d1d0-3d17b6dc2847",
        "colab": {
          "base_uri": "https://localhost:8080/"
        }
      },
      "execution_count": null,
      "outputs": [
        {
          "output_type": "execute_result",
          "data": {
            "text/plain": [
              "[1, 4, 9, 16, 25, 36, 49, 64, 81, 100]"
            ]
          },
          "metadata": {},
          "execution_count": 26
        }
      ]
    },
    {
      "cell_type": "markdown",
      "source": [
        "### 반복문\n",
        "\n",
        "* while : 조건이 맞는 동안 반복한다.\n",
        "* 다음은 피보나치 수열을 출력하는 프로그램이다."
      ],
      "metadata": {
        "id": "keghcFy6uQ8d"
      }
    },
    {
      "cell_type": "code",
      "source": [
        "a,b=1,1\n",
        "while a<100:\n",
        "  print(a)\n",
        "  a,b = b,a+b"
      ],
      "metadata": {
        "id": "Qm8ltMYL8iDO",
        "outputId": "b0fc9875-b275-4840-936a-e669a9adf679",
        "colab": {
          "base_uri": "https://localhost:8080/"
        }
      },
      "execution_count": 18,
      "outputs": [
        {
          "output_type": "stream",
          "name": "stdout",
          "text": [
            "1\n",
            "1\n",
            "2\n",
            "3\n",
            "5\n",
            "8\n",
            "13\n",
            "21\n",
            "34\n",
            "55\n",
            "89\n"
          ]
        }
      ]
    },
    {
      "cell_type": "markdown",
      "source": [
        "### 함수\n",
        "\n",
        "* 함수의 정의는 다음 형태로 시작한다\n",
        "<pre>\n",
        "def 이름(매개변수):</pre>\n",
        "* 함수의 정의에서 return은 계산을 멈추고 제자리로 돌아가라는 뜻이다.\n"
      ],
      "metadata": {
        "id": "bg-JzNLauiEI"
      }
    },
    {
      "cell_type": "code",
      "source": [
        "def fib(n):\n",
        "  a,b=1,1\n",
        "  while a<n:\n",
        "    print(a, end=' ')\n",
        "    a,b = b,a+b\n",
        "  print()\n",
        "  return"
      ],
      "metadata": {
        "id": "fgNTgHgv9olI"
      },
      "execution_count": null,
      "outputs": []
    },
    {
      "cell_type": "markdown",
      "source": [
        "* 함수는 다음과 같이 호출한다.\n",
        "<pre> 이름(매개변수)</pre>"
      ],
      "metadata": {
        "id": "p9k8R600vOle"
      }
    },
    {
      "cell_type": "code",
      "source": [
        "fib(2000)"
      ],
      "metadata": {
        "id": "sUVwAnwM_Zi5",
        "outputId": "58e941f0-d3a8-4974-b273-faf4f1e8768f",
        "colab": {
          "base_uri": "https://localhost:8080/"
        }
      },
      "execution_count": null,
      "outputs": [
        {
          "output_type": "stream",
          "name": "stdout",
          "text": [
            "0 1 1 2 3 5 8 13 21 34 55 89 144 233 377 610 987 1597 \n"
          ]
        }
      ]
    },
    {
      "cell_type": "markdown",
      "source": [
        "* 피보나치 수열의 인접한 두 수 사이의 비율을 출력해보자.\n",
        "* 황금비로 수렴한다."
      ],
      "metadata": {
        "id": "moTBZ6HUvfPr"
      }
    },
    {
      "cell_type": "code",
      "source": [
        "def fib_rate(n):\n",
        "  a,b=1,1\n",
        "  while a<n:\n",
        "    print(round(b/a,5), end=' ')\n",
        "    a,b = b,a+b\n",
        "  print()\n",
        "  return"
      ],
      "metadata": {
        "id": "SaK0dmsq_1Ua"
      },
      "execution_count": null,
      "outputs": []
    },
    {
      "cell_type": "code",
      "source": [
        "fib_rate(2000)"
      ],
      "metadata": {
        "id": "p3wQHneNAxFl",
        "outputId": "88e43a6d-0ea3-4a90-b165-328e7e8cfddb",
        "colab": {
          "base_uri": "https://localhost:8080/"
        }
      },
      "execution_count": null,
      "outputs": [
        {
          "output_type": "stream",
          "name": "stdout",
          "text": [
            "1.0 2.0 1.5 1.66667 1.6 1.625 1.61538 1.61905 1.61765 1.61818 1.61798 1.61806 1.61803 1.61804 1.61803 1.61803 1.61803 \n"
          ]
        }
      ]
    },
    {
      "cell_type": "code",
      "source": [
        ""
      ],
      "metadata": {
        "id": "xp17Nt_DAyj3"
      },
      "execution_count": null,
      "outputs": []
    }
  ],
  "metadata": {
    "colab": {
      "name": "Untitled0.ipynb의 사본",
      "provenance": [],
      "collapsed_sections": [],
      "include_colab_link": true
    },
    "kernelspec": {
      "display_name": "Python 3",
      "language": "python",
      "name": "python3"
    },
    "language_info": {
      "codemirror_mode": {
        "name": "ipython",
        "version": 3
      },
      "file_extension": ".py",
      "mimetype": "text/x-python",
      "name": "python",
      "nbconvert_exporter": "python",
      "pygments_lexer": "ipython3",
      "version": "3.6.13"
    }
  },
  "nbformat": 4,
  "nbformat_minor": 0
}