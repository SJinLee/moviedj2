{
  "nbformat": 4,
  "nbformat_minor": 0,
  "metadata": {
    "colab": {
      "name": "04.네이버API.ipynb의 사본",
      "provenance": [],
      "collapsed_sections": [],
      "authorship_tag": "ABX9TyMU0BNxJdAdZA4aiUgTVbCo",
      "include_colab_link": true
    },
    "kernelspec": {
      "name": "python3",
      "display_name": "Python 3"
    },
    "language_info": {
      "name": "python"
    }
  },
  "cells": [
    {
      "cell_type": "markdown",
      "metadata": {
        "id": "view-in-github",
        "colab_type": "text"
      },
      "source": [
        "<a href=\"https://colab.research.google.com/github/SJinLee/moviedj2/blob/main/04.%EB%84%A4%EC%9D%B4%EB%B2%84sentiment.ipynb\" target=\"_parent\"><img src=\"https://colab.research.google.com/assets/colab-badge.svg\" alt=\"Open In Colab\"/></a>"
      ]
    },
    {
      "cell_type": "markdown",
      "source": [
        "* https://medium.com/naver-cloud-platform/이렇게-사용하세요-텍스트-감정-분석-서비스-구현하기-clova-sentiment-활용기-5d9db7b0209b\n"
      ],
      "metadata": {
        "id": "odtWqVYKDzmW"
      }
    },
    {
      "cell_type": "code",
      "source": [
        "import json\n",
        "import urllib.request"
      ],
      "metadata": {
        "id": "e7-H0OowirRA"
      },
      "execution_count": 2,
      "outputs": []
    },
    {
      "cell_type": "markdown",
      "source": [
        "* client_id: <span name=\"d2egqw8s33\">X-NCP-APIGW-API-KEY-ID</span>\n",
        "* client_secret: <span name=\"sKdcAb503MlHizeL0pIy0OwKzXBILsY0p64aWPXl\">X-NCP-APIGW-API-KEY</span>"
      ],
      "metadata": {
        "id": "NMr7hz7LE2su"
      }
    },
    {
      "cell_type": "code",
      "source": [
        "client_id = \"\"\n",
        "client_secret = \"\"\n",
        "url = \"https://naveropenapi.apigw.ntruss.com/sentiment-analysis/v1/analyze\""
      ],
      "metadata": {
        "id": "gbW5L9mlF-IM"
      },
      "execution_count": 3,
      "outputs": []
    },
    {
      "cell_type": "code",
      "source": [
        "request = urllib.request.Request(url)\n",
        "request.add_header(\"X-NCP-APIGW-API-KEY-ID\",client_id)\n",
        "request.add_header(\"X-NCP-APIGW-API-KEY\",client_secret)\n",
        "request.add_header(\"Content-Type\", \"application/json\")"
      ],
      "metadata": {
        "id": "hqntMFkzloQO"
      },
      "execution_count": 4,
      "outputs": []
    },
    {
      "cell_type": "code",
      "source": [
        "text = {\n",
        "  \"content\": \"싸늘하다. 가슴에 비수가 날아와 꽂힌다.\"\n",
        "}\n",
        "data = str(json.dumps(text)).encode('utf-8')"
      ],
      "metadata": {
        "id": "Vbl9yEq1leou"
      },
      "execution_count": 5,
      "outputs": []
    },
    {
      "cell_type": "code",
      "source": [
        "response = urllib.request.urlopen(request,data=data)\n",
        "rescode = response.getcode()"
      ],
      "metadata": {
        "id": "f6WZVaPzls5h"
      },
      "execution_count": 6,
      "outputs": []
    },
    {
      "cell_type": "code",
      "source": [
        "rescode"
      ],
      "metadata": {
        "id": "ttVA198Glw_j",
        "colab": {
          "base_uri": "https://localhost:8080/"
        },
        "outputId": "05e9f489-7cde-4d44-836f-4723a474fe0c"
      },
      "execution_count": 7,
      "outputs": [
        {
          "output_type": "execute_result",
          "data": {
            "text/plain": [
              "200"
            ]
          },
          "metadata": {},
          "execution_count": 7
        }
      ]
    },
    {
      "cell_type": "code",
      "source": [
        "result = response.read()\n",
        "result"
      ],
      "metadata": {
        "colab": {
          "base_uri": "https://localhost:8080/"
        },
        "id": "hzFQtLiuq0LS",
        "outputId": "1b84f086-4fd9-4c61-f575-7739ffc7645e"
      },
      "execution_count": 8,
      "outputs": [
        {
          "output_type": "execute_result",
          "data": {
            "text/plain": [
              "b'{\"document\":{\"sentiment\":\"negative\",\"confidence\":{\"negative\":99.3676,\"positive\":0.0077638756,\"neutral\":0.6246391}},\"sentences\":[{\"content\":\"\\xec\\x8b\\xb8\\xeb\\x8a\\x98\\xed\\x95\\x98\\xeb\\x8b\\xa4.\",\"offset\":0,\"length\":5,\"sentiment\":\"negative\",\"confidence\":{\"negative\":0.9961359,\"positive\":2.274021E-4,\"neutral\":0.0036366594},\"highlights\":[{\"offset\":0,\"length\":4}]},{\"content\":\" \\xea\\xb0\\x80\\xec\\x8a\\xb4\\xec\\x97\\x90 \\xeb\\xb9\\x84\\xec\\x88\\x98\\xea\\xb0\\x80 \\xeb\\x82\\xa0\\xec\\x95\\x84\\xec\\x99\\x80 \\xea\\xbd\\x82\\xed\\x9e\\x8c\\xeb\\x8b\\xa4.\",\"offset\":5,\"length\":17,\"sentiment\":\"negative\",\"confidence\":{\"negative\":0.9279757,\"positive\":7.04263E-4,\"neutral\":0.071320035},\"highlights\":[{\"offset\":1,\"length\":15}]}]}'"
            ]
          },
          "metadata": {},
          "execution_count": 8
        }
      ]
    },
    {
      "cell_type": "code",
      "source": [
        "json.loads(result)"
      ],
      "metadata": {
        "colab": {
          "base_uri": "https://localhost:8080/"
        },
        "id": "gQo_DFXvq5DK",
        "outputId": "3fbb9e46-bea1-4bf3-935f-1b4ff6769659"
      },
      "execution_count": 9,
      "outputs": [
        {
          "output_type": "execute_result",
          "data": {
            "text/plain": [
              "{'document': {'confidence': {'negative': 99.3676,\n",
              "   'neutral': 0.6246391,\n",
              "   'positive': 0.0077638756},\n",
              "  'sentiment': 'negative'},\n",
              " 'sentences': [{'confidence': {'negative': 0.9961359,\n",
              "    'neutral': 0.0036366594,\n",
              "    'positive': 0.0002274021},\n",
              "   'content': '싸늘하다.',\n",
              "   'highlights': [{'length': 4, 'offset': 0}],\n",
              "   'length': 5,\n",
              "   'offset': 0,\n",
              "   'sentiment': 'negative'},\n",
              "  {'confidence': {'negative': 0.9279757,\n",
              "    'neutral': 0.071320035,\n",
              "    'positive': 0.000704263},\n",
              "   'content': ' 가슴에 비수가 날아와 꽂힌다.',\n",
              "   'highlights': [{'length': 15, 'offset': 1}],\n",
              "   'length': 17,\n",
              "   'offset': 5,\n",
              "   'sentiment': 'negative'}]}"
            ]
          },
          "metadata": {},
          "execution_count": 9
        }
      ]
    },
    {
      "cell_type": "code",
      "source": [
        "import requests"
      ],
      "metadata": {
        "id": "alWD0KGCHDy4"
      },
      "execution_count": 10,
      "outputs": []
    },
    {
      "cell_type": "code",
      "source": [
        "headers = {\n",
        "    \"X-NCP-APIGW-API-KEY-ID\": client_id,\n",
        "    \"X-NCP-APIGW-API-KEY\": client_secret,\n",
        "    \"Content-Type\": \"application/json\"\n",
        "}"
      ],
      "metadata": {
        "id": "auaB4TH6HQ4E"
      },
      "execution_count": 11,
      "outputs": []
    },
    {
      "cell_type": "code",
      "source": [
        "response = requests.post(url,data=json.dumps(text),headers=headers)"
      ],
      "metadata": {
        "id": "h0e9pjyvq9DL"
      },
      "execution_count": 12,
      "outputs": []
    },
    {
      "cell_type": "code",
      "source": [
        "response.status_code"
      ],
      "metadata": {
        "colab": {
          "base_uri": "https://localhost:8080/"
        },
        "id": "Ojp1i5REHYD7",
        "outputId": "b92929af-87af-4e52-a552-d1dbb284c9de"
      },
      "execution_count": 13,
      "outputs": [
        {
          "output_type": "execute_result",
          "data": {
            "text/plain": [
              "200"
            ]
          },
          "metadata": {},
          "execution_count": 13
        }
      ]
    },
    {
      "cell_type": "code",
      "source": [
        "json.loads(response.text)"
      ],
      "metadata": {
        "colab": {
          "base_uri": "https://localhost:8080/"
        },
        "id": "sx3jLVSbHiJs",
        "outputId": "2623c027-faa5-4318-92ce-acb9daa56731"
      },
      "execution_count": 14,
      "outputs": [
        {
          "output_type": "execute_result",
          "data": {
            "text/plain": [
              "{'document': {'confidence': {'negative': 99.3676,\n",
              "   'neutral': 0.6246391,\n",
              "   'positive': 0.0077638756},\n",
              "  'sentiment': 'negative'},\n",
              " 'sentences': [{'confidence': {'negative': 0.9961359,\n",
              "    'neutral': 0.0036366594,\n",
              "    'positive': 0.0002274021},\n",
              "   'content': '싸늘하다.',\n",
              "   'highlights': [{'length': 4, 'offset': 0}],\n",
              "   'length': 5,\n",
              "   'offset': 0,\n",
              "   'sentiment': 'negative'},\n",
              "  {'confidence': {'negative': 0.9279757,\n",
              "    'neutral': 0.071320035,\n",
              "    'positive': 0.000704263},\n",
              "   'content': ' 가슴에 비수가 날아와 꽂힌다.',\n",
              "   'highlights': [{'length': 15, 'offset': 1}],\n",
              "   'length': 17,\n",
              "   'offset': 5,\n",
              "   'sentiment': 'negative'}]}"
            ]
          },
          "metadata": {},
          "execution_count": 14
        }
      ]
    },
    {
      "cell_type": "code",
      "source": [
        "import pandas as pd\n",
        "df = pd.read_csv('https://github.com/SJinLee/moviedj/raw/main/%EB%8D%B0%EC%9D%B4%ED%84%B0%EB%A7%A4%EC%93%B0%20%EC%98%81%ED%99%94%20%EB%8D%B0%EC%9D%B4%ED%84%B0%20%EC%99%84%EC%84%B12.csv')"
      ],
      "metadata": {
        "id": "q2LXF30kHjz4"
      },
      "execution_count": 15,
      "outputs": []
    },
    {
      "cell_type": "code",
      "source": [
        "df = df.rename(columns={'남자 ': '남자.2'})"
      ],
      "metadata": {
        "id": "lRCJtN_8bJx4"
      },
      "execution_count": 16,
      "outputs": []
    },
    {
      "cell_type": "code",
      "source": [
        "df = df.drop(columns=df.columns[-20:])"
      ],
      "metadata": {
        "id": "RleJqIowbMc-"
      },
      "execution_count": 17,
      "outputs": []
    },
    {
      "cell_type": "code",
      "source": [
        "df['네티즌'] = df['네티즌'].str.replace(r',','.').astype(float)"
      ],
      "metadata": {
        "id": "uhuAt21-bONx"
      },
      "execution_count": 18,
      "outputs": []
    },
    {
      "cell_type": "code",
      "source": [
        "df['관람객'] = df['관람객'].str.replace(r'등록 전','NaN').astype(float)"
      ],
      "metadata": {
        "id": "CHfy6qsGbRsi"
      },
      "execution_count": 19,
      "outputs": []
    },
    {
      "cell_type": "code",
      "source": [
        "df['대표국적_한국'] = (df['대표국적'] == '한국') * 1"
      ],
      "metadata": {
        "id": "DkS7x8_pb3ka"
      },
      "execution_count": 20,
      "outputs": []
    },
    {
      "cell_type": "code",
      "source": [
        "df2 = pd.read_excel('https://github.com/SJinLee/moviedj/raw/main/%EB%8D%B0%EC%9D%B4%ED%84%B0%EB%A7%A4%EC%93%B0%20%EC%98%81%ED%99%94%20%EB%8D%B0%EC%9D%B4%ED%84%B0%20%2B%20%EC%84%A0%ED%98%B8%EB%8F%84.xlsx',\n",
        "                    skiprows=4)"
      ],
      "metadata": {
        "id": "giRbQyCecwnA"
      },
      "execution_count": 21,
      "outputs": []
    },
    {
      "cell_type": "code",
      "source": [
        "df = pd.concat([df,df2[['수빈','승준','선주','지후']]],axis=1)"
      ],
      "metadata": {
        "id": "damzDLTPcyhI"
      },
      "execution_count": 22,
      "outputs": []
    },
    {
      "cell_type": "code",
      "source": [
        "df['1'][0].split('\\n')"
      ],
      "metadata": {
        "colab": {
          "base_uri": "https://localhost:8080/"
        },
        "id": "lEATeRQXc1tJ",
        "outputId": "deeb8666-ba29-4bf7-d72d-e1e628438356"
      },
      "execution_count": 24,
      "outputs": [
        {
          "output_type": "execute_result",
          "data": {
            "text/plain": [
              "['이 영화는 최근에 보게 되었다.',\n",
              " '',\n",
              " '사실 개봉했을 당시에 나는 무척 반감이 들었다.',\n",
              " '',\n",
              " '만든 곳이 JK필름이라',\n",
              " '',\n",
              " '또 역사를 어떻게 조져서 표를 팔아먹으려는지 궁금했기 때문이다.',\n",
              " '',\n",
              " '그리고 7년 후 이 영화를 보게된 나는 이 영화가 천만관객의 영화 꼬리표를 달만한 ',\n",
              " '',\n",
              " '영화라는 사실을 알게 되었다. 만약 그때 내가 가진 선입견(이라고는 하지만 JK필름 이 새끼들은 선을 넘어도 한참 넘었어. 선입견 심어준 건 이새끼들임)이 아니었다면 똑같이 영화를 보고 괜찮은 영화라고 평가하진 못 했을 것이다. 이게 무슨 의식의 흐름이냐면, 사실 나는 영화를 보기전에 임진왜란을 조금 복습하고 봤다. 그래서 명량 해전이 구체적으로 어떤 전투인지 알고 있었고 어떻게 이순신 장군이 왜놈새끼들을 몰아냈는지도 구체적으로 알고 있었기에, 이 영화가 고증을 잘 지켰다는 것을 알고 봤고 그래서 점수를 높게 쳐준 것이라, 만약 잘 모르고 봤다면 억지 연출이었다고 영화를 까고, 캐릭터 묘사는 1차원적이고 일본 장수는 그저 소모품에 불과하다고 거품 영화라 깠을 것이다. 그러나 실제는 더 말이 안 될 지경이니, 이순신 장군이 왜 신급으로 묘사하는지 우리는 알아야한다.',\n",
              " '',\n",
              " '',\n",
              " '',\n",
              " '명량 해전은 이순신 장군의 수많은 해전 이후에 벌어진 후반 전투였다.',\n",
              " '',\n",
              " '이순신은 전대미문의 팀킬로 인해 거의 죽음 직전까지 갔다온 몸이었고 ',\n",
              " '',\n",
              " '오랜 기간의 전쟁으로 조선, 일본 모두 정신과 몸이 피폐해진 상태였기에 누구하나 유리하다 볼 수 없는 상태였고 특히 조선 삼도 수군은 원균 씹새끼의 트롤짓에 이미 함대 대부분이 박살난 상태여서 사기는 밑바닥에 있었다. 그와중에 이순신이 삼도수군통제사를 다시 받고 왜군을 막으러 명량으로 가는데 솔직히 이 상황에서 누가 겨우 13척의 배로 133척을 상대해서 이긴다고 생각하는가? 그냥 죽으러 가는 것이다라는 생각이 모두에게 들었을 것이다. 더욱이 원균 개새끼의 트롤짓에 환멸을 느꼈을것이고 그 상황에서 나라를 위해 죽으라고 하면 아무도 말을 안 들을 것이다. 이순신 장군은 그 상황에서 완벽하면서도 유도리 있는 원칙주의자였다. 군인은 명령에 따르지 않으면 죽어야한다고 했지만 그렇게 되면 전력을 잃고 사기는 더 떨어진다는 생각에 그는 혼자 전선 앞에 나선다. 영화 명량은 오히려 이 부분의 고증을 제대로 짚지 못했다. 이순신은 뒤에 12척을 남기고 혼자 1:133빵을 때렸다. 이게 진짜 역사다. 영화보다 더 말이 안되는 현실을 이순신 장군이 이미 몇 백 년 전에 이뤄낸 것이다.',\n",
              " '',\n",
              " '',\n",
              " '',\n",
              " '어찌됐든 울돌목의 해류가 다시 왜쪽으로 불리하게 바뀌고 겨우 배 한 척에 수많은 배와 사망자가 나오고 안택선 마저 침몰하자 왜군은 후퇴하게 된다. 그보다 이미 다이묘들에게 이순신이란 존재는 공포 그 자체였기에, 다시 전열을 다듬고 전투를 하기에는 이미 사기가 바닥에 떨어진 상태. 더욱이 오랜 전쟁으로 이미 피폐해진 왜놈들은 이런 명분 없는 전쟁에 휘말리고 싶지 않는 마음이 간절했을 것이다. (물론 살아남은 다이묘들은 본토에 가서 또다시 지들끼리 싸우다가 쳐뒤졌지만)',\n",
              " '',\n",
              " '',\n",
              " '',\n",
              " '그런 마당에 IOC는 이순신 장군의 말을 인용한 응원 문구를 정치적인 문구로 해석해서 현수막을 내리게 했다. 그래놓고서 진정으로 금지시켜야할 욱일기, 그와 관련된 디자인은 그대로 남겨뒀다. ',\n",
              " '',\n",
              " '올림픽 정신은 온데간데 사라지고 오히려 일본 국민의 피해는 나몰라라하며 자신들의 정치적 목적으로 올림픽을 이용하는 일본 정부는 일언반구 없는 이 작금의 사태에, 누가 올림픽을 즐겁게 시청할까? ',\n",
              " '',\n",
              " '',\n",
              " '',\n",
              " '전에 영속패전론 이라는 책을 읽었던 적이 있는데',\n",
              " '',\n",
              " '일본은 여전히 전쟁의 패배를 인정하지 않고 미국에 지배당한다는 어떤 사회학자의 이론을 담은 책이었다. 일본은 딱 그 수준이다. 무슨 수준이냐, 전문적인 학자들마저 민주주의의 정신을 망각한 채',\n",
              " '',\n",
              " \"'패배' '승리' 라는 기준으로 '사회'를 평가하는 수준 말이다.\",\n",
              " '',\n",
              " '더 큰 문제는 그 영속패전론의 의미를 제대로 파악하지 못한 한국인이다. 일본을 까면 얼씨구나 하고 발광하는 어떤 방향에 편향된 사람들은 그 책을 매우 긍정적으로 표현하고 있다.',\n",
              " '',\n",
              " '',\n",
              " '',\n",
              " \"일본은 우리나라에선 되게 금기시하는 '공산당'이 당 이름으로 버젓이 쓰인다. 그들의 선전을 조사해봤고, 정말 놀랍게도 우리나라의 좌적폐의 행동이 이들과 비슷하다. 말로는 원칙적이고 옳은 말을 하는 듯이 보이나, 그 실체를 들여다보면 전혀 아닌. 특히 독도 관련 문제를 들여다보면 1905년 불법으로 편입한 것은 정당하지만 누구 영토인지는 토의를 해야한다는게 그들 입장이다. 말그대로 좌익스러운 입장인 것이다.\",\n",
              " '',\n",
              " '영속패전론 역시 한국의 좌적폐가 펼치는 이론과 같다. 한국이나 일본이나 미군에게 점령당한 상태이며 이것에서 벗어나야한다는 것이다. 하나만 묻고 싶다. 그렇게 지배, 피지배의 이분법을 따른 뒤에 이 창백한 푸른 점 지구에서 남는 것은 무엇인가? 팩트는 점령이라는 의미는 냉전 시대의 상황에 따른 것이었고 미국은 줄곧 동맹국이었다. 만약 경제적, 군사적 차이로 점령이라는 논리를 펼치는 거라면 그야말로 새시대의 제국주의와 우생학을 외치는 나치새끼들이나 다름 없다. (실제로 나치당은 민주적으로 정권을 잡았다)',\n",
              " '',\n",
              " '',\n",
              " '',\n",
              " '우로는 전범, 좌로는 공산당. 이런 일본의 정치 판에 일본인들이 정치에 혐오를 가지고 허무주의에 빠지는 그 마음은, 그 누구보다 내가 더 잘 안다. 우리나라야말로 10년 전 딱 정치가 그랬기 때문이다.',\n",
              " '',\n",
              " '',\n",
              " '',\n",
              " \"그런 와중에 일본은 일본인이 정신차려야한다는 소리를 하는 정치인이 판에 깔려있다. 당연히 일본사람들은 환멸을 느낄 뿐이다. 내가 그러했듯이. 물론 일본 역시 그런 좌우를 떠나 전 지구가 원하는 '정의'의 바람대로, 올바른 방향으로 정치를 외치는 사람들이 분명 있을 것이다. 그게 입헌민주당이겠거니 생각 중인데 강령만 봐도 자유민주당의 헌법 파괴시키겠다는 극우적인 강령과 다른 방향이 느껴진다. \",\n",
              " '',\n",
              " '',\n",
              " '',\n",
              " '왜 갑자기 영화 리뷰에서 일본 얘기로 빠졌는가,',\n",
              " '',\n",
              " '',\n",
              " '',\n",
              " '나를 알고 적을 알면 몇 번을 싸워도 이긴다. 이는 이순신이 주로 공부했을거라 추측하는 손자병법에서 나오는 격언이다. 조금이라도 이순신 장군이 상대적으로 열악한 상황에서 충성과 절의, 애국을 위해 어떻게 왜군을 막았는지 생각해본다면 먼저 상대방의 전력을 면밀히 파악했으리라 생각이든다. 그래서 나또한 일본을 조사하고 알아봤다. 이순신 장군의 마음을 헤아리고 지피지기 백전불태를 위해. ',\n",
              " '',\n",
              " '',\n",
              " '',\n",
              " '그래서 일본은 아직까지도 글로발 리더 국가의 자격은 가지고 있다는 사실을 우리는 알아야 한다. 깨어있는 일본 국민이 나라를 이끌어가는 주역이고 김대중 노무현 정권이 그러했던 것처럼 우리는 다시 그들을 맞이해야할 준비를 해야한다. 일본은 임진왜란이라는 병크를 냈지만, 이후 번영의 꽃인 애도 시대를 만들어냈고 명목상 민주주의 시작이라는 메이지 유신을 끌어냈다. 그 결말은 좆쓰레기 싸이코패스 전범국가로 핵 두 발 맞고 끝났지만 말이다.',\n",
              " '',\n",
              " '',\n",
              " '',\n",
              " ' 현대에 와선 일본이 또 신의를 어기고 반도체 수출 규제를 때렸고 우리나라는 소부장을 안정적으로 자립하는 승리의 결과를 만들어냈다. 물론 피해가 없지는 않았다. 그러나 정황이 임진왜란과 비슷하다. 일본 정치계는 자신들의 안위를 위해 자국민을 조졌고 한국은 전쟁의 피해를 입었다. 이게 무슨 개씹지랄인가? 하지만 전쟁을 원한다면 우리 조상이 지켜온 이 땅을, 나도 역시 그 정신을 받들 것이다. 만약 실제 전쟁이 벌어진다면 나는 한 100킬 정도 예상하는 중이다. 다 덤벼라 씹발 왜구새끼들',\n",
              " '',\n",
              " '[출처] 영화 명량 리뷰|작성자 rrrr',\n",
              " '',\n",
              " '']"
            ]
          },
          "metadata": {},
          "execution_count": 24
        }
      ]
    },
    {
      "cell_type": "code",
      "source": [
        "for sentence in df['1'][0].split('\\n'):\n",
        "    if sentence=='':\n",
        "        continue\n",
        "    text = { \"content\": sentence }\n",
        "    print(text)\n",
        "    response = requests.post(url,data=json.dumps(text),headers=headers)\n",
        "    if response.status_code==200:\n",
        "        print(json.loads(response.text))"
      ],
      "metadata": {
        "colab": {
          "base_uri": "https://localhost:8080/"
        },
        "id": "NmXDKlyodGjr",
        "outputId": "afa13965-c228-4dc0-ee7d-c104f435d63f"
      },
      "execution_count": 25,
      "outputs": [
        {
          "output_type": "stream",
          "name": "stdout",
          "text": [
            "{'content': '이 영화는 최근에 보게 되었다.'}\n",
            "{'document': {'sentiment': 'neutral', 'confidence': {'negative': 0.010036254, 'positive': 0.02116424, 'neutral': 99.968796}}, 'sentences': [{'content': '이 영화는 최근에 보게 되었다.', 'offset': 0, 'length': 17, 'sentiment': 'neutral', 'confidence': {'negative': 0.000100362544, 'positive': 0.00021164241, 'neutral': 0.999688}, 'highlights': [{'offset': 0, 'length': 16}]}]}\n",
            "{'content': '사실 개봉했을 당시에 나는 무척 반감이 들었다.'}\n",
            "{'document': {'sentiment': 'negative', 'confidence': {'negative': 99.99504, 'positive': 0.0021149123, 'neutral': 0.0028425865}}, 'sentences': [{'content': '사실 개봉했을 당시에 나는 무척 반감이 들었다.', 'offset': 0, 'length': 26, 'sentiment': 'negative', 'confidence': {'negative': 0.9997025, 'positive': 0.00012689474, 'neutral': 0.00017055518}, 'highlights': [{'offset': 0, 'length': 25}]}]}\n",
            "{'content': '만든 곳이 JK필름이라'}\n",
            "{'document': {'sentiment': 'neutral', 'confidence': {'negative': 0.008556384, 'positive': 0.022310285, 'neutral': 99.96913}}, 'sentences': [{'content': '만든 곳이 JK필름이라', 'offset': 0, 'length': 12, 'sentiment': 'neutral', 'confidence': {'negative': 8.5563835e-05, 'positive': 0.00022310285, 'neutral': 0.99969137}, 'highlights': [{'offset': 0, 'length': 12}]}]}\n",
            "{'content': '또 역사를 어떻게 조져서 표를 팔아먹으려는지 궁금했기 때문이다.'}\n",
            "{'document': {'sentiment': 'negative', 'confidence': {'negative': 99.951, 'positive': 0.0041122246, 'neutral': 0.04488939}}, 'sentences': [{'content': '또 역사를 어떻게 조져서 표를 팔아먹으려는지 궁금했기 때문이다.', 'offset': 0, 'length': 35, 'sentiment': 'negative', 'confidence': {'negative': 0.9970599, 'positive': 0.00024673349, 'neutral': 0.0026933635}, 'highlights': [{'offset': 14, 'length': 20}]}]}\n",
            "{'content': '그리고 7년 후 이 영화를 보게된 나는 이 영화가 천만관객의 영화 꼬리표를 달만한 '}\n",
            "{'document': {'sentiment': 'neutral', 'confidence': {'negative': 0.09616111, 'positive': 0.03280036, 'neutral': 99.87104}}, 'sentences': [{'content': '그리고 7년 후 이 영화를 보게된 나는 이 영화가 천만관객의 영화 꼬리표를 달만한', 'offset': 0, 'length': 45, 'sentiment': 'neutral', 'confidence': {'negative': 0.0009616111, 'positive': 0.00032800363, 'neutral': 0.9987104}, 'highlights': [{'offset': 30, 'length': 15}]}]}\n",
            "{'content': '영화라는 사실을 알게 되었다. 만약 그때 내가 가진 선입견(이라고는 하지만 JK필름 이 새끼들은 선을 넘어도 한참 넘었어. 선입견 심어준 건 이새끼들임)이 아니었다면 똑같이 영화를 보고 괜찮은 영화라고 평가하진 못 했을 것이다. 이게 무슨 의식의 흐름이냐면, 사실 나는 영화를 보기전에 임진왜란을 조금 복습하고 봤다. 그래서 명량 해전이 구체적으로 어떤 전투인지 알고 있었고 어떻게 이순신 장군이 왜놈새끼들을 몰아냈는지도 구체적으로 알고 있었기에, 이 영화가 고증을 잘 지켰다는 것을 알고 봤고 그래서 점수를 높게 쳐준 것이라, 만약 잘 모르고 봤다면 억지 연출이었다고 영화를 까고, 캐릭터 묘사는 1차원적이고 일본 장수는 그저 소모품에 불과하다고 거품 영화라 깠을 것이다. 그러나 실제는 더 말이 안 될 지경이니, 이순신 장군이 왜 신급으로 묘사하는지 우리는 알아야한다.'}\n",
            "{'document': {'sentiment': 'negative', 'confidence': {'negative': 75.05758, 'positive': 0.0478893, 'neutral': 24.894531}}, 'sentences': [{'content': '영화라는 사실을 알게 되었다.', 'offset': 0, 'length': 16, 'sentiment': 'neutral', 'confidence': {'negative': 0.0005796839, 'positive': 0.00082097604, 'neutral': 0.99859923}, 'highlights': [{'offset': 5, 'length': 10}]}, {'content': ' 만약 그때 내가 가진 선입견(이라고는 하지만 JK필름 이 새끼들은 선을 넘어도 한참 넘었어.', 'offset': 16, 'length': 52, 'sentiment': 'negative', 'confidence': {'negative': 0.99706894, 'positive': 0.00029518094, 'neutral': 0.002635987}, 'highlights': [{'offset': 28, 'length': 23}]}, {'content': ' 선입견 심어준 건 이새끼들임)이 아니었다면 똑같이 영화를 보고 괜찮은 영화라고 평가하진 못 했을 것이다.', 'offset': 68, 'length': 59, 'sentiment': 'negative', 'confidence': {'negative': 0.9985683, 'positive': 0.00051625934, 'neutral': 0.00091542804}, 'highlights': [{'offset': 1, 'length': 15}]}, {'content': ' 이게 무슨 의식의 흐름이냐면, 사실 나는 영화를 보기전에 임진왜란을 조금 복습하고 봤다.', 'offset': 127, 'length': 50, 'sentiment': 'neutral', 'confidence': {'negative': 0.0008325013, 'positive': 0.00018625444, 'neutral': 0.9989812}, 'highlights': [{'offset': 30, 'length': 17}]}, {'content': ' 그래서 명량 해전이 구체적으로 어떤 전투인지 알고 있었고 어떻게 이순신 장군이 왜놈새끼들을 몰아냈는지도 구체적으로 알고 있었기에, 이 영화가 고증을 잘 지켰다는 것을 알고 봤고 그래서 점수를 높게 쳐준 것이라, 만약 잘 모르고 봤다면 억지 연출이었다고 영화를 까고, 캐릭터 묘사는 1차원적이고 일본 장수는 그저 소모품에 불과하다고 거품 영화라 깠을 것이다.', 'offset': 177, 'length': 200, 'sentiment': 'neutral', 'confidence': {'negative': 0.0069703516, 'positive': 0.0054999744, 'neutral': 0.98752964}, 'highlights': [{'offset': 175, 'length': 11}]}, {'content': ' 그러나 실제는 더 말이 안 될 지경이니, 이순신 장군이 왜 신급으로 묘사하는지 우리는 알아야한다.', 'offset': 377, 'length': 55, 'sentiment': 'neutral', 'confidence': {'negative': 0.005192723, 'positive': 0.0003436428, 'neutral': 0.9944636}, 'highlights': [{'offset': 34, 'length': 20}]}]}\n",
            "{'content': '명량 해전은 이순신 장군의 수많은 해전 이후에 벌어진 후반 전투였다.'}\n",
            "{'document': {'sentiment': 'neutral', 'confidence': {'negative': 0.016181218, 'positive': 0.043474413, 'neutral': 99.940346}}, 'sentences': [{'content': '명량 해전은 이순신 장군의 수많은 해전 이후에 벌어진 후반 전투였다.', 'offset': 0, 'length': 38, 'sentiment': 'neutral', 'confidence': {'negative': 0.00016181219, 'positive': 0.00043474414, 'neutral': 0.9994035}, 'highlights': [{'offset': 0, 'length': 38}]}]}\n",
            "{'content': '이순신은 전대미문의 팀킬로 인해 거의 죽음 직전까지 갔다온 몸이었고 '}\n",
            "{'document': {'sentiment': 'negative', 'confidence': {'negative': 99.97394, 'positive': 0.011618715, 'neutral': 0.014442394}}, 'sentences': [{'content': '이순신은 전대미문의 팀킬로 인해 거의 죽음 직전까지 갔다온 몸이었고', 'offset': 0, 'length': 37, 'sentiment': 'negative', 'confidence': {'negative': 0.9984364, 'positive': 0.0006971229, 'neutral': 0.0008665436}, 'highlights': [{'offset': 0, 'length': 37}]}]}\n",
            "{'content': '오랜 기간의 전쟁으로 조선, 일본 모두 정신과 몸이 피폐해진 상태였기에 누구하나 유리하다 볼 수 없는 상태였고 특히 조선 삼도 수군은 원균 씹새끼의 트롤짓에 이미 함대 대부분이 박살난 상태여서 사기는 밑바닥에 있었다. 그와중에 이순신이 삼도수군통제사를 다시 받고 왜군을 막으러 명량으로 가는데 솔직히 이 상황에서 누가 겨우 13척의 배로 133척을 상대해서 이긴다고 생각하는가? 그냥 죽으러 가는 것이다라는 생각이 모두에게 들었을 것이다. 더욱이 원균 개새끼의 트롤짓에 환멸을 느꼈을것이고 그 상황에서 나라를 위해 죽으라고 하면 아무도 말을 안 들을 것이다. 이순신 장군은 그 상황에서 완벽하면서도 유도리 있는 원칙주의자였다. 군인은 명령에 따르지 않으면 죽어야한다고 했지만 그렇게 되면 전력을 잃고 사기는 더 떨어진다는 생각에 그는 혼자 전선 앞에 나선다. 영화 명량은 오히려 이 부분의 고증을 제대로 짚지 못했다. 이순신은 뒤에 12척을 남기고 혼자 1:133빵을 때렸다. 이게 진짜 역사다. 영화보다 더 말이 안되는 현실을 이순신 장군이 이미 몇 백 년 전에 이뤄낸 것이다.'}\n",
            "{'document': {'sentiment': 'negative', 'confidence': {'negative': 83.96855, 'positive': 12.027148, 'neutral': 4.004301}}, 'sentences': [{'content': '오랜 기간의 전쟁으로 조선, 일본 모두 정신과 몸이 피폐해진 상태였기에 누구하나 유리하다 볼 수 없는 상태였고 특히 조선 삼도 수군은 원균 씹새끼의 트롤짓에 이미 함대 대부분이 박살난 상태여서 사기는 밑바닥에 있었다.', 'offset': 0, 'length': 121, 'sentiment': 'negative', 'confidence': {'negative': 0.999062, 'positive': 0.0005193013, 'neutral': 0.00041873963}, 'highlights': [{'offset': 103, 'length': 17}]}, {'content': ' 그와중에 이순신이 삼도수군통제사를 다시 받고 왜군을 막으러 명량으로 가는데 솔직히 이 상황에서 누가 겨우 13척의 배로 133척을 상대해서 이긴다고 생각하는가?', 'offset': 121, 'length': 90, 'sentiment': 'negative', 'confidence': {'negative': 0.9782964, 'positive': 0.00054059044, 'neutral': 0.021163091}, 'highlights': [{'offset': 84, 'length': 5}]}, {'content': ' 그냥 죽으러 가는 것이다라는 생각이 모두에게 들었을 것이다.', 'offset': 211, 'length': 34, 'sentiment': 'negative', 'confidence': {'negative': 0.99857163, 'positive': 0.00023914585, 'neutral': 0.0011892226}, 'highlights': [{'offset': 17, 'length': 16}]}, {'content': ' 더욱이 원균 개새끼의 트롤짓에 환멸을 느꼈을것이고 그 상황에서 나라를 위해 죽으라고 하면 아무도 말을 안 들을 것이다.', 'offset': 245, 'length': 67, 'sentiment': 'negative', 'confidence': {'negative': 0.9990941, 'positive': 0.0004962971, 'neutral': 0.00040954628}, 'highlights': [{'offset': 1, 'length': 25}]}, {'content': ' 이순신 장군은 그 상황에서 완벽하면서도 유도리 있는 원칙주의자였다.', 'offset': 312, 'length': 38, 'sentiment': 'positive', 'confidence': {'negative': 0.00049924577, 'positive': 0.9983689, 'neutral': 0.0011318823}, 'highlights': [{'offset': 1, 'length': 20}]}, {'content': ' 군인은 명령에 따르지 않으면 죽어야한다고 했지만 그렇게 되면 전력을 잃고 사기는 더 떨어진다는 생각에 그는 혼자 전선 앞에 나선다.', 'offset': 350, 'length': 74, 'sentiment': 'negative', 'confidence': {'negative': 0.9978908, 'positive': 0.0003512625, 'neutral': 0.0017579682}, 'highlights': [{'offset': 64, 'length': 9}]}, {'content': ' 영화 명량은 오히려 이 부분의 고증을 제대로 짚지 못했다.', 'offset': 424, 'length': 33, 'sentiment': 'negative', 'confidence': {'negative': 0.9973028, 'positive': 0.00027094816, 'neutral': 0.002426283}, 'highlights': [{'offset': 12, 'length': 20}]}, {'content': ' 이순신은 뒤에 12척을 남기고 혼자 1:133빵을 때렸다.', 'offset': 457, 'length': 33, 'sentiment': 'negative', 'confidence': {'negative': 0.99698573, 'positive': 0.00035226878, 'neutral': 0.0026620596}, 'highlights': [{'offset': 26, 'length': 6}]}, {'content': ' 이게 진짜 역사다.', 'offset': 490, 'length': 11, 'sentiment': 'neutral', 'confidence': {'negative': 0.014706366, 'positive': 0.001483355, 'neutral': 0.9838103}, 'highlights': [{'offset': 1, 'length': 9}]}, {'content': ' 영화보다 더 말이 안되는 현실을 이순신 장군이 이미 몇 백 년 전에 이뤄낸 것이다.', 'offset': 501, 'length': 47, 'sentiment': 'neutral', 'confidence': {'negative': 0.0018665206, 'positive': 0.010952129, 'neutral': 0.98718137}, 'highlights': [{'offset': 1, 'length': 45}]}]}\n",
            "{'content': '어찌됐든 울돌목의 해류가 다시 왜쪽으로 불리하게 바뀌고 겨우 배 한 척에 수많은 배와 사망자가 나오고 안택선 마저 침몰하자 왜군은 후퇴하게 된다. 그보다 이미 다이묘들에게 이순신이란 존재는 공포 그 자체였기에, 다시 전열을 다듬고 전투를 하기에는 이미 사기가 바닥에 떨어진 상태. 더욱이 오랜 전쟁으로 이미 피폐해진 왜놈들은 이런 명분 없는 전쟁에 휘말리고 싶지 않는 마음이 간절했을 것이다. (물론 살아남은 다이묘들은 본토에 가서 또다시 지들끼리 싸우다가 쳐뒤졌지만)'}\n",
            "{'document': {'sentiment': 'negative', 'confidence': {'negative': 94.76316, 'positive': 0.010633372, 'neutral': 5.2262044}}, 'sentences': [{'content': '어찌됐든 울돌목의 해류가 다시 왜쪽으로 불리하게 바뀌고 겨우 배 한 척에 수많은 배와 사망자가 나오고 안택선 마저 침몰하자 왜군은 후퇴하게 된다.', 'offset': 0, 'length': 81, 'sentiment': 'negative', 'confidence': {'negative': 0.99825674, 'positive': 0.00038206205, 'neutral': 0.0013611538}, 'highlights': [{'offset': 64, 'length': 16}]}, {'content': ' 그보다 이미 다이묘들에게 이순신이란 존재는 공포 그 자체였기에, 다시 전열을 다듬고 전투를 하기에는 이미 사기가 바닥에 떨어진 상태.', 'offset': 81, 'length': 75, 'sentiment': 'negative', 'confidence': {'negative': 0.99851567, 'positive': 0.0004972602, 'neutral': 0.0009870561}, 'highlights': [{'offset': 60, 'length': 14}]}, {'content': ' 더욱이 오랜 전쟁으로 이미 피폐해진 왜놈들은 이런 명분 없는 전쟁에 휘말리고 싶지 않는 마음이 간절했을 것이다.', 'offset': 156, 'length': 63, 'sentiment': 'negative', 'confidence': {'negative': 0.99779993, 'positive': 0.00043104435, 'neutral': 0.0017690271}, 'highlights': [{'offset': 47, 'length': 15}]}, {'content': ' (물론 살아남은 다이묘들은 본토에 가서 또다시 지들끼리 싸우다가 쳐뒤졌지만)', 'offset': 219, 'length': 43, 'sentiment': 'neutral', 'confidence': {'negative': 0.010428351, 'positive': 0.000709974, 'neutral': 0.9888616}, 'highlights': [{'offset': 27, 'length': 15}]}]}\n",
            "{'content': '그런 마당에 IOC는 이순신 장군의 말을 인용한 응원 문구를 정치적인 문구로 해석해서 현수막을 내리게 했다. 그래놓고서 진정으로 금지시켜야할 욱일기, 그와 관련된 디자인은 그대로 남겨뒀다. '}\n",
            "{'document': {'sentiment': 'negative', 'confidence': {'negative': 85.67864, 'positive': 0.0071370727, 'neutral': 14.314223}}, 'sentences': [{'content': '그런 마당에 IOC는 이순신 장군의 말을 인용한 응원 문구를 정치적인 문구로 해석해서 현수막을 내리게 했다.', 'offset': 0, 'length': 60, 'sentiment': 'neutral', 'confidence': {'negative': 0.00033531687, 'positive': 0.0002600243, 'neutral': 0.99940455}, 'highlights': [{'offset': 39, 'length': 20}]}, {'content': ' 그래놓고서 진정으로 금지시켜야할 욱일기, 그와 관련된 디자인은 그대로 남겨뒀다.', 'offset': 60, 'length': 45, 'sentiment': 'negative', 'confidence': {'negative': 0.99716944, 'positive': 0.00023957079, 'neutral': 0.0025910498}, 'highlights': [{'offset': 1, 'length': 6}]}]}\n",
            "{'content': '올림픽 정신은 온데간데 사라지고 오히려 일본 국민의 피해는 나몰라라하며 자신들의 정치적 목적으로 올림픽을 이용하는 일본 정부는 일언반구 없는 이 작금의 사태에, 누가 올림픽을 즐겁게 시청할까? '}\n",
            "{'document': {'sentiment': 'negative', 'confidence': {'negative': 99.98243, 'positive': 0.005276633, 'neutral': 0.012295533}}, 'sentences': [{'content': '올림픽 정신은 온데간데 사라지고 오히려 일본 국민의 피해는 나몰라라하며 자신들의 정치적 목적으로 올림픽을 이용하는 일본 정부는 일언반구 없는 이 작금의 사태에, 누가 올림픽을 즐겁게 시청할까?', 'offset': 0, 'length': 107, 'sentiment': 'negative', 'confidence': {'negative': 0.99894565, 'positive': 0.000316598, 'neutral': 0.000737732}, 'highlights': [{'offset': 90, 'length': 16}]}]}\n",
            "{'content': '전에 영속패전론 이라는 책을 읽었던 적이 있는데'}\n",
            "{'document': {'sentiment': 'neutral', 'confidence': {'negative': 0.0015532164, 'positive': 0.0017005126, 'neutral': 99.99675}}, 'sentences': [{'content': '전에 영속패전론 이라는 책을 읽었던 적이 있는데', 'offset': 0, 'length': 26, 'sentiment': 'neutral', 'confidence': {'negative': 1.5532163e-05, 'positive': 1.7005126e-05, 'neutral': 0.99996746}, 'highlights': [{'offset': 13, 'length': 13}]}]}\n",
            "{'content': '일본은 여전히 전쟁의 패배를 인정하지 않고 미국에 지배당한다는 어떤 사회학자의 이론을 담은 책이었다. 일본은 딱 그 수준이다. 무슨 수준이냐, 전문적인 학자들마저 민주주의의 정신을 망각한 채'}\n",
            "{'document': {'sentiment': 'negative', 'confidence': {'negative': 75.06339, 'positive': 0.017242957, 'neutral': 24.919365}}, 'sentences': [{'content': '일본은 여전히 전쟁의 패배를 인정하지 않고 미국에 지배당한다는 어떤 사회학자의 이론을 담은 책이었다.', 'offset': 0, 'length': 56, 'sentiment': 'neutral', 'confidence': {'negative': 0.0042086937, 'positive': 0.00027210798, 'neutral': 0.99551916}, 'highlights': [{'offset': 24, 'length': 31}]}, {'content': ' 일본은 딱 그 수준이다.', 'offset': 56, 'length': 14, 'sentiment': 'neutral', 'confidence': {'negative': 0.0017066181, 'positive': 0.00060263864, 'neutral': 0.9976908}, 'highlights': [{'offset': 1, 'length': 12}]}, {'content': ' 무슨 수준이냐, 전문적인 학자들마저 민주주의의 정신을 망각한 채', 'offset': 70, 'length': 36, 'sentiment': 'negative', 'confidence': {'negative': 0.9991561, 'positive': 0.00050468993, 'neutral': 0.0003392712}, 'highlights': [{'offset': 15, 'length': 21}]}]}\n",
            "{'content': \"'패배' '승리' 라는 기준으로 '사회'를 평가하는 수준 말이다.\"}\n",
            "{'document': {'sentiment': 'neutral', 'confidence': {'negative': 0.17528383, 'positive': 0.019788058, 'neutral': 99.80493}}, 'sentences': [{'content': \"'패배' '승리' 라는 기준으로 '사회'를 평가하는 수준 말이다.\", 'offset': 0, 'length': 36, 'sentiment': 'neutral', 'confidence': {'negative': 0.0017528383, 'positive': 0.00019788058, 'neutral': 0.99804926}, 'highlights': [{'offset': 1, 'length': 2}]}]}\n",
            "{'content': '더 큰 문제는 그 영속패전론의 의미를 제대로 파악하지 못한 한국인이다. 일본을 까면 얼씨구나 하고 발광하는 어떤 방향에 편향된 사람들은 그 책을 매우 긍정적으로 표현하고 있다.'}\n",
            "{'document': {'sentiment': 'negative', 'confidence': {'negative': 50.005054, 'positive': 49.980556, 'neutral': 0.014388931}}, 'sentences': [{'content': '더 큰 문제는 그 영속패전론의 의미를 제대로 파악하지 못한 한국인이다.', 'offset': 0, 'length': 39, 'sentiment': 'negative', 'confidence': {'negative': 0.9990478, 'positive': 0.00035733526, 'neutral': 0.0005948787}, 'highlights': [{'offset': 25, 'length': 13}]}, {'content': ' 일본을 까면 얼씨구나 하고 발광하는 어떤 방향에 편향된 사람들은 그 책을 매우 긍정적으로 표현하고 있다.', 'offset': 39, 'length': 59, 'sentiment': 'positive', 'confidence': {'negative': 0.001558701, 'positive': 0.99730957, 'neutral': 0.001131793}, 'highlights': [{'offset': 16, 'length': 40}]}]}\n",
            "{'content': \"일본은 우리나라에선 되게 금기시하는 '공산당'이 당 이름으로 버젓이 쓰인다. 그들의 선전을 조사해봤고, 정말 놀랍게도 우리나라의 좌적폐의 행동이 이들과 비슷하다. 말로는 원칙적이고 옳은 말을 하는 듯이 보이나, 그 실체를 들여다보면 전혀 아닌. 특히 독도 관련 문제를 들여다보면 1905년 불법으로 편입한 것은 정당하지만 누구 영토인지는 토의를 해야한다는게 그들 입장이다. 말그대로 좌익스러운 입장인 것이다.\"}\n",
            "{'document': {'sentiment': 'negative', 'confidence': {'negative': 96.02505, 'positive': 0.010009048, 'neutral': 3.964942}}, 'sentences': [{'content': \"일본은 우리나라에선 되게 금기시하는 '공산당'이 당 이름으로 버젓이 쓰인다.\", 'offset': 0, 'length': 42, 'sentiment': 'negative', 'confidence': {'negative': 0.99833053, 'positive': 0.00028518113, 'neutral': 0.0013842736}, 'highlights': [{'offset': 0, 'length': 20}]}, {'content': ' 그들의 선전을 조사해봤고, 정말 놀랍게도 우리나라의 좌적폐의 행동이 이들과 비슷하다.', 'offset': 42, 'length': 48, 'sentiment': 'negative', 'confidence': {'negative': 0.99784887, 'positive': 0.00033051314, 'neutral': 0.0018206106}, 'highlights': [{'offset': 24, 'length': 23}]}, {'content': ' 말로는 원칙적이고 옳은 말을 하는 듯이 보이나, 그 실체를 들여다보면 전혀 아닌.', 'offset': 90, 'length': 46, 'sentiment': 'negative', 'confidence': {'negative': 0.9979557, 'positive': 0.00055606733, 'neutral': 0.0014882311}, 'highlights': [{'offset': 28, 'length': 17}]}, {'content': ' 특히 독도 관련 문제를 들여다보면 1905년 불법으로 편입한 것은 정당하지만 누구 영토인지는 토의를 해야한다는게 그들 입장이다.', 'offset': 136, 'length': 72, 'sentiment': 'neutral', 'confidence': {'negative': 0.017376501, 'positive': 0.00025260754, 'neutral': 0.982371}, 'highlights': [{'offset': 1, 'length': 43}]}, {'content': ' 말그대로 좌익스러운 입장인 것이다.', 'offset': 208, 'length': 20, 'sentiment': 'negative', 'confidence': {'negative': 0.9947507, 'positive': 0.0010778928, 'neutral': 0.0041714064}, 'highlights': [{'offset': 1, 'length': 18}]}]}\n",
            "{'content': '영속패전론 역시 한국의 좌적폐가 펼치는 이론과 같다. 한국이나 일본이나 미군에게 점령당한 상태이며 이것에서 벗어나야한다는 것이다. 하나만 묻고 싶다. 그렇게 지배, 피지배의 이분법을 따른 뒤에 이 창백한 푸른 점 지구에서 남는 것은 무엇인가? 팩트는 점령이라는 의미는 냉전 시대의 상황에 따른 것이었고 미국은 줄곧 동맹국이었다. 만약 경제적, 군사적 차이로 점령이라는 논리를 펼치는 거라면 그야말로 새시대의 제국주의와 우생학을 외치는 나치새끼들이나 다름 없다. (실제로 나치당은 민주적으로 정권을 잡았다)'}\n",
            "{'document': {'sentiment': 'negative', 'confidence': {'negative': 82.2283, 'positive': 0.013967865, 'neutral': 17.75773}}, 'sentences': [{'content': '영속패전론 역시 한국의 좌적폐가 펼치는 이론과 같다.', 'offset': 0, 'length': 29, 'sentiment': 'negative', 'confidence': {'negative': 0.9974657, 'positive': 0.0003040519, 'neutral': 0.0022302382}, 'highlights': [{'offset': 9, 'length': 19}]}, {'content': ' 한국이나 일본이나 미군에게 점령당한 상태이며 이것에서 벗어나야한다는 것이다.', 'offset': 29, 'length': 43, 'sentiment': 'negative', 'confidence': {'negative': 0.9950499, 'positive': 0.00031742844, 'neutral': 0.0046326173}, 'highlights': [{'offset': 26, 'length': 16}]}, {'content': ' 하나만 묻고 싶다.', 'offset': 72, 'length': 11, 'sentiment': 'neutral', 'confidence': {'negative': 0.09421217, 'positive': 0.0007172819, 'neutral': 0.9050706}, 'highlights': [{'offset': 5, 'length': 3}]}, {'content': ' 그렇게 지배, 피지배의 이분법을 따른 뒤에 이 창백한 푸른 점 지구에서 남는 것은 무엇인가?', 'offset': 83, 'length': 52, 'sentiment': 'neutral', 'confidence': {'negative': 2.6396532e-05, 'positive': 1.714593e-05, 'neutral': 0.9999565}, 'highlights': [{'offset': 22, 'length': 29}]}, {'content': ' 팩트는 점령이라는 의미는 냉전 시대의 상황에 따른 것이었고 미국은 줄곧 동맹국이었다.', 'offset': 135, 'length': 48, 'sentiment': 'neutral', 'confidence': {'negative': 0.00055816217, 'positive': 0.00057221274, 'neutral': 0.9988695}, 'highlights': [{'offset': 1, 'length': 46}]}, {'content': ' 만약 경제적, 군사적 차이로 점령이라는 논리를 펼치는 거라면 그야말로 새시대의 제국주의와 우생학을 외치는 나치새끼들이나 다름 없다.', 'offset': 183, 'length': 74, 'sentiment': 'negative', 'confidence': {'negative': 0.9991658, 'positive': 0.0003834239, 'neutral': 0.00045078358}, 'highlights': [{'offset': 40, 'length': 33}]}, {'content': ' (실제로 나치당은 민주적으로 정권을 잡았다)', 'offset': 257, 'length': 25, 'sentiment': 'neutral', 'confidence': {'negative': 0.0037479578, 'positive': 0.0007613856, 'neutral': 0.9954906}, 'highlights': [{'offset': 6, 'length': 18}]}]}\n",
            "{'content': '우로는 전범, 좌로는 공산당. 이런 일본의 정치 판에 일본인들이 정치에 혐오를 가지고 허무주의에 빠지는 그 마음은, 그 누구보다 내가 더 잘 안다. 우리나라야말로 10년 전 딱 정치가 그랬기 때문이다.'}\n",
            "{'document': {'sentiment': 'negative', 'confidence': {'negative': 92.290764, 'positive': 0.0108505115, 'neutral': 7.6983852}}, 'sentences': [{'content': '우로는 전범, 좌로는 공산당.', 'offset': 0, 'length': 16, 'sentiment': 'negative', 'confidence': {'negative': 0.99890935, 'positive': 0.00032643828, 'neutral': 0.00076427555}, 'highlights': [{'offset': 8, 'length': 7}]}, {'content': ' 이런 일본의 정치 판에 일본인들이 정치에 혐오를 가지고 허무주의에 빠지는 그 마음은, 그 누구보다 내가 더 잘 안다.', 'offset': 16, 'length': 66, 'sentiment': 'negative', 'confidence': {'negative': 0.9974535, 'positive': 0.00046159088, 'neutral': 0.0020848357}, 'highlights': [{'offset': 1, 'length': 46}]}, {'content': ' 우리나라야말로 10년 전 딱 정치가 그랬기 때문이다.', 'offset': 82, 'length': 30, 'sentiment': 'neutral', 'confidence': {'negative': 0.0014364751, 'positive': 0.0006225373, 'neutral': 0.99794096}, 'highlights': [{'offset': 13, 'length': 16}]}]}\n",
            "{'content': \"그런 와중에 일본은 일본인이 정신차려야한다는 소리를 하는 정치인이 판에 깔려있다. 당연히 일본사람들은 환멸을 느낄 뿐이다. 내가 그러했듯이. 물론 일본 역시 그런 좌우를 떠나 전 지구가 원하는 '정의'의 바람대로, 올바른 방향으로 정치를 외치는 사람들이 분명 있을 것이다. 그게 입헌민주당이겠거니 생각 중인데 강령만 봐도 자유민주당의 헌법 파괴시키겠다는 극우적인 강령과 다른 방향이 느껴진다. \"}\n",
            "{'document': {'sentiment': 'negative', 'confidence': {'negative': 89.992096, 'positive': 0.2918902, 'neutral': 9.716011}}, 'sentences': [{'content': '그런 와중에 일본은 일본인이 정신차려야한다는 소리를 하는 정치인이 판에 깔려있다.', 'offset': 0, 'length': 45, 'sentiment': 'negative', 'confidence': {'negative': 0.9987864, 'positive': 0.00030344512, 'neutral': 0.0009101271}, 'highlights': [{'offset': 21, 'length': 23}]}, {'content': ' 당연히 일본사람들은 환멸을 느낄 뿐이다.', 'offset': 45, 'length': 23, 'sentiment': 'negative', 'confidence': {'negative': 0.9983375, 'positive': 0.00038886178, 'neutral': 0.0012736355}, 'highlights': [{'offset': 1, 'length': 21}]}, {'content': ' 내가 그러했듯이.', 'offset': 68, 'length': 10, 'sentiment': 'neutral', 'confidence': {'negative': 0.00022269267, 'positive': 0.0004153664, 'neutral': 0.99936193}, 'highlights': [{'offset': 1, 'length': 8}]}, {'content': \" 물론 일본 역시 그런 좌우를 떠나 전 지구가 원하는 '정의'의 바람대로, 올바른 방향으로 정치를 외치는 사람들이 분명 있을 것이다.\", 'offset': 78, 'length': 74, 'sentiment': 'neutral', 'confidence': {'negative': 0.0021581885, 'positive': 0.05688225, 'neutral': 0.94095963}, 'highlights': [{'offset': 42, 'length': 31}]}, {'content': ' 그게 입헌민주당이겠거니 생각 중인데 강령만 봐도 자유민주당의 헌법 파괴시키겠다는 극우적인 강령과 다른 방향이 느껴진다.', 'offset': 152, 'length': 67, 'sentiment': 'negative', 'confidence': {'negative': 0.9989151, 'positive': 0.0003881171, 'neutral': 0.0006968867}, 'highlights': [{'offset': 58, 'length': 8}]}]}\n",
            "{'content': '왜 갑자기 영화 리뷰에서 일본 얘기로 빠졌는가,'}\n",
            "{'document': {'sentiment': 'neutral', 'confidence': {'negative': 0.00406565, 'positive': 0.0011107122, 'neutral': 99.99483}}, 'sentences': [{'content': '왜 갑자기 영화 리뷰에서 일본 얘기로 빠졌는가,', 'offset': 0, 'length': 26, 'sentiment': 'neutral', 'confidence': {'negative': 4.06565e-05, 'positive': 1.1107122e-05, 'neutral': 0.99994826}, 'highlights': [{'offset': 6, 'length': 19}]}]}\n",
            "{'content': '나를 알고 적을 알면 몇 번을 싸워도 이긴다. 이는 이순신이 주로 공부했을거라 추측하는 손자병법에서 나오는 격언이다. 조금이라도 이순신 장군이 상대적으로 열악한 상황에서 충성과 절의, 애국을 위해 어떻게 왜군을 막았는지 생각해본다면 먼저 상대방의 전력을 면밀히 파악했으리라 생각이든다. 그래서 나또한 일본을 조사하고 알아봤다. 이순신 장군의 마음을 헤아리고 지피지기 백전불태를 위해. '}\n",
            "{'document': {'sentiment': 'neutral', 'confidence': {'negative': 0.109750755, 'positive': 0.68179476, 'neutral': 99.20846}}, 'sentences': [{'content': '나를 알고 적을 알면 몇 번을 싸워도 이긴다.', 'offset': 0, 'length': 25, 'sentiment': 'neutral', 'confidence': {'negative': 0.0013220368, 'positive': 0.0040314407, 'neutral': 0.9946465}, 'highlights': [{'offset': 6, 'length': 18}]}, {'content': ' 이는 이순신이 주로 공부했을거라 추측하는 손자병법에서 나오는 격언이다.', 'offset': 25, 'length': 40, 'sentiment': 'neutral', 'confidence': {'negative': 0.00025547037, 'positive': 0.00046371587, 'neutral': 0.99928075}, 'highlights': [{'offset': 19, 'length': 20}]}, {'content': ' 조금이라도 이순신 장군이 상대적으로 열악한 상황에서 충성과 절의, 애국을 위해 어떻게 왜군을 막았는지 생각해본다면 먼저 상대방의 전력을 면밀히 파악했으리라 생각이든다.', 'offset': 65, 'length': 94, 'sentiment': 'neutral', 'confidence': {'negative': 0.0023935866, 'positive': 0.0023165194, 'neutral': 0.9952899}, 'highlights': [{'offset': 68, 'length': 25}]}, {'content': ' 그래서 나또한 일본을 조사하고 알아봤다.', 'offset': 159, 'length': 23, 'sentiment': 'neutral', 'confidence': {'negative': 0.00032933938, 'positive': 0.0002320228, 'neutral': 0.9994387}, 'highlights': [{'offset': 9, 'length': 13}]}, {'content': ' 이순신 장군의 마음을 헤아리고 지피지기 백전불태를 위해.', 'offset': 182, 'length': 32, 'sentiment': 'neutral', 'confidence': {'negative': 0.0011871046, 'positive': 0.02704604, 'neutral': 0.97176695}, 'highlights': [{'offset': 18, 'length': 13}]}]}\n",
            "{'content': '그래서 일본은 아직까지도 글로발 리더 국가의 자격은 가지고 있다는 사실을 우리는 알아야 한다. 깨어있는 일본 국민이 나라를 이끌어가는 주역이고 김대중 노무현 정권이 그러했던 것처럼 우리는 다시 그들을 맞이해야할 준비를 해야한다. 일본은 임진왜란이라는 병크를 냈지만, 이후 번영의 꽃인 애도 시대를 만들어냈고 명목상 민주주의 시작이라는 메이지 유신을 끌어냈다. 그 결말은 좆쓰레기 싸이코패스 전범국가로 핵 두 발 맞고 끝났지만 말이다.'}\n",
            "{'document': {'sentiment': 'negative', 'confidence': {'negative': 66.917694, 'positive': 0.06915537, 'neutral': 33.013153}}, 'sentences': [{'content': '그래서 일본은 아직까지도 글로발 리더 국가의 자격은 가지고 있다는 사실을 우리는 알아야 한다.', 'offset': 0, 'length': 52, 'sentiment': 'neutral', 'confidence': {'negative': 0.0018481781, 'positive': 0.0015128315, 'neutral': 0.996639}, 'highlights': [{'offset': 14, 'length': 19}]}, {'content': ' 깨어있는 일본 국민이 나라를 이끌어가는 주역이고 김대중 노무현 정권이 그러했던 것처럼 우리는 다시 그들을 맞이해야할 준비를 해야한다.', 'offset': 52, 'length': 75, 'sentiment': 'neutral', 'confidence': {'negative': 0.0005376081, 'positive': 0.0006092967, 'neutral': 0.9988531}, 'highlights': [{'offset': 1, 'length': 2}]}, {'content': ' 일본은 임진왜란이라는 병크를 냈지만, 이후 번영의 꽃인 애도 시대를 만들어냈고 명목상 민주주의 시작이라는 메이지 유신을 끌어냈다.', 'offset': 127, 'length': 73, 'sentiment': 'neutral', 'confidence': {'negative': 0.02104554, 'positive': 0.0036863438, 'neutral': 0.9752681}, 'highlights': [{'offset': 45, 'length': 27}]}, {'content': ' 그 결말은 좆쓰레기 싸이코패스 전범국가로 핵 두 발 맞고 끝났지만 말이다.', 'offset': 200, 'length': 42, 'sentiment': 'negative', 'confidence': {'negative': 0.9991609, 'positive': 0.0004155114, 'neutral': 0.00042369653}, 'highlights': [{'offset': 30, 'length': 8}]}]}\n",
            "{'content': ' 현대에 와선 일본이 또 신의를 어기고 반도체 수출 규제를 때렸고 우리나라는 소부장을 안정적으로 자립하는 승리의 결과를 만들어냈다. 물론 피해가 없지는 않았다. 그러나 정황이 임진왜란과 비슷하다. 일본 정치계는 자신들의 안위를 위해 자국민을 조졌고 한국은 전쟁의 피해를 입었다. 이게 무슨 개씹지랄인가? 하지만 전쟁을 원한다면 우리 조상이 지켜온 이 땅을, 나도 역시 그 정신을 받들 것이다. 만약 실제 전쟁이 벌어진다면 나는 한 100킬 정도 예상하는 중이다. 다 덤벼라 씹발 왜구새끼들'}\n",
            "{'document': {'sentiment': 'negative', 'confidence': {'negative': 64.3897, 'positive': 21.447397, 'neutral': 14.162902}}, 'sentences': [{'content': ' 현대에 와선 일본이 또 신의를 어기고 반도체 수출 규제를 때렸고 우리나라는 소부장을 안정적으로 자립하는 승리의 결과를 만들어냈다.', 'offset': 0, 'length': 73, 'sentiment': 'positive', 'confidence': {'negative': 0.0011696715, 'positive': 0.997447, 'neutral': 0.0013833282}, 'highlights': [{'offset': 14, 'length': 8}]}, {'content': ' 물론 피해가 없지는 않았다.', 'offset': 73, 'length': 16, 'sentiment': 'neutral', 'confidence': {'negative': 0.00046655207, 'positive': 0.0038894494, 'neutral': 0.995644}, 'highlights': [{'offset': 4, 'length': 11}]}, {'content': ' 그러나 정황이 임진왜란과 비슷하다.', 'offset': 89, 'length': 20, 'sentiment': 'neutral', 'confidence': {'negative': 0.019940967, 'positive': 0.0006206975, 'neutral': 0.9794383}, 'highlights': [{'offset': 5, 'length': 14}]}, {'content': ' 일본 정치계는 자신들의 안위를 위해 자국민을 조졌고 한국은 전쟁의 피해를 입었다.', 'offset': 109, 'length': 46, 'sentiment': 'negative', 'confidence': {'negative': 0.99871993, 'positive': 0.00063731073, 'neutral': 0.0006427913}, 'highlights': [{'offset': 1, 'length': 29}]}, {'content': ' 이게 무슨 개씹지랄인가?', 'offset': 155, 'length': 14, 'sentiment': 'negative', 'confidence': {'negative': 0.99924207, 'positive': 0.00031127583, 'neutral': 0.00044668157}, 'highlights': [{'offset': 1, 'length': 12}]}, {'content': ' 하지만 전쟁을 원한다면 우리 조상이 지켜온 이 땅을, 나도 역시 그 정신을 받들 것이다.', 'offset': 169, 'length': 50, 'sentiment': 'neutral', 'confidence': {'negative': 0.005139147, 'positive': 0.0014550552, 'neutral': 0.9934058}, 'highlights': [{'offset': 37, 'length': 12}]}, {'content': ' 만약 실제 전쟁이 벌어진다면 나는 한 100킬 정도 예상하는 중이다.', 'offset': 219, 'length': 39, 'sentiment': 'neutral', 'confidence': {'negative': 0.0052054524, 'positive': 0.00047332855, 'neutral': 0.9943212}, 'highlights': [{'offset': 1, 'length': 37}]}, {'content': ' 다 덤벼라 씹발 왜구새끼들', 'offset': 258, 'length': 15, 'sentiment': 'negative', 'confidence': {'negative': 0.9992322, 'positive': 0.00043728197, 'neutral': 0.0003305228}, 'highlights': [{'offset': 1, 'length': 14}]}]}\n",
            "{'content': '[출처] 영화 명량 리뷰|작성자 rrrr'}\n",
            "{'document': {'sentiment': 'neutral', 'confidence': {'negative': 0.017462173, 'positive': 0.015113627, 'neutral': 99.96742}}, 'sentences': [{'content': '[출처]', 'offset': 0, 'length': 4, 'sentiment': 'neutral', 'confidence': {'negative': 0.00013577587, 'positive': 7.329346e-05, 'neutral': 0.99979097}, 'highlights': [{'offset': 0, 'length': 3}]}, {'content': ' 영화 명량 리뷰|작성자 rrrr', 'offset': 4, 'length': 18, 'sentiment': 'neutral', 'confidence': {'negative': 0.00021346762, 'positive': 0.00022897909, 'neutral': 0.99955755}, 'highlights': [{'offset': 1, 'length': 8}]}]}\n"
          ]
        }
      ]
    },
    {
      "cell_type": "code",
      "source": [
        ""
      ],
      "metadata": {
        "id": "SC5Osjyce9De"
      },
      "execution_count": null,
      "outputs": []
    }
  ]
}