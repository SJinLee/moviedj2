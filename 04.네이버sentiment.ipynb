{
  "nbformat": 4,
  "nbformat_minor": 0,
  "metadata": {
    "colab": {
      "name": "04.네이버API.ipynb",
      "provenance": [],
      "collapsed_sections": [],
      "authorship_tag": "ABX9TyMMK27ilqFtrVljvYwwNHJu",
      "include_colab_link": true
    },
    "kernelspec": {
      "name": "python3",
      "display_name": "Python 3"
    },
    "language_info": {
      "name": "python"
    }
  },
  "cells": [
    {
      "cell_type": "markdown",
      "metadata": {
        "id": "view-in-github",
        "colab_type": "text"
      },
      "source": [
        "<a href=\"https://colab.research.google.com/github/SJinLee/moviedj2/blob/main/04.%EB%84%A4%EC%9D%B4%EB%B2%84sentiment.ipynb\" target=\"_parent\"><img src=\"https://colab.research.google.com/assets/colab-badge.svg\" alt=\"Open In Colab\"/></a>"
      ]
    },
    {
      "cell_type": "markdown",
      "source": [
        "* https://medium.com/naver-cloud-platform/이렇게-사용하세요-텍스트-감정-분석-서비스-구현하기-clova-sentiment-활용기-5d9db7b0209b\n"
      ],
      "metadata": {
        "id": "odtWqVYKDzmW"
      }
    },
    {
      "cell_type": "code",
      "source": [
        "import json\n",
        "import urllib.request"
      ],
      "metadata": {
        "id": "e7-H0OowirRA"
      },
      "execution_count": 1,
      "outputs": []
    },
    {
      "cell_type": "markdown",
      "source": [
        "* client_id: <span name=\"d2egqw8s33\">X-NCP-APIGW-API-KEY-ID</span>\n",
        "* client_secret: <span name=\"sKdcAb503MlHizeL0pIy0OwKzXBILsY0p64aWPXl\">X-NCP-APIGW-API-KEY</span>"
      ],
      "metadata": {
        "id": "NMr7hz7LE2su"
      }
    },
    {
      "cell_type": "code",
      "source": [
        "client_id = \"\"\n",
        "client_secret = \"\"\n",
        "url = \"https://naveropenapi.apigw.ntruss.com/sentiment-analysis/v1/analyze\""
      ],
      "metadata": {
        "id": "gbW5L9mlF-IM"
      },
      "execution_count": 2,
      "outputs": []
    },
    {
      "cell_type": "code",
      "source": [
        "request = urllib.request.Request(url)\n",
        "request.add_header(\"X-NCP-APIGW-API-KEY-ID\",client_id)\n",
        "request.add_header(\"X-NCP-APIGW-API-KEY\",client_secret)\n",
        "request.add_header(\"Content-Type\", \"application/json\")"
      ],
      "metadata": {
        "id": "hqntMFkzloQO"
      },
      "execution_count": 3,
      "outputs": []
    },
    {
      "cell_type": "code",
      "source": [
        "text = {\n",
        "  \"content\": \"싸늘하다. 가슴에 비수가 날아와 꽂힌다.\"\n",
        "}\n",
        "data = str(json.dumps(text)).encode('utf-8')"
      ],
      "metadata": {
        "id": "Vbl9yEq1leou"
      },
      "execution_count": 4,
      "outputs": []
    },
    {
      "cell_type": "code",
      "source": [
        "response = urllib.request.urlopen(request,data=data)\n",
        "rescode = response.getcode()"
      ],
      "metadata": {
        "id": "f6WZVaPzls5h"
      },
      "execution_count": 12,
      "outputs": []
    },
    {
      "cell_type": "code",
      "source": [
        "rescode"
      ],
      "metadata": {
        "id": "ttVA198Glw_j",
        "colab": {
          "base_uri": "https://localhost:8080/"
        },
        "outputId": "70af3cf6-592e-4f0e-8005-230490bf77aa"
      },
      "execution_count": 13,
      "outputs": [
        {
          "output_type": "execute_result",
          "data": {
            "text/plain": [
              "200"
            ]
          },
          "metadata": {},
          "execution_count": 13
        }
      ]
    },
    {
      "cell_type": "code",
      "source": [
        "result = response.read()\n",
        "result"
      ],
      "metadata": {
        "colab": {
          "base_uri": "https://localhost:8080/"
        },
        "id": "hzFQtLiuq0LS",
        "outputId": "c577c1ce-0d63-47b4-8ddd-de61d8417511"
      },
      "execution_count": 14,
      "outputs": [
        {
          "output_type": "execute_result",
          "data": {
            "text/plain": [
              "b'{\"document\":{\"sentiment\":\"negative\",\"confidence\":{\"negative\":99.3676,\"positive\":0.0077638756,\"neutral\":0.6246391}},\"sentences\":[{\"content\":\"\\xec\\x8b\\xb8\\xeb\\x8a\\x98\\xed\\x95\\x98\\xeb\\x8b\\xa4.\",\"offset\":0,\"length\":5,\"sentiment\":\"negative\",\"confidence\":{\"negative\":0.9961359,\"positive\":2.274021E-4,\"neutral\":0.0036366594},\"highlights\":[{\"offset\":0,\"length\":4}]},{\"content\":\" \\xea\\xb0\\x80\\xec\\x8a\\xb4\\xec\\x97\\x90 \\xeb\\xb9\\x84\\xec\\x88\\x98\\xea\\xb0\\x80 \\xeb\\x82\\xa0\\xec\\x95\\x84\\xec\\x99\\x80 \\xea\\xbd\\x82\\xed\\x9e\\x8c\\xeb\\x8b\\xa4.\",\"offset\":5,\"length\":17,\"sentiment\":\"negative\",\"confidence\":{\"negative\":0.9279757,\"positive\":7.04263E-4,\"neutral\":0.071320035},\"highlights\":[{\"offset\":1,\"length\":15}]}]}'"
            ]
          },
          "metadata": {},
          "execution_count": 14
        }
      ]
    },
    {
      "cell_type": "code",
      "source": [
        "json.loads(result)"
      ],
      "metadata": {
        "colab": {
          "base_uri": "https://localhost:8080/"
        },
        "id": "gQo_DFXvq5DK",
        "outputId": "12ad3781-0ba7-489a-f94d-ae813f06c0d1"
      },
      "execution_count": 15,
      "outputs": [
        {
          "output_type": "execute_result",
          "data": {
            "text/plain": [
              "{'document': {'confidence': {'negative': 99.3676,\n",
              "   'neutral': 0.6246391,\n",
              "   'positive': 0.0077638756},\n",
              "  'sentiment': 'negative'},\n",
              " 'sentences': [{'confidence': {'negative': 0.9961359,\n",
              "    'neutral': 0.0036366594,\n",
              "    'positive': 0.0002274021},\n",
              "   'content': '싸늘하다.',\n",
              "   'highlights': [{'length': 4, 'offset': 0}],\n",
              "   'length': 5,\n",
              "   'offset': 0,\n",
              "   'sentiment': 'negative'},\n",
              "  {'confidence': {'negative': 0.9279757,\n",
              "    'neutral': 0.071320035,\n",
              "    'positive': 0.000704263},\n",
              "   'content': ' 가슴에 비수가 날아와 꽂힌다.',\n",
              "   'highlights': [{'length': 15, 'offset': 1}],\n",
              "   'length': 17,\n",
              "   'offset': 5,\n",
              "   'sentiment': 'negative'}]}"
            ]
          },
          "metadata": {},
          "execution_count": 15
        }
      ]
    },
    {
      "cell_type": "code",
      "source": [
        "import requests"
      ],
      "metadata": {
        "id": "alWD0KGCHDy4"
      },
      "execution_count": 16,
      "outputs": []
    },
    {
      "cell_type": "code",
      "source": [
        "headers = {\n",
        "    \"X-NCP-APIGW-API-KEY-ID\": client_id,\n",
        "    \"X-NCP-APIGW-API-KEY\": client_secret,\n",
        "    \"Content-Type\": \"application/json\"\n",
        "}"
      ],
      "metadata": {
        "id": "auaB4TH6HQ4E"
      },
      "execution_count": 17,
      "outputs": []
    },
    {
      "cell_type": "code",
      "source": [
        "response = requests.post(url,data=json.dumps(text),headers=headers)"
      ],
      "metadata": {
        "id": "h0e9pjyvq9DL"
      },
      "execution_count": 18,
      "outputs": []
    },
    {
      "cell_type": "code",
      "source": [
        "response.status_code"
      ],
      "metadata": {
        "colab": {
          "base_uri": "https://localhost:8080/"
        },
        "id": "Ojp1i5REHYD7",
        "outputId": "00c4b2e0-3543-4563-f581-809c7deed71d"
      },
      "execution_count": 19,
      "outputs": [
        {
          "output_type": "execute_result",
          "data": {
            "text/plain": [
              "200"
            ]
          },
          "metadata": {},
          "execution_count": 19
        }
      ]
    },
    {
      "cell_type": "code",
      "source": [
        "json.loads(response.text)"
      ],
      "metadata": {
        "colab": {
          "base_uri": "https://localhost:8080/"
        },
        "id": "sx3jLVSbHiJs",
        "outputId": "6a5bccb9-adcf-4830-b65a-5e7d2877830c"
      },
      "execution_count": 21,
      "outputs": [
        {
          "output_type": "execute_result",
          "data": {
            "text/plain": [
              "{'document': {'confidence': {'negative': 99.3676,\n",
              "   'neutral': 0.6246391,\n",
              "   'positive': 0.0077638756},\n",
              "  'sentiment': 'negative'},\n",
              " 'sentences': [{'confidence': {'negative': 0.9961359,\n",
              "    'neutral': 0.0036366594,\n",
              "    'positive': 0.0002274021},\n",
              "   'content': '싸늘하다.',\n",
              "   'highlights': [{'length': 4, 'offset': 0}],\n",
              "   'length': 5,\n",
              "   'offset': 0,\n",
              "   'sentiment': 'negative'},\n",
              "  {'confidence': {'negative': 0.9279757,\n",
              "    'neutral': 0.071320035,\n",
              "    'positive': 0.000704263},\n",
              "   'content': ' 가슴에 비수가 날아와 꽂힌다.',\n",
              "   'highlights': [{'length': 15, 'offset': 1}],\n",
              "   'length': 17,\n",
              "   'offset': 5,\n",
              "   'sentiment': 'negative'}]}"
            ]
          },
          "metadata": {},
          "execution_count": 21
        }
      ]
    },
    {
      "cell_type": "code",
      "source": [
        ""
      ],
      "metadata": {
        "id": "q2LXF30kHjz4"
      },
      "execution_count": null,
      "outputs": []
    }
  ]
}