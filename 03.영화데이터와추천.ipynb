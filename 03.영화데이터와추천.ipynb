{
  "nbformat": 4,
  "nbformat_minor": 0,
  "metadata": {
    "colab": {
      "name": "03.영화데이터와추천.ipynb",
      "provenance": [],
      "collapsed_sections": [],
      "authorship_tag": "ABX9TyM6DXtepu6HdPnPhj4G1/bP",
      "include_colab_link": true
    },
    "kernelspec": {
      "name": "python3",
      "display_name": "Python 3"
    },
    "language_info": {
      "name": "python"
    }
  },
  "cells": [
    {
      "cell_type": "markdown",
      "metadata": {
        "id": "view-in-github",
        "colab_type": "text"
      },
      "source": [
        "<a href=\"https://colab.research.google.com/github/SJinLee/moviedj2/blob/main/03.%EC%98%81%ED%99%94%EB%8D%B0%EC%9D%B4%ED%84%B0%EC%99%80%EC%B6%94%EC%B2%9C.ipynb\" target=\"_parent\"><img src=\"https://colab.research.google.com/assets/colab-badge.svg\" alt=\"Open In Colab\"/></a>"
      ]
    },
    {
      "cell_type": "markdown",
      "source": [
        "\n",
        "# 1. 데이터"
      ],
      "metadata": {
        "id": "FO8NXzfnEevv"
      }
    },
    {
      "cell_type": "markdown",
      "source": [
        "* 데이터 \"데이터매쓰 영화 데이터 완성2.csv\"를 읽어온다."
      ],
      "metadata": {
        "id": "M0A7MRrXEo86"
      }
    },
    {
      "cell_type": "code",
      "execution_count": null,
      "metadata": {
        "id": "NPxJ46VmYe4f"
      },
      "outputs": [],
      "source": [
        "import pandas as pd\n",
        "df = pd.read_csv('https://github.com/SJinLee/moviedj/raw/main/%EB%8D%B0%EC%9D%B4%ED%84%B0%EB%A7%A4%EC%93%B0%20%EC%98%81%ED%99%94%20%EB%8D%B0%EC%9D%B4%ED%84%B0%20%EC%99%84%EC%84%B12.csv')"
      ]
    },
    {
      "cell_type": "markdown",
      "source": [
        "* 열이름"
      ],
      "metadata": {
        "id": "ZN-l9Y0ZEtvY"
      }
    },
    {
      "cell_type": "code",
      "source": [
        "df.columns"
      ],
      "metadata": {
        "colab": {
          "base_uri": "https://localhost:8080/"
        },
        "id": "XoktcDQRYsbQ",
        "outputId": "bdb0cdb5-faf2-48a7-d4f7-c5a4e785fc8d"
      },
      "execution_count": null,
      "outputs": [
        {
          "output_type": "execute_result",
          "data": {
            "text/plain": [
              "Index(['순위', '영화명', '개봉일', '매출액', '관객수', '스크린수', '상영횟수', '대표국적', '국적', '배급사',\n",
              "       '장르', '관람객', '평론가', '네티즌', '남자', '여자', '10대', '20대', '30대', '40대',\n",
              "       '50대 이상', 'OST', '영상미', '스토리', '연기', '연출', '남자.1', '여자.1', '10대.1',\n",
              "       '20대.1', '30대.1', '40대.1', '50대 이상.1', 'OST.1', '영상미.1', '스토리.1',\n",
              "       '연기.1', '연출.1', '남자 ', '여자.2', '10대.2', '20대.2', '30대.2', '40대.2',\n",
              "       '50대 이상.2', '1', '2', '3', '4', '5', '6', '7', '8', '9', '10', '11',\n",
              "       '12', '13', '14', '15', '16', '17', '18', '19', '20', '21', '22', '23',\n",
              "       '24', '25', '26', '27', '28', '29', '30', '31', '32', '33', '34', '35',\n",
              "       '36', '37', '38', '39', '40', '41', '42', '43', '44', '45', '46', '47',\n",
              "       '48', '49', '50'],\n",
              "      dtype='object')"
            ]
          },
          "metadata": {},
          "execution_count": 2
        }
      ]
    },
    {
      "cell_type": "markdown",
      "source": [
        "* 이름이 \"남자 \"인 열을 \"남자.2\"로 바꾸기"
      ],
      "metadata": {
        "id": "Uy5aVgmiEyci"
      }
    },
    {
      "cell_type": "code",
      "source": [
        "df = df.rename(columns={'남자 ': '남자.2'})"
      ],
      "metadata": {
        "id": "W7Pn9q1TZ176"
      },
      "execution_count": null,
      "outputs": []
    },
    {
      "cell_type": "code",
      "source": [
        "df.columns"
      ],
      "metadata": {
        "colab": {
          "base_uri": "https://localhost:8080/"
        },
        "id": "Ayyx51sqaKVT",
        "outputId": "3e72f4a7-5510-4cbd-8ee6-e18d20f711f8"
      },
      "execution_count": null,
      "outputs": [
        {
          "output_type": "execute_result",
          "data": {
            "text/plain": [
              "Index(['순위', '영화명', '개봉일', '매출액', '관객수', '스크린수', '상영횟수', '대표국적', '국적', '배급사',\n",
              "       '장르', '관람객', '평론가', '네티즌', '남자', '여자', '10대', '20대', '30대', '40대',\n",
              "       '50대 이상', 'OST', '영상미', '스토리', '연기', '연출', '남자.1', '여자.1', '10대.1',\n",
              "       '20대.1', '30대.1', '40대.1', '50대 이상.1', 'OST.1', '영상미.1', '스토리.1',\n",
              "       '연기.1', '연출.1', '남자.2', '여자.2', '10대.2', '20대.2', '30대.2', '40대.2',\n",
              "       '50대 이상.2', '1', '2', '3', '4', '5', '6', '7', '8', '9', '10', '11',\n",
              "       '12', '13', '14', '15', '16', '17', '18', '19', '20', '21', '22', '23',\n",
              "       '24', '25', '26', '27', '28', '29', '30', '31', '32', '33', '34', '35',\n",
              "       '36', '37', '38', '39', '40', '41', '42', '43', '44', '45', '46', '47',\n",
              "       '48', '49', '50'],\n",
              "      dtype='object')"
            ]
          },
          "metadata": {},
          "execution_count": 4
        }
      ]
    },
    {
      "cell_type": "markdown",
      "source": [
        "* 이름이 31~50인 열에는 데이터가 채워져있지 않으므로 제거한다."
      ],
      "metadata": {
        "id": "8ZL0CYjVFDos"
      }
    },
    {
      "cell_type": "code",
      "source": [
        "df = df.drop(columns=df.columns[-20:])"
      ],
      "metadata": {
        "id": "liLXVOl1aL11"
      },
      "execution_count": null,
      "outputs": []
    },
    {
      "cell_type": "code",
      "source": [
        "df.columns"
      ],
      "metadata": {
        "colab": {
          "base_uri": "https://localhost:8080/"
        },
        "id": "UkWlYFTQbidN",
        "outputId": "dd0bec1e-d22d-494d-e298-c60389d843b3"
      },
      "execution_count": null,
      "outputs": [
        {
          "output_type": "execute_result",
          "data": {
            "text/plain": [
              "Index(['순위', '영화명', '개봉일', '매출액', '관객수', '스크린수', '상영횟수', '대표국적', '국적', '배급사',\n",
              "       '장르', '관람객', '평론가', '네티즌', '남자', '여자', '10대', '20대', '30대', '40대',\n",
              "       '50대 이상', 'OST', '영상미', '스토리', '연기', '연출', '남자.1', '여자.1', '10대.1',\n",
              "       '20대.1', '30대.1', '40대.1', '50대 이상.1', 'OST.1', '영상미.1', '스토리.1',\n",
              "       '연기.1', '연출.1', '남자.2', '여자.2', '10대.2', '20대.2', '30대.2', '40대.2',\n",
              "       '50대 이상.2', '1', '2', '3', '4', '5', '6', '7', '8', '9', '10', '11',\n",
              "       '12', '13', '14', '15', '16', '17', '18', '19', '20', '21', '22', '23',\n",
              "       '24', '25', '26', '27', '28', '29', '30'],\n",
              "      dtype='object')"
            ]
          },
          "metadata": {},
          "execution_count": 6
        }
      ]
    },
    {
      "cell_type": "markdown",
      "source": [
        "* 네티즌 평점의 값이 문자열로 되어있다."
      ],
      "metadata": {
        "id": "S2f07dWYFsdL"
      }
    },
    {
      "cell_type": "code",
      "source": [
        "df['네티즌'].values"
      ],
      "metadata": {
        "colab": {
          "base_uri": "https://localhost:8080/"
        },
        "id": "YtA9NqbobkXP",
        "outputId": "31fb2163-c312-4ae7-d660-f96f1b6f51d6"
      },
      "execution_count": null,
      "outputs": [
        {
          "output_type": "execute_result",
          "data": {
            "text/plain": [
              "array(['8.44', '8.5', '7.83', '9.02', '9.38', '8.7', '9.01', '7.64',\n",
              "       '8.83', '9.38', '8.98', '9.25', '7.71', '9.03', '8', '9', '8.96',\n",
              "       '8.32', '9.11', '8.48', '9.13', '9.42', '7.94', '8.3', '7.98',\n",
              "       '8.01', '8.86', '8.67', '8.28', '9.01', '5.74', '8.33', '8.27',\n",
              "       '7.06', '7.98', '8.74', '8.44', '7.87', '9.11', '8.36', '9.23',\n",
              "       '7.83', '8.11', '8.37', '8.8', '9', '8.03', '8.45', '7.12', '9.14',\n",
              "       '7.61', '8.66', '5.29', '9.12', '9.02', '8.27', '9.25', '8.82',\n",
              "       '8.75', '9.02', '9.23', '8,38', '6.75', '8.01', '8.26', '6.75',\n",
              "       '8.35', '8.29', '7.88', '7.76', '8.62', '8.72', '8.32', '7.99',\n",
              "       '8.87', '7.51', '8.08', '8.79', '6.58', '8.61', '8.66', '8.23',\n",
              "       '8.04', '8.78', '8.71', '7.52', '8.36', '6.84', '9.08', '8.36',\n",
              "       '7.59', '8.42', '8.84', '7.75', '9.24', '7.95', '8.12', '6.94',\n",
              "       '7.48', '8.28'], dtype=object)"
            ]
          },
          "metadata": {},
          "execution_count": 7
        }
      ]
    },
    {
      "cell_type": "markdown",
      "source": [
        "* 쉽표로 잘못 입력된 값을 소수점으로 바꾼 후\n",
        "* float 타입으로 바꾼다. "
      ],
      "metadata": {
        "id": "xIMs4927F2-P"
      }
    },
    {
      "cell_type": "code",
      "source": [
        "df['네티즌'] = df['네티즌'].str.replace(r',','.').astype(float)\n",
        "#df['네티즌'] = df['네티즌'].str.replace(r'(,)','.').astype(float)"
      ],
      "metadata": {
        "colab": {
          "base_uri": "https://localhost:8080/"
        },
        "id": "Qn-U6-RGb2Wm",
        "outputId": "db086cec-7752-4b84-c883-ad46c3d8e796"
      },
      "execution_count": null,
      "outputs": [
        {
          "output_type": "stream",
          "name": "stderr",
          "text": [
            "/usr/local/lib/python3.7/dist-packages/ipykernel_launcher.py:1: FutureWarning: The default value of regex will change from True to False in a future version.\n",
            "  \"\"\"Entry point for launching an IPython kernel.\n"
          ]
        }
      ]
    },
    {
      "cell_type": "code",
      "source": [
        "df['네티즌'].values"
      ],
      "metadata": {
        "colab": {
          "base_uri": "https://localhost:8080/"
        },
        "id": "QR-unWbvcdbe",
        "outputId": "7065137a-6b2a-4c41-deee-0b2a489e09bf"
      },
      "execution_count": null,
      "outputs": [
        {
          "output_type": "execute_result",
          "data": {
            "text/plain": [
              "array([8.44, 8.5 , 7.83, 9.02, 9.38, 8.7 , 9.01, 7.64, 8.83, 9.38, 8.98,\n",
              "       9.25, 7.71, 9.03, 8.  , 9.  , 8.96, 8.32, 9.11, 8.48, 9.13, 9.42,\n",
              "       7.94, 8.3 , 7.98, 8.01, 8.86, 8.67, 8.28, 9.01, 5.74, 8.33, 8.27,\n",
              "       7.06, 7.98, 8.74, 8.44, 7.87, 9.11, 8.36, 9.23, 7.83, 8.11, 8.37,\n",
              "       8.8 , 9.  , 8.03, 8.45, 7.12, 9.14, 7.61, 8.66, 5.29, 9.12, 9.02,\n",
              "       8.27, 9.25, 8.82, 8.75, 9.02, 9.23, 8.38, 6.75, 8.01, 8.26, 6.75,\n",
              "       8.35, 8.29, 7.88, 7.76, 8.62, 8.72, 8.32, 7.99, 8.87, 7.51, 8.08,\n",
              "       8.79, 6.58, 8.61, 8.66, 8.23, 8.04, 8.78, 8.71, 7.52, 8.36, 6.84,\n",
              "       9.08, 8.36, 7.59, 8.42, 8.84, 7.75, 9.24, 7.95, 8.12, 6.94, 7.48,\n",
              "       8.28])"
            ]
          },
          "metadata": {},
          "execution_count": 9
        }
      ]
    },
    {
      "cell_type": "markdown",
      "source": [
        "* 관람객 평점에는 \"등록 전\"이라고 표시된 부분이 있다.\n",
        "* \"NaN\"으로 바꾸면 float 타입으로 변환할 수 있다."
      ],
      "metadata": {
        "id": "sWBcYKAgGa5F"
      }
    },
    {
      "cell_type": "code",
      "source": [
        "df['관람객'].values"
      ],
      "metadata": {
        "colab": {
          "base_uri": "https://localhost:8080/"
        },
        "id": "A_yquQv2cgKl",
        "outputId": "9707db24-8e6a-40e7-e81c-06297125b787"
      },
      "execution_count": null,
      "outputs": [
        {
          "output_type": "execute_result",
          "data": {
            "text/plain": [
              "array(['8.88', '9.2', '8.73', '9.16', '9.49', '8.95', '9.24', '8', '등록 전',\n",
              "       '9.42', '9.1', '등록 전', '8.63', '9.28', '8.6', '9.29', '9.08',\n",
              "       '8.59', '9.12', '9.07', '9.2', '9.45', '8.56', '8.99', '등록 전',\n",
              "       '등록 전', '등록 전', '8.82', '8.51', '9.09', '7.47', '8.99', '8.83',\n",
              "       '등록 전', '8.67', '등록 전', '8.57', '등록 전', '등록 전', '8.83', '9.31',\n",
              "       '등록 전', '8.65', '8.63', '8.25', '9.06', '8.55', '8.76', '등록 전',\n",
              "       '9.28', '8.22', '등록 전', '7.35', '9.15', '9.56', '8.49', '등록 전',\n",
              "       '9.02', '8.81', '9.14', '9.6', '9.2', '8.45', '8.55', '9.03',\n",
              "       '등록 전', '8.72', '등록 전', '8.26', '등록 전', '8.85', '8.88', '8.55',\n",
              "       '8.63', '등록 전', '8.33', '8.39', '등록 전', '7.44', '9.08', '8.97',\n",
              "       '9', '등록 전', '8.99', '등록 전', '8.41', '8.77', '7.86', '9.05', '8.6',\n",
              "       '등록 전', '8.72', '9.03', '등록 전', '9.16', '9.07', '등록 전', '7.34',\n",
              "       '8.46', '8.65'], dtype=object)"
            ]
          },
          "metadata": {},
          "execution_count": 10
        }
      ]
    },
    {
      "cell_type": "code",
      "source": [
        "df['관람객'] = df['관람객'].str.replace(r'(등록 전)','NaN').astype(float)"
      ],
      "metadata": {
        "colab": {
          "base_uri": "https://localhost:8080/"
        },
        "id": "lzFDMYJyc0Pd",
        "outputId": "0a374c2b-4294-403f-f9ac-8730bf9861d1"
      },
      "execution_count": null,
      "outputs": [
        {
          "output_type": "stream",
          "name": "stderr",
          "text": [
            "/usr/local/lib/python3.7/dist-packages/ipykernel_launcher.py:1: FutureWarning: The default value of regex will change from True to False in a future version.\n",
            "  \"\"\"Entry point for launching an IPython kernel.\n"
          ]
        }
      ]
    },
    {
      "cell_type": "code",
      "source": [
        "df['관람객'].values"
      ],
      "metadata": {
        "colab": {
          "base_uri": "https://localhost:8080/"
        },
        "id": "t90W6inXdQU6",
        "outputId": "2e2f08c2-d253-4b21-f14e-081b828fc0b8"
      },
      "execution_count": null,
      "outputs": [
        {
          "output_type": "execute_result",
          "data": {
            "text/plain": [
              "array([8.88, 9.2 , 8.73, 9.16, 9.49, 8.95, 9.24, 8.  ,  nan, 9.42, 9.1 ,\n",
              "        nan, 8.63, 9.28, 8.6 , 9.29, 9.08, 8.59, 9.12, 9.07, 9.2 , 9.45,\n",
              "       8.56, 8.99,  nan,  nan,  nan, 8.82, 8.51, 9.09, 7.47, 8.99, 8.83,\n",
              "        nan, 8.67,  nan, 8.57,  nan,  nan, 8.83, 9.31,  nan, 8.65, 8.63,\n",
              "       8.25, 9.06, 8.55, 8.76,  nan, 9.28, 8.22,  nan, 7.35, 9.15, 9.56,\n",
              "       8.49,  nan, 9.02, 8.81, 9.14, 9.6 , 9.2 , 8.45, 8.55, 9.03,  nan,\n",
              "       8.72,  nan, 8.26,  nan, 8.85, 8.88, 8.55, 8.63,  nan, 8.33, 8.39,\n",
              "        nan, 7.44, 9.08, 8.97, 9.  ,  nan, 8.99,  nan, 8.41, 8.77, 7.86,\n",
              "       9.05, 8.6 ,  nan, 8.72, 9.03,  nan, 9.16, 9.07,  nan, 7.34, 8.46,\n",
              "       8.65])"
            ]
          },
          "metadata": {},
          "execution_count": 12
        }
      ]
    },
    {
      "cell_type": "markdown",
      "source": [
        "* 대표국적은 한국이거나 미국이다.\n",
        "* 한국을 1, 미국을 0로 하는 열 \"대표국적_한국\"을 새로 만든다."
      ],
      "metadata": {
        "id": "YlRCjK5gGx86"
      }
    },
    {
      "cell_type": "code",
      "source": [
        "df['대표국적'].values"
      ],
      "metadata": {
        "colab": {
          "base_uri": "https://localhost:8080/"
        },
        "id": "6Y6dXVyAdSdm",
        "outputId": "81718ba4-ca02-4a1a-dced-5e8b8a68c35c"
      },
      "execution_count": null,
      "outputs": [
        {
          "output_type": "execute_result",
          "data": {
            "text/plain": [
              "array(['한국', '한국', '한국', '한국', '미국', '미국', '한국', '한국', '한국', '미국', '한국',\n",
              "       '한국', '한국', '한국', '한국', '한국', '미국', '미국', '미국', '한국', '미국', '미국',\n",
              "       '한국', '한국', '한국', '한국', '미국', '미국', '한국', '한국', '한국', '미국', '한국',\n",
              "       '미국', '한국', '미국', '한국', '한국', '한국', '미국', '한국', '한국', '한국', '한국',\n",
              "       '미국', '한국', '한국', '한국', '한국', '한국', '한국', '한국', '한국', '미국', '미국',\n",
              "       '한국', '한국', '미국', '미국', '한국', '미국', '미국', '미국', '미국', '한국', '한국',\n",
              "       '한국', '한국', '미국', '한국', '미국', '미국', '한국', '한국', '한국', '미국', '한국',\n",
              "       '한국', '미국', '한국', '미국', '미국', '한국', '미국', '미국', '한국', '미국', '한국',\n",
              "       '미국', '미국', '한국', '미국', '미국', '미국', '한국', '한국', '한국', '한국', '한국',\n",
              "       '미국'], dtype=object)"
            ]
          },
          "metadata": {},
          "execution_count": 13
        }
      ]
    },
    {
      "cell_type": "code",
      "source": [
        "df['대표국적'].unique()"
      ],
      "metadata": {
        "colab": {
          "base_uri": "https://localhost:8080/"
        },
        "id": "iV083ojDeGtQ",
        "outputId": "73ccd13a-65a6-40db-bd03-d009c2e1df14"
      },
      "execution_count": null,
      "outputs": [
        {
          "output_type": "execute_result",
          "data": {
            "text/plain": [
              "array(['한국', '미국'], dtype=object)"
            ]
          },
          "metadata": {},
          "execution_count": 14
        }
      ]
    },
    {
      "cell_type": "code",
      "source": [
        "df['대표국적_한국'] = (df['대표국적'] == '한국') * 1"
      ],
      "metadata": {
        "id": "9aI1dIIReS60"
      },
      "execution_count": null,
      "outputs": []
    },
    {
      "cell_type": "code",
      "source": [
        "df['대표국적_한국'].values"
      ],
      "metadata": {
        "colab": {
          "base_uri": "https://localhost:8080/"
        },
        "id": "NZ5phDmCeeXt",
        "outputId": "0730f75d-950b-4e89-adcb-61143d30b00a"
      },
      "execution_count": null,
      "outputs": [
        {
          "output_type": "execute_result",
          "data": {
            "text/plain": [
              "array([1, 1, 1, 1, 0, 0, 1, 1, 1, 0, 1, 1, 1, 1, 1, 1, 0, 0, 0, 1, 0, 0,\n",
              "       1, 1, 1, 1, 0, 0, 1, 1, 1, 0, 1, 0, 1, 0, 1, 1, 1, 0, 1, 1, 1, 1,\n",
              "       0, 1, 1, 1, 1, 1, 1, 1, 1, 0, 0, 1, 1, 0, 0, 1, 0, 0, 0, 0, 1, 1,\n",
              "       1, 1, 0, 1, 0, 0, 1, 1, 1, 0, 1, 1, 0, 1, 0, 0, 1, 0, 0, 1, 0, 1,\n",
              "       0, 0, 1, 0, 0, 0, 1, 1, 1, 1, 1, 0])"
            ]
          },
          "metadata": {},
          "execution_count": 16
        }
      ]
    },
    {
      "cell_type": "markdown",
      "source": [
        "* \"데이터매쓰 영화 데이터 + 선호도.xlsx\"을 읽어온다."
      ],
      "metadata": {
        "id": "Izmx3ARlHV9D"
      }
    },
    {
      "cell_type": "code",
      "source": [
        "df2 = pd.read_excel('https://github.com/SJinLee/moviedj/raw/main/%EB%8D%B0%EC%9D%B4%ED%84%B0%EB%A7%A4%EC%93%B0%20%EC%98%81%ED%99%94%20%EB%8D%B0%EC%9D%B4%ED%84%B0%20%2B%20%EC%84%A0%ED%98%B8%EB%8F%84.xlsx',\n",
        "                    skiprows=4)"
      ],
      "metadata": {
        "id": "rnWoQVRCer77"
      },
      "execution_count": null,
      "outputs": []
    },
    {
      "cell_type": "code",
      "source": [
        "df2.columns"
      ],
      "metadata": {
        "colab": {
          "base_uri": "https://localhost:8080/"
        },
        "id": "n8y7RGq3fV37",
        "outputId": "2773f0c7-2e91-4f43-8d09-0a0fae7e21f0"
      },
      "execution_count": null,
      "outputs": [
        {
          "output_type": "execute_result",
          "data": {
            "text/plain": [
              "Index([        '순위',        '영화명',        '개봉일',        '매출액',        '관객수',\n",
              "             '스크린수',       '상영횟수',       '대표국적',         '국적', 'Unnamed: 9',\n",
              "               '장르',         '수빈',         '승준',         '선주',         '지후',\n",
              "              '관람객',        '평론가',        '네티즌',         '남자',         '여자',\n",
              "              '10대',        '20대',        '30대',        '40대',     '50대 이상',\n",
              "              'OST',        '영상미',        '스토리',         '연기',         '연출',\n",
              "             '남자.1',       '여자.1',      '10대.1',      '20대.1',      '30대.1',\n",
              "            '40대.1',   '50대 이상.1',      'OST.1',      '영상미.1',      '스토리.1',\n",
              "             '연기.1',       '연출.1',        '남자 ',       '여자.2',      '10대.2',\n",
              "            '20대.2',      '30대.2',      '40대.2',   '50대 이상.2',            1,\n",
              "                  2,            3,            4,            5,            6,\n",
              "                  7,            8,            9,           10,           11,\n",
              "                 12,           13,           14,           15,           16,\n",
              "                 17,           18,           19,           20,           21,\n",
              "                 22,           23,           24,           25,           26,\n",
              "                 27,           28,           29,           30,           31,\n",
              "                 32,           33,           34,           35,           36,\n",
              "                 37,           38,           39,           40,           41,\n",
              "                 42,           43,           44,           45,           46,\n",
              "                 47,           48,           49,           50],\n",
              "      dtype='object')"
            ]
          },
          "metadata": {},
          "execution_count": 18
        }
      ]
    },
    {
      "cell_type": "markdown",
      "source": [
        "* \"수빈\", \"승준\", \"선주\", \"지후\" 열에는 영화에 대한 선호도가 1~3의 값으로 저장되어있다."
      ],
      "metadata": {
        "id": "4rRrqke4H4fz"
      }
    },
    {
      "cell_type": "code",
      "source": [
        "df = pd.concat([df,df2[['수빈','승준','선주','지후']]],axis=1)"
      ],
      "metadata": {
        "id": "0oPTBTNNh5Q_"
      },
      "execution_count": null,
      "outputs": []
    },
    {
      "cell_type": "code",
      "source": [
        "df.columns"
      ],
      "metadata": {
        "colab": {
          "base_uri": "https://localhost:8080/"
        },
        "id": "UXOnfd4FinFr",
        "outputId": "cc7f3a87-642a-4e69-b5bc-3f93b61fbb3c"
      },
      "execution_count": null,
      "outputs": [
        {
          "output_type": "execute_result",
          "data": {
            "text/plain": [
              "Index(['순위', '영화명', '개봉일', '매출액', '관객수', '스크린수', '상영횟수', '대표국적', '국적', '배급사',\n",
              "       '장르', '관람객', '평론가', '네티즌', '남자', '여자', '10대', '20대', '30대', '40대',\n",
              "       '50대 이상', 'OST', '영상미', '스토리', '연기', '연출', '남자.1', '여자.1', '10대.1',\n",
              "       '20대.1', '30대.1', '40대.1', '50대 이상.1', 'OST.1', '영상미.1', '스토리.1',\n",
              "       '연기.1', '연출.1', '남자.2', '여자.2', '10대.2', '20대.2', '30대.2', '40대.2',\n",
              "       '50대 이상.2', '1', '2', '3', '4', '5', '6', '7', '8', '9', '10', '11',\n",
              "       '12', '13', '14', '15', '16', '17', '18', '19', '20', '21', '22', '23',\n",
              "       '24', '25', '26', '27', '28', '29', '30', '대표국적_한국', '수빈', '승준', '선주',\n",
              "       '지후'],\n",
              "      dtype='object')"
            ]
          },
          "metadata": {},
          "execution_count": 20
        }
      ]
    },
    {
      "cell_type": "code",
      "source": [
        "df['수빈'].values"
      ],
      "metadata": {
        "colab": {
          "base_uri": "https://localhost:8080/"
        },
        "id": "4Hv0m2tZioZN",
        "outputId": "57bb5c44-20d7-4805-b538-8032ba0d7de6"
      },
      "execution_count": null,
      "outputs": [
        {
          "output_type": "execute_result",
          "data": {
            "text/plain": [
              "array([2, 3, 3, 3, 3, 3, 3, 2, 3, 3, 1, 2, 3, 2, 3, 2, 3, 3, 3, 3, 3, 2,\n",
              "       2, 2, 3, 2, 3, 3, 1, 1, 2, 3, 2, 3, 2, 2, 1, 1, 2, 3, 2, 2, 1, 1,\n",
              "       3, 1, 2, 2, 3, 2, 1, 3, 1, 3, 3, 2, 2, 3, 2, 1, 2, 1, 2, 2, 1, 3,\n",
              "       1, 1, 2, 1, 2, 3, 2, 1, 1, 2, 1, 2, 3, 2, 3, 2, 1, 3, 2, 1, 2, 2,\n",
              "       3, 3, 2, 1, 2, 3, 2, 1, 2, 1, 1, 3])"
            ]
          },
          "metadata": {},
          "execution_count": 21
        }
      ]
    },
    {
      "cell_type": "code",
      "source": [
        "df['선주'].value_counts()"
      ],
      "metadata": {
        "colab": {
          "base_uri": "https://localhost:8080/"
        },
        "id": "b6PYRyTNjN2Y",
        "outputId": "34eba6ed-d568-4228-9397-b5162642975d"
      },
      "execution_count": null,
      "outputs": [
        {
          "output_type": "execute_result",
          "data": {
            "text/plain": [
              "1    42\n",
              "2    30\n",
              "3    28\n",
              "Name: 선주, dtype: int64"
            ]
          },
          "metadata": {},
          "execution_count": 22
        }
      ]
    },
    {
      "cell_type": "code",
      "source": [
        "df['지후'].value_counts()"
      ],
      "metadata": {
        "colab": {
          "base_uri": "https://localhost:8080/"
        },
        "id": "NwGL8tsAjb_G",
        "outputId": "37f57adf-6dfb-453d-eebe-c8bb28f6c9fa"
      },
      "execution_count": null,
      "outputs": [
        {
          "output_type": "execute_result",
          "data": {
            "text/plain": [
              "3    52\n",
              "2    32\n",
              "1    16\n",
              "Name: 지후, dtype: int64"
            ]
          },
          "metadata": {},
          "execution_count": 23
        }
      ]
    },
    {
      "cell_type": "code",
      "source": [
        "df['수빈'].value_counts()"
      ],
      "metadata": {
        "colab": {
          "base_uri": "https://localhost:8080/"
        },
        "id": "LrUPzgrijBc8",
        "outputId": "8c1295ec-fddb-4504-8900-3328e3d469ad"
      },
      "execution_count": null,
      "outputs": [
        {
          "output_type": "execute_result",
          "data": {
            "text/plain": [
              "2    39\n",
              "3    36\n",
              "1    25\n",
              "Name: 수빈, dtype: int64"
            ]
          },
          "metadata": {},
          "execution_count": 24
        }
      ]
    },
    {
      "cell_type": "code",
      "source": [
        "df['승준'].value_counts()"
      ],
      "metadata": {
        "colab": {
          "base_uri": "https://localhost:8080/"
        },
        "id": "2X7tR7jKjoo7",
        "outputId": "aef134dd-37a6-4b3d-cea9-23eb987eb3a0"
      },
      "execution_count": null,
      "outputs": [
        {
          "output_type": "execute_result",
          "data": {
            "text/plain": [
              "3    36\n",
              "1    35\n",
              "2    29\n",
              "Name: 승준, dtype: int64"
            ]
          },
          "metadata": {},
          "execution_count": 25
        }
      ]
    },
    {
      "cell_type": "markdown",
      "source": [
        "* '매출액', '관객수', '스크린수', '상영횟수', '평론가', '네티즌','대표국적_한국' 열을 df_b에 저장한다."
      ],
      "metadata": {
        "id": "E85C4evTIfi-"
      }
    },
    {
      "cell_type": "code",
      "source": [
        "df_b = df[['매출액', '관객수', '스크린수', '상영횟수', '평론가', '네티즌','대표국적_한국']].copy()\n",
        "df_b.shape"
      ],
      "metadata": {
        "colab": {
          "base_uri": "https://localhost:8080/"
        },
        "id": "F0yFS5hojvHQ",
        "outputId": "ee010339-7dd5-46d1-c593-c1737ccb3c9b"
      },
      "execution_count": null,
      "outputs": [
        {
          "output_type": "execute_result",
          "data": {
            "text/plain": [
              "(100, 7)"
            ]
          },
          "metadata": {},
          "execution_count": 26
        }
      ]
    },
    {
      "cell_type": "markdown",
      "source": [
        "* 나눔 글꼴 설치"
      ],
      "metadata": {
        "id": "xzFu0hGmIrq2"
      }
    },
    {
      "cell_type": "code",
      "source": [
        "!apt install fonts-nanum"
      ],
      "metadata": {
        "colab": {
          "base_uri": "https://localhost:8080/"
        },
        "id": "XDlO-mEJwIBC",
        "outputId": "51bdf03f-e2fe-4412-be6d-60ad6d9d16d6"
      },
      "execution_count": null,
      "outputs": [
        {
          "output_type": "stream",
          "name": "stdout",
          "text": [
            "Reading package lists... Done\n",
            "Building dependency tree       \n",
            "Reading state information... Done\n",
            "fonts-nanum is already the newest version (20170925-1).\n",
            "The following package was automatically installed and is no longer required:\n",
            "  libnvidia-common-460\n",
            "Use 'apt autoremove' to remove it.\n",
            "0 upgraded, 0 newly installed, 0 to remove and 49 not upgraded.\n"
          ]
        }
      ]
    },
    {
      "cell_type": "code",
      "source": [
        "import matplotlib\n",
        "import matplotlib.pyplot as plt\n",
        "import matplotlib.font_manager as fm\n",
        "fm._rebuild()"
      ],
      "metadata": {
        "id": "9fwTsefNwUO7"
      },
      "execution_count": null,
      "outputs": []
    },
    {
      "cell_type": "code",
      "source": [
        "plt.rcParams[\"font.family\"] = 'NanumGothic'\n",
        "# plt.rcParams[\"font.size\"] = 20\n",
        "# plt.rcParams[\"figure.figsize\"] = (14,4)\n",
        "plt.rcParams['font.size']=10\n",
        "plt.rcParams['xtick.labelsize'] = 'larger' #medium, large\n",
        "plt.rcParams['axes.titlesize'] = 'larger'"
      ],
      "metadata": {
        "id": "aKGEPtJ7wUH2"
      },
      "execution_count": null,
      "outputs": []
    },
    {
      "cell_type": "markdown",
      "source": [
        "# 런타임 다시 시작\n",
        "\n",
        "* 여기서 \"런타임\" 메뉴의 \"런타임 다시 시작\"을 하여 colab 을 초기화한다.\n",
        "* 이어서 \"이전 셀 실행\"을 한다.\n"
      ],
      "metadata": {
        "id": "0Hfp-4uewUBK"
      }
    },
    {
      "cell_type": "markdown",
      "source": [
        "* 산점도(scatter plot) 그려보자.\n",
        "* 매출액과 관객수는 상관관계가 높다. 선형관계가 있다. 매출액을 알면 관객수를 비교적 정확하게 예측할 수 있다."
      ],
      "metadata": {
        "id": "TCzK9P9uJWlS"
      }
    },
    {
      "cell_type": "code",
      "source": [
        "df_b.plot.scatter('매출액','관객수')"
      ],
      "metadata": {
        "colab": {
          "base_uri": "https://localhost:8080/",
          "height": 309
        },
        "id": "7JBghvxKuHCq",
        "outputId": "dffe2446-da07-440d-ff9a-0ca85b8e2c02"
      },
      "execution_count": null,
      "outputs": [
        {
          "output_type": "execute_result",
          "data": {
            "text/plain": [
              "<matplotlib.axes._subplots.AxesSubplot at 0x7efd24ec9450>"
            ]
          },
          "metadata": {},
          "execution_count": 30
        },
        {
          "output_type": "display_data",
          "data": {
            "text/plain": [
              "<Figure size 432x288 with 1 Axes>"
            ],
            "image/png": "[encoded data removed]"
          },
          "metadata": {
            "needs_background": "light"
          }
        }
      ]
    },
    {
      "cell_type": "markdown",
      "source": [
        "* 매출액과 스크린 수의 상관관계는 높지 않다."
      ],
      "metadata": {
        "id": "SC5Pl5uDKbUd"
      }
    },
    {
      "cell_type": "code",
      "source": [
        "df_b.plot.scatter('매출액','스크린수')"
      ],
      "metadata": {
        "colab": {
          "base_uri": "https://localhost:8080/",
          "height": 299
        },
        "id": "myQh68msvnx2",
        "outputId": "c62e7628-77f1-4939-ffcf-c3529666c906"
      },
      "execution_count": null,
      "outputs": [
        {
          "output_type": "execute_result",
          "data": {
            "text/plain": [
              "<matplotlib.axes._subplots.AxesSubplot at 0x7efd22f5c2d0>"
            ]
          },
          "metadata": {},
          "execution_count": 31
        },
        {
          "output_type": "display_data",
          "data": {
            "text/plain": [
              "<Figure size 432x288 with 1 Axes>"
            ],
            "image/png": "[encoded data removed]"
          },
          "metadata": {
            "needs_background": "light"
          }
        }
      ]
    },
    {
      "cell_type": "code",
      "source": [
        "df_b.plot.scatter('매출액','상영횟수')"
      ],
      "metadata": {
        "colab": {
          "base_uri": "https://localhost:8080/",
          "height": 299
        },
        "id": "V26fdYO7xh6u",
        "outputId": "55933fa7-368d-40e5-c5ef-3eacb0472a38"
      },
      "execution_count": null,
      "outputs": [
        {
          "output_type": "execute_result",
          "data": {
            "text/plain": [
              "<matplotlib.axes._subplots.AxesSubplot at 0x7efd23f075d0>"
            ]
          },
          "metadata": {},
          "execution_count": 32
        },
        {
          "output_type": "display_data",
          "data": {
            "text/plain": [
              "<Figure size 432x288 with 1 Axes>"
            ],
            "image/png": "[encoded data removed]"
          },
          "metadata": {
            "needs_background": "light"
          }
        }
      ]
    },
    {
      "cell_type": "markdown",
      "source": [
        "* 매출액과 평론가의 평점은 상관관계가 없다."
      ],
      "metadata": {
        "id": "LpX-NaG2Klb5"
      }
    },
    {
      "cell_type": "code",
      "source": [
        "df_b.plot.scatter('매출액','평론가')"
      ],
      "metadata": {
        "colab": {
          "base_uri": "https://localhost:8080/",
          "height": 299
        },
        "id": "Bmab1Zcvx0Zp",
        "outputId": "cec33b51-f555-453a-9d09-c5a29cc823a8"
      },
      "execution_count": null,
      "outputs": [
        {
          "output_type": "execute_result",
          "data": {
            "text/plain": [
              "<matplotlib.axes._subplots.AxesSubplot at 0x7efd22a7ab90>"
            ]
          },
          "metadata": {},
          "execution_count": 33
        },
        {
          "output_type": "display_data",
          "data": {
            "text/plain": [
              "<Figure size 432x288 with 1 Axes>"
            ],
            "image/png": "[encoded data removed]"
          },
          "metadata": {
            "needs_background": "light"
          }
        }
      ]
    },
    {
      "cell_type": "code",
      "source": [
        "df_b.plot.scatter('매출액','네티즌')"
      ],
      "metadata": {
        "colab": {
          "base_uri": "https://localhost:8080/",
          "height": 298
        },
        "id": "1yBmmGtlyFGS",
        "outputId": "bbba447c-2e11-440e-e7dc-bfd59fb21f38"
      },
      "execution_count": null,
      "outputs": [
        {
          "output_type": "execute_result",
          "data": {
            "text/plain": [
              "<matplotlib.axes._subplots.AxesSubplot at 0x7f0a79afc1d0>"
            ]
          },
          "metadata": {},
          "execution_count": 33
        },
        {
          "output_type": "display_data",
          "data": {
            "text/plain": [
              "<Figure size 432x288 with 1 Axes>"
            ],
            "image/png": "[encoded data removed]"
          },
          "metadata": {
            "needs_background": "light"
          }
        }
      ]
    },
    {
      "cell_type": "code",
      "source": [
        "df_b.plot.scatter('매출액','대표국적_한국')"
      ],
      "metadata": {
        "colab": {
          "base_uri": "https://localhost:8080/",
          "height": 298
        },
        "id": "r7XTxUHxyQIM",
        "outputId": "5f16dbba-9f6e-4a09-c4f3-8cb2fe30eba0"
      },
      "execution_count": null,
      "outputs": [
        {
          "output_type": "execute_result",
          "data": {
            "text/plain": [
              "<matplotlib.axes._subplots.AxesSubplot at 0x7f0a79aba310>"
            ]
          },
          "metadata": {},
          "execution_count": 34
        },
        {
          "output_type": "display_data",
          "data": {
            "text/plain": [
              "<Figure size 432x288 with 1 Axes>"
            ],
            "image/png": "[encoded data removed]"
          },
          "metadata": {
            "needs_background": "light"
          }
        }
      ]
    },
    {
      "cell_type": "code",
      "source": [
        "df_b.plot.scatter('평론가','네티즌')"
      ],
      "metadata": {
        "colab": {
          "base_uri": "https://localhost:8080/",
          "height": 298
        },
        "id": "SKyaGWy4yTzy",
        "outputId": "b25c8920-1961-4721-fefb-64414b894ceb"
      },
      "execution_count": null,
      "outputs": [
        {
          "output_type": "execute_result",
          "data": {
            "text/plain": [
              "<matplotlib.axes._subplots.AxesSubplot at 0x7f0a79a4db10>"
            ]
          },
          "metadata": {},
          "execution_count": 35
        },
        {
          "output_type": "display_data",
          "data": {
            "text/plain": [
              "<Figure size 432x288 with 1 Axes>"
            ],
            "image/png": "[encoded data removed]"
          },
          "metadata": {
            "needs_background": "light"
          }
        }
      ]
    },
    {
      "cell_type": "code",
      "source": [
        "df_b.plot.scatter('스크린수','네티즌')"
      ],
      "metadata": {
        "colab": {
          "base_uri": "https://localhost:8080/",
          "height": 297
        },
        "id": "hR3UqY-9ykq3",
        "outputId": "54cf859b-475a-4892-a0ad-fa347b697be0"
      },
      "execution_count": null,
      "outputs": [
        {
          "output_type": "execute_result",
          "data": {
            "text/plain": [
              "<matplotlib.axes._subplots.AxesSubplot at 0x7f0a799a9e10>"
            ]
          },
          "metadata": {},
          "execution_count": 36
        },
        {
          "output_type": "display_data",
          "data": {
            "text/plain": [
              "<Figure size 432x288 with 1 Axes>"
            ],
            "image/png": "[encoded data removed]"
          },
          "metadata": {
            "needs_background": "light"
          }
        }
      ]
    },
    {
      "cell_type": "markdown",
      "source": [
        "# Scaling\n",
        "\n",
        "* 각 열의 값이 0~1범위 안에 들어오도록 크기를 조절한다.\n"
      ],
      "metadata": {
        "id": "NCNrB0rVK1GB"
      }
    },
    {
      "cell_type": "code",
      "source": [
        "from sklearn.preprocessing import MinMaxScaler\n",
        "mms = MinMaxScaler()\n",
        "X = mms.fit_transform(df_b)"
      ],
      "metadata": {
        "id": "RcO6XLeayty_"
      },
      "execution_count": null,
      "outputs": []
    },
    {
      "cell_type": "code",
      "source": [
        "X"
      ],
      "metadata": {
        "colab": {
          "base_uri": "https://localhost:8080/"
        },
        "id": "ERNiOqH2zoGi",
        "outputId": "48746f82-0229-46cc-bebd-72548c228eaa"
      },
      "execution_count": null,
      "outputs": [
        {
          "output_type": "execute_result",
          "data": {
            "text/plain": [
              "array([[9.62889431e-01, 1.00000000e+00, 4.65295630e-01, 5.23369600e-01,\n",
              "        5.09734513e-01, 7.62711864e-01, 1.00000000e+00],\n",
              "       [1.00000000e+00, 8.95175030e-01, 6.43530420e-01, 9.71914252e-01,\n",
              "        6.00000000e-01, 7.77239709e-01, 1.00000000e+00],\n",
              "       [7.72202705e-01, 7.51326075e-01, 6.04541560e-01, 6.35018852e-01,\n",
              "        4.44247788e-01, 6.15012107e-01, 1.00000000e+00],\n",
              "       [7.26668786e-01, 7.39620557e-01, 2.32647815e-01, 6.26681030e-01,\n",
              "        4.24778761e-01, 9.03147700e-01, 1.00000000e+00],\n",
              "       [8.36602933e-01, 7.17373097e-01, 1.00000000e+00, 7.72052138e-01,\n",
              "        7.45132743e-01, 9.90314770e-01, 0.00000000e+00],\n",
              "       [7.63471751e-01, 6.99520159e-01, 9.19880034e-01, 1.00000000e+00,\n",
              "        5.91150442e-01, 8.25665860e-01, 0.00000000e+00],\n",
              "       [6.71702047e-01, 6.73626912e-01, 2.63067695e-01, 5.68988474e-01,\n",
              "        7.23893805e-01, 9.00726392e-01, 1.00000000e+00],\n",
              "       [5.62236430e-01, 6.40238942e-01, 2.52784919e-01, 3.80170204e-01,\n",
              "        6.44247788e-01, 5.69007264e-01, 1.00000000e+00],\n",
              "       [5.40957755e-01, 6.26833741e-01, 1.56383890e-01, 4.29835183e-01,\n",
              "        5.61061947e-01, 8.57142857e-01, 1.00000000e+00],\n",
              "       [7.00164246e-01, 6.19968893e-01, 3.89031705e-01, 9.26260907e-01,\n",
              "        4.58407080e-01, 9.90314770e-01, 0.00000000e+00],\n",
              "       [6.07895136e-01, 6.18652277e-01, 4.36161097e-01, 4.65172897e-01,\n",
              "        5.59292035e-01, 8.93462470e-01, 1.00000000e+00],\n",
              "       [5.16928196e-01, 5.88916775e-01, 2.14224507e-01, 5.86900786e-01,\n",
              "        6.83185841e-01, 9.58837772e-01, 1.00000000e+00],\n",
              "       [6.48064021e-01, 5.85322960e-01, 7.42930591e-01, 4.88915221e-01,\n",
              "        5.13274336e-01, 5.85956416e-01, 1.00000000e+00],\n",
              "       [5.83171681e-01, 5.78478621e-01, 6.01970865e-01, 5.03910374e-01,\n",
              "        4.74336283e-01, 9.05569007e-01, 1.00000000e+00],\n",
              "       [5.57618224e-01, 5.30155353e-01, 5.51413882e-01, 3.63119681e-01,\n",
              "        6.53097345e-01, 6.56174334e-01, 1.00000000e+00],\n",
              "       [4.59440693e-01, 5.15197837e-01, 1.81662382e-01, 3.66368631e-01,\n",
              "        7.11504425e-01, 8.98305085e-01, 1.00000000e+00],\n",
              "       [6.23250145e-01, 5.04170593e-01, 8.79177378e-01, 7.60176667e-01,\n",
              "        6.51327434e-01, 8.88619855e-01, 0.00000000e+00],\n",
              "       [5.14328547e-01, 4.47524628e-01, 5.74978578e-01, 5.47633308e-01,\n",
              "        6.21238938e-01, 7.33656174e-01, 0.00000000e+00],\n",
              "       [4.59083305e-01, 4.33714684e-01, 3.89460154e-01, 4.43533341e-01,\n",
              "        7.94690265e-01, 9.24939467e-01, 0.00000000e+00],\n",
              "       [5.03098731e-01, 4.32698789e-01, 6.19965724e-01, 5.99543251e-01,\n",
              "        1.00000000e+00, 7.72397094e-01, 1.00000000e+00],\n",
              "       [4.56075889e-01, 4.31913776e-01, 2.18080548e-01, 3.90300549e-01,\n",
              "        6.92035398e-01, 9.29782082e-01, 0.00000000e+00],\n",
              "       [4.91868342e-01, 4.04360853e-01, 2.90488432e-01, 7.10834859e-01,\n",
              "        4.83185841e-01, 1.00000000e+00, 0.00000000e+00],\n",
              "       [4.06562722e-01, 3.85653761e-01, 5.61696658e-01, 3.71746203e-01,\n",
              "        4.47787611e-01, 6.41646489e-01, 1.00000000e+00],\n",
              "       [4.24789149e-01, 3.63811432e-01, 4.96572408e-01, 5.81605085e-01,\n",
              "        6.76106195e-01, 7.28813559e-01, 1.00000000e+00],\n",
              "       [3.08644761e-01, 3.58169978e-01, 2.68637532e-01, 2.52151244e-01,\n",
              "        7.68141593e-01, 6.51331719e-01, 1.00000000e+00],\n",
              "       [2.98884808e-01, 3.41235051e-01, 3.16623822e-01, 2.49264246e-01,\n",
              "        5.52212389e-01, 6.58595642e-01, 1.00000000e+00],\n",
              "       [3.44575929e-01, 3.30815309e-01, 3.80462725e-01, 4.15111494e-01,\n",
              "        7.29203540e-01, 8.64406780e-01, 0.00000000e+00],\n",
              "       [3.62384556e-01, 3.05679186e-01, 6.38389032e-01, 4.06997738e-01,\n",
              "        7.23893805e-01, 8.18401937e-01, 0.00000000e+00],\n",
              "       [3.02334079e-01, 3.04754027e-01, 1.75235647e-01, 2.84800172e-01,\n",
              "        4.53097345e-01, 7.23970944e-01, 1.00000000e+00],\n",
              "       [2.67573138e-01, 3.04322328e-01, 2.25364182e-01, 3.00545082e-01,\n",
              "        4.33628319e-01, 9.00726392e-01, 1.00000000e+00],\n",
              "       [3.35222869e-01, 2.72646628e-01, 6.29820051e-01, 4.61355165e-01,\n",
              "        4.00000000e-01, 1.08958838e-01, 1.00000000e+00],\n",
              "       [3.27667433e-01, 2.54833076e-01, 7.03084833e-01, 4.90255305e-01,\n",
              "        5.57522124e-01, 7.36077482e-01, 0.00000000e+00],\n",
              "       [2.77688067e-01, 2.38833562e-01, 3.81748072e-01, 3.26325541e-01,\n",
              "        2.81415929e-01, 7.21549637e-01, 1.00000000e+00],\n",
              "       [3.82976686e-01, 2.36311498e-01, 3.89031705e-01, 2.46493590e-01,\n",
              "        3.66371681e-01, 4.28571429e-01, 0.00000000e+00],\n",
              "       [2.43340085e-01, 2.34336107e-01, 2.54498715e-01, 3.25136271e-01,\n",
              "        3.92920354e-01, 6.51331719e-01, 1.00000000e+00],\n",
              "       [2.15990580e-01, 2.14853713e-01, 2.24078835e-01, 2.04726920e-01,\n",
              "        7.68141593e-01, 8.35351090e-01, 0.00000000e+00],\n",
              "       [2.53761907e-01, 2.14191909e-01, 4.04027421e-01, 3.05517613e-01,\n",
              "        7.23893805e-01, 7.62711864e-01, 1.00000000e+00],\n",
              "       [2.01951400e-01, 2.11875012e-01, 4.88431877e-02, 2.70584940e-01,\n",
              "        6.00000000e-01, 6.24697337e-01, 1.00000000e+00],\n",
              "       [1.84916815e-01, 2.03524271e-01, 1.92802057e-02, 3.52881612e-01,\n",
              "        5.84070796e-01, 9.24939467e-01, 1.00000000e+00],\n",
              "       [2.33348263e-01, 1.95409151e-01, 6.27249357e-01, 4.18782721e-01,\n",
              "        6.35398230e-01, 7.43341404e-01, 0.00000000e+00],\n",
              "       [2.24250870e-01, 1.93371768e-01, 3.41902314e-01, 3.05802004e-01,\n",
              "        8.26548673e-01, 9.53995157e-01, 1.00000000e+00],\n",
              "       [1.68921491e-01, 1.88262849e-01, 1.68380463e-01, 1.91752666e-01,\n",
              "        7.92920354e-01, 6.15012107e-01, 1.00000000e+00],\n",
              "       [2.23280016e-01, 1.87011955e-01, 4.28449015e-01, 2.57106539e-01,\n",
              "        4.17699115e-01, 6.82808717e-01, 1.00000000e+00],\n",
              "       [2.18156213e-01, 1.84696456e-01, 2.58783205e-01, 1.98017882e-01,\n",
              "        6.72566372e-01, 7.45762712e-01, 1.00000000e+00],\n",
              "       [2.38194785e-01, 1.82077518e-01, 1.99657241e-01, 1.95053323e-01,\n",
              "        7.68141593e-01, 8.49878935e-01, 0.00000000e+00],\n",
              "       [2.09351685e-01, 1.81029771e-01, 2.69065981e-01, 3.68518798e-01,\n",
              "        5.69911504e-01, 8.98305085e-01, 1.00000000e+00],\n",
              "       [1.95138618e-01, 1.79293963e-01, 2.34790060e-01, 1.28303350e-01,\n",
              "        0.00000000e+00, 6.63438257e-01, 1.00000000e+00],\n",
              "       [2.07829703e-01, 1.73420462e-01, 3.14053128e-01, 3.82341915e-01,\n",
              "        4.01769912e-01, 7.65133172e-01, 1.00000000e+00],\n",
              "       [1.34101836e-01, 1.72134920e-01, 3.59897172e-01, 2.16322310e-01,\n",
              "        2.60176991e-01, 4.43099274e-01, 1.00000000e+00],\n",
              "       [2.06657112e-01, 1.66033723e-01, 3.48757498e-01, 3.53894215e-01,\n",
              "        4.58407080e-01, 9.32203390e-01, 1.00000000e+00],\n",
              "       [2.02298378e-01, 1.65990452e-01, 4.21593830e-01, 2.71778520e-01,\n",
              "        8.44247788e-01, 5.61743341e-01, 1.00000000e+00],\n",
              "       [1.14066521e-01, 1.48534876e-01, 1.51242502e-01, 1.80984595e-01,\n",
              "        5.20353982e-01, 8.15980630e-01, 1.00000000e+00],\n",
              "       [1.51330164e-01, 1.43629571e-01, 6.53813196e-01, 1.78890445e-01,\n",
              "        4.88495575e-01, 0.00000000e+00, 1.00000000e+00],\n",
              "       [2.02527496e-01, 1.43067438e-01, 6.23821765e-01, 1.46999892e-01,\n",
              "        7.34513274e-01, 9.27360775e-01, 0.00000000e+00],\n",
              "       [1.26578338e-01, 1.30921986e-01, 3.03770351e-01, 7.53894215e-02,\n",
              "        7.57522124e-01, 9.03147700e-01, 0.00000000e+00],\n",
              "       [1.35490211e-01, 1.16874169e-01, 3.03770351e-01, 2.45683507e-01,\n",
              "        7.30973451e-01, 7.21549637e-01, 1.00000000e+00],\n",
              "       [1.18899857e-01, 1.11507645e-01, 0.00000000e+00, 1.83699235e-01,\n",
              "        5.02654867e-01, 9.58837772e-01, 1.00000000e+00],\n",
              "       [1.49982541e-01, 1.07702291e-01, 9.72579263e-02, 3.13385759e-01,\n",
              "        7.38053097e-01, 8.54721550e-01, 0.00000000e+00],\n",
              "       [1.32640177e-01, 1.07454241e-01, 3.00342759e-01, 9.66239362e-02,\n",
              "        7.30973451e-01, 8.37772397e-01, 0.00000000e+00],\n",
              "       [1.04288364e-01, 1.01139252e-01, 2.19365895e-01, 2.03516105e-01,\n",
              "        2.70796460e-01, 9.03147700e-01, 1.00000000e+00],\n",
              "       [9.75576252e-02, 9.75228301e-02, 1.28534704e-02, 1.10524615e-01,\n",
              "        8.00000000e-01, 9.53995157e-01, 0.00000000e+00],\n",
              "       [8.15921807e-02, 9.28711690e-02, 8.35475578e-02, 7.68415383e-02,\n",
              "        6.61946903e-01, 7.48184019e-01, 0.00000000e+00],\n",
              "       [1.60820984e-01, 8.23091064e-02, 6.85089974e-01, 5.13295271e-01,\n",
              "        6.10619469e-01, 3.53510896e-01, 0.00000000e+00],\n",
              "       [1.44286672e-01, 7.13024488e-02, 6.30248500e-01, 3.34029947e-01,\n",
              "        5.29203540e-01, 6.58595642e-01, 0.00000000e+00],\n",
              "       [9.29857559e-02, 7.07055123e-02, 2.57497858e-01, 2.20997522e-01,\n",
              "        2.99115044e-01, 7.19128329e-01, 1.00000000e+00],\n",
              "       [4.74889208e-02, 6.68726579e-02, 1.19108826e-01, 8.96563611e-02,\n",
              "        4.63716814e-01, 3.53510896e-01, 1.00000000e+00],\n",
              "       [9.31342419e-02, 6.65532922e-02, 1.98371894e-01, 1.29561564e-01,\n",
              "        4.49557522e-01, 7.40920097e-01, 1.00000000e+00],\n",
              "       [5.00399183e-02, 6.53336276e-02, 1.31962296e-01, 1.13023807e-01,\n",
              "        6.46017699e-01, 7.26392252e-01, 1.00000000e+00],\n",
              "       [1.25564892e-01, 6.24723099e-02, 3.38046272e-01, 2.24018098e-01,\n",
              "        5.69911504e-01, 6.27118644e-01, 0.00000000e+00],\n",
              "       [4.54586357e-02, 5.94857630e-02, 1.91945159e-01, 1.42583217e-01,\n",
              "        6.58407080e-01, 5.98062954e-01, 1.00000000e+00],\n",
              "       [1.22365125e-01, 5.47558725e-02, 5.45844045e-01, 3.48960465e-01,\n",
              "        4.81415929e-01, 8.06295400e-01, 0.00000000e+00],\n",
              "       [1.22579506e-01, 5.46886744e-02, 4.29305913e-01, 4.12021976e-01,\n",
              "        6.40707965e-01, 8.30508475e-01, 0.00000000e+00],\n",
              "       [7.42400162e-02, 5.43750574e-02, 2.60497001e-01, 2.75428202e-01,\n",
              "        4.99115044e-01, 7.33656174e-01, 1.00000000e+00],\n",
              "       [1.11645030e-01, 5.42032168e-02, 4.45158526e-01, 1.86082086e-01,\n",
              "        4.97345133e-01, 6.53753027e-01, 1.00000000e+00],\n",
              "       [5.27381704e-02, 5.23312258e-02, 2.91345330e-02, 2.19722073e-01,\n",
              "        7.32743363e-01, 8.66828087e-01, 1.00000000e+00],\n",
              "       [1.07301232e-01, 5.09642692e-02, 4.79434447e-01, 2.23725089e-01,\n",
              "        5.76991150e-01, 5.37530266e-01, 0.00000000e+00],\n",
              "       [8.45201141e-02, 4.46468725e-02, 3.46615253e-01, 1.75490682e-01,\n",
              "        6.05309735e-01, 6.75544794e-01, 1.00000000e+00],\n",
              "       [3.73103591e-02, 4.41299522e-02, 5.48414739e-02, 2.17994183e-01,\n",
              "        6.10619469e-01, 8.47457627e-01, 1.00000000e+00],\n",
              "       [8.94702877e-02, 4.29245041e-02, 4.71722365e-01, 1.75012388e-01,\n",
              "        2.23008850e-01, 3.12348668e-01, 0.00000000e+00],\n",
              "       [9.27473339e-02, 4.27938368e-02, 3.53041988e-01, 3.26687493e-01,\n",
              "        4.81415929e-01, 8.03874092e-01, 1.00000000e+00],\n",
              "       [1.03087272e-01, 3.97760603e-02, 3.92887746e-01, 3.49072498e-01,\n",
              "        7.48672566e-01, 8.15980630e-01, 0.00000000e+00],\n",
              "       [3.78431329e-02, 3.89236934e-02, 1.98371894e-01, 1.53278035e-01,\n",
              "        5.66371681e-01, 7.11864407e-01, 0.00000000e+00],\n",
              "       [2.89533892e-02, 3.40223506e-02, 5.86975150e-02, 5.98599591e-02,\n",
              "        3.75221239e-01, 6.65859564e-01, 1.00000000e+00],\n",
              "       [7.27186636e-02, 3.20901533e-02, 4.82433590e-01, 3.25196596e-01,\n",
              "        6.35398230e-01, 8.45036320e-01, 0.00000000e+00],\n",
              "       [9.23041826e-02, 2.49760126e-02, 1.91516710e-01, 1.47314446e-01,\n",
              "        4.46017699e-01, 8.28087167e-01, 0.00000000e+00],\n",
              "       [8.45087621e-02, 2.49368590e-02, 4.41730934e-01, 3.13631369e-01,\n",
              "        3.32743363e-01, 5.39951574e-01, 1.00000000e+00],\n",
              "       [9.07293759e-02, 2.31419322e-02, 3.35904027e-01, 1.64520090e-01,\n",
              "        6.05309735e-01, 7.43341404e-01, 0.00000000e+00],\n",
              "       [7.78837255e-02, 1.80403159e-02, 3.49614396e-01, 1.37296133e-01,\n",
              "        6.23008850e-01, 3.75302663e-01, 1.00000000e+00],\n",
              "       [3.24633287e-02, 1.75911375e-02, 1.84233076e-01, 7.21361629e-02,\n",
              "        7.91150442e-01, 9.17675545e-01, 0.00000000e+00],\n",
              "       [6.06694081e-02, 1.57071829e-02, 5.08140531e-01, 1.23507487e-01,\n",
              "        2.81415929e-01, 7.43341404e-01, 0.00000000e+00],\n",
              "       [0.00000000e+00, 1.29467012e-02, 8.26906598e-02, 4.88419692e-02,\n",
              "        4.14159292e-01, 5.56900726e-01, 1.00000000e+00],\n",
              "       [4.84317797e-02, 1.11750024e-02, 2.70351328e-01, 2.09880427e-01,\n",
              "        7.96460177e-01, 7.57869249e-01, 0.00000000e+00],\n",
              "       [4.42356246e-02, 8.95536812e-03, 4.88003428e-01, 3.02647851e-01,\n",
              "        4.81415929e-01, 8.59564165e-01, 0.00000000e+00],\n",
              "       [6.23656200e-02, 8.54371189e-03, 2.64353042e-01, 1.09908435e-01,\n",
              "        5.82300885e-01, 5.95641646e-01, 0.00000000e+00],\n",
              "       [2.61354617e-02, 4.60730256e-03, 1.30676949e-01, 1.13308198e-01,\n",
              "        4.58407080e-01, 9.56416465e-01, 1.00000000e+00],\n",
              "       [5.68724443e-02, 3.43704600e-03, 4.17737789e-01, 1.71375633e-01,\n",
              "        3.34513274e-01, 6.44067797e-01, 1.00000000e+00],\n",
              "       [1.16816424e-02, 3.33768606e-03, 5.69837189e-02, 7.29505548e-02,\n",
              "        4.01769912e-01, 6.85230024e-01, 1.00000000e+00],\n",
              "       [2.26166767e-02, 2.52602644e-03, 3.82604970e-01, 0.00000000e+00,\n",
              "        6.54867257e-01, 3.99515738e-01, 1.00000000e+00],\n",
              "       [6.29326416e-02, 5.47683799e-04, 4.96143959e-01, 3.13657223e-01,\n",
              "        6.17699115e-01, 5.30266344e-01, 1.00000000e+00],\n",
              "       [6.57364637e-02, 0.00000000e+00, 6.14824336e-01, 2.55279543e-01,\n",
              "        4.58407080e-01, 7.23970944e-01, 0.00000000e+00]])"
            ]
          },
          "metadata": {},
          "execution_count": 35
        }
      ]
    },
    {
      "cell_type": "code",
      "source": [
        "df_b.columns"
      ],
      "metadata": {
        "colab": {
          "base_uri": "https://localhost:8080/"
        },
        "id": "fKE32YXRLcoz",
        "outputId": "b6d8809e-b46a-4ed2-9374-2f27d5b29919"
      },
      "execution_count": null,
      "outputs": [
        {
          "output_type": "execute_result",
          "data": {
            "text/plain": [
              "Index(['매출액', '관객수', '스크린수', '상영횟수', '평론가', '네티즌', '대표국적_한국'], dtype='object')"
            ]
          },
          "metadata": {},
          "execution_count": 36
        }
      ]
    },
    {
      "cell_type": "markdown",
      "source": [
        "* scaling후의 값을 이용하여 산점도를 다시 그려보자.\n",
        "* 스크린수와 네티즌을 이용한 산점도는 아래와 같다."
      ],
      "metadata": {
        "id": "AruAe-X9LeLZ"
      }
    },
    {
      "cell_type": "code",
      "source": [
        "plt.plot(X[:,2], X[:,5], 'o')"
      ],
      "metadata": {
        "colab": {
          "base_uri": "https://localhost:8080/",
          "height": 284
        },
        "id": "h0WueHrXzpri",
        "outputId": "04234536-86d5-4d73-e04f-4683a3e139ab"
      },
      "execution_count": null,
      "outputs": [
        {
          "output_type": "execute_result",
          "data": {
            "text/plain": [
              "[<matplotlib.lines.Line2D at 0x7f0a6963ddd0>]"
            ]
          },
          "metadata": {},
          "execution_count": 39
        },
        {
          "output_type": "display_data",
          "data": {
            "text/plain": [
              "<Figure size 432x288 with 1 Axes>"
            ],
            "image/png": "[encoded data removed]"
          },
          "metadata": {
            "needs_background": "light"
          }
        }
      ]
    },
    {
      "cell_type": "markdown",
      "source": [
        "* [KMeans](https://ko.wikipedia.org/wiki/K-%ED%8F%89%EA%B7%A0_%EC%95%8C%EA%B3%A0%EB%A6%AC%EC%A6%98) 클러스터링 알고리즘을 적용해보자.\n",
        "* 100개의 영화를 9개의 그룹으로 나누어준다."
      ],
      "metadata": {
        "id": "Mt9WFd9UL0Hi"
      }
    },
    {
      "cell_type": "code",
      "source": [
        "from sklearn.cluster import KMeans\n",
        "km = KMeans(n_clusters=9,random_state=2)\n",
        "km.fit(X)"
      ],
      "metadata": {
        "colab": {
          "base_uri": "https://localhost:8080/"
        },
        "id": "_LjM1pH60YkI",
        "outputId": "90a2976f-1562-4f85-b10d-d4793c62dd74"
      },
      "execution_count": null,
      "outputs": [
        {
          "output_type": "execute_result",
          "data": {
            "text/plain": [
              "KMeans(n_clusters=9, random_state=2)"
            ]
          },
          "metadata": {},
          "execution_count": 37
        }
      ]
    },
    {
      "cell_type": "markdown",
      "source": [
        "* df_b와 선호도 점수 클러스터번호를 모아 dft에 저장하자."
      ],
      "metadata": {
        "id": "kyS_rUj_MSew"
      }
    },
    {
      "cell_type": "code",
      "source": [
        "columns = ['영화명','장르','대표국적_한국','매출액', '관객수', '스크린수', '상영횟수', '관람객', '평론가', '네티즌',\n",
        "          '수빈','승준','선주','지후']\n",
        "dft = df.loc[df_b.index,columns]\n",
        "dft['클러스터번호'] = km.labels_"
      ],
      "metadata": {
        "id": "ay1h_l5o1kox"
      },
      "execution_count": null,
      "outputs": []
    },
    {
      "cell_type": "code",
      "source": [
        "dft"
      ],
      "metadata": {
        "colab": {
          "base_uri": "https://localhost:8080/",
          "height": 424
        },
        "id": "6uAyUXJ22Dx8",
        "outputId": "1931e1d6-6429-4585-beee-28e653693d26"
      },
      "execution_count": null,
      "outputs": [
        {
          "output_type": "execute_result",
          "data": {
            "text/plain": [
              "                 영화명           장르  대표국적_한국           매출액       관객수  스크린수  \\\n",
              "0                 명량      액션, 드라마        1  135757418810  17615686  1587   \n",
              "1               극한직업          코미디        1  139655543516  16266338  2003   \n",
              "2          신과함께-죄와 벌     판타지, 드라마        1  115727528087  14414658  1912   \n",
              "3               국제시장          드라마        1  110944607730  14263980  1044   \n",
              "4         어벤져스: 엔드게임       액션, SF        0  122492181020  13977602  2835   \n",
              "..               ...          ...      ...           ...       ...   ...   \n",
              "95            봉오동 전투      액션, 드라마        1   40588648538   4787538  1476   \n",
              "96  조선명탐정: 각시투구꽃의 비밀    코미디, 미스터리        1   35841769500   4786259   634   \n",
              "97         군도:민란의 시대           액션        1   36990394499   4775811  1394   \n",
              "98           남산의 부장들          드라마        1   41225216650   4750345  1659   \n",
              "99             라이온 킹  모험, 드라마, 가족        0   41519732430   4743295  1936   \n",
              "\n",
              "      상영횟수   관람객   평론가   네티즌  수빈  승준  선주  지후  클러스터번호  \n",
              "0   188720  8.88  6.29  8.44   2   3   1   3       7  \n",
              "1   292816  9.20  6.80  8.50   3   3   3   3       7  \n",
              "2   214631  8.73  5.92  7.83   3   2   2   3       7  \n",
              "3   212696  9.16  5.81  9.02   3   2   2   2       7  \n",
              "4   246433  9.49  7.62  9.38   3   3   1   3       3  \n",
              "..     ...   ...   ...   ...  ..  ..  ..  ..     ...  \n",
              "95  107031  9.07  5.30  7.95   1   1   2   3       8  \n",
              "96   84189   NaN  5.68  8.12   2   1   1   2       8  \n",
              "97   67259  7.34  7.11  6.94   1   2   1   2       1  \n",
              "98  140051  8.46  6.90  7.48   1   1   1   2       1  \n",
              "99  126503  8.65  6.00  8.28   3   1   3   2       0  \n",
              "\n",
              "[100 rows x 15 columns]"
            ],
            "text/html": [
              "\n",
              "  <div id=\"df-4c579cae-4904-4f56-8919-8865f672a56e\">\n",
              "    <div class=\"colab-df-container\">\n",
              "      <div>\n",
              "<style scoped>\n",
              "    .dataframe tbody tr th:only-of-type {\n",
              "        vertical-align: middle;\n",
              "    }\n",
              "\n",
              "    .dataframe tbody tr th {\n",
              "        vertical-align: top;\n",
              "    }\n",
              "\n",
              "    .dataframe thead th {\n",
              "        text-align: right;\n",
              "    }\n",
              "</style>\n",
              "<table border=\"1\" class=\"dataframe\">\n",
              "  <thead>\n",
              "    <tr style=\"text-align: right;\">\n",
              "      <th></th>\n",
              "      <th>영화명</th>\n",
              "      <th>장르</th>\n",
              "      <th>대표국적_한국</th>\n",
              "      <th>매출액</th>\n",
              "      <th>관객수</th>\n",
              "      <th>스크린수</th>\n",
              "      <th>상영횟수</th>\n",
              "      <th>관람객</th>\n",
              "      <th>평론가</th>\n",
              "      <th>네티즌</th>\n",
              "      <th>수빈</th>\n",
              "      <th>승준</th>\n",
              "      <th>선주</th>\n",
              "      <th>지후</th>\n",
              "      <th>클러스터번호</th>\n",
              "    </tr>\n",
              "  </thead>\n",
              "  <tbody>\n",
              "    <tr>\n",
              "      <th>0</th>\n",
              "      <td>명량</td>\n",
              "      <td>액션, 드라마</td>\n",
              "      <td>1</td>\n",
              "      <td>135757418810</td>\n",
              "      <td>17615686</td>\n",
              "      <td>1587</td>\n",
              "      <td>188720</td>\n",
              "      <td>8.88</td>\n",
              "      <td>6.29</td>\n",
              "      <td>8.44</td>\n",
              "      <td>2</td>\n",
              "      <td>3</td>\n",
              "      <td>1</td>\n",
              "      <td>3</td>\n",
              "      <td>7</td>\n",
              "    </tr>\n",
              "    <tr>\n",
              "      <th>1</th>\n",
              "      <td>극한직업</td>\n",
              "      <td>코미디</td>\n",
              "      <td>1</td>\n",
              "      <td>139655543516</td>\n",
              "      <td>16266338</td>\n",
              "      <td>2003</td>\n",
              "      <td>292816</td>\n",
              "      <td>9.20</td>\n",
              "      <td>6.80</td>\n",
              "      <td>8.50</td>\n",
              "      <td>3</td>\n",
              "      <td>3</td>\n",
              "      <td>3</td>\n",
              "      <td>3</td>\n",
              "      <td>7</td>\n",
              "    </tr>\n",
              "    <tr>\n",
              "      <th>2</th>\n",
              "      <td>신과함께-죄와 벌</td>\n",
              "      <td>판타지, 드라마</td>\n",
              "      <td>1</td>\n",
              "      <td>115727528087</td>\n",
              "      <td>14414658</td>\n",
              "      <td>1912</td>\n",
              "      <td>214631</td>\n",
              "      <td>8.73</td>\n",
              "      <td>5.92</td>\n",
              "      <td>7.83</td>\n",
              "      <td>3</td>\n",
              "      <td>2</td>\n",
              "      <td>2</td>\n",
              "      <td>3</td>\n",
              "      <td>7</td>\n",
              "    </tr>\n",
              "    <tr>\n",
              "      <th>3</th>\n",
              "      <td>국제시장</td>\n",
              "      <td>드라마</td>\n",
              "      <td>1</td>\n",
              "      <td>110944607730</td>\n",
              "      <td>14263980</td>\n",
              "      <td>1044</td>\n",
              "      <td>212696</td>\n",
              "      <td>9.16</td>\n",
              "      <td>5.81</td>\n",
              "      <td>9.02</td>\n",
              "      <td>3</td>\n",
              "      <td>2</td>\n",
              "      <td>2</td>\n",
              "      <td>2</td>\n",
              "      <td>7</td>\n",
              "    </tr>\n",
              "    <tr>\n",
              "      <th>4</th>\n",
              "      <td>어벤져스: 엔드게임</td>\n",
              "      <td>액션, SF</td>\n",
              "      <td>0</td>\n",
              "      <td>122492181020</td>\n",
              "      <td>13977602</td>\n",
              "      <td>2835</td>\n",
              "      <td>246433</td>\n",
              "      <td>9.49</td>\n",
              "      <td>7.62</td>\n",
              "      <td>9.38</td>\n",
              "      <td>3</td>\n",
              "      <td>3</td>\n",
              "      <td>1</td>\n",
              "      <td>3</td>\n",
              "      <td>3</td>\n",
              "    </tr>\n",
              "    <tr>\n",
              "      <th>...</th>\n",
              "      <td>...</td>\n",
              "      <td>...</td>\n",
              "      <td>...</td>\n",
              "      <td>...</td>\n",
              "      <td>...</td>\n",
              "      <td>...</td>\n",
              "      <td>...</td>\n",
              "      <td>...</td>\n",
              "      <td>...</td>\n",
              "      <td>...</td>\n",
              "      <td>...</td>\n",
              "      <td>...</td>\n",
              "      <td>...</td>\n",
              "      <td>...</td>\n",
              "      <td>...</td>\n",
              "    </tr>\n",
              "    <tr>\n",
              "      <th>95</th>\n",
              "      <td>봉오동 전투</td>\n",
              "      <td>액션, 드라마</td>\n",
              "      <td>1</td>\n",
              "      <td>40588648538</td>\n",
              "      <td>4787538</td>\n",
              "      <td>1476</td>\n",
              "      <td>107031</td>\n",
              "      <td>9.07</td>\n",
              "      <td>5.30</td>\n",
              "      <td>7.95</td>\n",
              "      <td>1</td>\n",
              "      <td>1</td>\n",
              "      <td>2</td>\n",
              "      <td>3</td>\n",
              "      <td>8</td>\n",
              "    </tr>\n",
              "    <tr>\n",
              "      <th>96</th>\n",
              "      <td>조선명탐정: 각시투구꽃의 비밀</td>\n",
              "      <td>코미디, 미스터리</td>\n",
              "      <td>1</td>\n",
              "      <td>35841769500</td>\n",
              "      <td>4786259</td>\n",
              "      <td>634</td>\n",
              "      <td>84189</td>\n",
              "      <td>NaN</td>\n",
              "      <td>5.68</td>\n",
              "      <td>8.12</td>\n",
              "      <td>2</td>\n",
              "      <td>1</td>\n",
              "      <td>1</td>\n",
              "      <td>2</td>\n",
              "      <td>8</td>\n",
              "    </tr>\n",
              "    <tr>\n",
              "      <th>97</th>\n",
              "      <td>군도:민란의 시대</td>\n",
              "      <td>액션</td>\n",
              "      <td>1</td>\n",
              "      <td>36990394499</td>\n",
              "      <td>4775811</td>\n",
              "      <td>1394</td>\n",
              "      <td>67259</td>\n",
              "      <td>7.34</td>\n",
              "      <td>7.11</td>\n",
              "      <td>6.94</td>\n",
              "      <td>1</td>\n",
              "      <td>2</td>\n",
              "      <td>1</td>\n",
              "      <td>2</td>\n",
              "      <td>1</td>\n",
              "    </tr>\n",
              "    <tr>\n",
              "      <th>98</th>\n",
              "      <td>남산의 부장들</td>\n",
              "      <td>드라마</td>\n",
              "      <td>1</td>\n",
              "      <td>41225216650</td>\n",
              "      <td>4750345</td>\n",
              "      <td>1659</td>\n",
              "      <td>140051</td>\n",
              "      <td>8.46</td>\n",
              "      <td>6.90</td>\n",
              "      <td>7.48</td>\n",
              "      <td>1</td>\n",
              "      <td>1</td>\n",
              "      <td>1</td>\n",
              "      <td>2</td>\n",
              "      <td>1</td>\n",
              "    </tr>\n",
              "    <tr>\n",
              "      <th>99</th>\n",
              "      <td>라이온 킹</td>\n",
              "      <td>모험, 드라마, 가족</td>\n",
              "      <td>0</td>\n",
              "      <td>41519732430</td>\n",
              "      <td>4743295</td>\n",
              "      <td>1936</td>\n",
              "      <td>126503</td>\n",
              "      <td>8.65</td>\n",
              "      <td>6.00</td>\n",
              "      <td>8.28</td>\n",
              "      <td>3</td>\n",
              "      <td>1</td>\n",
              "      <td>3</td>\n",
              "      <td>2</td>\n",
              "      <td>0</td>\n",
              "    </tr>\n",
              "  </tbody>\n",
              "</table>\n",
              "<p>100 rows × 15 columns</p>\n",
              "</div>\n",
              "      <button class=\"colab-df-convert\" onclick=\"convertToInteractive('df-4c579cae-4904-4f56-8919-8865f672a56e')\"\n",
              "              title=\"Convert this dataframe to an interactive table.\"\n",
              "              style=\"display:none;\">\n",
              "        \n",
              "  <svg xmlns=\"http://www.w3.org/2000/svg\" height=\"24px\"viewBox=\"0 0 24 24\"\n",
              "       width=\"24px\">\n",
              "    <path d=\"M0 0h24v24H0V0z\" fill=\"none\"/>\n",
              "    <path d=\"M18.56 5.44l.94 2.06.94-2.06 2.06-.94-2.06-.94-.94-2.06-.94 2.06-2.06.94zm-11 1L8.5 8.5l.94-2.06 2.06-.94-2.06-.94L8.5 2.5l-.94 2.06-2.06.94zm10 10l.94 2.06.94-2.06 2.06-.94-2.06-.94-.94-2.06-.94 2.06-2.06.94z\"/><path d=\"M17.41 7.96l-1.37-1.37c-.4-.4-.92-.59-1.43-.59-.52 0-1.04.2-1.43.59L10.3 9.45l-7.72 7.72c-.78.78-.78 2.05 0 2.83L4 21.41c.39.39.9.59 1.41.59.51 0 1.02-.2 1.41-.59l7.78-7.78 2.81-2.81c.8-.78.8-2.07 0-2.86zM5.41 20L4 18.59l7.72-7.72 1.47 1.35L5.41 20z\"/>\n",
              "  </svg>\n",
              "      </button>\n",
              "      \n",
              "  <style>\n",
              "    .colab-df-container {\n",
              "      display:flex;\n",
              "      flex-wrap:wrap;\n",
              "      gap: 12px;\n",
              "    }\n",
              "\n",
              "    .colab-df-convert {\n",
              "      background-color: #E8F0FE;\n",
              "      border: none;\n",
              "      border-radius: 50%;\n",
              "      cursor: pointer;\n",
              "      display: none;\n",
              "      fill: #1967D2;\n",
              "      height: 32px;\n",
              "      padding: 0 0 0 0;\n",
              "      width: 32px;\n",
              "    }\n",
              "\n",
              "    .colab-df-convert:hover {\n",
              "      background-color: #E2EBFA;\n",
              "      box-shadow: 0px 1px 2px rgba(60, 64, 67, 0.3), 0px 1px 3px 1px rgba(60, 64, 67, 0.15);\n",
              "      fill: #174EA6;\n",
              "    }\n",
              "\n",
              "    [theme=dark] .colab-df-convert {\n",
              "      background-color: #3B4455;\n",
              "      fill: #D2E3FC;\n",
              "    }\n",
              "\n",
              "    [theme=dark] .colab-df-convert:hover {\n",
              "      background-color: #434B5C;\n",
              "      box-shadow: 0px 1px 3px 1px rgba(0, 0, 0, 0.15);\n",
              "      filter: drop-shadow(0px 1px 2px rgba(0, 0, 0, 0.3));\n",
              "      fill: #FFFFFF;\n",
              "    }\n",
              "  </style>\n",
              "\n",
              "      <script>\n",
              "        const buttonEl =\n",
              "          document.querySelector('#df-4c579cae-4904-4f56-8919-8865f672a56e button.colab-df-convert');\n",
              "        buttonEl.style.display =\n",
              "          google.colab.kernel.accessAllowed ? 'block' : 'none';\n",
              "\n",
              "        async function convertToInteractive(key) {\n",
              "          const element = document.querySelector('#df-4c579cae-4904-4f56-8919-8865f672a56e');\n",
              "          const dataTable =\n",
              "            await google.colab.kernel.invokeFunction('convertToInteractive',\n",
              "                                                     [key], {});\n",
              "          if (!dataTable) return;\n",
              "\n",
              "          const docLinkHtml = 'Like what you see? Visit the ' +\n",
              "            '<a target=\"_blank\" href=https://colab.research.google.com/notebooks/data_table.ipynb>data table notebook</a>'\n",
              "            + ' to learn more about interactive tables.';\n",
              "          element.innerHTML = '';\n",
              "          dataTable['output_type'] = 'display_data';\n",
              "          await google.colab.output.renderOutput(dataTable, element);\n",
              "          const docLink = document.createElement('div');\n",
              "          docLink.innerHTML = docLinkHtml;\n",
              "          element.appendChild(docLink);\n",
              "        }\n",
              "      </script>\n",
              "    </div>\n",
              "  </div>\n",
              "  "
            ]
          },
          "metadata": {},
          "execution_count": 39
        }
      ]
    },
    {
      "cell_type": "markdown",
      "source": [
        "* 100개의 영화를 무작위로 선택하여 60개의 training set과 40개의 test set으로 나눈다."
      ],
      "metadata": {
        "id": "vKxrs9i4Mkjy"
      }
    },
    {
      "cell_type": "code",
      "source": [
        "from sklearn.model_selection import train_test_split\n",
        "train_index,test_index = train_test_split(range(100),test_size=0.4,random_state=45)"
      ],
      "metadata": {
        "id": "RNKbriLa2FzF"
      },
      "execution_count": null,
      "outputs": []
    },
    {
      "cell_type": "code",
      "source": [
        "import numpy as np\n",
        "np.array(train_index)"
      ],
      "metadata": {
        "colab": {
          "base_uri": "https://localhost:8080/"
        },
        "id": "yR5AdmvdCiw1",
        "outputId": "21d69756-9cb4-4ade-9b44-ea4b44c996db"
      },
      "execution_count": null,
      "outputs": [
        {
          "output_type": "execute_result",
          "data": {
            "text/plain": [
              "array([44, 50, 58, 55, 96, 27, 39, 22, 80, 71, 41, 48, 47, 79, 52, 16, 54,\n",
              "       89, 64, 59, 13, 49, 83, 40, 11, 42,  6, 77, 94, 86, 93, 31, 36, 88,\n",
              "       56, 98, 91, 17, 81, 24, 34, 12, 87,  8, 46, 72, 57, 53, 14, 65, 15,\n",
              "       68, 35, 85, 61, 95, 32,  3, 30, 75])"
            ]
          },
          "metadata": {},
          "execution_count": 41
        }
      ]
    },
    {
      "cell_type": "code",
      "source": [
        "np.array(test_index)"
      ],
      "metadata": {
        "colab": {
          "base_uri": "https://localhost:8080/"
        },
        "id": "p6Os-kMDCpQm",
        "outputId": "40f7ce37-4929-412b-d686-b6f2d961edac"
      },
      "execution_count": null,
      "outputs": [
        {
          "output_type": "execute_result",
          "data": {
            "text/plain": [
              "array([ 0,  1, 62, 76, 37, 99, 78, 38,  2, 84, 60, 26, 69, 33, 51,  4, 92,\n",
              "        7, 10, 74, 45,  9, 20, 18, 73, 19, 25, 21, 70, 23, 97, 90, 29, 67,\n",
              "        5, 82, 28, 43, 63, 66])"
            ]
          },
          "metadata": {},
          "execution_count": 42
        }
      ]
    },
    {
      "cell_type": "markdown",
      "source": [
        "* training set은 수빈이 본 영화가 들어있다고 가정한다.\n",
        "* 클러스터마다 수빈이 표시한 선호도의 평균을 구해보자.\n",
        "* 선호도가 가장 큰 5번 클러스터의 영화를 추천해보자."
      ],
      "metadata": {
        "id": "zFGElQ8OMzbb"
      }
    },
    {
      "cell_type": "code",
      "source": [
        "dft.loc[train_index].groupby('클러스터번호')['수빈'].mean()"
      ],
      "metadata": {
        "colab": {
          "base_uri": "https://localhost:8080/"
        },
        "id": "AOBVDgjfDE_s",
        "outputId": "7945c436-aa9b-4d63-bec9-227ebda44f9c"
      },
      "execution_count": null,
      "outputs": [
        {
          "output_type": "execute_result",
          "data": {
            "text/plain": [
              "클러스터번호\n",
              "0    2.600000\n",
              "1    1.857143\n",
              "2    2.500000\n",
              "3    3.000000\n",
              "4    2.384615\n",
              "5    3.000000\n",
              "6    1.818182\n",
              "7    3.000000\n",
              "8    1.700000\n",
              "Name: 수빈, dtype: float64"
            ]
          },
          "metadata": {},
          "execution_count": 45
        }
      ]
    },
    {
      "cell_type": "markdown",
      "source": [
        "* test set은 수빈이가 아직 보지 않은 영화가 들어있다고 가정한다.\n",
        "* 클러스터마다 수빈이 표시한 선호도의 평균을 구해보자.\n",
        "* test set의 5번 클러스터의 선호도 평균이 높으므로 추천이 잘 되었다."
      ],
      "metadata": {
        "id": "xpHDs4dJNQTP"
      }
    },
    {
      "cell_type": "code",
      "source": [
        "dft.loc[test_index].groupby('클러스터번호')['수빈'].mean()"
      ],
      "metadata": {
        "colab": {
          "base_uri": "https://localhost:8080/"
        },
        "id": "J8gsgAZvDemt",
        "outputId": "9e115358-3c3f-4dd3-a6f5-5e5d16da2ca8"
      },
      "execution_count": null,
      "outputs": [
        {
          "output_type": "execute_result",
          "data": {
            "text/plain": [
              "클러스터번호\n",
              "0    2.428571\n",
              "1    1.000000\n",
              "2    2.000000\n",
              "3    3.000000\n",
              "4    2.000000\n",
              "5    2.750000\n",
              "6    1.285714\n",
              "7    2.666667\n",
              "8    1.375000\n",
              "Name: 수빈, dtype: float64"
            ]
          },
          "metadata": {},
          "execution_count": 46
        }
      ]
    },
    {
      "cell_type": "markdown",
      "source": [
        "* 승준에게도 추천해보자"
      ],
      "metadata": {
        "id": "bVRfD4CiNu7T"
      }
    },
    {
      "cell_type": "code",
      "source": [
        "dft.loc[train_index].groupby('클러스터번호')['승준'].mean()"
      ],
      "metadata": {
        "colab": {
          "base_uri": "https://localhost:8080/"
        },
        "id": "glccE1-0Dv8a",
        "outputId": "3e8857e3-8ad9-48f9-e7aa-ac273183e69e"
      },
      "execution_count": null,
      "outputs": [
        {
          "output_type": "execute_result",
          "data": {
            "text/plain": [
              "클러스터번호\n",
              "0    2.400000\n",
              "1    1.714286\n",
              "2    2.250000\n",
              "3    3.000000\n",
              "4    2.384615\n",
              "5    3.000000\n",
              "6    1.727273\n",
              "7    2.000000\n",
              "8    1.400000\n",
              "Name: 승준, dtype: float64"
            ]
          },
          "metadata": {},
          "execution_count": 50
        }
      ]
    },
    {
      "cell_type": "code",
      "source": [
        "dft.loc[test_index].groupby('클러스터번호')['승준'].mean()"
      ],
      "metadata": {
        "colab": {
          "base_uri": "https://localhost:8080/"
        },
        "id": "DWXJfMobECOV",
        "outputId": "7527bb45-b2b8-4346-f10d-38779fa231b2"
      },
      "execution_count": null,
      "outputs": [
        {
          "output_type": "execute_result",
          "data": {
            "text/plain": [
              "클러스터번호\n",
              "0    2.571429\n",
              "1    2.000000\n",
              "2    2.000000\n",
              "3    2.333333\n",
              "4    2.000000\n",
              "5    2.250000\n",
              "6    1.428571\n",
              "7    2.666667\n",
              "8    1.250000\n",
              "Name: 승준, dtype: float64"
            ]
          },
          "metadata": {},
          "execution_count": 51
        }
      ]
    },
    {
      "cell_type": "markdown",
      "source": [
        "* 선주에게 추천해보자."
      ],
      "metadata": {
        "id": "HgSzGIVWOYiP"
      }
    },
    {
      "cell_type": "code",
      "source": [
        "dft.loc[train_index].groupby('클러스터번호')['선주'].mean()"
      ],
      "metadata": {
        "colab": {
          "base_uri": "https://localhost:8080/"
        },
        "id": "ZA4-avsIENSy",
        "outputId": "6db1ad99-7490-4f24-e509-c19a969d4beb"
      },
      "execution_count": null,
      "outputs": [
        {
          "output_type": "execute_result",
          "data": {
            "text/plain": [
              "클러스터번호\n",
              "0    1.600000\n",
              "1    2.000000\n",
              "2    1.875000\n",
              "3    1.000000\n",
              "4    1.846154\n",
              "5    1.000000\n",
              "6    1.909091\n",
              "7    2.000000\n",
              "8    1.800000\n",
              "Name: 선주, dtype: float64"
            ]
          },
          "metadata": {},
          "execution_count": 53
        }
      ]
    },
    {
      "cell_type": "code",
      "source": [
        "dft.loc[test_index].groupby('클러스터번호')['선주'].mean()"
      ],
      "metadata": {
        "colab": {
          "base_uri": "https://localhost:8080/"
        },
        "id": "xejqJf8PEdEP",
        "outputId": "ede3166c-5266-488b-9628-4df5280191b2"
      },
      "execution_count": null,
      "outputs": [
        {
          "output_type": "execute_result",
          "data": {
            "text/plain": [
              "클러스터번호\n",
              "0    1.428571\n",
              "1    1.500000\n",
              "2    2.750000\n",
              "3    2.333333\n",
              "4    3.000000\n",
              "5    2.500000\n",
              "6    1.571429\n",
              "7    2.000000\n",
              "8    1.875000\n",
              "Name: 선주, dtype: float64"
            ]
          },
          "metadata": {},
          "execution_count": 54
        }
      ]
    },
    {
      "cell_type": "markdown",
      "source": [
        "* 지후에게 추천해보자."
      ],
      "metadata": {
        "id": "8yodYYreOcWg"
      }
    },
    {
      "cell_type": "code",
      "source": [
        "dft.loc[train_index].groupby('클러스터번호')['지후'].mean()"
      ],
      "metadata": {
        "colab": {
          "base_uri": "https://localhost:8080/"
        },
        "id": "cCTAJd3oEgme",
        "outputId": "8a193edd-d2e2-4d81-bc5a-0590b1e51327"
      },
      "execution_count": null,
      "outputs": [
        {
          "output_type": "execute_result",
          "data": {
            "text/plain": [
              "클러스터번호\n",
              "0    2.200000\n",
              "1    2.000000\n",
              "2    2.375000\n",
              "3    3.000000\n",
              "4    2.538462\n",
              "5    3.000000\n",
              "6    2.090909\n",
              "7    2.000000\n",
              "8    2.200000\n",
              "Name: 지후, dtype: float64"
            ]
          },
          "metadata": {},
          "execution_count": 55
        }
      ]
    },
    {
      "cell_type": "code",
      "source": [
        "dft.loc[test_index].groupby('클러스터번호')['지후'].mean()"
      ],
      "metadata": {
        "colab": {
          "base_uri": "https://localhost:8080/"
        },
        "id": "Zv1bRQESEx3y",
        "outputId": "bde167e0-67ab-44dd-934c-c1db7e37b435"
      },
      "execution_count": null,
      "outputs": [
        {
          "output_type": "execute_result",
          "data": {
            "text/plain": [
              "클러스터번호\n",
              "0    2.857143\n",
              "1    2.500000\n",
              "2    2.250000\n",
              "3    2.333333\n",
              "4    2.000000\n",
              "5    2.750000\n",
              "6    2.000000\n",
              "7    3.000000\n",
              "8    2.250000\n",
              "Name: 지후, dtype: float64"
            ]
          },
          "metadata": {},
          "execution_count": 56
        }
      ]
    },
    {
      "cell_type": "markdown",
      "source": [
        "# 데이터 바꿔보기.\n",
        "\n",
        "* '평론가', '네티즌', '남자.1', '여자.1', '10대.1', '20대.1', '30대.1', '40대.1', '50대 이상.1', 'OST.1', '영상미.1', '스토리.1', '연기.1', '연출.1' 를 이용하여 추천해보자."
      ],
      "metadata": {
        "id": "hR0ahos6OhUk"
      }
    },
    {
      "cell_type": "code",
      "source": [
        "columns = ['평론가', '네티즌', '남자.1', '여자.1', '10대.1',\n",
        "       '20대.1', '30대.1', '40대.1', '50대 이상.1', 'OST.1', '영상미.1', '스토리.1',\n",
        "       '연기.1', '연출.1']\n",
        "df_b = df[columns].copy()"
      ],
      "metadata": {
        "id": "s_mwaQk5E1tW"
      },
      "execution_count": null,
      "outputs": []
    },
    {
      "cell_type": "code",
      "source": [
        "from sklearn.preprocessing import MinMaxScaler\n",
        "mms = MinMaxScaler()\n",
        "X = mms.fit_transform(df_b)"
      ],
      "metadata": {
        "id": "ugAT70ANHIm6"
      },
      "execution_count": null,
      "outputs": []
    },
    {
      "cell_type": "code",
      "source": [
        "from sklearn.cluster import KMeans\n",
        "km = KMeans(n_clusters=9,random_state=2)\n",
        "km.fit(X)"
      ],
      "metadata": {
        "colab": {
          "base_uri": "https://localhost:8080/"
        },
        "id": "aLx5rGEEHOjF",
        "outputId": "fa84a2b1-8241-410d-d121-0b8169e275ed"
      },
      "execution_count": null,
      "outputs": [
        {
          "output_type": "execute_result",
          "data": {
            "text/plain": [
              "KMeans(n_clusters=9, random_state=2)"
            ]
          },
          "metadata": {},
          "execution_count": 59
        }
      ]
    },
    {
      "cell_type": "code",
      "source": [
        "dft = df.loc[df_b.index,['영화명']+columns+['수빈','승준','선주','지후']]\n",
        "dft['클러스터번호'] = km.labels_"
      ],
      "metadata": {
        "id": "KC6Xe47UHSeV"
      },
      "execution_count": null,
      "outputs": []
    },
    {
      "cell_type": "code",
      "source": [
        "dft.loc[train_index].groupby('클러스터번호')['지후'].mean()"
      ],
      "metadata": {
        "colab": {
          "base_uri": "https://localhost:8080/"
        },
        "id": "6vNN9wryHaN3",
        "outputId": "07226b67-79a3-48a2-aedc-c54f888f10f0"
      },
      "execution_count": null,
      "outputs": [
        {
          "output_type": "execute_result",
          "data": {
            "text/plain": [
              "클러스터번호\n",
              "0    2.200000\n",
              "1    2.583333\n",
              "2    2.714286\n",
              "3    1.714286\n",
              "4    1.000000\n",
              "5    2.100000\n",
              "6    3.000000\n",
              "7    2.600000\n",
              "Name: 지후, dtype: float64"
            ]
          },
          "metadata": {},
          "execution_count": 61
        }
      ]
    },
    {
      "cell_type": "code",
      "source": [
        "dft.loc[test_index].groupby('클러스터번호')['지후'].mean()"
      ],
      "metadata": {
        "colab": {
          "base_uri": "https://localhost:8080/"
        },
        "id": "eWC0wrJ0HoSI",
        "outputId": "d69d05ac-1813-44e8-80fa-ca43342a6927"
      },
      "execution_count": null,
      "outputs": [
        {
          "output_type": "execute_result",
          "data": {
            "text/plain": [
              "클러스터번호\n",
              "0    2.166667\n",
              "1    2.000000\n",
              "2    3.000000\n",
              "3    2.500000\n",
              "4    2.200000\n",
              "5    2.625000\n",
              "7    2.500000\n",
              "8    3.000000\n",
              "Name: 지후, dtype: float64"
            ]
          },
          "metadata": {},
          "execution_count": 62
        }
      ]
    },
    {
      "cell_type": "code",
      "source": [
        "dft.loc[train_index].groupby('클러스터번호')['선주'].mean()"
      ],
      "metadata": {
        "colab": {
          "base_uri": "https://localhost:8080/"
        },
        "id": "arvLiKdSHxW0",
        "outputId": "0df3ee02-f0ab-4121-a418-50b4be078ef0"
      },
      "execution_count": null,
      "outputs": [
        {
          "output_type": "execute_result",
          "data": {
            "text/plain": [
              "클러스터번호\n",
              "0    1.500000\n",
              "1    1.750000\n",
              "2    1.571429\n",
              "3    1.857143\n",
              "4    2.500000\n",
              "5    2.000000\n",
              "6    2.500000\n",
              "7    1.700000\n",
              "Name: 선주, dtype: float64"
            ]
          },
          "metadata": {},
          "execution_count": 63
        }
      ]
    },
    {
      "cell_type": "code",
      "source": [
        "dft.loc[test_index].groupby('클러스터번호')['선주'].mean()\n"
      ],
      "metadata": {
        "colab": {
          "base_uri": "https://localhost:8080/"
        },
        "id": "Ndy6-E1tIVWy",
        "outputId": "dff29792-6239-4089-ece7-7df16ecf0900"
      },
      "execution_count": null,
      "outputs": [
        {
          "output_type": "execute_result",
          "data": {
            "text/plain": [
              "클러스터번호\n",
              "0    1.833333\n",
              "1    2.333333\n",
              "2    2.000000\n",
              "3    1.500000\n",
              "4    3.000000\n",
              "5    1.750000\n",
              "7    1.875000\n",
              "8    1.000000\n",
              "Name: 선주, dtype: float64"
            ]
          },
          "metadata": {},
          "execution_count": 64
        }
      ]
    },
    {
      "cell_type": "code",
      "source": [
        "dft.loc[train_index].groupby('클러스터번호')['수빈'].mean()"
      ],
      "metadata": {
        "colab": {
          "base_uri": "https://localhost:8080/"
        },
        "id": "4GlLpRruIkRH",
        "outputId": "9d561085-9870-434d-8a4a-713e70272fe4"
      },
      "execution_count": null,
      "outputs": [
        {
          "output_type": "execute_result",
          "data": {
            "text/plain": [
              "클러스터번호\n",
              "0    2.200000\n",
              "1    2.250000\n",
              "2    2.428571\n",
              "3    2.000000\n",
              "4    2.000000\n",
              "5    1.800000\n",
              "6    1.500000\n",
              "7    2.700000\n",
              "Name: 수빈, dtype: float64"
            ]
          },
          "metadata": {},
          "execution_count": 65
        }
      ]
    },
    {
      "cell_type": "code",
      "source": [
        "dft.loc[test_index].groupby('클러스터번호')['수빈'].mean()"
      ],
      "metadata": {
        "colab": {
          "base_uri": "https://localhost:8080/"
        },
        "id": "GMbIw3O7JEnK",
        "outputId": "d86bf432-413e-42c2-964d-ee2111fb5e2c"
      },
      "execution_count": null,
      "outputs": [
        {
          "output_type": "execute_result",
          "data": {
            "text/plain": [
              "클러스터번호\n",
              "0    1.333333\n",
              "1    1.500000\n",
              "2    1.500000\n",
              "3    2.000000\n",
              "4    2.800000\n",
              "5    1.625000\n",
              "7    2.500000\n",
              "8    2.666667\n",
              "Name: 수빈, dtype: float64"
            ]
          },
          "metadata": {},
          "execution_count": 66
        }
      ]
    },
    {
      "cell_type": "markdown",
      "source": [
        "# 리뷰를 이용하여 추천하기"
      ],
      "metadata": {
        "id": "0WbKWXNjOzDf"
      }
    },
    {
      "cell_type": "code",
      "source": [
        "columns = ['1', '2', '3', '4', '5', '6', '7', '8', '9', '10',\n",
        "           '11', '12', '13', '14', '15', '16', '17', '18', '19', '20',\n",
        "           '21', '22', '23', '24', '25', '26', '27', '28', '29', '30']\n",
        "df_b = df[columns].copy()\n",
        "df_b.shape"
      ],
      "metadata": {
        "colab": {
          "base_uri": "https://localhost:8080/"
        },
        "id": "LtqPak2KJMwK",
        "outputId": "481432f0-db51-40c5-df2b-0c493c4f44a9"
      },
      "execution_count": null,
      "outputs": [
        {
          "output_type": "execute_result",
          "data": {
            "text/plain": [
              "(100, 30)"
            ]
          },
          "metadata": {},
          "execution_count": 56
        }
      ]
    },
    {
      "cell_type": "code",
      "source": [
        "df_b"
      ],
      "metadata": {
        "colab": {
          "base_uri": "https://localhost:8080/",
          "height": 1000
        },
        "id": "EvwYieo6SdMd",
        "outputId": "2a1642a0-136d-4251-c93d-8a533810e7e8"
      },
      "execution_count": null,
      "outputs": [
        {
          "output_type": "execute_result",
          "data": {
            "text/plain": [
              "                                                    1  \\\n",
              "0   이 영화는 최근에 보게 되었다.\\n\\n사실 개봉했을 당시에 나는 무척 반감이 들었다...   \n",
              "1   영화 <극한직업> 보셨나요? 보통 작정하고 웃기려는 작품을 보다 보면 기대에 못 미...   \n",
              "2   안녕하세요 여러분!\\n\\n오늘은,\\n\\n영화신과함께 리뷰를 하려고 왔습니다~\\n\\n...   \n",
              "3   한국 영화들의 릴레이 흥행 부진에 실망에 실망을 거듭하다 결국 역대 영화 흥행 순위...   \n",
              "4   엔드게임'은 어벤져스 시리즈의 마지막 편인데요. '인피니트 워' 이후에 '타노스'에...   \n",
              "..                                                ...   \n",
              "95  북한영화 ㅠ-ㅠ 같다는 생각이다..온갖 북한 말투에...북한이 항일했다는 생각이 들...   \n",
              "96  원작 소설을 읽었던 저는 역사의 격동기였던 조선 정조시대, 연쇄살인사건, 공납 비리...   \n",
              "97  이 충무로 사극 영화는 2003년 이후로 전세계 게임업계를 폭발적으로 타격한 AOS...   \n",
              "98  어이가 없어서 글 씁니다.여기 리뷰칸 이거든요?말도안돼는게 영화가 개봉하지도 않앗는...   \n",
              "99  하쿠나 마타타♪♪\\n - 영화 라이온킹 후기\\n ☆ 프롤로그요즘 디즈니 애니메이션 ...   \n",
              "\n",
              "                                                    2  \\\n",
              "0   개봉한 지 약 7년만에 처음으로 명량을 보았다.\\n\\n늘 보고 싶었는데, 이번에 한...   \n",
              "1   이 대사를 빼놓고는 이 영화를 말할 수가 없는 거 같아요\\n\\n엄청 많이 나왔던 대...   \n",
              "2   벌써 600만도 돌파했다는 신과함께!!\\n웹툰이 원작인건 웬만한 분들 다 아실라나 ...   \n",
              "3    짧은 시간 속에 한국 전쟁, 독일 광부와 간호사 이야기, 베트남전과 이산가족 이야...   \n",
              "4    <어벤져스: 엔드게임>의 스토리는 결국 잃어버렸던 것을 다시 찾기 위한 여정이었습...   \n",
              "..                                                ...   \n",
              "95  http://www.cine21.com/news/view/?mag_id=932012...   \n",
              "96  [조선명탐정: 각시투구꽃의 비밀] 전반전 신승, 후반전 완패!\\n \\n\\n\\n\\n\\...   \n",
              "97  [군도:민란의 시대] 후기 / 어쩌면 윤종빈감독의 후퇴. \\n​\\n★★★☆\\n \\n...   \n",
              "98  임자 하고 싶은대로 해, 임자 곁엔 내가 있잖아!- 영화 남산의 부장들에서..\\n ...   \n",
              "99  평 처음 남겨보는데,애니에서 빠진 것도 많고,확실히 애니의 감동을 못주는 것 같음....   \n",
              "\n",
              "                                                    3  \\\n",
              "0   너무나도 유명한 영화였지만 나는 이제야 보게 되었다. “노희영의 브랜딩 법칙”이라는...   \n",
              "1      직장에 다니면서 가장 많이 받는 질문 중 하나가 \"주말에 뭐 했니?\" 아니면 ...   \n",
              "2   저승 법에 의하면 모든 인간은\\n\\n사후 49일동안 7번의 재판을 받게 되는데\\n\\...   \n",
              "3   나의 평점 :   3 / 5\\n\\n​\\n\\n단어 하나 만으로 눈물이 나는 어머니, ...   \n",
              "4   2019년 들어서 개봉한 영화 중 ‘극한직업’에 이어 두 번째로 많은 관객(약 1,...   \n",
              "..                                                ...   \n",
              "95  역시 돈이 되면 뭐든 하는거죠. 보기 좋습니다. 하긴 뭐 돈이면 못할일이없지 않습니...   \n",
              "96  아.. 놔 이런..나에게 이런 글까지 쓰게하다니..\\n \\n전 뭐 글도 잘 못쓰고,...   \n",
              "97  강동원(출연작: 전우치, 의형제, 우행시, 늑대의 유혹, 그녀를 믿지마세요등) 하정...   \n",
              "98  마약왕 배우 그대로 나오네마약왕 배우 그대로 나오네마약왕 배우 그대로 나오네마약왕 ...   \n",
              "99  이 글은 보기전 알아야 할것들을 적은 거지절대로 정상적인 게시글이 아니람을분명히 설...   \n",
              "\n",
              "                                                    4  \\\n",
              "0   이 작품은 어마어마한 관객수와는 별개로 평가가 애매한 편입니다..! 해전씬은 매우 ...   \n",
              "1   안녕하세요. 쿨미입니다.\\n\\n오늘 볼 영화는 2019년 초 극장을 시원하게 강타한...   \n",
              "2   2017년 마지막날 더쿠와 함께 cgv이시아폴리스에서 신과함께를 보았습니다.\\n\\n...   \n",
              "3   내 평점 ★★★☆ 7점\\n\\n​\\n\\n그저 그런 영화라고 생각했는데\\n\\n왓챠피디아...   \n",
              "4   마블 블랙위도우 배우 스칼렛 요한슨이 어벤져스 엔드게임에서 나타샤의 희생 결정을 옹...   \n",
              "..                                                ...   \n",
              "95  영화에서는 일본군이 전멸된 것으로 묘사되지만 이는 역사적 사실이 아니다.관련 자료를...   \n",
              "96  23일 오후 2시 강남 씨너스 무대인사 시사회에서 영화를 보게 되었습니다.\\n요즈음...   \n",
              "97  하정우팬을 강동원팬으로 만들어 버리는 마력의 영화군도 : 민란의 시대    아이고~...   \n",
              "98  줄거리1970년대 정치공작을 주도하며 시대를 풍미한 중앙정보부 부장들의 행적과 그 ...   \n",
              "99  현재 유행처럼 퍼지고 있는 헛소리 평론에 대하여 한마디 한다.1. 감정이 안 느껴짐...   \n",
              "\n",
              "                                                    5  \\\n",
              "0   이번에 소개드릴 영화는 2014년에 개봉한 <명량>입니다.\\n영화관에 개봉되면서 작...   \n",
              "1   결론부터 말하면 어느 정도 쏘쏘한 코미디물로써 시간 죽이기로는 좋은 영화지만 이게 ...   \n",
              "2   원래 신과함께 웹툰을 엄청나게 애정했던지라\\n영화화 소식을 접했을때부터\\n정말 너무...   \n",
              "3    넷플릭스에서 영화를 고를 때 좋은 점은 사전 정보와 리뷰에서 원천 차단된 상태로 ...   \n",
              "4   나 진짜 마블영화 안좋아하는데 이건 뭐람?\\n\\n대박 환타스틱 브라보 스펙터클 어메...   \n",
              "..                                                ...   \n",
              "95  강원도 생태경관보전지역인 동강 일대 할미꽃 집단서식지가 영화 <봉오동 전투> 촬영 ...   \n",
              "96  '조선명탐정:각시투구꽃의 비밀'로 '파괴된사나이' 후로 1년만에돌아온 김명민 \\n불...   \n",
              "97  군도:민란의 시대 \\n\\n감독 \\n윤종빈 \\n출연 \\n하정우, 강동원 \\n개봉 \\n...   \n",
              "98  영화 남산의 부장들을 한마디로 요약하면, 박정희 대통령은 정말 나쁜 놈이라는 것이다...   \n",
              "99  1. 충실한 고증, 두 마리 토끼중 한마리는 잡았지만... 어떤 토끼가 더 컷을까....   \n",
              "\n",
              "                                                    6  \\\n",
              "0   가슴에 새겨 군인본분을 다 해야 한다는\\n\\n내용의 정신교육을 많이 하는데요\\n\\n...   \n",
              "1   개인적으로 웃음에 인색한 편입니다. 입가에 미소를 띠게 하는 작품은 있어도 박장대소...   \n",
              "2   천만 관객을 한국판 판타지블록버스터 신과 봤네요\\n\\n \\n\\n연말을 겨냥해 개봉한...   \n",
              "3   배우 황정민은 매년 꼭 한번씩은 눈에서 눈물을 콸콸 뽑아 내는 것 같아요.\\n\\n그...   \n",
              "4   개인적으로 단연코 어벤져스를 포함한 마블 전시리즈중 최고였습니다. 이렇게 최고라면 ...   \n",
              "..                                                ...   \n",
              "95  쪽바리들 상품 불매운동과 여행취소 운동에 이어서 이런 영화가 나오다니. 멋집니다. ...   \n",
              "96  [조선 명탐정 : 각시투구꽃의 비밀] 허당과 천재를 넘나드는 김명민\\n감출 수 없는...   \n",
              "97  군도:민란의 시대\\n  \\n  감독\\n  윤종빈\\n  출연\\n  하정우, 강동원\\n...   \n",
              "98  2020년 현재까지 가장 많은 누적관객수를 달성한 남산의 부장들, 도대체 어떤 요인...   \n",
              "99  실사화된 라이온킹을 보고 왔습니다.사실 CG로 구현한거라 실사화라고 하기가 좀 뭐하...   \n",
              "\n",
              "                                                    7  \\\n",
              "0   ​오늘은 영화 <명량>의 후기를 남겨보려고\\n\\n하는데요! 개봉 당시에 영화관에서 ...   \n",
              "1   안녕하세요 오늘도 어김없이 영화 리뷰로 돌아 온 '영만이'입니다. 이번 포스팅에서는...   \n",
              "2   웹툰이 원작인 만화이다. 예전에 원작을 다 봤었는데 오래되어서 기억이 가물가물하다....   \n",
              "3   영화 국제시장을 다시 보게 됐습니다. 많은분들이 이 영화가 관객들의 감성팔이에 신파...   \n",
              "4   가장 인상깊었던 장면은 헐크가 에인션트를 찾아갔을때의 장면이다. \\n\\n헐크는 당연...   \n",
              "..                                                ...   \n",
              "95  할미꽃 자생지역을 망가뜨린 제작사 클라스!!자연 환경은 한번 망가뜨리면 복구에 힘을...   \n",
              "96  조선명탐정: 각시투구꽃의 비밀\\n\\n감독 \\n김석윤 \\n출연 \\n김명민, 오달수, ...   \n",
              "97  ﻿*윤종빈과 나 샘 페킨파, 스탠리 큐브릭, 스티븐 스필버그. 내가 좋아하는 감독들...   \n",
              "98  남산의 부장들\\n  \\n  감독\\n  우민호\\n  출연\\n  이병헌, 이성민, 곽도...   \n",
              "99  라이온 킹\\n  \\n  감독\\n  존 파브로\\n  출연\\n  도날드 글로버, 비욘세...   \n",
              "\n",
              "                                                    8  \\\n",
              "0   이 영화 역시 이미 본 작품이지만 기록겸 포스팅을 남겨봅니다.\\n\\n우리나라 국민이...   \n",
              "1   그런 영화가 있다\\n\\n여러 번 보아도 같은 장면이 보이면 웃고 또 웃게 되는 그런...   \n",
              "2   이제 #신과함께 는 너무 유명한 영화가 되어버린 것 같다. 얼마 전 추석 특집 영화...   \n",
              "3   국제시장'은 1950년대 한국전쟁 이후로 한국의 격변하는 시대와 그 시대 속에 살아...   \n",
              "4   <어벤져스 인피니티 워>와 이어지는 스토리\\n\\n이 영화 어벤져스 엔드게임이 나오기...   \n",
              "..                                                ...   \n",
              "95  슬퍼하지 말라우! 받은거 그대로 돌려주는 것이니까!- 영화 봉오동 전투 중에서..\\...   \n",
              "96  조선명탐정: 각시투구꽃의 비밀\\n\\n감독 \\n김석윤 \\n출연 \\n김명민, 오달수, ...   \n",
              "97  1.악은  길고  날카롭고  유연하다악은  매혹적이며  화사하며  잔인하다악은  창...   \n",
              "98  20191028코엑스 메가박스 4-E-4맥스무비 시사회3.5/5 1970년대 정치공...   \n",
              "99  ---# 생명의 순환, Circle Of Life------# 생명의 순환, Cir...   \n",
              "\n",
              "                                                    9  \\\n",
              "0   역대 한국 박스오피스 관객수 1위, 그리고 역대 매출액 2위라는\\n\\n어마어마한 기...   \n",
              "1   안녕하세요~! 행복해서 웃는 게 아닌 웃으면\\n\\n행복해진다는 말 알고 계신가요~?...   \n",
              "2   저는  신과함께 웹툰을 봤거든요.\\n웹툰 신과함께가 영화로 나왔다기에,\\n그 만화를...   \n",
              "3   ‘가장 평범한 아버지의 가장 위대한 이야기’\\n\\n1950년대 한국전쟁 이후로부터 ...   \n",
              "4   마블 짱팬으로서 어벤져스 엔드게임 리뷰를\\n\\n시작하기 전, 일단 가장 먼저 말하고...   \n",
              "..                                                ...   \n",
              "95  어이가 없네 이래놓고서 애국심 자극시키는 영화로 만들면 다 볼 줄 알죠? 나랏말싸미...   \n",
              "96  2월 1주차 국내 박스오피스 (2/4~2/6)\\n \\n모두들 설 연휴 잘 보내셨습니...   \n",
              "97  사실 뭐 신세계랑 군도는 다르긴 하지만..두 영화에서 나오는 여성캐릭터는 비중이 없...   \n",
              "98  몰입감이 좋지만 100% 주연들의 연기 때문이고, 진행과정은 너무나 단순해 긴장감은...   \n",
              "99  라이온 킹 (The Lion King, 2019) 티저 예고편 - 한글 자막    ...   \n",
              "\n",
              "                                                   10  ...  \\\n",
              "0   넷플릭스 김한민 감독님의 바로 그 영혼이 뽑혀나갈 것 같은 해전영화!\\n\\n실화를 ...  ...   \n",
              "1   마약반 형사들이 치킨집에서 잠복근무를 한다는 설정으로 친근하고 유쾌하게 만들어낸 코...  ...   \n",
              "2   영화 신과함께 죄와벌은 밑에 3가지의 관점에 보면 됩니다.\\n물론 만화가 원작이다 ...  ...   \n",
              "3   제 의지와 상관없이 지금의 가족과 헤어진다면 어떨까요? \\n\\n정말 꿈에서라도 상상...  ...   \n",
              "4   스포일러를 피해 다니다가 지쳐서 영화관에 다녀왔다. 주위환경의 영향을 많이 받는 성...  ...   \n",
              "..                                                ...  ...   \n",
              "95  제작진 이새끼들 강원도의 생태경관보호지역인 동강 일대 할미꽃 집단 서식지에서 전쟁씬...  ...   \n",
              "96  2월 2주차 국내 박스오피스 (2/11~2/13)\\n \\n안녕하세요. 월요일입니다....  ...   \n",
              "97  <p align=\"left\"></p><p style=\"text-autospace: ...  ...   \n",
              "98  남산의 부장들\\n  \\n  감독\\n  우민호\\n  출연\\n  이병헌, 이성민, 곽도...  ...   \n",
              "99  그냥 힐링영화다. 매일매일 보고 싶은.너무나 아름다운 자연풍광, 귀엽고 또 멋진 동...  ...   \n",
              "\n",
              "                                                   21  \\\n",
              "0   \"저는 명량을 보고 나서 처음 든 느낌은 \"이게 바로 영화의 매력이지!\"라는 생각이...   \n",
              "1   이병헌 감독의 영화 '극한직업'은  2019년 1월 23일에 개봉해 1,626만 명...   \n",
              "2   지난 주말, 친정 아버지의 생신을 맞아 온 식구가 모였지요. 엄마가 이 영화가 꼭 ...   \n",
              "3   국제시장영화를 밤늦게 혼자 보면서 참으로 많이 울었다. 요즘 아버지와의 갈등이 많았...   \n",
              "4   스포일러 금지 캠페인까지 있는 영화는 처음 보는 것 같습니다. 인피니티 워가 쌓아놓...   \n",
              "..                                                ...   \n",
              "95  <p align=\"left\"></p>1. 동강에 생태계 보존지역 있음2. 할미꽃 자...   \n",
              "96  영화가 개봉되기 전에 김탁환의 소설을 먼저 다 읽어보았다. 김탁환의 탁월한 글 솜씨...   \n",
              "97  군도:민란의 시대\\n  \\n  감독\\n  윤종빈\\n  출연\\n  하정우, 강동원\\n...   \n",
              "98  주말에 찾은 극장인데,한산함이 주는 느낌이 좋지만은 않았답니다.모두들 건강조심, 안...   \n",
              "99  기린도 ..얼룩말도..새도 다람쥐도 원숭이도..그저 사자한테 잡아먹히지 않으려고 사...   \n",
              "\n",
              "                                                   22  \\\n",
              "0   영화 <명량>은 1597년, 단 12척의 배로 330척 왜군의 공격에 맞서 싸운 이...   \n",
              "1   오늘은 치킨을 뜯으면서 보기 좋은 영화\\n\\n극한직업을 소개해보려 해요\\n\\n​\\n...   \n",
              "2   CG의 놀라운 발전\\n이 영화를 보는 내내 감탄한 것 중에 하나는, 바로 CG기술이...   \n",
              "3   국제시장, 이 영화는 이미 성공을 거둔 영화입니다. (관객 수 1420만, 역대 3...   \n",
              "4   1. 전개\\n\\n​\\n\\n시작은 인피니티 워에 출연을 하지 않은 호크아이의 시점으로...   \n",
              "..                                                ...   \n",
              "95  반일 감정으로 연일 국민들 피곤하고 지치는데 이런 영화를 왜 만들어서 피곤하고 스트...   \n",
              "96  비난과 비판은 구분되어야 한다는 것은 기본중의 기본.\\n \\n이유없는 원색적 비난은...   \n",
              "97  전우치+놈놈놈 같음 배우들 연기는 겁나 잘하는데 뭔가 스토리가 그에비해 단조로운 느...   \n",
              "98  남산의 부장들\\n  \\n  감독\\n  우민호\\n  출연\\n  이병헌, 이성민, 곽도...   \n",
              "99  왜이리 비슷하지수염 있는 도널드수염 없는 도널드수염 있는 치웨텔수염 없는 치웨텔호랭...   \n",
              "\n",
              "                                                   23  \\\n",
              "0   명량, 백성이 있어야 나라가 있고, 나라가 있어야 임금이 있는 법이지 살고자 하면 ...   \n",
              "1   낮에는 치킨장사! 밤에는 잠복근무!\\n\\n지금까지 이런 수사는 없었다!\\n\\n불철주...   \n",
              "2   근데 이고 모냐 ㅋㅋㅋ 생각보다 재밌다\\n난 원래 판타지는 너무 비현실적이라 안좋아...   \n",
              "3   학교 과제라 그냥 반 정도는 의무감으로 보게 됐다.\\n\\n보고 난 후, 왜 이게 2...   \n",
              "4   드디어 개봉한 MCU 어벤져스 엔드게임.\\n\\n그래도 이번주에는 낮에 운항이 없어 ...   \n",
              "..                                                ...   \n",
              "95  대학 학부시절 내 꿈은 서양사를 전공하고 대학원 외국 유학을 다녀와 교수 짓거리를 ...   \n",
              "96  편하게 반말체로 적겠슴.\\n이영화의 문제점\\n \\n1. 스토리의 기본적인 윤곽을 지...   \n",
              "97  전체적인 그림은 아름답다.\\n병풍, 대나무, 절벽, 바다, 한복, 절, 삿갓등등.....   \n",
              "98  남산의 부장들\\n  \\n  감독\\n  우민호\\n  출연\\n  이병헌, 이성민, 곽도...   \n",
              "99  결론부터 말하자면 '굳이 만들어야 했을까?' 소리가 절로 나오게 만드는 리메이크 영...   \n",
              "\n",
              "                                                   24  \\\n",
              "0   개봉한 지 약 7년만에 처음으로 명량을 보았다.\\n\\n늘 보고 싶었는데, 이번에 한...   \n",
              "1   저는 극장에서도 보고 후에 넷플릭스로 한번 더 보기도 한 작품이었습니다. \\n\\n킬...   \n",
              "2   기대를 하고 갔지만\\n솔직히 초반 중반 중반거의 마지막까지\\n왜 이게 인기있다는거지...   \n",
              "3   오늘은 영화 국제시장에 대해서 리뷰하려고 왔습니다.\\n\\n한국 전쟁 이후 거의 망했...   \n",
              "4   (스포)\\n인피니티워 전체적으로 다 기억하지 못해 내가 감정선을 이해 못 한건지 토...   \n",
              "..                                                ...   \n",
              "95  기대 그 이상의 영화였습니다.저는 감동과 재미 모두 충족했습니다 !!감동과 재미를 ...   \n",
              "96  방학이기도 하고 네티즌평이 좋아서 손주들과 보러갔는데 이건 정말 아니라고 봅니다\\n...   \n",
              "97  전작 범죄와의 전쟁의 기대가 너무 컸을까군도를 막 보고 나온 지금 난 지금 매우 화...   \n",
              "98  남산의 부장들\\n  \\n  감독\\n  우민호\\n  출연\\n  이병헌, 이성민, 곽도...   \n",
              "99  라이온킹 실사판 새로운 세상으로  라이온킹OST 비욘세신곡 19곡 \"REMEMBER...   \n",
              "\n",
              "                                                   25  \\\n",
              "0   광남이가 영화 명량을 통해 또 한번 느낀 점은 현재가 있을 수 있는 이유는 과거가 ...   \n",
              "1   <극한직업>의 줄거리는 '범인을 잡기 위해 얼떨결에 시작한 치킨집이 대박난다'로 요...   \n",
              "2   웹툰 원작을...영화로  제작 하였지만..\\n주인공의 인물이나 성격 배경..틀리다고...   \n",
              "3   배우 황정민 주연의 국제시장이라는 영화를 보았습니다.\\n\\n저는 이 영화에 별 5개...   \n",
              "4   초반에 펼쳐진 어벤져스 엔드게임을 보면서 처음의 복수는 싱거웠다. \\n\\n지난 번 ...   \n",
              "..                                                ...   \n",
              "95  갑자기 할미꽃 논란촬영은 11월 제 13회 동강 할미꽃 축제 2019년 3월 29일...   \n",
              "96  조선명탐정: 각시투구꽃의 비밀\\n\\n감독\\n김석윤\\n출연\\n김명민, 오달수, 한지민...   \n",
              "97  좋아하는 배우들 무더기로 나오길래 꼭 봐야지 생각했다. 9시 40분 영화를 봤더니 ...   \n",
              "98  이병헌과 이성민의 쌍두마차, 주변 배우들의 호연 - UP미세한 걸음걸이마저 캐릭터를...   \n",
              "99  라이온 킹\\n  \\n  감독\\n  존 파브로\\n  출연\\n  도날드 글로버, 비욘세...   \n",
              "\n",
              "                                                   26  \\\n",
              "0    너무나도 유명한 영화였지만 나는 이제야 보게 되었다. “노희영의 브랜딩 법칙”이라...   \n",
              "1   우선 나는 너무 재밌게 보고왔다. 사실 코미디영화가 관객들을 끊임없이 웃게 만들었다...   \n",
              "2   영화 신과함께 보다보니 웹툰 줄거리도\\n기억이 조금씩 나더라구요!!\\n예고편 보고서...   \n",
              "3   1,000만 관객이 넘은 영화\\n\\n\\n\\n한국의 과거를 소재로 만든 영화라 더 와...   \n",
              "4   어벤져스 엔드게임은 제목에서 드러나듯이 \\n\\n최종전의 모습을 보여주고 있어요\\n\\...   \n",
              "..                                                ...   \n",
              "95  나는 일제와 맞선 독립군들을 그린 영화 봉오동 전투에 처음에는 흥미를 느꼈다. 봉오...   \n",
              "96  영화 너무나 재밌게 잘봤구요\\n김명민 오달수 콤비 너무나 좋았어요\\n한지민의 치명적...   \n",
              "97  군도 줄거리, 결말 스포 \\n\\n \\n \\n  군도:민란의 시대\\n  \\n  감독\\...   \n",
              "98  개봉 전 TV매체로 광고가 많은 영화라 개봉일 감상을 하였다.         197...   \n",
              "99  라이온 킹\\n  \\n  감독\\n  존 파브로\\n  출연\\n  도날드 글로버, 세스 ...   \n",
              "\n",
              "                                                   27  \\\n",
              "0   여러분 안녕하세요 행복한 수요일입니다~! 다들 즐거운 하루 보내고들 계신가요~?ㅎㅎ...   \n",
              "1   <극한직업>이 개봉 당시 정말 붐이었어서\\n\\n어쩌면 명량을 제칠 수도 있겠다고 생...   \n",
              "2   웹툰이 원작인 신과함꼐\\n다행이 저는 웹툰을 안보고 영화를 봤어요\\n\\n\\n\\n\\n...   \n",
              "3   지금의 할머니, 할아버지 세대의 눈물겨운 삶을 영화에 담아냈는데요. 저는 직접 겪지...   \n",
              "4   누가 뭐래도 엔드게임 최고의 명대사는 이게 아닐까 생각하는데요 !\\n\\n이때 많은 ...   \n",
              "..                                                ...   \n",
              "95  *이런 영화가 개봉 예정이라는 걸 알리고자 쓴 글 입니다. 자세하게 분석하고 예측하...   \n",
              "96  기본정보를 보면 아시겠지만 코메디, 미스터리 물이죠.\\n조선명탐정은 탐정물 전용의 ...   \n",
              "97  하정우, 강동원 그리고 <범죄와의 전쟁>의 윤종빈감독 연출! 기대감 만빵. 올 여름...   \n",
              "98  *본 리뷰는 매우 주관적입니다. 부족한 리뷰어에 대한 이해를 부탁드립니다.\\n\\n\\...   \n",
              "99  라이온 킹\\n  \\n  감독\\n  존 파브로\\n  출연\\n  도날드 글로버, 비욘세...   \n",
              "\n",
              "                                                   28  \\\n",
              "0   영화 명량은 조선시대 실존 인물인 이순신장군이 임진왜란때\\n\\n12척의 배로 330...   \n",
              "1   영화관에서 직접 봤던 극한 직업. 만족스러운 기분을 느끼고 나왔다. \\n\\n소재도 ...   \n",
              "2   영화 신과함께 쿠키영상,엔딩크레딧,후기  영화   \\n2017. 12. 23. 11...   \n",
              "3   1. 영화 <국제시장>, 어떻게 이해할 것인가\\n\\n   \\n\\n 영화 <국제시장>...   \n",
              "4   1). 마블 팬들을 위한 영화\\n\\n \\n\\n이 영화보고 난 첫 느낌은 팬들을 위한...   \n",
              "..                                                ...   \n",
              "95  그만큼 꼭  가족들과 꼭 본다는 이야기 입니다.  이름도 성도 모르지만 나라를 위해...   \n",
              "96  조선명탐정: 각시투구꽃의 비밀\\n\\n감독\\n김석윤\\n출연\\n김명민, 오달수, 한지민...   \n",
              "97  영화 군도 (KUNDO : Age of the Rampant, 2014)를 두고 관...   \n",
              "98  남산의 부장들\\n  \\n  감독\\n  우민호\\n  출연\\n  이병헌, 이성민, 곽도...   \n",
              "99  ★★★☆북미 개봉 주말 $185,000,000(역대 9위)대한민국 개봉 주말 1,7...   \n",
              "\n",
              "                                                   29  \\\n",
              "0   이 명량이라는 영화를 보고 내 머리에 남은 강렬한 기억은 구루지마의 머리를 이순신이...   \n",
              "1   극한직업이라는 영화를 보고왔습니다..\\n\\n장르는 코미디구요..\\n\\n영화보는내내 ...   \n",
              "2   \"남자 셋이가서 셋다 주먹으로 입 틀어막고 울었어요\"\\n\"각오 단단히 하고 손수건 ...   \n",
              "3   국제시장을 보았다. 황정민이 주인공으로 나온다. 비록 억지스러운 전개가 있다고 하더...   \n",
              "4   1.영화 속의 개그\\n\\n영화 속 개그는 영화의 흥미를 높여주는 부분인 만큼 중요한...   \n",
              "..                                                ...   \n",
              "95  아니, 남북전쟁 전에있었던 시대대,무슨 북한입니까?대한민국은 원래 하나였어요. 봉오...   \n",
              "96  감독;김석윤주연;김명민,한지민,오달수\\n소설가 김탁환의 소설을 바탕으로 만들어진 영...   \n",
              "97  군도:민란의 시대\\n\\n감독 \\n윤종빈 \\n출연 \\n하정우, 강동원 \\n개봉 \\n2...   \n",
              "98  남산의 부장들\\n  \\n  감독\\n  우민호\\n  출연\\n  이병헌, 이성민, 곽도...   \n",
              "99  라이온 킹\\n  \\n  감독\\n  존 파브로\\n  출연\\n  도날드 글로버, 비욘세...   \n",
              "\n",
              "                                                   30  \n",
              "0   조선을 대표해서 전쟁에 나가는 이순신장군과 일본을 대표해서 전쟁에 나가는\\n구루지마...  \n",
              "1   영화 극한직업 리뷰 엔딩크레딧 쿠키영상 없음 포스팅 시작합니다.\\n\\n우선 쿠키영상...  \n",
              "2   주호민작가님의 웹툰을 재미나게 봤어서 당연히 영화에 대한 기대치가 매우높았졌던 영화...  \n",
              "3   영화 '국제시장'\\n한국 현대사의 압축\\n\\n광복 직후 사회가\\n안정되기도 전에\\n...  \n",
              "4   저는 부기영화 인피니티 워에서 부터 애기한 가족에 대한 관계를 캐릭터를 통해 추상적...  \n",
              "..                                                ...  \n",
              "95  조조로보고 왔습니다.예고편부터 유해진 형님의 포스에 강한 이끌려일주일전에 미리 예매...  \n",
              "96  27일날 개봉한 조선명탐정 (부제:각시투구꽃의 비밀)\\n \\n뭔가 속편이 나올듯한 ...  \n",
              "97  전반적인 컨셉은 정말이지 쿠엔틴 타란티노의 <장고>와 흡사하다.비슷하게 재밌고 비슷...  \n",
              "98  남산의 부장들\\n  \\n  감독\\n  우민호\\n  출연\\n  이병헌, 이성민, 곽도...  \n",
              "99  라이온 킹\\n\\n  \\n \\n   감독\\n    존 파브로\\n   출연\\n    도...  \n",
              "\n",
              "[100 rows x 30 columns]"
            ],
            "text/html": [
              "\n",
              "  <div id=\"df-1a778fc3-e25f-44e8-9db6-7ee9f46bf819\">\n",
              "    <div class=\"colab-df-container\">\n",
              "      <div>\n",
              "<style scoped>\n",
              "    .dataframe tbody tr th:only-of-type {\n",
              "        vertical-align: middle;\n",
              "    }\n",
              "\n",
              "    .dataframe tbody tr th {\n",
              "        vertical-align: top;\n",
              "    }\n",
              "\n",
              "    .dataframe thead th {\n",
              "        text-align: right;\n",
              "    }\n",
              "</style>\n",
              "<table border=\"1\" class=\"dataframe\">\n",
              "  <thead>\n",
              "    <tr style=\"text-align: right;\">\n",
              "      <th></th>\n",
              "      <th>1</th>\n",
              "      <th>2</th>\n",
              "      <th>3</th>\n",
              "      <th>4</th>\n",
              "      <th>5</th>\n",
              "      <th>6</th>\n",
              "      <th>7</th>\n",
              "      <th>8</th>\n",
              "      <th>9</th>\n",
              "      <th>10</th>\n",
              "      <th>...</th>\n",
              "      <th>21</th>\n",
              "      <th>22</th>\n",
              "      <th>23</th>\n",
              "      <th>24</th>\n",
              "      <th>25</th>\n",
              "      <th>26</th>\n",
              "      <th>27</th>\n",
              "      <th>28</th>\n",
              "      <th>29</th>\n",
              "      <th>30</th>\n",
              "    </tr>\n",
              "  </thead>\n",
              "  <tbody>\n",
              "    <tr>\n",
              "      <th>0</th>\n",
              "      <td>이 영화는 최근에 보게 되었다.\\n\\n사실 개봉했을 당시에 나는 무척 반감이 들었다...</td>\n",
              "      <td>개봉한 지 약 7년만에 처음으로 명량을 보았다.\\n\\n늘 보고 싶었는데, 이번에 한...</td>\n",
              "      <td>너무나도 유명한 영화였지만 나는 이제야 보게 되었다. “노희영의 브랜딩 법칙”이라는...</td>\n",
              "      <td>이 작품은 어마어마한 관객수와는 별개로 평가가 애매한 편입니다..! 해전씬은 매우 ...</td>\n",
              "      <td>이번에 소개드릴 영화는 2014년에 개봉한 &lt;명량&gt;입니다.\\n영화관에 개봉되면서 작...</td>\n",
              "      <td>가슴에 새겨 군인본분을 다 해야 한다는\\n\\n내용의 정신교육을 많이 하는데요\\n\\n...</td>\n",
              "      <td>​오늘은 영화 &lt;명량&gt;의 후기를 남겨보려고\\n\\n하는데요! 개봉 당시에 영화관에서 ...</td>\n",
              "      <td>이 영화 역시 이미 본 작품이지만 기록겸 포스팅을 남겨봅니다.\\n\\n우리나라 국민이...</td>\n",
              "      <td>역대 한국 박스오피스 관객수 1위, 그리고 역대 매출액 2위라는\\n\\n어마어마한 기...</td>\n",
              "      <td>넷플릭스 김한민 감독님의 바로 그 영혼이 뽑혀나갈 것 같은 해전영화!\\n\\n실화를 ...</td>\n",
              "      <td>...</td>\n",
              "      <td>\"저는 명량을 보고 나서 처음 든 느낌은 \"이게 바로 영화의 매력이지!\"라는 생각이...</td>\n",
              "      <td>영화 &lt;명량&gt;은 1597년, 단 12척의 배로 330척 왜군의 공격에 맞서 싸운 이...</td>\n",
              "      <td>명량, 백성이 있어야 나라가 있고, 나라가 있어야 임금이 있는 법이지 살고자 하면 ...</td>\n",
              "      <td>개봉한 지 약 7년만에 처음으로 명량을 보았다.\\n\\n늘 보고 싶었는데, 이번에 한...</td>\n",
              "      <td>광남이가 영화 명량을 통해 또 한번 느낀 점은 현재가 있을 수 있는 이유는 과거가 ...</td>\n",
              "      <td>너무나도 유명한 영화였지만 나는 이제야 보게 되었다. “노희영의 브랜딩 법칙”이라...</td>\n",
              "      <td>여러분 안녕하세요 행복한 수요일입니다~! 다들 즐거운 하루 보내고들 계신가요~?ㅎㅎ...</td>\n",
              "      <td>영화 명량은 조선시대 실존 인물인 이순신장군이 임진왜란때\\n\\n12척의 배로 330...</td>\n",
              "      <td>이 명량이라는 영화를 보고 내 머리에 남은 강렬한 기억은 구루지마의 머리를 이순신이...</td>\n",
              "      <td>조선을 대표해서 전쟁에 나가는 이순신장군과 일본을 대표해서 전쟁에 나가는\\n구루지마...</td>\n",
              "    </tr>\n",
              "    <tr>\n",
              "      <th>1</th>\n",
              "      <td>영화 &lt;극한직업&gt; 보셨나요? 보통 작정하고 웃기려는 작품을 보다 보면 기대에 못 미...</td>\n",
              "      <td>이 대사를 빼놓고는 이 영화를 말할 수가 없는 거 같아요\\n\\n엄청 많이 나왔던 대...</td>\n",
              "      <td>직장에 다니면서 가장 많이 받는 질문 중 하나가 \"주말에 뭐 했니?\" 아니면 ...</td>\n",
              "      <td>안녕하세요. 쿨미입니다.\\n\\n오늘 볼 영화는 2019년 초 극장을 시원하게 강타한...</td>\n",
              "      <td>결론부터 말하면 어느 정도 쏘쏘한 코미디물로써 시간 죽이기로는 좋은 영화지만 이게 ...</td>\n",
              "      <td>개인적으로 웃음에 인색한 편입니다. 입가에 미소를 띠게 하는 작품은 있어도 박장대소...</td>\n",
              "      <td>안녕하세요 오늘도 어김없이 영화 리뷰로 돌아 온 '영만이'입니다. 이번 포스팅에서는...</td>\n",
              "      <td>그런 영화가 있다\\n\\n여러 번 보아도 같은 장면이 보이면 웃고 또 웃게 되는 그런...</td>\n",
              "      <td>안녕하세요~! 행복해서 웃는 게 아닌 웃으면\\n\\n행복해진다는 말 알고 계신가요~?...</td>\n",
              "      <td>마약반 형사들이 치킨집에서 잠복근무를 한다는 설정으로 친근하고 유쾌하게 만들어낸 코...</td>\n",
              "      <td>...</td>\n",
              "      <td>이병헌 감독의 영화 '극한직업'은  2019년 1월 23일에 개봉해 1,626만 명...</td>\n",
              "      <td>오늘은 치킨을 뜯으면서 보기 좋은 영화\\n\\n극한직업을 소개해보려 해요\\n\\n​\\n...</td>\n",
              "      <td>낮에는 치킨장사! 밤에는 잠복근무!\\n\\n지금까지 이런 수사는 없었다!\\n\\n불철주...</td>\n",
              "      <td>저는 극장에서도 보고 후에 넷플릭스로 한번 더 보기도 한 작품이었습니다. \\n\\n킬...</td>\n",
              "      <td>&lt;극한직업&gt;의 줄거리는 '범인을 잡기 위해 얼떨결에 시작한 치킨집이 대박난다'로 요...</td>\n",
              "      <td>우선 나는 너무 재밌게 보고왔다. 사실 코미디영화가 관객들을 끊임없이 웃게 만들었다...</td>\n",
              "      <td>&lt;극한직업&gt;이 개봉 당시 정말 붐이었어서\\n\\n어쩌면 명량을 제칠 수도 있겠다고 생...</td>\n",
              "      <td>영화관에서 직접 봤던 극한 직업. 만족스러운 기분을 느끼고 나왔다. \\n\\n소재도 ...</td>\n",
              "      <td>극한직업이라는 영화를 보고왔습니다..\\n\\n장르는 코미디구요..\\n\\n영화보는내내 ...</td>\n",
              "      <td>영화 극한직업 리뷰 엔딩크레딧 쿠키영상 없음 포스팅 시작합니다.\\n\\n우선 쿠키영상...</td>\n",
              "    </tr>\n",
              "    <tr>\n",
              "      <th>2</th>\n",
              "      <td>안녕하세요 여러분!\\n\\n오늘은,\\n\\n영화신과함께 리뷰를 하려고 왔습니다~\\n\\n...</td>\n",
              "      <td>벌써 600만도 돌파했다는 신과함께!!\\n웹툰이 원작인건 웬만한 분들 다 아실라나 ...</td>\n",
              "      <td>저승 법에 의하면 모든 인간은\\n\\n사후 49일동안 7번의 재판을 받게 되는데\\n\\...</td>\n",
              "      <td>2017년 마지막날 더쿠와 함께 cgv이시아폴리스에서 신과함께를 보았습니다.\\n\\n...</td>\n",
              "      <td>원래 신과함께 웹툰을 엄청나게 애정했던지라\\n영화화 소식을 접했을때부터\\n정말 너무...</td>\n",
              "      <td>천만 관객을 한국판 판타지블록버스터 신과 봤네요\\n\\n \\n\\n연말을 겨냥해 개봉한...</td>\n",
              "      <td>웹툰이 원작인 만화이다. 예전에 원작을 다 봤었는데 오래되어서 기억이 가물가물하다....</td>\n",
              "      <td>이제 #신과함께 는 너무 유명한 영화가 되어버린 것 같다. 얼마 전 추석 특집 영화...</td>\n",
              "      <td>저는  신과함께 웹툰을 봤거든요.\\n웹툰 신과함께가 영화로 나왔다기에,\\n그 만화를...</td>\n",
              "      <td>영화 신과함께 죄와벌은 밑에 3가지의 관점에 보면 됩니다.\\n물론 만화가 원작이다 ...</td>\n",
              "      <td>...</td>\n",
              "      <td>지난 주말, 친정 아버지의 생신을 맞아 온 식구가 모였지요. 엄마가 이 영화가 꼭 ...</td>\n",
              "      <td>CG의 놀라운 발전\\n이 영화를 보는 내내 감탄한 것 중에 하나는, 바로 CG기술이...</td>\n",
              "      <td>근데 이고 모냐 ㅋㅋㅋ 생각보다 재밌다\\n난 원래 판타지는 너무 비현실적이라 안좋아...</td>\n",
              "      <td>기대를 하고 갔지만\\n솔직히 초반 중반 중반거의 마지막까지\\n왜 이게 인기있다는거지...</td>\n",
              "      <td>웹툰 원작을...영화로  제작 하였지만..\\n주인공의 인물이나 성격 배경..틀리다고...</td>\n",
              "      <td>영화 신과함께 보다보니 웹툰 줄거리도\\n기억이 조금씩 나더라구요!!\\n예고편 보고서...</td>\n",
              "      <td>웹툰이 원작인 신과함꼐\\n다행이 저는 웹툰을 안보고 영화를 봤어요\\n\\n\\n\\n\\n...</td>\n",
              "      <td>영화 신과함께 쿠키영상,엔딩크레딧,후기  영화   \\n2017. 12. 23. 11...</td>\n",
              "      <td>\"남자 셋이가서 셋다 주먹으로 입 틀어막고 울었어요\"\\n\"각오 단단히 하고 손수건 ...</td>\n",
              "      <td>주호민작가님의 웹툰을 재미나게 봤어서 당연히 영화에 대한 기대치가 매우높았졌던 영화...</td>\n",
              "    </tr>\n",
              "    <tr>\n",
              "      <th>3</th>\n",
              "      <td>한국 영화들의 릴레이 흥행 부진에 실망에 실망을 거듭하다 결국 역대 영화 흥행 순위...</td>\n",
              "      <td>짧은 시간 속에 한국 전쟁, 독일 광부와 간호사 이야기, 베트남전과 이산가족 이야...</td>\n",
              "      <td>나의 평점 :   3 / 5\\n\\n​\\n\\n단어 하나 만으로 눈물이 나는 어머니, ...</td>\n",
              "      <td>내 평점 ★★★☆ 7점\\n\\n​\\n\\n그저 그런 영화라고 생각했는데\\n\\n왓챠피디아...</td>\n",
              "      <td>넷플릭스에서 영화를 고를 때 좋은 점은 사전 정보와 리뷰에서 원천 차단된 상태로 ...</td>\n",
              "      <td>배우 황정민은 매년 꼭 한번씩은 눈에서 눈물을 콸콸 뽑아 내는 것 같아요.\\n\\n그...</td>\n",
              "      <td>영화 국제시장을 다시 보게 됐습니다. 많은분들이 이 영화가 관객들의 감성팔이에 신파...</td>\n",
              "      <td>국제시장'은 1950년대 한국전쟁 이후로 한국의 격변하는 시대와 그 시대 속에 살아...</td>\n",
              "      <td>‘가장 평범한 아버지의 가장 위대한 이야기’\\n\\n1950년대 한국전쟁 이후로부터 ...</td>\n",
              "      <td>제 의지와 상관없이 지금의 가족과 헤어진다면 어떨까요? \\n\\n정말 꿈에서라도 상상...</td>\n",
              "      <td>...</td>\n",
              "      <td>국제시장영화를 밤늦게 혼자 보면서 참으로 많이 울었다. 요즘 아버지와의 갈등이 많았...</td>\n",
              "      <td>국제시장, 이 영화는 이미 성공을 거둔 영화입니다. (관객 수 1420만, 역대 3...</td>\n",
              "      <td>학교 과제라 그냥 반 정도는 의무감으로 보게 됐다.\\n\\n보고 난 후, 왜 이게 2...</td>\n",
              "      <td>오늘은 영화 국제시장에 대해서 리뷰하려고 왔습니다.\\n\\n한국 전쟁 이후 거의 망했...</td>\n",
              "      <td>배우 황정민 주연의 국제시장이라는 영화를 보았습니다.\\n\\n저는 이 영화에 별 5개...</td>\n",
              "      <td>1,000만 관객이 넘은 영화\\n\\n\\n\\n한국의 과거를 소재로 만든 영화라 더 와...</td>\n",
              "      <td>지금의 할머니, 할아버지 세대의 눈물겨운 삶을 영화에 담아냈는데요. 저는 직접 겪지...</td>\n",
              "      <td>1. 영화 &lt;국제시장&gt;, 어떻게 이해할 것인가\\n\\n   \\n\\n 영화 &lt;국제시장&gt;...</td>\n",
              "      <td>국제시장을 보았다. 황정민이 주인공으로 나온다. 비록 억지스러운 전개가 있다고 하더...</td>\n",
              "      <td>영화 '국제시장'\\n한국 현대사의 압축\\n\\n광복 직후 사회가\\n안정되기도 전에\\n...</td>\n",
              "    </tr>\n",
              "    <tr>\n",
              "      <th>4</th>\n",
              "      <td>엔드게임'은 어벤져스 시리즈의 마지막 편인데요. '인피니트 워' 이후에 '타노스'에...</td>\n",
              "      <td>&lt;어벤져스: 엔드게임&gt;의 스토리는 결국 잃어버렸던 것을 다시 찾기 위한 여정이었습...</td>\n",
              "      <td>2019년 들어서 개봉한 영화 중 ‘극한직업’에 이어 두 번째로 많은 관객(약 1,...</td>\n",
              "      <td>마블 블랙위도우 배우 스칼렛 요한슨이 어벤져스 엔드게임에서 나타샤의 희생 결정을 옹...</td>\n",
              "      <td>나 진짜 마블영화 안좋아하는데 이건 뭐람?\\n\\n대박 환타스틱 브라보 스펙터클 어메...</td>\n",
              "      <td>개인적으로 단연코 어벤져스를 포함한 마블 전시리즈중 최고였습니다. 이렇게 최고라면 ...</td>\n",
              "      <td>가장 인상깊었던 장면은 헐크가 에인션트를 찾아갔을때의 장면이다. \\n\\n헐크는 당연...</td>\n",
              "      <td>&lt;어벤져스 인피니티 워&gt;와 이어지는 스토리\\n\\n이 영화 어벤져스 엔드게임이 나오기...</td>\n",
              "      <td>마블 짱팬으로서 어벤져스 엔드게임 리뷰를\\n\\n시작하기 전, 일단 가장 먼저 말하고...</td>\n",
              "      <td>스포일러를 피해 다니다가 지쳐서 영화관에 다녀왔다. 주위환경의 영향을 많이 받는 성...</td>\n",
              "      <td>...</td>\n",
              "      <td>스포일러 금지 캠페인까지 있는 영화는 처음 보는 것 같습니다. 인피니티 워가 쌓아놓...</td>\n",
              "      <td>1. 전개\\n\\n​\\n\\n시작은 인피니티 워에 출연을 하지 않은 호크아이의 시점으로...</td>\n",
              "      <td>드디어 개봉한 MCU 어벤져스 엔드게임.\\n\\n그래도 이번주에는 낮에 운항이 없어 ...</td>\n",
              "      <td>(스포)\\n인피니티워 전체적으로 다 기억하지 못해 내가 감정선을 이해 못 한건지 토...</td>\n",
              "      <td>초반에 펼쳐진 어벤져스 엔드게임을 보면서 처음의 복수는 싱거웠다. \\n\\n지난 번 ...</td>\n",
              "      <td>어벤져스 엔드게임은 제목에서 드러나듯이 \\n\\n최종전의 모습을 보여주고 있어요\\n\\...</td>\n",
              "      <td>누가 뭐래도 엔드게임 최고의 명대사는 이게 아닐까 생각하는데요 !\\n\\n이때 많은 ...</td>\n",
              "      <td>1). 마블 팬들을 위한 영화\\n\\n \\n\\n이 영화보고 난 첫 느낌은 팬들을 위한...</td>\n",
              "      <td>1.영화 속의 개그\\n\\n영화 속 개그는 영화의 흥미를 높여주는 부분인 만큼 중요한...</td>\n",
              "      <td>저는 부기영화 인피니티 워에서 부터 애기한 가족에 대한 관계를 캐릭터를 통해 추상적...</td>\n",
              "    </tr>\n",
              "    <tr>\n",
              "      <th>...</th>\n",
              "      <td>...</td>\n",
              "      <td>...</td>\n",
              "      <td>...</td>\n",
              "      <td>...</td>\n",
              "      <td>...</td>\n",
              "      <td>...</td>\n",
              "      <td>...</td>\n",
              "      <td>...</td>\n",
              "      <td>...</td>\n",
              "      <td>...</td>\n",
              "      <td>...</td>\n",
              "      <td>...</td>\n",
              "      <td>...</td>\n",
              "      <td>...</td>\n",
              "      <td>...</td>\n",
              "      <td>...</td>\n",
              "      <td>...</td>\n",
              "      <td>...</td>\n",
              "      <td>...</td>\n",
              "      <td>...</td>\n",
              "      <td>...</td>\n",
              "    </tr>\n",
              "    <tr>\n",
              "      <th>95</th>\n",
              "      <td>북한영화 ㅠ-ㅠ 같다는 생각이다..온갖 북한 말투에...북한이 항일했다는 생각이 들...</td>\n",
              "      <td>http://www.cine21.com/news/view/?mag_id=932012...</td>\n",
              "      <td>역시 돈이 되면 뭐든 하는거죠. 보기 좋습니다. 하긴 뭐 돈이면 못할일이없지 않습니...</td>\n",
              "      <td>영화에서는 일본군이 전멸된 것으로 묘사되지만 이는 역사적 사실이 아니다.관련 자료를...</td>\n",
              "      <td>강원도 생태경관보전지역인 동강 일대 할미꽃 집단서식지가 영화 &lt;봉오동 전투&gt; 촬영 ...</td>\n",
              "      <td>쪽바리들 상품 불매운동과 여행취소 운동에 이어서 이런 영화가 나오다니. 멋집니다. ...</td>\n",
              "      <td>할미꽃 자생지역을 망가뜨린 제작사 클라스!!자연 환경은 한번 망가뜨리면 복구에 힘을...</td>\n",
              "      <td>슬퍼하지 말라우! 받은거 그대로 돌려주는 것이니까!- 영화 봉오동 전투 중에서..\\...</td>\n",
              "      <td>어이가 없네 이래놓고서 애국심 자극시키는 영화로 만들면 다 볼 줄 알죠? 나랏말싸미...</td>\n",
              "      <td>제작진 이새끼들 강원도의 생태경관보호지역인 동강 일대 할미꽃 집단 서식지에서 전쟁씬...</td>\n",
              "      <td>...</td>\n",
              "      <td>&lt;p align=\"left\"&gt;&lt;/p&gt;1. 동강에 생태계 보존지역 있음2. 할미꽃 자...</td>\n",
              "      <td>반일 감정으로 연일 국민들 피곤하고 지치는데 이런 영화를 왜 만들어서 피곤하고 스트...</td>\n",
              "      <td>대학 학부시절 내 꿈은 서양사를 전공하고 대학원 외국 유학을 다녀와 교수 짓거리를 ...</td>\n",
              "      <td>기대 그 이상의 영화였습니다.저는 감동과 재미 모두 충족했습니다 !!감동과 재미를 ...</td>\n",
              "      <td>갑자기 할미꽃 논란촬영은 11월 제 13회 동강 할미꽃 축제 2019년 3월 29일...</td>\n",
              "      <td>나는 일제와 맞선 독립군들을 그린 영화 봉오동 전투에 처음에는 흥미를 느꼈다. 봉오...</td>\n",
              "      <td>*이런 영화가 개봉 예정이라는 걸 알리고자 쓴 글 입니다. 자세하게 분석하고 예측하...</td>\n",
              "      <td>그만큼 꼭  가족들과 꼭 본다는 이야기 입니다.  이름도 성도 모르지만 나라를 위해...</td>\n",
              "      <td>아니, 남북전쟁 전에있었던 시대대,무슨 북한입니까?대한민국은 원래 하나였어요. 봉오...</td>\n",
              "      <td>조조로보고 왔습니다.예고편부터 유해진 형님의 포스에 강한 이끌려일주일전에 미리 예매...</td>\n",
              "    </tr>\n",
              "    <tr>\n",
              "      <th>96</th>\n",
              "      <td>원작 소설을 읽었던 저는 역사의 격동기였던 조선 정조시대, 연쇄살인사건, 공납 비리...</td>\n",
              "      <td>[조선명탐정: 각시투구꽃의 비밀] 전반전 신승, 후반전 완패!\\n \\n\\n\\n\\n\\...</td>\n",
              "      <td>아.. 놔 이런..나에게 이런 글까지 쓰게하다니..\\n \\n전 뭐 글도 잘 못쓰고,...</td>\n",
              "      <td>23일 오후 2시 강남 씨너스 무대인사 시사회에서 영화를 보게 되었습니다.\\n요즈음...</td>\n",
              "      <td>'조선명탐정:각시투구꽃의 비밀'로 '파괴된사나이' 후로 1년만에돌아온 김명민 \\n불...</td>\n",
              "      <td>[조선 명탐정 : 각시투구꽃의 비밀] 허당과 천재를 넘나드는 김명민\\n감출 수 없는...</td>\n",
              "      <td>조선명탐정: 각시투구꽃의 비밀\\n\\n감독 \\n김석윤 \\n출연 \\n김명민, 오달수, ...</td>\n",
              "      <td>조선명탐정: 각시투구꽃의 비밀\\n\\n감독 \\n김석윤 \\n출연 \\n김명민, 오달수, ...</td>\n",
              "      <td>2월 1주차 국내 박스오피스 (2/4~2/6)\\n \\n모두들 설 연휴 잘 보내셨습니...</td>\n",
              "      <td>2월 2주차 국내 박스오피스 (2/11~2/13)\\n \\n안녕하세요. 월요일입니다....</td>\n",
              "      <td>...</td>\n",
              "      <td>영화가 개봉되기 전에 김탁환의 소설을 먼저 다 읽어보았다. 김탁환의 탁월한 글 솜씨...</td>\n",
              "      <td>비난과 비판은 구분되어야 한다는 것은 기본중의 기본.\\n \\n이유없는 원색적 비난은...</td>\n",
              "      <td>편하게 반말체로 적겠슴.\\n이영화의 문제점\\n \\n1. 스토리의 기본적인 윤곽을 지...</td>\n",
              "      <td>방학이기도 하고 네티즌평이 좋아서 손주들과 보러갔는데 이건 정말 아니라고 봅니다\\n...</td>\n",
              "      <td>조선명탐정: 각시투구꽃의 비밀\\n\\n감독\\n김석윤\\n출연\\n김명민, 오달수, 한지민...</td>\n",
              "      <td>영화 너무나 재밌게 잘봤구요\\n김명민 오달수 콤비 너무나 좋았어요\\n한지민의 치명적...</td>\n",
              "      <td>기본정보를 보면 아시겠지만 코메디, 미스터리 물이죠.\\n조선명탐정은 탐정물 전용의 ...</td>\n",
              "      <td>조선명탐정: 각시투구꽃의 비밀\\n\\n감독\\n김석윤\\n출연\\n김명민, 오달수, 한지민...</td>\n",
              "      <td>감독;김석윤주연;김명민,한지민,오달수\\n소설가 김탁환의 소설을 바탕으로 만들어진 영...</td>\n",
              "      <td>27일날 개봉한 조선명탐정 (부제:각시투구꽃의 비밀)\\n \\n뭔가 속편이 나올듯한 ...</td>\n",
              "    </tr>\n",
              "    <tr>\n",
              "      <th>97</th>\n",
              "      <td>이 충무로 사극 영화는 2003년 이후로 전세계 게임업계를 폭발적으로 타격한 AOS...</td>\n",
              "      <td>[군도:민란의 시대] 후기 / 어쩌면 윤종빈감독의 후퇴. \\n​\\n★★★☆\\n \\n...</td>\n",
              "      <td>강동원(출연작: 전우치, 의형제, 우행시, 늑대의 유혹, 그녀를 믿지마세요등) 하정...</td>\n",
              "      <td>하정우팬을 강동원팬으로 만들어 버리는 마력의 영화군도 : 민란의 시대    아이고~...</td>\n",
              "      <td>군도:민란의 시대 \\n\\n감독 \\n윤종빈 \\n출연 \\n하정우, 강동원 \\n개봉 \\n...</td>\n",
              "      <td>군도:민란의 시대\\n  \\n  감독\\n  윤종빈\\n  출연\\n  하정우, 강동원\\n...</td>\n",
              "      <td>﻿*윤종빈과 나 샘 페킨파, 스탠리 큐브릭, 스티븐 스필버그. 내가 좋아하는 감독들...</td>\n",
              "      <td>1.악은  길고  날카롭고  유연하다악은  매혹적이며  화사하며  잔인하다악은  창...</td>\n",
              "      <td>사실 뭐 신세계랑 군도는 다르긴 하지만..두 영화에서 나오는 여성캐릭터는 비중이 없...</td>\n",
              "      <td>&lt;p align=\"left\"&gt;&lt;/p&gt;&lt;p style=\"text-autospace: ...</td>\n",
              "      <td>...</td>\n",
              "      <td>군도:민란의 시대\\n  \\n  감독\\n  윤종빈\\n  출연\\n  하정우, 강동원\\n...</td>\n",
              "      <td>전우치+놈놈놈 같음 배우들 연기는 겁나 잘하는데 뭔가 스토리가 그에비해 단조로운 느...</td>\n",
              "      <td>전체적인 그림은 아름답다.\\n병풍, 대나무, 절벽, 바다, 한복, 절, 삿갓등등.....</td>\n",
              "      <td>전작 범죄와의 전쟁의 기대가 너무 컸을까군도를 막 보고 나온 지금 난 지금 매우 화...</td>\n",
              "      <td>좋아하는 배우들 무더기로 나오길래 꼭 봐야지 생각했다. 9시 40분 영화를 봤더니 ...</td>\n",
              "      <td>군도 줄거리, 결말 스포 \\n\\n \\n \\n  군도:민란의 시대\\n  \\n  감독\\...</td>\n",
              "      <td>하정우, 강동원 그리고 &lt;범죄와의 전쟁&gt;의 윤종빈감독 연출! 기대감 만빵. 올 여름...</td>\n",
              "      <td>영화 군도 (KUNDO : Age of the Rampant, 2014)를 두고 관...</td>\n",
              "      <td>군도:민란의 시대\\n\\n감독 \\n윤종빈 \\n출연 \\n하정우, 강동원 \\n개봉 \\n2...</td>\n",
              "      <td>전반적인 컨셉은 정말이지 쿠엔틴 타란티노의 &lt;장고&gt;와 흡사하다.비슷하게 재밌고 비슷...</td>\n",
              "    </tr>\n",
              "    <tr>\n",
              "      <th>98</th>\n",
              "      <td>어이가 없어서 글 씁니다.여기 리뷰칸 이거든요?말도안돼는게 영화가 개봉하지도 않앗는...</td>\n",
              "      <td>임자 하고 싶은대로 해, 임자 곁엔 내가 있잖아!- 영화 남산의 부장들에서..\\n ...</td>\n",
              "      <td>마약왕 배우 그대로 나오네마약왕 배우 그대로 나오네마약왕 배우 그대로 나오네마약왕 ...</td>\n",
              "      <td>줄거리1970년대 정치공작을 주도하며 시대를 풍미한 중앙정보부 부장들의 행적과 그 ...</td>\n",
              "      <td>영화 남산의 부장들을 한마디로 요약하면, 박정희 대통령은 정말 나쁜 놈이라는 것이다...</td>\n",
              "      <td>2020년 현재까지 가장 많은 누적관객수를 달성한 남산의 부장들, 도대체 어떤 요인...</td>\n",
              "      <td>남산의 부장들\\n  \\n  감독\\n  우민호\\n  출연\\n  이병헌, 이성민, 곽도...</td>\n",
              "      <td>20191028코엑스 메가박스 4-E-4맥스무비 시사회3.5/5 1970년대 정치공...</td>\n",
              "      <td>몰입감이 좋지만 100% 주연들의 연기 때문이고, 진행과정은 너무나 단순해 긴장감은...</td>\n",
              "      <td>남산의 부장들\\n  \\n  감독\\n  우민호\\n  출연\\n  이병헌, 이성민, 곽도...</td>\n",
              "      <td>...</td>\n",
              "      <td>주말에 찾은 극장인데,한산함이 주는 느낌이 좋지만은 않았답니다.모두들 건강조심, 안...</td>\n",
              "      <td>남산의 부장들\\n  \\n  감독\\n  우민호\\n  출연\\n  이병헌, 이성민, 곽도...</td>\n",
              "      <td>남산의 부장들\\n  \\n  감독\\n  우민호\\n  출연\\n  이병헌, 이성민, 곽도...</td>\n",
              "      <td>남산의 부장들\\n  \\n  감독\\n  우민호\\n  출연\\n  이병헌, 이성민, 곽도...</td>\n",
              "      <td>이병헌과 이성민의 쌍두마차, 주변 배우들의 호연 - UP미세한 걸음걸이마저 캐릭터를...</td>\n",
              "      <td>개봉 전 TV매체로 광고가 많은 영화라 개봉일 감상을 하였다.         197...</td>\n",
              "      <td>*본 리뷰는 매우 주관적입니다. 부족한 리뷰어에 대한 이해를 부탁드립니다.\\n\\n\\...</td>\n",
              "      <td>남산의 부장들\\n  \\n  감독\\n  우민호\\n  출연\\n  이병헌, 이성민, 곽도...</td>\n",
              "      <td>남산의 부장들\\n  \\n  감독\\n  우민호\\n  출연\\n  이병헌, 이성민, 곽도...</td>\n",
              "      <td>남산의 부장들\\n  \\n  감독\\n  우민호\\n  출연\\n  이병헌, 이성민, 곽도...</td>\n",
              "    </tr>\n",
              "    <tr>\n",
              "      <th>99</th>\n",
              "      <td>하쿠나 마타타♪♪\\n - 영화 라이온킹 후기\\n ☆ 프롤로그요즘 디즈니 애니메이션 ...</td>\n",
              "      <td>평 처음 남겨보는데,애니에서 빠진 것도 많고,확실히 애니의 감동을 못주는 것 같음....</td>\n",
              "      <td>이 글은 보기전 알아야 할것들을 적은 거지절대로 정상적인 게시글이 아니람을분명히 설...</td>\n",
              "      <td>현재 유행처럼 퍼지고 있는 헛소리 평론에 대하여 한마디 한다.1. 감정이 안 느껴짐...</td>\n",
              "      <td>1. 충실한 고증, 두 마리 토끼중 한마리는 잡았지만... 어떤 토끼가 더 컷을까....</td>\n",
              "      <td>실사화된 라이온킹을 보고 왔습니다.사실 CG로 구현한거라 실사화라고 하기가 좀 뭐하...</td>\n",
              "      <td>라이온 킹\\n  \\n  감독\\n  존 파브로\\n  출연\\n  도날드 글로버, 비욘세...</td>\n",
              "      <td>---# 생명의 순환, Circle Of Life------# 생명의 순환, Cir...</td>\n",
              "      <td>라이온 킹 (The Lion King, 2019) 티저 예고편 - 한글 자막    ...</td>\n",
              "      <td>그냥 힐링영화다. 매일매일 보고 싶은.너무나 아름다운 자연풍광, 귀엽고 또 멋진 동...</td>\n",
              "      <td>...</td>\n",
              "      <td>기린도 ..얼룩말도..새도 다람쥐도 원숭이도..그저 사자한테 잡아먹히지 않으려고 사...</td>\n",
              "      <td>왜이리 비슷하지수염 있는 도널드수염 없는 도널드수염 있는 치웨텔수염 없는 치웨텔호랭...</td>\n",
              "      <td>결론부터 말하자면 '굳이 만들어야 했을까?' 소리가 절로 나오게 만드는 리메이크 영...</td>\n",
              "      <td>라이온킹 실사판 새로운 세상으로  라이온킹OST 비욘세신곡 19곡 \"REMEMBER...</td>\n",
              "      <td>라이온 킹\\n  \\n  감독\\n  존 파브로\\n  출연\\n  도날드 글로버, 비욘세...</td>\n",
              "      <td>라이온 킹\\n  \\n  감독\\n  존 파브로\\n  출연\\n  도날드 글로버, 세스 ...</td>\n",
              "      <td>라이온 킹\\n  \\n  감독\\n  존 파브로\\n  출연\\n  도날드 글로버, 비욘세...</td>\n",
              "      <td>★★★☆북미 개봉 주말 $185,000,000(역대 9위)대한민국 개봉 주말 1,7...</td>\n",
              "      <td>라이온 킹\\n  \\n  감독\\n  존 파브로\\n  출연\\n  도날드 글로버, 비욘세...</td>\n",
              "      <td>라이온 킹\\n\\n  \\n \\n   감독\\n    존 파브로\\n   출연\\n    도...</td>\n",
              "    </tr>\n",
              "  </tbody>\n",
              "</table>\n",
              "<p>100 rows × 30 columns</p>\n",
              "</div>\n",
              "      <button class=\"colab-df-convert\" onclick=\"convertToInteractive('df-1a778fc3-e25f-44e8-9db6-7ee9f46bf819')\"\n",
              "              title=\"Convert this dataframe to an interactive table.\"\n",
              "              style=\"display:none;\">\n",
              "        \n",
              "  <svg xmlns=\"http://www.w3.org/2000/svg\" height=\"24px\"viewBox=\"0 0 24 24\"\n",
              "       width=\"24px\">\n",
              "    <path d=\"M0 0h24v24H0V0z\" fill=\"none\"/>\n",
              "    <path d=\"M18.56 5.44l.94 2.06.94-2.06 2.06-.94-2.06-.94-.94-2.06-.94 2.06-2.06.94zm-11 1L8.5 8.5l.94-2.06 2.06-.94-2.06-.94L8.5 2.5l-.94 2.06-2.06.94zm10 10l.94 2.06.94-2.06 2.06-.94-2.06-.94-.94-2.06-.94 2.06-2.06.94z\"/><path d=\"M17.41 7.96l-1.37-1.37c-.4-.4-.92-.59-1.43-.59-.52 0-1.04.2-1.43.59L10.3 9.45l-7.72 7.72c-.78.78-.78 2.05 0 2.83L4 21.41c.39.39.9.59 1.41.59.51 0 1.02-.2 1.41-.59l7.78-7.78 2.81-2.81c.8-.78.8-2.07 0-2.86zM5.41 20L4 18.59l7.72-7.72 1.47 1.35L5.41 20z\"/>\n",
              "  </svg>\n",
              "      </button>\n",
              "      \n",
              "  <style>\n",
              "    .colab-df-container {\n",
              "      display:flex;\n",
              "      flex-wrap:wrap;\n",
              "      gap: 12px;\n",
              "    }\n",
              "\n",
              "    .colab-df-convert {\n",
              "      background-color: #E8F0FE;\n",
              "      border: none;\n",
              "      border-radius: 50%;\n",
              "      cursor: pointer;\n",
              "      display: none;\n",
              "      fill: #1967D2;\n",
              "      height: 32px;\n",
              "      padding: 0 0 0 0;\n",
              "      width: 32px;\n",
              "    }\n",
              "\n",
              "    .colab-df-convert:hover {\n",
              "      background-color: #E2EBFA;\n",
              "      box-shadow: 0px 1px 2px rgba(60, 64, 67, 0.3), 0px 1px 3px 1px rgba(60, 64, 67, 0.15);\n",
              "      fill: #174EA6;\n",
              "    }\n",
              "\n",
              "    [theme=dark] .colab-df-convert {\n",
              "      background-color: #3B4455;\n",
              "      fill: #D2E3FC;\n",
              "    }\n",
              "\n",
              "    [theme=dark] .colab-df-convert:hover {\n",
              "      background-color: #434B5C;\n",
              "      box-shadow: 0px 1px 3px 1px rgba(0, 0, 0, 0.15);\n",
              "      filter: drop-shadow(0px 1px 2px rgba(0, 0, 0, 0.3));\n",
              "      fill: #FFFFFF;\n",
              "    }\n",
              "  </style>\n",
              "\n",
              "      <script>\n",
              "        const buttonEl =\n",
              "          document.querySelector('#df-1a778fc3-e25f-44e8-9db6-7ee9f46bf819 button.colab-df-convert');\n",
              "        buttonEl.style.display =\n",
              "          google.colab.kernel.accessAllowed ? 'block' : 'none';\n",
              "\n",
              "        async function convertToInteractive(key) {\n",
              "          const element = document.querySelector('#df-1a778fc3-e25f-44e8-9db6-7ee9f46bf819');\n",
              "          const dataTable =\n",
              "            await google.colab.kernel.invokeFunction('convertToInteractive',\n",
              "                                                     [key], {});\n",
              "          if (!dataTable) return;\n",
              "\n",
              "          const docLinkHtml = 'Like what you see? Visit the ' +\n",
              "            '<a target=\"_blank\" href=https://colab.research.google.com/notebooks/data_table.ipynb>data table notebook</a>'\n",
              "            + ' to learn more about interactive tables.';\n",
              "          element.innerHTML = '';\n",
              "          dataTable['output_type'] = 'display_data';\n",
              "          await google.colab.output.renderOutput(dataTable, element);\n",
              "          const docLink = document.createElement('div');\n",
              "          docLink.innerHTML = docLinkHtml;\n",
              "          element.appendChild(docLink);\n",
              "        }\n",
              "      </script>\n",
              "    </div>\n",
              "  </div>\n",
              "  "
            ]
          },
          "metadata": {},
          "execution_count": 57
        }
      ]
    },
    {
      "cell_type": "markdown",
      "source": [
        "* [형태소분석](https://konlpy-ko.readthedocs.io/ko/v0.4.3/morph/)을 하기위해 khaiii를 설치하자."
      ],
      "metadata": {
        "id": "YJMb0aR-O4mC"
      }
    },
    {
      "cell_type": "code",
      "source": [
        "!git clone https://github.com/kakao/khaiii.git\n",
        "!mkdir khaiii/build\n",
        "!cd khaiii/build; cmake ..\n",
        "!cd khaiii/build; make all\n",
        "!cd khaiii/build; make resource\n",
        "!cd khaiii/build; make package_python\n",
        "!cd khaiii/build/package_python; pip install"
      ],
      "metadata": {
        "colab": {
          "base_uri": "https://localhost:8080/"
        },
        "id": "8ujjkBlLVFiL",
        "outputId": "3c186741-2046-4af7-b903-2ec9a2d6bde5"
      },
      "execution_count": null,
      "outputs": [
        {
          "output_type": "stream",
          "name": "stdout",
          "text": [
            "Cloning into 'khaiii'...\n",
            "remote: Enumerating objects: 1024, done.\u001b[K\n",
            "remote: Total 1024 (delta 0), reused 0 (delta 0), pack-reused 1024\u001b[K\n",
            "Receiving objects: 100% (1024/1024), 33.03 MiB | 11.45 MiB/s, done.\n",
            "Resolving deltas: 100% (438/438), done.\n",
            "-- [hunter] Initializing Hunter workspace (70287b1ffa810ee4e952052a9adff9b4856d0d54)\n",
            "-- [hunter]   https://github.com/ruslo/hunter/archive/v0.23.34.tar.gz\n",
            "-- [hunter]   -> /root/.hunter/_Base/Download/Hunter/0.23.34/70287b1\n",
            "-- The C compiler identification is GNU 7.5.0\n",
            "-- The CXX compiler identification is GNU 7.5.0\n",
            "-- Detecting C compiler ABI info\n",
            "-- Detecting C compiler ABI info - done\n",
            "-- Check for working C compiler: /usr/bin/cc - skipped\n",
            "-- Detecting C compile features\n",
            "-- Detecting C compile features - done\n",
            "-- Detecting CXX compiler ABI info\n",
            "-- Detecting CXX compiler ABI info - done\n",
            "-- Check for working CXX compiler: /usr/bin/c++ - skipped\n",
            "-- Detecting CXX compile features\n",
            "-- Detecting CXX compile features - done\n",
            "-- Performing Test fma_compiles\n",
            "-- Performing Test fma_compiles - Success\n",
            "-- Performing Test fma_runs\n",
            "-- Performing Test fma_runs - Success\n",
            "-- [khaiii] fused multiply add option enabled\n",
            "-- [hunter] Calculating Toolchain-SHA1\n",
            "-- [hunter] Calculating Config-SHA1\n",
            "-- [hunter] HUNTER_ROOT: /root/.hunter\n",
            "-- [hunter] [ Hunter-ID: 70287b1 | Toolchain-ID: 02ccb06 | Config-ID: dffbc08 ]\n",
            "-- [hunter] BOOST_ROOT: /root/.hunter/_Base/70287b1/02ccb06/dffbc08/Install (ver.: 1.68.0-p1)\n",
            "-- [hunter] Building Boost\n",
            "loading initial cache file /root/.hunter/_Base/70287b1/02ccb06/dffbc08/cache.cmake\n",
            "loading initial cache file /root/.hunter/_Base/70287b1/02ccb06/dffbc08/Build/Boost/args.cmake\n",
            "-- The C compiler identification is GNU 7.5.0\n",
            "-- The CXX compiler identification is GNU 7.5.0\n",
            "-- Check for working C compiler: /usr/bin/cc - skipped\n",
            "-- Detecting C compile features\n",
            "-- Detecting C compile features - done\n",
            "-- Check for working CXX compiler: /usr/bin/c++ - skipped\n",
            "-- Detecting CXX compile features\n",
            "-- Detecting CXX compile features - done\n",
            "-- Configuring done\n",
            "-- Generating done\n",
            "-- Build files have been written to: /root/.hunter/_Base/70287b1/02ccb06/dffbc08/Build/Boost/Build\n",
            "[ 12%] Creating directories for 'Boost'\n",
            "[ 25%] Performing download step (download, verify and extract) for 'Boost'\n",
            "-- Downloading...\n",
            "   dst='/root/.hunter/_Base/Download/Boost/1.68.0-p1/0bb10b0/v1.68.0-p1.tar.gz'\n",
            "   timeout='none'\n",
            "   inactivity timeout='none'\n",
            "-- Using src='https://github.com/hunter-packages/boost/archive/v1.68.0-p1.tar.gz'\n",
            "-- verifying file...\n",
            "       file='/root/.hunter/_Base/Download/Boost/1.68.0-p1/0bb10b0/v1.68.0-p1.tar.gz'\n",
            "-- Downloading... done\n",
            "-- extracting...\n",
            "     src='/root/.hunter/_Base/Download/Boost/1.68.0-p1/0bb10b0/v1.68.0-p1.tar.gz'\n",
            "     dst='/root/.hunter/_Base/70287b1/02ccb06/dffbc08/Build/Boost/Source'\n",
            "-- extracting... [tar xfz]\n",
            "-- extracting... [analysis]\n",
            "-- extracting... [rename]\n",
            "-- extracting... [clean up]\n",
            "-- extracting... done\n",
            "[ 37%] Performing update step for 'Boost'\n",
            "[ 50%] No patch step for 'Boost'\n",
            "[ 62%] Performing configure step for 'Boost'\n",
            "Dummy patch command\n",
            "Building Boost.Build engine with toolset gcc... tools/build/src/engine/bin.linuxx86_64/b2\n",
            "Detecting Python version... 3.7\n",
            "Detecting Python root... /usr\n",
            "Unicode/ICU support for Boost.Regex?... /usr\n",
            "Generating Boost.Build configuration in project-config.jam...\n",
            "\n",
            "Bootstrapping is done. To build, run:\n",
            "\n",
            "    ./b2\n",
            "    \n",
            "To adjust configuration, edit 'project-config.jam'.\n",
            "Further information:\n",
            "\n",
            "   - Command line help:\n",
            "     ./b2 --help\n",
            "     \n",
            "   - Getting started guide: \n",
            "     http://www.boost.org/more/getting_started/unix-variants.html\n",
            "     \n",
            "   - Boost.Build documentation:\n",
            "     http://www.boost.org/build/doc/html/index.html\n",
            "\n",
            "[ 75%] No build step for 'Boost'\n",
            "[ 87%] Performing install step for 'Boost'\n",
            "Performing configuration checks\n",
            "\n",
            "    - default address-model    : 64-bit\n",
            "    - default architecture     : x86\n",
            "\n",
            "Component configuration:\n",
            "\n",
            "    - atomic                   : not building\n",
            "    - chrono                   : not building\n",
            "    - container                : not building\n",
            "    - context                  : not building\n",
            "    - contract                 : not building\n",
            "    - coroutine                : not building\n",
            "    - date_time                : not building\n",
            "    - exception                : not building\n",
            "    - fiber                    : not building\n",
            "    - filesystem               : not building\n",
            "    - graph                    : not building\n",
            "    - graph_parallel           : not building\n",
            "    - iostreams                : not building\n",
            "    - locale                   : not building\n",
            "    - log                      : not building\n",
            "    - math                     : not building\n",
            "    - mpi                      : not building\n",
            "    - program_options          : not building\n",
            "    - python                   : not building\n",
            "    - random                   : not building\n",
            "    - regex                    : not building\n",
            "    - serialization            : not building\n",
            "    - signals                  : not building\n",
            "    - stacktrace               : not building\n",
            "    - system                   : not building\n",
            "    - test                     : not building\n",
            "    - thread                   : not building\n",
            "    - timer                    : not building\n",
            "    - type_erasure             : not building\n",
            "    - wave                     : not building\n",
            "\n",
            "loading initial cache file /root/.hunter/_Base/70287b1/02ccb06/dffbc08/Build/Boost/args.cmake\n",
            "[100%] Completed 'Boost'\n",
            "[100%] Built target Boost\n",
            "-- [hunter] Build step successful (dir: /root/.hunter/_Base/70287b1/02ccb06/dffbc08/Build/Boost)\n",
            "-- [hunter] Cache saved: /root/.hunter/_Base/Cache/raw/b90d767face9d151908ccc00ce977f9a264367b1.tar.bz2\n",
            "-- Boost version: 1.68.0\n",
            "-- [hunter] CXXOPTS_ROOT: /root/.hunter/_Base/70287b1/02ccb06/dffbc08/Install (ver.: 2.1.1-pre)\n",
            "-- [hunter] Building cxxopts\n",
            "loading initial cache file /root/.hunter/_Base/70287b1/02ccb06/dffbc08/cache.cmake\n",
            "loading initial cache file /root/.hunter/_Base/70287b1/02ccb06/dffbc08/Build/cxxopts/args.cmake\n",
            "-- The C compiler identification is GNU 7.5.0\n",
            "-- The CXX compiler identification is GNU 7.5.0\n",
            "-- Check for working C compiler: /usr/bin/cc - skipped\n",
            "-- Detecting C compile features\n",
            "-- Detecting C compile features - done\n",
            "-- Check for working CXX compiler: /usr/bin/c++ - skipped\n",
            "-- Detecting CXX compile features\n",
            "-- Detecting CXX compile features - done\n",
            "-- Configuring done\n",
            "-- Generating done\n",
            "-- Build files have been written to: /root/.hunter/_Base/70287b1/02ccb06/dffbc08/Build/cxxopts/Build\n",
            "[  6%] Creating directories for 'cxxopts-Release'\n",
            "[ 12%] Performing download step (download, verify and extract) for 'cxxopts-Release'\n",
            "-- Downloading...\n",
            "   dst='/root/.hunter/_Base/Download/cxxopts/2.1.1-pre/cbeec55/e725ea308468ab50751ba7f930842a4c061226e9.zip'\n",
            "   timeout='none'\n",
            "   inactivity timeout='none'\n",
            "-- Using src='https://github.com/jarro2783/cxxopts/archive/e725ea308468ab50751ba7f930842a4c061226e9.zip'\n",
            "-- verifying file...\n",
            "       file='/root/.hunter/_Base/Download/cxxopts/2.1.1-pre/cbeec55/e725ea308468ab50751ba7f930842a4c061226e9.zip'\n",
            "-- Downloading... done\n",
            "-- extracting...\n",
            "     src='/root/.hunter/_Base/Download/cxxopts/2.1.1-pre/cbeec55/e725ea308468ab50751ba7f930842a4c061226e9.zip'\n",
            "     dst='/root/.hunter/_Base/70287b1/02ccb06/dffbc08/Build/cxxopts/Source'\n",
            "-- extracting... [tar xfz]\n",
            "-- extracting... [analysis]\n",
            "-- extracting... [rename]\n",
            "-- extracting... [clean up]\n",
            "-- extracting... done\n",
            "[ 18%] No update step for 'cxxopts-Release'\n",
            "[ 25%] No patch step for 'cxxopts-Release'\n",
            "[ 31%] Performing configure step for 'cxxopts-Release'\n",
            "loading initial cache file /root/.hunter/_Base/70287b1/02ccb06/dffbc08/cache.cmake\n",
            "loading initial cache file /root/.hunter/_Base/70287b1/02ccb06/dffbc08/Build/cxxopts/args.cmake\n",
            "-- The C compiler identification is GNU 7.5.0\n",
            "-- The CXX compiler identification is GNU 7.5.0\n",
            "-- Check for working C compiler: /usr/bin/cc - skipped\n",
            "-- Detecting C compile features\n",
            "-- Detecting C compile features - done\n",
            "-- Check for working CXX compiler: /usr/bin/c++ - skipped\n",
            "-- Detecting CXX compile features\n",
            "-- Detecting CXX compile features - done\n",
            "-- Configuring done\n",
            "-- Generating done\n",
            "-- Build files have been written to: /root/.hunter/_Base/70287b1/02ccb06/dffbc08/Build/cxxopts/Build/cxxopts-Release-prefix/src/cxxopts-Release-build\n",
            "[ 37%] Performing build step for 'cxxopts-Release'\n",
            "[ 43%] Performing install step for 'cxxopts-Release'\n",
            "Install the project...\n",
            "-- Install configuration: \"Release\"\n",
            "-- Installing: /root/.hunter/_Base/70287b1/02ccb06/dffbc08/Build/cxxopts/Install/lib/cmake/cxxopts/cxxopts-config.cmake\n",
            "-- Installing: /root/.hunter/_Base/70287b1/02ccb06/dffbc08/Build/cxxopts/Install/lib/cmake/cxxopts/cxxopts-config-version.cmake\n",
            "-- Installing: /root/.hunter/_Base/70287b1/02ccb06/dffbc08/Build/cxxopts/Install/lib/cmake/cxxopts/cxxopts-targets.cmake\n",
            "-- Installing: /root/.hunter/_Base/70287b1/02ccb06/dffbc08/Build/cxxopts/Install/include/cxxopts.hpp\n",
            "loading initial cache file /root/.hunter/_Base/70287b1/02ccb06/dffbc08/Build/cxxopts/args.cmake\n",
            "[ 50%] Completed 'cxxopts-Release'\n",
            "[ 50%] Built target cxxopts-Release\n",
            "[ 56%] Creating directories for 'cxxopts-Debug'\n",
            "[ 62%] Performing download step (download, verify and extract) for 'cxxopts-Debug'\n",
            "-- verifying file...\n",
            "       file='/root/.hunter/_Base/Download/cxxopts/2.1.1-pre/cbeec55/e725ea308468ab50751ba7f930842a4c061226e9.zip'\n",
            "-- File already exists and hash match (skip download):\n",
            "  file='/root/.hunter/_Base/Download/cxxopts/2.1.1-pre/cbeec55/e725ea308468ab50751ba7f930842a4c061226e9.zip'\n",
            "  SHA1='cbeec5576599d031f6f992d987e1f3575b3afee3'\n",
            "-- extracting...\n",
            "     src='/root/.hunter/_Base/Download/cxxopts/2.1.1-pre/cbeec55/e725ea308468ab50751ba7f930842a4c061226e9.zip'\n",
            "     dst='/root/.hunter/_Base/70287b1/02ccb06/dffbc08/Build/cxxopts/Source'\n",
            "-- extracting... [tar xfz]\n",
            "-- extracting... [analysis]\n",
            "-- extracting... [rename]\n",
            "-- extracting... [clean up]\n",
            "-- extracting... done\n",
            "[ 68%] No update step for 'cxxopts-Debug'\n",
            "[ 75%] No patch step for 'cxxopts-Debug'\n",
            "[ 81%] Performing configure step for 'cxxopts-Debug'\n",
            "loading initial cache file /root/.hunter/_Base/70287b1/02ccb06/dffbc08/cache.cmake\n",
            "loading initial cache file /root/.hunter/_Base/70287b1/02ccb06/dffbc08/Build/cxxopts/args.cmake\n",
            "-- The C compiler identification is GNU 7.5.0\n",
            "-- The CXX compiler identification is GNU 7.5.0\n",
            "-- Check for working C compiler: /usr/bin/cc - skipped\n",
            "-- Detecting C compile features\n",
            "-- Detecting C compile features - done\n",
            "-- Check for working CXX compiler: /usr/bin/c++ - skipped\n",
            "-- Detecting CXX compile features\n",
            "-- Detecting CXX compile features - done\n",
            "-- Configuring done\n",
            "-- Generating done\n",
            "-- Build files have been written to: /root/.hunter/_Base/70287b1/02ccb06/dffbc08/Build/cxxopts/Build/cxxopts-Debug-prefix/src/cxxopts-Debug-build\n",
            "[ 87%] Performing build step for 'cxxopts-Debug'\n",
            "[ 93%] Performing install step for 'cxxopts-Debug'\n",
            "Install the project...\n",
            "-- Install configuration: \"Debug\"\n",
            "-- Installing: /root/.hunter/_Base/70287b1/02ccb06/dffbc08/Build/cxxopts/Install/lib/cmake/cxxopts/cxxopts-config.cmake\n",
            "-- Installing: /root/.hunter/_Base/70287b1/02ccb06/dffbc08/Build/cxxopts/Install/lib/cmake/cxxopts/cxxopts-config-version.cmake\n",
            "-- Installing: /root/.hunter/_Base/70287b1/02ccb06/dffbc08/Build/cxxopts/Install/lib/cmake/cxxopts/cxxopts-targets.cmake\n",
            "-- Up-to-date: /root/.hunter/_Base/70287b1/02ccb06/dffbc08/Build/cxxopts/Install/include/cxxopts.hpp\n",
            "loading initial cache file /root/.hunter/_Base/70287b1/02ccb06/dffbc08/Build/cxxopts/args.cmake\n",
            "[100%] Completed 'cxxopts-Debug'\n",
            "[100%] Built target cxxopts-Debug\n",
            "-- [hunter] Build step successful (dir: /root/.hunter/_Base/70287b1/02ccb06/dffbc08/Build/cxxopts)\n",
            "-- [hunter] Cache saved: /root/.hunter/_Base/Cache/raw/14acae8c8df012d78cc208e7b1b30c9e8fb6105c.tar.bz2\n",
            "-- [hunter] EIGEN_ROOT: /root/.hunter/_Base/70287b1/02ccb06/dffbc08/Install (ver.: 3.3.5)\n",
            "-- [hunter] Building Eigen\n",
            "loading initial cache file /root/.hunter/_Base/70287b1/02ccb06/dffbc08/cache.cmake\n",
            "loading initial cache file /root/.hunter/_Base/70287b1/02ccb06/dffbc08/Build/Eigen/args.cmake\n",
            "-- The C compiler identification is GNU 7.5.0\n",
            "-- The CXX compiler identification is GNU 7.5.0\n",
            "-- Check for working C compiler: /usr/bin/cc - skipped\n",
            "-- Detecting C compile features\n",
            "-- Detecting C compile features - done\n",
            "-- Check for working CXX compiler: /usr/bin/c++ - skipped\n",
            "-- Detecting CXX compile features\n",
            "-- Detecting CXX compile features - done\n",
            "-- Configuring done\n",
            "-- Generating done\n",
            "-- Build files have been written to: /root/.hunter/_Base/70287b1/02ccb06/dffbc08/Build/Eigen/Build\n",
            "[  6%] Creating directories for 'Eigen-Release'\n",
            "[ 12%] Performing download step (download, verify and extract) for 'Eigen-Release'\n",
            "-- Downloading...\n",
            "   dst='/root/.hunter/_Base/Download/Eigen/3.3.5/c1801a3/3.3.5.tar.gz'\n",
            "   timeout='none'\n",
            "   inactivity timeout='none'\n",
            "-- Using src='https://github.com/eigenteam/eigen-git-mirror/archive/3.3.5.tar.gz'\n",
            "-- verifying file...\n",
            "       file='/root/.hunter/_Base/Download/Eigen/3.3.5/c1801a3/3.3.5.tar.gz'\n",
            "-- Downloading... done\n",
            "-- extracting...\n",
            "     src='/root/.hunter/_Base/Download/Eigen/3.3.5/c1801a3/3.3.5.tar.gz'\n",
            "     dst='/root/.hunter/_Base/70287b1/02ccb06/dffbc08/Build/Eigen/Source'\n",
            "-- extracting... [tar xfz]\n",
            "-- extracting... [analysis]\n",
            "-- extracting... [rename]\n",
            "-- extracting... [clean up]\n",
            "-- extracting... done\n",
            "[ 18%] No update step for 'Eigen-Release'\n",
            "[ 25%] No patch step for 'Eigen-Release'\n",
            "[ 31%] Performing configure step for 'Eigen-Release'\n",
            "loading initial cache file /root/.hunter/_Base/70287b1/02ccb06/dffbc08/cache.cmake\n",
            "loading initial cache file /root/.hunter/_Base/70287b1/02ccb06/dffbc08/Build/Eigen/args.cmake\n",
            "-- The C compiler identification is GNU 7.5.0\n",
            "-- The CXX compiler identification is GNU 7.5.0\n",
            "-- Check for working C compiler: /usr/bin/cc - skipped\n",
            "-- Detecting C compile features\n",
            "-- Detecting C compile features - done\n",
            "-- Check for working CXX compiler: /usr/bin/c++ - skipped\n",
            "-- Detecting CXX compile features\n",
            "-- Detecting CXX compile features - done\n",
            "CMake Deprecation Warning at CMakeLists.txt:3 (cmake_minimum_required):\n",
            "  Compatibility with CMake < 2.8.12 will be removed from a future version of\n",
            "  CMake.\n",
            "\n",
            "  Update the VERSION argument <min> value or use a ...<max> suffix to tell\n",
            "  CMake that the project does not need compatibility with older versions.\n",
            "\n",
            "\n",
            "-- Performing Test standard_math_library_linked_to_automatically\n",
            "-- Performing Test standard_math_library_linked_to_automatically - Success\n",
            "-- Standard libraries to link to explicitly: none\n",
            "-- Performing Test COMPILER_SUPPORT_WERROR\n",
            "-- Performing Test COMPILER_SUPPORT_WERROR - Success\n",
            "-- Performing Test COMPILER_SUPPORT_pedantic\n",
            "-- Performing Test COMPILER_SUPPORT_pedantic - Success\n",
            "-- Performing Test COMPILER_SUPPORT_Wall\n",
            "-- Performing Test COMPILER_SUPPORT_Wall - Success\n",
            "-- Performing Test COMPILER_SUPPORT_Wextra\n",
            "-- Performing Test COMPILER_SUPPORT_Wextra - Success\n",
            "-- Performing Test COMPILER_SUPPORT_Wundef\n",
            "-- Performing Test COMPILER_SUPPORT_Wundef - Success\n",
            "-- Performing Test COMPILER_SUPPORT_Wcastalign\n",
            "-- Performing Test COMPILER_SUPPORT_Wcastalign - Success\n",
            "-- Performing Test COMPILER_SUPPORT_Wcharsubscripts\n",
            "-- Performing Test COMPILER_SUPPORT_Wcharsubscripts - Success\n",
            "-- Performing Test COMPILER_SUPPORT_Wnonvirtualdtor\n",
            "-- Performing Test COMPILER_SUPPORT_Wnonvirtualdtor - Success\n",
            "-- Performing Test COMPILER_SUPPORT_Wunusedlocaltypedefs\n",
            "-- Performing Test COMPILER_SUPPORT_Wunusedlocaltypedefs - Success\n",
            "-- Performing Test COMPILER_SUPPORT_Wpointerarith\n",
            "-- Performing Test COMPILER_SUPPORT_Wpointerarith - Success\n",
            "-- Performing Test COMPILER_SUPPORT_Wwritestrings\n",
            "-- Performing Test COMPILER_SUPPORT_Wwritestrings - Success\n",
            "-- Performing Test COMPILER_SUPPORT_Wformatsecurity\n",
            "-- Performing Test COMPILER_SUPPORT_Wformatsecurity - Success\n",
            "-- Performing Test COMPILER_SUPPORT_Wshorten64to32\n",
            "-- Performing Test COMPILER_SUPPORT_Wshorten64to32 - Failed\n",
            "-- Performing Test COMPILER_SUPPORT_Wlogicalop\n",
            "-- Performing Test COMPILER_SUPPORT_Wlogicalop - Success\n",
            "-- Performing Test COMPILER_SUPPORT_Wenumconversion\n",
            "-- Performing Test COMPILER_SUPPORT_Wenumconversion - Failed\n",
            "-- Performing Test COMPILER_SUPPORT_Wcpp11extensions\n",
            "-- Performing Test COMPILER_SUPPORT_Wcpp11extensions - Failed\n",
            "-- Performing Test COMPILER_SUPPORT_Wdoublepromotion\n",
            "-- Performing Test COMPILER_SUPPORT_Wdoublepromotion - Success\n",
            "-- Performing Test COMPILER_SUPPORT_Wnopsabi\n",
            "-- Performing Test COMPILER_SUPPORT_Wnopsabi - Success\n",
            "-- Performing Test COMPILER_SUPPORT_Wnovariadicmacros\n",
            "-- Performing Test COMPILER_SUPPORT_Wnovariadicmacros - Success\n",
            "-- Performing Test COMPILER_SUPPORT_Wnolonglong\n",
            "-- Performing Test COMPILER_SUPPORT_Wnolonglong - Success\n",
            "-- Performing Test COMPILER_SUPPORT_fnochecknew\n",
            "-- Performing Test COMPILER_SUPPORT_fnochecknew - Success\n",
            "-- Performing Test COMPILER_SUPPORT_fnocommon\n",
            "-- Performing Test COMPILER_SUPPORT_fnocommon - Success\n",
            "-- Performing Test COMPILER_SUPPORT_fstrictaliasing\n",
            "-- Performing Test COMPILER_SUPPORT_fstrictaliasing - Success\n",
            "-- Performing Test COMPILER_SUPPORT_wd981\n",
            "-- Performing Test COMPILER_SUPPORT_wd981 - Failed\n",
            "-- Performing Test COMPILER_SUPPORT_wd2304\n",
            "-- Performing Test COMPILER_SUPPORT_wd2304 - Failed\n",
            "-- Performing Test COMPILER_SUPPORT_STRICTANSI\n",
            "-- Performing Test COMPILER_SUPPORT_STRICTANSI - Failed\n",
            "-- Performing Test COMPILER_SUPPORT_Qunusedarguments\n",
            "-- Performing Test COMPILER_SUPPORT_Qunusedarguments - Failed\n",
            "-- Performing Test COMPILER_SUPPORT_ansi\n",
            "-- Performing Test COMPILER_SUPPORT_ansi - Success\n",
            "-- Performing Test COMPILER_SUPPORT_OPENMP\n",
            "-- Performing Test COMPILER_SUPPORT_OPENMP - Success\n",
            "-- Performing Test EIGEN_COMPILER_SUPPORT_CPP11\n",
            "-- Performing Test EIGEN_COMPILER_SUPPORT_CPP11 - Success\n",
            "-- Found unsuitable Qt version \"5.9.5\" from /usr/bin/qmake\n",
            "-- The Fortran compiler identification is GNU 7.5.0\n",
            "-- Detecting Fortran compiler ABI info\n",
            "-- Detecting Fortran compiler ABI info - done\n",
            "-- Check for working Fortran compiler: /usr/bin/gfortran - skipped\n",
            "-- Found unsuitable Qt version \"5.9.5\" from /usr/bin/qmake\n",
            "-- Qt4 not found, so disabling the mandelbrot and opengl demos\n",
            "CMake Warning (dev) at /usr/local/lib/python3.7/dist-packages/cmake/data/share/cmake-3.22/Modules/FindPackageHandleStandardArgs.cmake:438 (message):\n",
            "  The package name passed to `find_package_handle_standard_args` (CHOLMOD)\n",
            "  does not match the name of the calling package (Cholmod).  This can lead to\n",
            "  problems in calling code that expects `find_package` result variables\n",
            "  (e.g., `_FOUND`) to follow a certain pattern.\n",
            "Call Stack (most recent call first):\n",
            "  cmake/FindCholmod.cmake:86 (find_package_handle_standard_args)\n",
            "  bench/spbench/CMakeLists.txt:16 (find_package)\n",
            "This warning is for project developers.  Use -Wno-dev to suppress it.\n",
            "\n",
            "-- Could NOT find CHOLMOD (missing: CHOLMOD_INCLUDES CHOLMOD_LIBRARIES) \n",
            "CMake Warning (dev) at /usr/local/lib/python3.7/dist-packages/cmake/data/share/cmake-3.22/Modules/FindPackageHandleStandardArgs.cmake:438 (message):\n",
            "  The package name passed to `find_package_handle_standard_args` (UMFPACK)\n",
            "  does not match the name of the calling package (Umfpack).  This can lead to\n",
            "  problems in calling code that expects `find_package` result variables\n",
            "  (e.g., `_FOUND`) to follow a certain pattern.\n",
            "Call Stack (most recent call first):\n",
            "  cmake/FindUmfpack.cmake:50 (find_package_handle_standard_args)\n",
            "  bench/spbench/CMakeLists.txt:24 (find_package)\n",
            "This warning is for project developers.  Use -Wno-dev to suppress it.\n",
            "\n",
            "-- Could NOT find UMFPACK (missing: UMFPACK_INCLUDES UMFPACK_LIBRARIES) \n",
            "-- Performing Test SUPERLU_HAS_GLOBAL_MEM_USAGE_T\n",
            "-- Performing Test SUPERLU_HAS_GLOBAL_MEM_USAGE_T - Success\n",
            "-- Performing Test SUPERLU_HAS_CLEAN_ENUMS\n",
            "-- Performing Test SUPERLU_HAS_CLEAN_ENUMS - Success\n",
            "-- Performing Test SUPERLU_HAS_GLOBALLU_T\n",
            "-- Performing Test SUPERLU_HAS_GLOBALLU_T - Success\n",
            "CMake Warning (dev) at /usr/local/lib/python3.7/dist-packages/cmake/data/share/cmake-3.22/Modules/FindPackageHandleStandardArgs.cmake:438 (message):\n",
            "  The package name passed to `find_package_handle_standard_args` (SUPERLU)\n",
            "  does not match the name of the calling package (SuperLU).  This can lead to\n",
            "  problems in calling code that expects `find_package` result variables\n",
            "  (e.g., `_FOUND`) to follow a certain pattern.\n",
            "Call Stack (most recent call first):\n",
            "  cmake/FindSuperLU.cmake:93 (find_package_handle_standard_args)\n",
            "  bench/spbench/CMakeLists.txt:32 (find_package)\n",
            "This warning is for project developers.  Use -Wno-dev to suppress it.\n",
            "\n",
            "-- Found SUPERLU: /usr/include/superlu (found version \"5.0\") \n",
            "-- A version of Pastix has been found but pastix_nompi.h does not exist in the include directory. Because Eigen tests require a version without MPI, we disable the Pastix backend.\n",
            "-- \n",
            "-- Configured Eigen 3.3.5\n",
            "-- \n",
            "-- Some things you can do now:\n",
            "-- --------------+--------------------------------------------------------------\n",
            "-- Command       |   Description\n",
            "-- --------------+--------------------------------------------------------------\n",
            "-- make install  | Install Eigen. Headers will be installed to:\n",
            "--               |     <CMAKE_INSTALL_PREFIX>/<INCLUDE_INSTALL_DIR>\n",
            "--               |   Using the following values:\n",
            "--               |     CMAKE_INSTALL_PREFIX: /root/.hunter/_Base/70287b1/02ccb06/dffbc08/Build/Eigen/Install\n",
            "--               |     INCLUDE_INSTALL_DIR:  include/eigen3\n",
            "--               |   Change the install location of Eigen headers using:\n",
            "--               |     cmake . -DCMAKE_INSTALL_PREFIX=yourprefix\n",
            "--               |   Or:\n",
            "--               |     cmake . -DINCLUDE_INSTALL_DIR=yourdir\n",
            "-- make doc      | Generate the API documentation, requires Doxygen & LaTeX\n",
            "-- make check    | Build and run the unit-tests. Read this page:\n",
            "--               |   http://eigen.tuxfamily.org/index.php?title=Tests\n",
            "-- make blas     | Build BLAS library (not the same thing as Eigen)\n",
            "-- make uninstall| Removes files installed by make install\n",
            "-- --------------+--------------------------------------------------------------\n",
            "-- \n",
            "-- Configuring done\n",
            "-- Generating done\n",
            "-- Build files have been written to: /root/.hunter/_Base/70287b1/02ccb06/dffbc08/Build/Eigen/Build/Eigen-Release-prefix/src/Eigen-Release-build\n",
            "[ 37%] Performing build step for 'Eigen-Release'\n",
            "[ 43%] Performing install step for 'Eigen-Release'\n",
            "Install the project...\n",
            "-- Install configuration: \"Release\"\n",
            "-- Installing: /root/.hunter/_Base/70287b1/02ccb06/dffbc08/Build/Eigen/Install/include/eigen3/signature_of_eigen3_matrix_library\n",
            "-- Installing: /root/.hunter/_Base/70287b1/02ccb06/dffbc08/Build/Eigen/Install/share/pkgconfig/eigen3.pc\n",
            "-- Installing: /root/.hunter/_Base/70287b1/02ccb06/dffbc08/Build/Eigen/Install/share/eigen3/cmake/Eigen3Targets.cmake\n",
            "-- Installing: /root/.hunter/_Base/70287b1/02ccb06/dffbc08/Build/Eigen/Install/share/eigen3/cmake/UseEigen3.cmake\n",
            "-- Installing: /root/.hunter/_Base/70287b1/02ccb06/dffbc08/Build/Eigen/Install/share/eigen3/cmake/Eigen3Config.cmake\n",
            "-- Installing: /root/.hunter/_Base/70287b1/02ccb06/dffbc08/Build/Eigen/Install/share/eigen3/cmake/Eigen3ConfigVersion.cmake\n",
            "-- Installing: /root/.hunter/_Base/70287b1/02ccb06/dffbc08/Build/Eigen/Install/include/eigen3/Eigen/Cholesky\n",
            "-- Installing: /root/.hunter/_Base/70287b1/02ccb06/dffbc08/Build/Eigen/Install/include/eigen3/Eigen/CholmodSupport\n",
            "-- Installing: /root/.hunter/_Base/70287b1/02ccb06/dffbc08/Build/Eigen/Install/include/eigen3/Eigen/Core\n",
            "-- Installing: /root/.hunter/_Base/70287b1/02ccb06/dffbc08/Build/Eigen/Install/include/eigen3/Eigen/Dense\n",
            "-- Installing: /root/.hunter/_Base/70287b1/02ccb06/dffbc08/Build/Eigen/Install/include/eigen3/Eigen/Eigen\n",
            "-- Installing: /root/.hunter/_Base/70287b1/02ccb06/dffbc08/Build/Eigen/Install/include/eigen3/Eigen/Eigenvalues\n",
            "-- Installing: /root/.hunter/_Base/70287b1/02ccb06/dffbc08/Build/Eigen/Install/include/eigen3/Eigen/Geometry\n",
            "-- Installing: /root/.hunter/_Base/70287b1/02ccb06/dffbc08/Build/Eigen/Install/include/eigen3/Eigen/Householder\n",
            "-- Installing: /root/.hunter/_Base/70287b1/02ccb06/dffbc08/Build/Eigen/Install/include/eigen3/Eigen/IterativeLinearSolvers\n",
            "-- Installing: /root/.hunter/_Base/70287b1/02ccb06/dffbc08/Build/Eigen/Install/include/eigen3/Eigen/Jacobi\n",
            "-- Installing: /root/.hunter/_Base/70287b1/02ccb06/dffbc08/Build/Eigen/Install/include/eigen3/Eigen/LU\n",
            "-- Installing: /root/.hunter/_Base/70287b1/02ccb06/dffbc08/Build/Eigen/Install/include/eigen3/Eigen/MetisSupport\n",
            "-- Installing: /root/.hunter/_Base/70287b1/02ccb06/dffbc08/Build/Eigen/Install/include/eigen3/Eigen/OrderingMethods\n",
            "-- Installing: /root/.hunter/_Base/70287b1/02ccb06/dffbc08/Build/Eigen/Install/include/eigen3/Eigen/PaStiXSupport\n",
            "-- Installing: /root/.hunter/_Base/70287b1/02ccb06/dffbc08/Build/Eigen/Install/include/eigen3/Eigen/PardisoSupport\n",
            "-- Installing: /root/.hunter/_Base/70287b1/02ccb06/dffbc08/Build/Eigen/Install/include/eigen3/Eigen/QR\n",
            "-- Installing: /root/.hunter/_Base/70287b1/02ccb06/dffbc08/Build/Eigen/Install/include/eigen3/Eigen/QtAlignedMalloc\n",
            "-- Installing: /root/.hunter/_Base/70287b1/02ccb06/dffbc08/Build/Eigen/Install/include/eigen3/Eigen/SPQRSupport\n",
            "-- Installing: /root/.hunter/_Base/70287b1/02ccb06/dffbc08/Build/Eigen/Install/include/eigen3/Eigen/SVD\n",
            "-- Installing: /root/.hunter/_Base/70287b1/02ccb06/dffbc08/Build/Eigen/Install/include/eigen3/Eigen/Sparse\n",
            "-- Installing: /root/.hunter/_Base/70287b1/02ccb06/dffbc08/Build/Eigen/Install/include/eigen3/Eigen/SparseCholesky\n",
            "-- Installing: /root/.hunter/_Base/70287b1/02ccb06/dffbc08/Build/Eigen/Install/include/eigen3/Eigen/SparseCore\n",
            "-- Installing: /root/.hunter/_Base/70287b1/02ccb06/dffbc08/Build/Eigen/Install/include/eigen3/Eigen/SparseLU\n",
            "-- Installing: /root/.hunter/_Base/70287b1/02ccb06/dffbc08/Build/Eigen/Install/include/eigen3/Eigen/SparseQR\n",
            "-- Installing: /root/.hunter/_Base/70287b1/02ccb06/dffbc08/Build/Eigen/Install/include/eigen3/Eigen/StdDeque\n",
            "-- Installing: /root/.hunter/_Base/70287b1/02ccb06/dffbc08/Build/Eigen/Install/include/eigen3/Eigen/StdList\n",
            "-- Installing: /root/.hunter/_Base/70287b1/02ccb06/dffbc08/Build/Eigen/Install/include/eigen3/Eigen/StdVector\n",
            "-- Installing: /root/.hunter/_Base/70287b1/02ccb06/dffbc08/Build/Eigen/Install/include/eigen3/Eigen/SuperLUSupport\n",
            "-- Installing: /root/.hunter/_Base/70287b1/02ccb06/dffbc08/Build/Eigen/Install/include/eigen3/Eigen/UmfPackSupport\n",
            "-- Installing: /root/.hunter/_Base/70287b1/02ccb06/dffbc08/Build/Eigen/Install/include/eigen3/Eigen/src\n",
            "-- Installing: /root/.hunter/_Base/70287b1/02ccb06/dffbc08/Build/Eigen/Install/include/eigen3/Eigen/src/CholmodSupport\n",
            "-- Installing: /root/.hunter/_Base/70287b1/02ccb06/dffbc08/Build/Eigen/Install/include/eigen3/Eigen/src/CholmodSupport/CholmodSupport.h\n",
            "-- Installing: /root/.hunter/_Base/70287b1/02ccb06/dffbc08/Build/Eigen/Install/include/eigen3/Eigen/src/SparseCore\n",
            "-- Installing: /root/.hunter/_Base/70287b1/02ccb06/dffbc08/Build/Eigen/Install/include/eigen3/Eigen/src/SparseCore/SparseBlock.h\n",
            "-- Installing: /root/.hunter/_Base/70287b1/02ccb06/dffbc08/Build/Eigen/Install/include/eigen3/Eigen/src/SparseCore/SparseFuzzy.h\n",
            "-- Installing: /root/.hunter/_Base/70287b1/02ccb06/dffbc08/Build/Eigen/Install/include/eigen3/Eigen/src/SparseCore/SparseVector.h\n",
            "-- Installing: /root/.hunter/_Base/70287b1/02ccb06/dffbc08/Build/Eigen/Install/include/eigen3/Eigen/src/SparseCore/SparseUtil.h\n",
            "-- Installing: /root/.hunter/_Base/70287b1/02ccb06/dffbc08/Build/Eigen/Install/include/eigen3/Eigen/src/SparseCore/SparseView.h\n",
            "-- Installing: /root/.hunter/_Base/70287b1/02ccb06/dffbc08/Build/Eigen/Install/include/eigen3/Eigen/src/SparseCore/SparseProduct.h\n",
            "-- Installing: /root/.hunter/_Base/70287b1/02ccb06/dffbc08/Build/Eigen/Install/include/eigen3/Eigen/src/SparseCore/SparsePermutation.h\n",
            "-- Installing: /root/.hunter/_Base/70287b1/02ccb06/dffbc08/Build/Eigen/Install/include/eigen3/Eigen/src/SparseCore/SparseSparseProductWithPruning.h\n",
            "-- Installing: /root/.hunter/_Base/70287b1/02ccb06/dffbc08/Build/Eigen/Install/include/eigen3/Eigen/src/SparseCore/SparseTranspose.h\n",
            "-- Installing: /root/.hunter/_Base/70287b1/02ccb06/dffbc08/Build/Eigen/Install/include/eigen3/Eigen/src/SparseCore/ConservativeSparseSparseProduct.h\n",
            "-- Installing: /root/.hunter/_Base/70287b1/02ccb06/dffbc08/Build/Eigen/Install/include/eigen3/Eigen/src/SparseCore/SparseCompressedBase.h\n",
            "-- Installing: /root/.hunter/_Base/70287b1/02ccb06/dffbc08/Build/Eigen/Install/include/eigen3/Eigen/src/SparseCore/SparseRedux.h\n",
            "-- Installing: /root/.hunter/_Base/70287b1/02ccb06/dffbc08/Build/Eigen/Install/include/eigen3/Eigen/src/SparseCore/SparseDiagonalProduct.h\n",
            "-- Installing: /root/.hunter/_Base/70287b1/02ccb06/dffbc08/Build/Eigen/Install/include/eigen3/Eigen/src/SparseCore/SparseSelfAdjointView.h\n",
            "-- Installing: /root/.hunter/_Base/70287b1/02ccb06/dffbc08/Build/Eigen/Install/include/eigen3/Eigen/src/SparseCore/SparseMatrixBase.h\n",
            "-- Installing: /root/.hunter/_Base/70287b1/02ccb06/dffbc08/Build/Eigen/Install/include/eigen3/Eigen/src/SparseCore/MappedSparseMatrix.h\n",
            "-- Installing: /root/.hunter/_Base/70287b1/02ccb06/dffbc08/Build/Eigen/Install/include/eigen3/Eigen/src/SparseCore/AmbiVector.h\n",
            "-- Installing: /root/.hunter/_Base/70287b1/02ccb06/dffbc08/Build/Eigen/Install/include/eigen3/Eigen/src/SparseCore/SparseCwiseBinaryOp.h\n",
            "-- Installing: /root/.hunter/_Base/70287b1/02ccb06/dffbc08/Build/Eigen/Install/include/eigen3/Eigen/src/SparseCore/CompressedStorage.h\n",
            "-- Installing: /root/.hunter/_Base/70287b1/02ccb06/dffbc08/Build/Eigen/Install/include/eigen3/Eigen/src/SparseCore/SparseDenseProduct.h\n",
            "-- Installing: /root/.hunter/_Base/70287b1/02ccb06/dffbc08/Build/Eigen/Install/include/eigen3/Eigen/src/SparseCore/SparseTriangularView.h\n",
            "-- Installing: /root/.hunter/_Base/70287b1/02ccb06/dffbc08/Build/Eigen/Install/include/eigen3/Eigen/src/SparseCore/SparseMatrix.h\n",
            "-- Installing: /root/.hunter/_Base/70287b1/02ccb06/dffbc08/Build/Eigen/Install/include/eigen3/Eigen/src/SparseCore/SparseRef.h\n",
            "-- Installing: /root/.hunter/_Base/70287b1/02ccb06/dffbc08/Build/Eigen/Install/include/eigen3/Eigen/src/SparseCore/TriangularSolver.h\n",
            "-- Installing: /root/.hunter/_Base/70287b1/02ccb06/dffbc08/Build/Eigen/Install/include/eigen3/Eigen/src/SparseCore/SparseColEtree.h\n",
            "-- Installing: /root/.hunter/_Base/70287b1/02ccb06/dffbc08/Build/Eigen/Install/include/eigen3/Eigen/src/SparseCore/SparseSolverBase.h\n",
            "-- Installing: /root/.hunter/_Base/70287b1/02ccb06/dffbc08/Build/Eigen/Install/include/eigen3/Eigen/src/SparseCore/SparseAssign.h\n",
            "-- Installing: /root/.hunter/_Base/70287b1/02ccb06/dffbc08/Build/Eigen/Install/include/eigen3/Eigen/src/SparseCore/SparseDot.h\n",
            "-- Installing: /root/.hunter/_Base/70287b1/02ccb06/dffbc08/Build/Eigen/Install/include/eigen3/Eigen/src/SparseCore/SparseCwiseUnaryOp.h\n",
            "-- Installing: /root/.hunter/_Base/70287b1/02ccb06/dffbc08/Build/Eigen/Install/include/eigen3/Eigen/src/SparseCore/SparseMap.h\n",
            "-- Installing: /root/.hunter/_Base/70287b1/02ccb06/dffbc08/Build/Eigen/Install/include/eigen3/Eigen/src/misc\n",
            "-- Installing: /root/.hunter/_Base/70287b1/02ccb06/dffbc08/Build/Eigen/Install/include/eigen3/Eigen/src/misc/lapack.h\n",
            "-- Installing: /root/.hunter/_Base/70287b1/02ccb06/dffbc08/Build/Eigen/Install/include/eigen3/Eigen/src/misc/blas.h\n",
            "-- Installing: /root/.hunter/_Base/70287b1/02ccb06/dffbc08/Build/Eigen/Install/include/eigen3/Eigen/src/misc/Image.h\n",
            "-- Installing: /root/.hunter/_Base/70287b1/02ccb06/dffbc08/Build/Eigen/Install/include/eigen3/Eigen/src/misc/RealSvd2x2.h\n",
            "-- Installing: /root/.hunter/_Base/70287b1/02ccb06/dffbc08/Build/Eigen/Install/include/eigen3/Eigen/src/misc/Kernel.h\n",
            "-- Installing: /root/.hunter/_Base/70287b1/02ccb06/dffbc08/Build/Eigen/Install/include/eigen3/Eigen/src/misc/lapacke_mangling.h\n",
            "-- Installing: /root/.hunter/_Base/70287b1/02ccb06/dffbc08/Build/Eigen/Install/include/eigen3/Eigen/src/misc/lapacke.h\n",
            "-- Installing: /root/.hunter/_Base/70287b1/02ccb06/dffbc08/Build/Eigen/Install/include/eigen3/Eigen/src/SPQRSupport\n",
            "-- Installing: /root/.hunter/_Base/70287b1/02ccb06/dffbc08/Build/Eigen/Install/include/eigen3/Eigen/src/SPQRSupport/SuiteSparseQRSupport.h\n",
            "-- Installing: /root/.hunter/_Base/70287b1/02ccb06/dffbc08/Build/Eigen/Install/include/eigen3/Eigen/src/Cholesky\n",
            "-- Installing: /root/.hunter/_Base/70287b1/02ccb06/dffbc08/Build/Eigen/Install/include/eigen3/Eigen/src/Cholesky/LLT_LAPACKE.h\n",
            "-- Installing: /root/.hunter/_Base/70287b1/02ccb06/dffbc08/Build/Eigen/Install/include/eigen3/Eigen/src/Cholesky/LDLT.h\n",
            "-- Installing: /root/.hunter/_Base/70287b1/02ccb06/dffbc08/Build/Eigen/Install/include/eigen3/Eigen/src/Cholesky/LLT.h\n",
            "-- Installing: /root/.hunter/_Base/70287b1/02ccb06/dffbc08/Build/Eigen/Install/include/eigen3/Eigen/src/SuperLUSupport\n",
            "-- Installing: /root/.hunter/_Base/70287b1/02ccb06/dffbc08/Build/Eigen/Install/include/eigen3/Eigen/src/SuperLUSupport/SuperLUSupport.h\n",
            "-- Installing: /root/.hunter/_Base/70287b1/02ccb06/dffbc08/Build/Eigen/Install/include/eigen3/Eigen/src/IterativeLinearSolvers\n",
            "-- Installing: /root/.hunter/_Base/70287b1/02ccb06/dffbc08/Build/Eigen/Install/include/eigen3/Eigen/src/IterativeLinearSolvers/BiCGSTAB.h\n",
            "-- Installing: /root/.hunter/_Base/70287b1/02ccb06/dffbc08/Build/Eigen/Install/include/eigen3/Eigen/src/IterativeLinearSolvers/IterativeSolverBase.h\n",
            "-- Installing: /root/.hunter/_Base/70287b1/02ccb06/dffbc08/Build/Eigen/Install/include/eigen3/Eigen/src/IterativeLinearSolvers/IncompleteLUT.h\n",
            "-- Installing: /root/.hunter/_Base/70287b1/02ccb06/dffbc08/Build/Eigen/Install/include/eigen3/Eigen/src/IterativeLinearSolvers/ConjugateGradient.h\n",
            "-- Installing: /root/.hunter/_Base/70287b1/02ccb06/dffbc08/Build/Eigen/Install/include/eigen3/Eigen/src/IterativeLinearSolvers/SolveWithGuess.h\n",
            "-- Installing: /root/.hunter/_Base/70287b1/02ccb06/dffbc08/Build/Eigen/Install/include/eigen3/Eigen/src/IterativeLinearSolvers/BasicPreconditioners.h\n",
            "-- Installing: /root/.hunter/_Base/70287b1/02ccb06/dffbc08/Build/Eigen/Install/include/eigen3/Eigen/src/IterativeLinearSolvers/IncompleteCholesky.h\n",
            "-- Installing: /root/.hunter/_Base/70287b1/02ccb06/dffbc08/Build/Eigen/Install/include/eigen3/Eigen/src/IterativeLinearSolvers/LeastSquareConjugateGradient.h\n",
            "-- Installing: /root/.hunter/_Base/70287b1/02ccb06/dffbc08/Build/Eigen/Install/include/eigen3/Eigen/src/Geometry\n",
            "-- Installing: /root/.hunter/_Base/70287b1/02ccb06/dffbc08/Build/Eigen/Install/include/eigen3/Eigen/src/Geometry/Quaternion.h\n",
            "-- Installing: /root/.hunter/_Base/70287b1/02ccb06/dffbc08/Build/Eigen/Install/include/eigen3/Eigen/src/Geometry/Umeyama.h\n",
            "-- Installing: /root/.hunter/_Base/70287b1/02ccb06/dffbc08/Build/Eigen/Install/include/eigen3/Eigen/src/Geometry/OrthoMethods.h\n",
            "-- Installing: /root/.hunter/_Base/70287b1/02ccb06/dffbc08/Build/Eigen/Install/include/eigen3/Eigen/src/Geometry/EulerAngles.h\n",
            "-- Installing: /root/.hunter/_Base/70287b1/02ccb06/dffbc08/Build/Eigen/Install/include/eigen3/Eigen/src/Geometry/arch\n",
            "-- Installing: /root/.hunter/_Base/70287b1/02ccb06/dffbc08/Build/Eigen/Install/include/eigen3/Eigen/src/Geometry/arch/Geometry_SSE.h\n",
            "-- Installing: /root/.hunter/_Base/70287b1/02ccb06/dffbc08/Build/Eigen/Install/include/eigen3/Eigen/src/Geometry/ParametrizedLine.h\n",
            "-- Installing: /root/.hunter/_Base/70287b1/02ccb06/dffbc08/Build/Eigen/Install/include/eigen3/Eigen/src/Geometry/Transform.h\n",
            "-- Installing: /root/.hunter/_Base/70287b1/02ccb06/dffbc08/Build/Eigen/Install/include/eigen3/Eigen/src/Geometry/Scaling.h\n",
            "-- Installing: /root/.hunter/_Base/70287b1/02ccb06/dffbc08/Build/Eigen/Install/include/eigen3/Eigen/src/Geometry/Homogeneous.h\n",
            "-- Installing: /root/.hunter/_Base/70287b1/02ccb06/dffbc08/Build/Eigen/Install/include/eigen3/Eigen/src/Geometry/AlignedBox.h\n",
            "-- Installing: /root/.hunter/_Base/70287b1/02ccb06/dffbc08/Build/Eigen/Install/include/eigen3/Eigen/src/Geometry/Hyperplane.h\n",
            "-- Installing: /root/.hunter/_Base/70287b1/02ccb06/dffbc08/Build/Eigen/Install/include/eigen3/Eigen/src/Geometry/Rotation2D.h\n",
            "-- Installing: /root/.hunter/_Base/70287b1/02ccb06/dffbc08/Build/Eigen/Install/include/eigen3/Eigen/src/Geometry/AngleAxis.h\n",
            "-- Installing: /root/.hunter/_Base/70287b1/02ccb06/dffbc08/Build/Eigen/Install/include/eigen3/Eigen/src/Geometry/RotationBase.h\n",
            "-- Installing: /root/.hunter/_Base/70287b1/02ccb06/dffbc08/Build/Eigen/Install/include/eigen3/Eigen/src/Geometry/Translation.h\n",
            "-- Installing: /root/.hunter/_Base/70287b1/02ccb06/dffbc08/Build/Eigen/Install/include/eigen3/Eigen/src/SparseLU\n",
            "-- Installing: /root/.hunter/_Base/70287b1/02ccb06/dffbc08/Build/Eigen/Install/include/eigen3/Eigen/src/SparseLU/SparseLU_gemm_kernel.h\n",
            "-- Installing: /root/.hunter/_Base/70287b1/02ccb06/dffbc08/Build/Eigen/Install/include/eigen3/Eigen/src/SparseLU/SparseLU_pivotL.h\n",
            "-- Installing: /root/.hunter/_Base/70287b1/02ccb06/dffbc08/Build/Eigen/Install/include/eigen3/Eigen/src/SparseLU/SparseLU_Utils.h\n",
            "-- Installing: /root/.hunter/_Base/70287b1/02ccb06/dffbc08/Build/Eigen/Install/include/eigen3/Eigen/src/SparseLU/SparseLU_relax_snode.h\n",
            "-- Installing: /root/.hunter/_Base/70287b1/02ccb06/dffbc08/Build/Eigen/Install/include/eigen3/Eigen/src/SparseLU/SparseLU_Memory.h\n",
            "-- Installing: /root/.hunter/_Base/70287b1/02ccb06/dffbc08/Build/Eigen/Install/include/eigen3/Eigen/src/SparseLU/SparseLUImpl.h\n",
            "-- Installing: /root/.hunter/_Base/70287b1/02ccb06/dffbc08/Build/Eigen/Install/include/eigen3/Eigen/src/SparseLU/SparseLU_column_dfs.h\n",
            "-- Installing: /root/.hunter/_Base/70287b1/02ccb06/dffbc08/Build/Eigen/Install/include/eigen3/Eigen/src/SparseLU/SparseLU_column_bmod.h\n",
            "-- Installing: /root/.hunter/_Base/70287b1/02ccb06/dffbc08/Build/Eigen/Install/include/eigen3/Eigen/src/SparseLU/SparseLU_panel_dfs.h\n",
            "-- Installing: /root/.hunter/_Base/70287b1/02ccb06/dffbc08/Build/Eigen/Install/include/eigen3/Eigen/src/SparseLU/SparseLU_kernel_bmod.h\n",
            "-- Installing: /root/.hunter/_Base/70287b1/02ccb06/dffbc08/Build/Eigen/Install/include/eigen3/Eigen/src/SparseLU/SparseLU_copy_to_ucol.h\n",
            "-- Installing: /root/.hunter/_Base/70287b1/02ccb06/dffbc08/Build/Eigen/Install/include/eigen3/Eigen/src/SparseLU/SparseLU_Structs.h\n",
            "-- Installing: /root/.hunter/_Base/70287b1/02ccb06/dffbc08/Build/Eigen/Install/include/eigen3/Eigen/src/SparseLU/SparseLU_SupernodalMatrix.h\n",
            "-- Installing: /root/.hunter/_Base/70287b1/02ccb06/dffbc08/Build/Eigen/Install/include/eigen3/Eigen/src/SparseLU/SparseLU_heap_relax_snode.h\n",
            "-- Installing: /root/.hunter/_Base/70287b1/02ccb06/dffbc08/Build/Eigen/Install/include/eigen3/Eigen/src/SparseLU/SparseLU_panel_bmod.h\n",
            "-- Installing: /root/.hunter/_Base/70287b1/02ccb06/dffbc08/Build/Eigen/Install/include/eigen3/Eigen/src/SparseLU/SparseLU_pruneL.h\n",
            "-- Installing: /root/.hunter/_Base/70287b1/02ccb06/dffbc08/Build/Eigen/Install/include/eigen3/Eigen/src/SparseLU/SparseLU.h\n",
            "-- Installing: /root/.hunter/_Base/70287b1/02ccb06/dffbc08/Build/Eigen/Install/include/eigen3/Eigen/src/SVD\n",
            "-- Installing: /root/.hunter/_Base/70287b1/02ccb06/dffbc08/Build/Eigen/Install/include/eigen3/Eigen/src/SVD/BDCSVD.h\n",
            "-- Installing: /root/.hunter/_Base/70287b1/02ccb06/dffbc08/Build/Eigen/Install/include/eigen3/Eigen/src/SVD/JacobiSVD.h\n",
            "-- Installing: /root/.hunter/_Base/70287b1/02ccb06/dffbc08/Build/Eigen/Install/include/eigen3/Eigen/src/SVD/JacobiSVD_LAPACKE.h\n",
            "-- Installing: /root/.hunter/_Base/70287b1/02ccb06/dffbc08/Build/Eigen/Install/include/eigen3/Eigen/src/SVD/UpperBidiagonalization.h\n",
            "-- Installing: /root/.hunter/_Base/70287b1/02ccb06/dffbc08/Build/Eigen/Install/include/eigen3/Eigen/src/SVD/SVDBase.h\n",
            "-- Installing: /root/.hunter/_Base/70287b1/02ccb06/dffbc08/Build/Eigen/Install/include/eigen3/Eigen/src/OrderingMethods\n",
            "-- Installing: /root/.hunter/_Base/70287b1/02ccb06/dffbc08/Build/Eigen/Install/include/eigen3/Eigen/src/OrderingMethods/Amd.h\n",
            "-- Installing: /root/.hunter/_Base/70287b1/02ccb06/dffbc08/Build/Eigen/Install/include/eigen3/Eigen/src/OrderingMethods/Ordering.h\n",
            "-- Installing: /root/.hunter/_Base/70287b1/02ccb06/dffbc08/Build/Eigen/Install/include/eigen3/Eigen/src/OrderingMethods/Eigen_Colamd.h\n",
            "-- Installing: /root/.hunter/_Base/70287b1/02ccb06/dffbc08/Build/Eigen/Install/include/eigen3/Eigen/src/StlSupport\n",
            "-- Installing: /root/.hunter/_Base/70287b1/02ccb06/dffbc08/Build/Eigen/Install/include/eigen3/Eigen/src/StlSupport/details.h\n",
            "-- Installing: /root/.hunter/_Base/70287b1/02ccb06/dffbc08/Build/Eigen/Install/include/eigen3/Eigen/src/StlSupport/StdDeque.h\n",
            "-- Installing: /root/.hunter/_Base/70287b1/02ccb06/dffbc08/Build/Eigen/Install/include/eigen3/Eigen/src/StlSupport/StdVector.h\n",
            "-- Installing: /root/.hunter/_Base/70287b1/02ccb06/dffbc08/Build/Eigen/Install/include/eigen3/Eigen/src/StlSupport/StdList.h\n",
            "-- Installing: /root/.hunter/_Base/70287b1/02ccb06/dffbc08/Build/Eigen/Install/include/eigen3/Eigen/src/Jacobi\n",
            "-- Installing: /root/.hunter/_Base/70287b1/02ccb06/dffbc08/Build/Eigen/Install/include/eigen3/Eigen/src/Jacobi/Jacobi.h\n",
            "-- Installing: /root/.hunter/_Base/70287b1/02ccb06/dffbc08/Build/Eigen/Install/include/eigen3/Eigen/src/QR\n",
            "-- Installing: /root/.hunter/_Base/70287b1/02ccb06/dffbc08/Build/Eigen/Install/include/eigen3/Eigen/src/QR/ColPivHouseholderQR_LAPACKE.h\n",
            "-- Installing: /root/.hunter/_Base/70287b1/02ccb06/dffbc08/Build/Eigen/Install/include/eigen3/Eigen/src/QR/HouseholderQR.h\n",
            "-- Installing: /root/.hunter/_Base/70287b1/02ccb06/dffbc08/Build/Eigen/Install/include/eigen3/Eigen/src/QR/HouseholderQR_LAPACKE.h\n",
            "-- Installing: /root/.hunter/_Base/70287b1/02ccb06/dffbc08/Build/Eigen/Install/include/eigen3/Eigen/src/QR/ColPivHouseholderQR.h\n",
            "-- Installing: /root/.hunter/_Base/70287b1/02ccb06/dffbc08/Build/Eigen/Install/include/eigen3/Eigen/src/QR/FullPivHouseholderQR.h\n",
            "-- Installing: /root/.hunter/_Base/70287b1/02ccb06/dffbc08/Build/Eigen/Install/include/eigen3/Eigen/src/QR/CompleteOrthogonalDecomposition.h\n",
            "-- Installing: /root/.hunter/_Base/70287b1/02ccb06/dffbc08/Build/Eigen/Install/include/eigen3/Eigen/src/LU\n",
            "-- Installing: /root/.hunter/_Base/70287b1/02ccb06/dffbc08/Build/Eigen/Install/include/eigen3/Eigen/src/LU/PartialPivLU_LAPACKE.h\n",
            "-- Installing: /root/.hunter/_Base/70287b1/02ccb06/dffbc08/Build/Eigen/Install/include/eigen3/Eigen/src/LU/arch\n",
            "-- Installing: /root/.hunter/_Base/70287b1/02ccb06/dffbc08/Build/Eigen/Install/include/eigen3/Eigen/src/LU/arch/Inverse_SSE.h\n",
            "-- Installing: /root/.hunter/_Base/70287b1/02ccb06/dffbc08/Build/Eigen/Install/include/eigen3/Eigen/src/LU/InverseImpl.h\n",
            "-- Installing: /root/.hunter/_Base/70287b1/02ccb06/dffbc08/Build/Eigen/Install/include/eigen3/Eigen/src/LU/Determinant.h\n",
            "-- Installing: /root/.hunter/_Base/70287b1/02ccb06/dffbc08/Build/Eigen/Install/include/eigen3/Eigen/src/LU/FullPivLU.h\n",
            "-- Installing: /root/.hunter/_Base/70287b1/02ccb06/dffbc08/Build/Eigen/Install/include/eigen3/Eigen/src/LU/PartialPivLU.h\n",
            "-- Installing: /root/.hunter/_Base/70287b1/02ccb06/dffbc08/Build/Eigen/Install/include/eigen3/Eigen/src/plugins\n",
            "-- Installing: /root/.hunter/_Base/70287b1/02ccb06/dffbc08/Build/Eigen/Install/include/eigen3/Eigen/src/plugins/CommonCwiseUnaryOps.h\n",
            "-- Installing: /root/.hunter/_Base/70287b1/02ccb06/dffbc08/Build/Eigen/Install/include/eigen3/Eigen/src/plugins/ArrayCwiseUnaryOps.h\n",
            "-- Installing: /root/.hunter/_Base/70287b1/02ccb06/dffbc08/Build/Eigen/Install/include/eigen3/Eigen/src/plugins/MatrixCwiseBinaryOps.h\n",
            "-- Installing: /root/.hunter/_Base/70287b1/02ccb06/dffbc08/Build/Eigen/Install/include/eigen3/Eigen/src/plugins/BlockMethods.h\n",
            "-- Installing: /root/.hunter/_Base/70287b1/02ccb06/dffbc08/Build/Eigen/Install/include/eigen3/Eigen/src/plugins/CommonCwiseBinaryOps.h\n",
            "-- Installing: /root/.hunter/_Base/70287b1/02ccb06/dffbc08/Build/Eigen/Install/include/eigen3/Eigen/src/plugins/ArrayCwiseBinaryOps.h\n",
            "-- Installing: /root/.hunter/_Base/70287b1/02ccb06/dffbc08/Build/Eigen/Install/include/eigen3/Eigen/src/plugins/MatrixCwiseUnaryOps.h\n",
            "-- Installing: /root/.hunter/_Base/70287b1/02ccb06/dffbc08/Build/Eigen/Install/include/eigen3/Eigen/src/SparseCholesky\n",
            "-- Installing: /root/.hunter/_Base/70287b1/02ccb06/dffbc08/Build/Eigen/Install/include/eigen3/Eigen/src/SparseCholesky/SimplicialCholesky.h\n",
            "-- Installing: /root/.hunter/_Base/70287b1/02ccb06/dffbc08/Build/Eigen/Install/include/eigen3/Eigen/src/SparseCholesky/SimplicialCholesky_impl.h\n",
            "-- Installing: /root/.hunter/_Base/70287b1/02ccb06/dffbc08/Build/Eigen/Install/include/eigen3/Eigen/src/Householder\n",
            "-- Installing: /root/.hunter/_Base/70287b1/02ccb06/dffbc08/Build/Eigen/Install/include/eigen3/Eigen/src/Householder/BlockHouseholder.h\n",
            "-- Installing: /root/.hunter/_Base/70287b1/02ccb06/dffbc08/Build/Eigen/Install/include/eigen3/Eigen/src/Householder/HouseholderSequence.h\n",
            "-- Installing: /root/.hunter/_Base/70287b1/02ccb06/dffbc08/Build/Eigen/Install/include/eigen3/Eigen/src/Householder/Householder.h\n",
            "-- Installing: /root/.hunter/_Base/70287b1/02ccb06/dffbc08/Build/Eigen/Install/include/eigen3/Eigen/src/PardisoSupport\n",
            "-- Installing: /root/.hunter/_Base/70287b1/02ccb06/dffbc08/Build/Eigen/Install/include/eigen3/Eigen/src/PardisoSupport/PardisoSupport.h\n",
            "-- Installing: /root/.hunter/_Base/70287b1/02ccb06/dffbc08/Build/Eigen/Install/include/eigen3/Eigen/src/SparseQR\n",
            "-- Installing: /root/.hunter/_Base/70287b1/02ccb06/dffbc08/Build/Eigen/Install/include/eigen3/Eigen/src/SparseQR/SparseQR.h\n",
            "-- Installing: /root/.hunter/_Base/70287b1/02ccb06/dffbc08/Build/Eigen/Install/include/eigen3/Eigen/src/MetisSupport\n",
            "-- Installing: /root/.hunter/_Base/70287b1/02ccb06/dffbc08/Build/Eigen/Install/include/eigen3/Eigen/src/MetisSupport/MetisSupport.h\n",
            "-- Installing: /root/.hunter/_Base/70287b1/02ccb06/dffbc08/Build/Eigen/Install/include/eigen3/Eigen/src/Core\n",
            "-- Installing: /root/.hunter/_Base/70287b1/02ccb06/dffbc08/Build/Eigen/Install/include/eigen3/Eigen/src/Core/Diagonal.h\n",
            "-- Installing: /root/.hunter/_Base/70287b1/02ccb06/dffbc08/Build/Eigen/Install/include/eigen3/Eigen/src/Core/Visitor.h\n",
            "-- Installing: /root/.hunter/_Base/70287b1/02ccb06/dffbc08/Build/Eigen/Install/include/eigen3/Eigen/src/Core/CommaInitializer.h\n",
            "-- Installing: /root/.hunter/_Base/70287b1/02ccb06/dffbc08/Build/Eigen/Install/include/eigen3/Eigen/src/Core/MathFunctions.h\n",
            "-- Installing: /root/.hunter/_Base/70287b1/02ccb06/dffbc08/Build/Eigen/Install/include/eigen3/Eigen/src/Core/SelfCwiseBinaryOp.h\n",
            "-- Installing: /root/.hunter/_Base/70287b1/02ccb06/dffbc08/Build/Eigen/Install/include/eigen3/Eigen/src/Core/DiagonalMatrix.h\n",
            "-- Installing: /root/.hunter/_Base/70287b1/02ccb06/dffbc08/Build/Eigen/Install/include/eigen3/Eigen/src/Core/GeneralProduct.h\n",
            "-- Installing: /root/.hunter/_Base/70287b1/02ccb06/dffbc08/Build/Eigen/Install/include/eigen3/Eigen/src/Core/NumTraits.h\n",
            "-- Installing: /root/.hunter/_Base/70287b1/02ccb06/dffbc08/Build/Eigen/Install/include/eigen3/Eigen/src/Core/MapBase.h\n",
            "-- Installing: /root/.hunter/_Base/70287b1/02ccb06/dffbc08/Build/Eigen/Install/include/eigen3/Eigen/src/Core/PermutationMatrix.h\n",
            "-- Installing: /root/.hunter/_Base/70287b1/02ccb06/dffbc08/Build/Eigen/Install/include/eigen3/Eigen/src/Core/Stride.h\n",
            "-- Installing: /root/.hunter/_Base/70287b1/02ccb06/dffbc08/Build/Eigen/Install/include/eigen3/Eigen/src/Core/Block.h\n",
            "-- Installing: /root/.hunter/_Base/70287b1/02ccb06/dffbc08/Build/Eigen/Install/include/eigen3/Eigen/src/Core/products\n",
            "-- Installing: /root/.hunter/_Base/70287b1/02ccb06/dffbc08/Build/Eigen/Install/include/eigen3/Eigen/src/Core/products/GeneralMatrixMatrixTriangular_BLAS.h\n",
            "-- Installing: /root/.hunter/_Base/70287b1/02ccb06/dffbc08/Build/Eigen/Install/include/eigen3/Eigen/src/Core/products/SelfadjointProduct.h\n",
            "-- Installing: /root/.hunter/_Base/70287b1/02ccb06/dffbc08/Build/Eigen/Install/include/eigen3/Eigen/src/Core/products/SelfadjointMatrixMatrix_BLAS.h\n",
            "-- Installing: /root/.hunter/_Base/70287b1/02ccb06/dffbc08/Build/Eigen/Install/include/eigen3/Eigen/src/Core/products/SelfadjointMatrixVector.h\n",
            "-- Installing: /root/.hunter/_Base/70287b1/02ccb06/dffbc08/Build/Eigen/Install/include/eigen3/Eigen/src/Core/products/TriangularSolverMatrix.h\n",
            "-- Installing: /root/.hunter/_Base/70287b1/02ccb06/dffbc08/Build/Eigen/Install/include/eigen3/Eigen/src/Core/products/Parallelizer.h\n",
            "-- Installing: /root/.hunter/_Base/70287b1/02ccb06/dffbc08/Build/Eigen/Install/include/eigen3/Eigen/src/Core/products/TriangularSolverMatrix_BLAS.h\n",
            "-- Installing: /root/.hunter/_Base/70287b1/02ccb06/dffbc08/Build/Eigen/Install/include/eigen3/Eigen/src/Core/products/TriangularMatrixMatrix_BLAS.h\n",
            "-- Installing: /root/.hunter/_Base/70287b1/02ccb06/dffbc08/Build/Eigen/Install/include/eigen3/Eigen/src/Core/products/TriangularMatrixMatrix.h\n",
            "-- Installing: /root/.hunter/_Base/70287b1/02ccb06/dffbc08/Build/Eigen/Install/include/eigen3/Eigen/src/Core/products/GeneralBlockPanelKernel.h\n",
            "-- Installing: /root/.hunter/_Base/70287b1/02ccb06/dffbc08/Build/Eigen/Install/include/eigen3/Eigen/src/Core/products/GeneralMatrixMatrixTriangular.h\n",
            "-- Installing: /root/.hunter/_Base/70287b1/02ccb06/dffbc08/Build/Eigen/Install/include/eigen3/Eigen/src/Core/products/TriangularMatrixVector_BLAS.h\n",
            "-- Installing: /root/.hunter/_Base/70287b1/02ccb06/dffbc08/Build/Eigen/Install/include/eigen3/Eigen/src/Core/products/GeneralMatrixVector_BLAS.h\n",
            "-- Installing: /root/.hunter/_Base/70287b1/02ccb06/dffbc08/Build/Eigen/Install/include/eigen3/Eigen/src/Core/products/TriangularSolverVector.h\n",
            "-- Installing: /root/.hunter/_Base/70287b1/02ccb06/dffbc08/Build/Eigen/Install/include/eigen3/Eigen/src/Core/products/GeneralMatrixVector.h\n",
            "-- Installing: /root/.hunter/_Base/70287b1/02ccb06/dffbc08/Build/Eigen/Install/include/eigen3/Eigen/src/Core/products/SelfadjointMatrixVector_BLAS.h\n",
            "-- Installing: /root/.hunter/_Base/70287b1/02ccb06/dffbc08/Build/Eigen/Install/include/eigen3/Eigen/src/Core/products/SelfadjointRank2Update.h\n",
            "-- Installing: /root/.hunter/_Base/70287b1/02ccb06/dffbc08/Build/Eigen/Install/include/eigen3/Eigen/src/Core/products/GeneralMatrixMatrix.h\n",
            "-- Installing: /root/.hunter/_Base/70287b1/02ccb06/dffbc08/Build/Eigen/Install/include/eigen3/Eigen/src/Core/products/SelfadjointMatrixMatrix.h\n",
            "-- Installing: /root/.hunter/_Base/70287b1/02ccb06/dffbc08/Build/Eigen/Install/include/eigen3/Eigen/src/Core/products/TriangularMatrixVector.h\n",
            "-- Installing: /root/.hunter/_Base/70287b1/02ccb06/dffbc08/Build/Eigen/Install/include/eigen3/Eigen/src/Core/products/GeneralMatrixMatrix_BLAS.h\n",
            "-- Installing: /root/.hunter/_Base/70287b1/02ccb06/dffbc08/Build/Eigen/Install/include/eigen3/Eigen/src/Core/CwiseBinaryOp.h\n",
            "-- Installing: /root/.hunter/_Base/70287b1/02ccb06/dffbc08/Build/Eigen/Install/include/eigen3/Eigen/src/Core/Assign.h\n",
            "-- Installing: /root/.hunter/_Base/70287b1/02ccb06/dffbc08/Build/Eigen/Install/include/eigen3/Eigen/src/Core/CwiseUnaryView.h\n",
            "-- Installing: /root/.hunter/_Base/70287b1/02ccb06/dffbc08/Build/Eigen/Install/include/eigen3/Eigen/src/Core/DenseBase.h\n",
            "-- Installing: /root/.hunter/_Base/70287b1/02ccb06/dffbc08/Build/Eigen/Install/include/eigen3/Eigen/src/Core/functors\n",
            "-- Installing: /root/.hunter/_Base/70287b1/02ccb06/dffbc08/Build/Eigen/Install/include/eigen3/Eigen/src/Core/functors/UnaryFunctors.h\n",
            "-- Installing: /root/.hunter/_Base/70287b1/02ccb06/dffbc08/Build/Eigen/Install/include/eigen3/Eigen/src/Core/functors/NullaryFunctors.h\n",
            "-- Installing: /root/.hunter/_Base/70287b1/02ccb06/dffbc08/Build/Eigen/Install/include/eigen3/Eigen/src/Core/functors/AssignmentFunctors.h\n",
            "-- Installing: /root/.hunter/_Base/70287b1/02ccb06/dffbc08/Build/Eigen/Install/include/eigen3/Eigen/src/Core/functors/TernaryFunctors.h\n",
            "-- Installing: /root/.hunter/_Base/70287b1/02ccb06/dffbc08/Build/Eigen/Install/include/eigen3/Eigen/src/Core/functors/StlFunctors.h\n",
            "-- Installing: /root/.hunter/_Base/70287b1/02ccb06/dffbc08/Build/Eigen/Install/include/eigen3/Eigen/src/Core/functors/BinaryFunctors.h\n",
            "-- Installing: /root/.hunter/_Base/70287b1/02ccb06/dffbc08/Build/Eigen/Install/include/eigen3/Eigen/src/Core/Swap.h\n",
            "-- Installing: /root/.hunter/_Base/70287b1/02ccb06/dffbc08/Build/Eigen/Install/include/eigen3/Eigen/src/Core/ForceAlignedAccess.h\n",
            "-- Installing: /root/.hunter/_Base/70287b1/02ccb06/dffbc08/Build/Eigen/Install/include/eigen3/Eigen/src/Core/DenseCoeffsBase.h\n",
            "-- Installing: /root/.hunter/_Base/70287b1/02ccb06/dffbc08/Build/Eigen/Install/include/eigen3/Eigen/src/Core/ProductEvaluators.h\n",
            "-- Installing: /root/.hunter/_Base/70287b1/02ccb06/dffbc08/Build/Eigen/Install/include/eigen3/Eigen/src/Core/CoreIterators.h\n",
            "-- Installing: /root/.hunter/_Base/70287b1/02ccb06/dffbc08/Build/Eigen/Install/include/eigen3/Eigen/src/Core/IO.h\n",
            "-- Installing: /root/.hunter/_Base/70287b1/02ccb06/dffbc08/Build/Eigen/Install/include/eigen3/Eigen/src/Core/Dot.h\n",
            "-- Installing: /root/.hunter/_Base/70287b1/02ccb06/dffbc08/Build/Eigen/Install/include/eigen3/Eigen/src/Core/BooleanRedux.h\n",
            "-- Installing: /root/.hunter/_Base/70287b1/02ccb06/dffbc08/Build/Eigen/Install/include/eigen3/Eigen/src/Core/GlobalFunctions.h\n",
            "-- Installing: /root/.hunter/_Base/70287b1/02ccb06/dffbc08/Build/Eigen/Install/include/eigen3/Eigen/src/Core/Replicate.h\n",
            "-- Installing: /root/.hunter/_Base/70287b1/02ccb06/dffbc08/Build/Eigen/Install/include/eigen3/Eigen/src/Core/TriangularMatrix.h\n",
            "-- Installing: /root/.hunter/_Base/70287b1/02ccb06/dffbc08/Build/Eigen/Install/include/eigen3/Eigen/src/Core/CwiseTernaryOp.h\n",
            "-- Installing: /root/.hunter/_Base/70287b1/02ccb06/dffbc08/Build/Eigen/Install/include/eigen3/Eigen/src/Core/SelfAdjointView.h\n",
            "-- Installing: /root/.hunter/_Base/70287b1/02ccb06/dffbc08/Build/Eigen/Install/include/eigen3/Eigen/src/Core/MatrixBase.h\n",
            "-- Installing: /root/.hunter/_Base/70287b1/02ccb06/dffbc08/Build/Eigen/Install/include/eigen3/Eigen/src/Core/BandMatrix.h\n",
            "-- Installing: /root/.hunter/_Base/70287b1/02ccb06/dffbc08/Build/Eigen/Install/include/eigen3/Eigen/src/Core/util\n",
            "-- Installing: /root/.hunter/_Base/70287b1/02ccb06/dffbc08/Build/Eigen/Install/include/eigen3/Eigen/src/Core/util/ReenableStupidWarnings.h\n",
            "-- Installing: /root/.hunter/_Base/70287b1/02ccb06/dffbc08/Build/Eigen/Install/include/eigen3/Eigen/src/Core/util/StaticAssert.h\n",
            "-- Installing: /root/.hunter/_Base/70287b1/02ccb06/dffbc08/Build/Eigen/Install/include/eigen3/Eigen/src/Core/util/MKL_support.h\n",
            "-- Installing: /root/.hunter/_Base/70287b1/02ccb06/dffbc08/Build/Eigen/Install/include/eigen3/Eigen/src/Core/util/Meta.h\n",
            "-- Installing: /root/.hunter/_Base/70287b1/02ccb06/dffbc08/Build/Eigen/Install/include/eigen3/Eigen/src/Core/util/XprHelper.h\n",
            "-- Installing: /root/.hunter/_Base/70287b1/02ccb06/dffbc08/Build/Eigen/Install/include/eigen3/Eigen/src/Core/util/Constants.h\n",
            "-- Installing: /root/.hunter/_Base/70287b1/02ccb06/dffbc08/Build/Eigen/Install/include/eigen3/Eigen/src/Core/util/ForwardDeclarations.h\n",
            "-- Installing: /root/.hunter/_Base/70287b1/02ccb06/dffbc08/Build/Eigen/Install/include/eigen3/Eigen/src/Core/util/DisableStupidWarnings.h\n",
            "-- Installing: /root/.hunter/_Base/70287b1/02ccb06/dffbc08/Build/Eigen/Install/include/eigen3/Eigen/src/Core/util/Macros.h\n",
            "-- Installing: /root/.hunter/_Base/70287b1/02ccb06/dffbc08/Build/Eigen/Install/include/eigen3/Eigen/src/Core/util/BlasUtil.h\n",
            "-- Installing: /root/.hunter/_Base/70287b1/02ccb06/dffbc08/Build/Eigen/Install/include/eigen3/Eigen/src/Core/util/Memory.h\n",
            "-- Installing: /root/.hunter/_Base/70287b1/02ccb06/dffbc08/Build/Eigen/Install/include/eigen3/Eigen/src/Core/util/NonMPL2.h\n",
            "-- Installing: /root/.hunter/_Base/70287b1/02ccb06/dffbc08/Build/Eigen/Install/include/eigen3/Eigen/src/Core/CoreEvaluators.h\n",
            "-- Installing: /root/.hunter/_Base/70287b1/02ccb06/dffbc08/Build/Eigen/Install/include/eigen3/Eigen/src/Core/DenseStorage.h\n",
            "-- Installing: /root/.hunter/_Base/70287b1/02ccb06/dffbc08/Build/Eigen/Install/include/eigen3/Eigen/src/Core/CwiseNullaryOp.h\n",
            "-- Installing: /root/.hunter/_Base/70287b1/02ccb06/dffbc08/Build/Eigen/Install/include/eigen3/Eigen/src/Core/StableNorm.h\n",
            "-- Installing: /root/.hunter/_Base/70287b1/02ccb06/dffbc08/Build/Eigen/Install/include/eigen3/Eigen/src/Core/SolveTriangular.h\n",
            "-- Installing: /root/.hunter/_Base/70287b1/02ccb06/dffbc08/Build/Eigen/Install/include/eigen3/Eigen/src/Core/ArrayWrapper.h\n",
            "-- Installing: /root/.hunter/_Base/70287b1/02ccb06/dffbc08/Build/Eigen/Install/include/eigen3/Eigen/src/Core/ConditionEstimator.h\n",
            "-- Installing: /root/.hunter/_Base/70287b1/02ccb06/dffbc08/Build/Eigen/Install/include/eigen3/Eigen/src/Core/arch\n",
            "-- Installing: /root/.hunter/_Base/70287b1/02ccb06/dffbc08/Build/Eigen/Install/include/eigen3/Eigen/src/Core/arch/AVX512\n",
            "-- Installing: /root/.hunter/_Base/70287b1/02ccb06/dffbc08/Build/Eigen/Install/include/eigen3/Eigen/src/Core/arch/AVX512/MathFunctions.h\n",
            "-- Installing: /root/.hunter/_Base/70287b1/02ccb06/dffbc08/Build/Eigen/Install/include/eigen3/Eigen/src/Core/arch/AVX512/PacketMath.h\n",
            "-- Installing: /root/.hunter/_Base/70287b1/02ccb06/dffbc08/Build/Eigen/Install/include/eigen3/Eigen/src/Core/arch/CUDA\n",
            "-- Installing: /root/.hunter/_Base/70287b1/02ccb06/dffbc08/Build/Eigen/Install/include/eigen3/Eigen/src/Core/arch/CUDA/MathFunctions.h\n",
            "-- Installing: /root/.hunter/_Base/70287b1/02ccb06/dffbc08/Build/Eigen/Install/include/eigen3/Eigen/src/Core/arch/CUDA/Half.h\n",
            "-- Installing: /root/.hunter/_Base/70287b1/02ccb06/dffbc08/Build/Eigen/Install/include/eigen3/Eigen/src/Core/arch/CUDA/PacketMathHalf.h\n",
            "-- Installing: /root/.hunter/_Base/70287b1/02ccb06/dffbc08/Build/Eigen/Install/include/eigen3/Eigen/src/Core/arch/CUDA/TypeCasting.h\n",
            "-- Installing: /root/.hunter/_Base/70287b1/02ccb06/dffbc08/Build/Eigen/Install/include/eigen3/Eigen/src/Core/arch/CUDA/PacketMath.h\n",
            "-- Installing: /root/.hunter/_Base/70287b1/02ccb06/dffbc08/Build/Eigen/Install/include/eigen3/Eigen/src/Core/arch/CUDA/Complex.h\n",
            "-- Installing: /root/.hunter/_Base/70287b1/02ccb06/dffbc08/Build/Eigen/Install/include/eigen3/Eigen/src/Core/arch/Default\n",
            "-- Installing: /root/.hunter/_Base/70287b1/02ccb06/dffbc08/Build/Eigen/Install/include/eigen3/Eigen/src/Core/arch/Default/ConjHelper.h\n",
            "-- Installing: /root/.hunter/_Base/70287b1/02ccb06/dffbc08/Build/Eigen/Install/include/eigen3/Eigen/src/Core/arch/Default/Settings.h\n",
            "-- Installing: /root/.hunter/_Base/70287b1/02ccb06/dffbc08/Build/Eigen/Install/include/eigen3/Eigen/src/Core/arch/NEON\n",
            "-- Installing: /root/.hunter/_Base/70287b1/02ccb06/dffbc08/Build/Eigen/Install/include/eigen3/Eigen/src/Core/arch/NEON/MathFunctions.h\n",
            "-- Installing: /root/.hunter/_Base/70287b1/02ccb06/dffbc08/Build/Eigen/Install/include/eigen3/Eigen/src/Core/arch/NEON/PacketMath.h\n",
            "-- Installing: /root/.hunter/_Base/70287b1/02ccb06/dffbc08/Build/Eigen/Install/include/eigen3/Eigen/src/Core/arch/NEON/Complex.h\n",
            "-- Installing: /root/.hunter/_Base/70287b1/02ccb06/dffbc08/Build/Eigen/Install/include/eigen3/Eigen/src/Core/arch/ZVector\n",
            "-- Installing: /root/.hunter/_Base/70287b1/02ccb06/dffbc08/Build/Eigen/Install/include/eigen3/Eigen/src/Core/arch/ZVector/MathFunctions.h\n",
            "-- Installing: /root/.hunter/_Base/70287b1/02ccb06/dffbc08/Build/Eigen/Install/include/eigen3/Eigen/src/Core/arch/ZVector/PacketMath.h\n",
            "-- Installing: /root/.hunter/_Base/70287b1/02ccb06/dffbc08/Build/Eigen/Install/include/eigen3/Eigen/src/Core/arch/ZVector/Complex.h\n",
            "-- Installing: /root/.hunter/_Base/70287b1/02ccb06/dffbc08/Build/Eigen/Install/include/eigen3/Eigen/src/Core/arch/AltiVec\n",
            "-- Installing: /root/.hunter/_Base/70287b1/02ccb06/dffbc08/Build/Eigen/Install/include/eigen3/Eigen/src/Core/arch/AltiVec/MathFunctions.h\n",
            "-- Installing: /root/.hunter/_Base/70287b1/02ccb06/dffbc08/Build/Eigen/Install/include/eigen3/Eigen/src/Core/arch/AltiVec/PacketMath.h\n",
            "-- Installing: /root/.hunter/_Base/70287b1/02ccb06/dffbc08/Build/Eigen/Install/include/eigen3/Eigen/src/Core/arch/AltiVec/Complex.h\n",
            "-- Installing: /root/.hunter/_Base/70287b1/02ccb06/dffbc08/Build/Eigen/Install/include/eigen3/Eigen/src/Core/arch/AVX\n",
            "-- Installing: /root/.hunter/_Base/70287b1/02ccb06/dffbc08/Build/Eigen/Install/include/eigen3/Eigen/src/Core/arch/AVX/MathFunctions.h\n",
            "-- Installing: /root/.hunter/_Base/70287b1/02ccb06/dffbc08/Build/Eigen/Install/include/eigen3/Eigen/src/Core/arch/AVX/TypeCasting.h\n",
            "-- Installing: /root/.hunter/_Base/70287b1/02ccb06/dffbc08/Build/Eigen/Install/include/eigen3/Eigen/src/Core/arch/AVX/PacketMath.h\n",
            "-- Installing: /root/.hunter/_Base/70287b1/02ccb06/dffbc08/Build/Eigen/Install/include/eigen3/Eigen/src/Core/arch/AVX/Complex.h\n",
            "-- Installing: /root/.hunter/_Base/70287b1/02ccb06/dffbc08/Build/Eigen/Install/include/eigen3/Eigen/src/Core/arch/SSE\n",
            "-- Installing: /root/.hunter/_Base/70287b1/02ccb06/dffbc08/Build/Eigen/Install/include/eigen3/Eigen/src/Core/arch/SSE/MathFunctions.h\n",
            "-- Installing: /root/.hunter/_Base/70287b1/02ccb06/dffbc08/Build/Eigen/Install/include/eigen3/Eigen/src/Core/arch/SSE/TypeCasting.h\n",
            "-- Installing: /root/.hunter/_Base/70287b1/02ccb06/dffbc08/Build/Eigen/Install/include/eigen3/Eigen/src/Core/arch/SSE/PacketMath.h\n",
            "-- Installing: /root/.hunter/_Base/70287b1/02ccb06/dffbc08/Build/Eigen/Install/include/eigen3/Eigen/src/Core/arch/SSE/Complex.h\n",
            "-- Installing: /root/.hunter/_Base/70287b1/02ccb06/dffbc08/Build/Eigen/Install/include/eigen3/Eigen/src/Core/Matrix.h\n",
            "-- Installing: /root/.hunter/_Base/70287b1/02ccb06/dffbc08/Build/Eigen/Install/include/eigen3/Eigen/src/Core/MathFunctionsImpl.h\n",
            "-- Installing: /root/.hunter/_Base/70287b1/02ccb06/dffbc08/Build/Eigen/Install/include/eigen3/Eigen/src/Core/NoAlias.h\n",
            "-- Installing: /root/.hunter/_Base/70287b1/02ccb06/dffbc08/Build/Eigen/Install/include/eigen3/Eigen/src/Core/ArrayBase.h\n",
            "-- Installing: /root/.hunter/_Base/70287b1/02ccb06/dffbc08/Build/Eigen/Install/include/eigen3/Eigen/src/Core/VectorwiseOp.h\n",
            "-- Installing: /root/.hunter/_Base/70287b1/02ccb06/dffbc08/Build/Eigen/Install/include/eigen3/Eigen/src/Core/Reverse.h\n",
            "-- Installing: /root/.hunter/_Base/70287b1/02ccb06/dffbc08/Build/Eigen/Install/include/eigen3/Eigen/src/Core/GenericPacketMath.h\n",
            "-- Installing: /root/.hunter/_Base/70287b1/02ccb06/dffbc08/Build/Eigen/Install/include/eigen3/Eigen/src/Core/Array.h\n",
            "-- Installing: /root/.hunter/_Base/70287b1/02ccb06/dffbc08/Build/Eigen/Install/include/eigen3/Eigen/src/Core/EigenBase.h\n",
            "-- Installing: /root/.hunter/_Base/70287b1/02ccb06/dffbc08/Build/Eigen/Install/include/eigen3/Eigen/src/Core/NestByValue.h\n",
            "-- Installing: /root/.hunter/_Base/70287b1/02ccb06/dffbc08/Build/Eigen/Install/include/eigen3/Eigen/src/Core/Map.h\n",
            "-- Installing: /root/.hunter/_Base/70287b1/02ccb06/dffbc08/Build/Eigen/Install/include/eigen3/Eigen/src/Core/ReturnByValue.h\n",
            "-- Installing: /root/.hunter/_Base/70287b1/02ccb06/dffbc08/Build/Eigen/Install/include/eigen3/Eigen/src/Core/Transpositions.h\n",
            "-- Installing: /root/.hunter/_Base/70287b1/02ccb06/dffbc08/Build/Eigen/Install/include/eigen3/Eigen/src/Core/Solve.h\n",
            "-- Installing: /root/.hunter/_Base/70287b1/02ccb06/dffbc08/Build/Eigen/Install/include/eigen3/Eigen/src/Core/SolverBase.h\n",
            "-- Installing: /root/.hunter/_Base/70287b1/02ccb06/dffbc08/Build/Eigen/Install/include/eigen3/Eigen/src/Core/Random.h\n",
            "-- Installing: /root/.hunter/_Base/70287b1/02ccb06/dffbc08/Build/Eigen/Install/include/eigen3/Eigen/src/Core/DiagonalProduct.h\n",
            "-- Installing: /root/.hunter/_Base/70287b1/02ccb06/dffbc08/Build/Eigen/Install/include/eigen3/Eigen/src/Core/AssignEvaluator.h\n",
            "-- Installing: /root/.hunter/_Base/70287b1/02ccb06/dffbc08/Build/Eigen/Install/include/eigen3/Eigen/src/Core/Fuzzy.h\n",
            "-- Installing: /root/.hunter/_Base/70287b1/02ccb06/dffbc08/Build/Eigen/Install/include/eigen3/Eigen/src/Core/Transpose.h\n",
            "-- Installing: /root/.hunter/_Base/70287b1/02ccb06/dffbc08/Build/Eigen/Install/include/eigen3/Eigen/src/Core/PlainObjectBase.h\n",
            "-- Installing: /root/.hunter/_Base/70287b1/02ccb06/dffbc08/Build/Eigen/Install/include/eigen3/Eigen/src/Core/Select.h\n",
            "-- Installing: /root/.hunter/_Base/70287b1/02ccb06/dffbc08/Build/Eigen/Install/include/eigen3/Eigen/src/Core/Ref.h\n",
            "-- Installing: /root/.hunter/_Base/70287b1/02ccb06/dffbc08/Build/Eigen/Install/include/eigen3/Eigen/src/Core/VectorBlock.h\n",
            "-- Installing: /root/.hunter/_Base/70287b1/02ccb06/dffbc08/Build/Eigen/Install/include/eigen3/Eigen/src/Core/Assign_MKL.h\n",
            "-- Installing: /root/.hunter/_Base/70287b1/02ccb06/dffbc08/Build/Eigen/Install/include/eigen3/Eigen/src/Core/CwiseUnaryOp.h\n",
            "-- Installing: /root/.hunter/_Base/70287b1/02ccb06/dffbc08/Build/Eigen/Install/include/eigen3/Eigen/src/Core/Inverse.h\n",
            "-- Installing: /root/.hunter/_Base/70287b1/02ccb06/dffbc08/Build/Eigen/Install/include/eigen3/Eigen/src/Core/Redux.h\n",
            "-- Installing: /root/.hunter/_Base/70287b1/02ccb06/dffbc08/Build/Eigen/Install/include/eigen3/Eigen/src/Core/Product.h\n",
            "-- Installing: /root/.hunter/_Base/70287b1/02ccb06/dffbc08/Build/Eigen/Install/include/eigen3/Eigen/src/Eigenvalues\n",
            "-- Installing: /root/.hunter/_Base/70287b1/02ccb06/dffbc08/Build/Eigen/Install/include/eigen3/Eigen/src/Eigenvalues/GeneralizedSelfAdjointEigenSolver.h\n",
            "-- Installing: /root/.hunter/_Base/70287b1/02ccb06/dffbc08/Build/Eigen/Install/include/eigen3/Eigen/src/Eigenvalues/SelfAdjointEigenSolver_LAPACKE.h\n",
            "-- Installing: /root/.hunter/_Base/70287b1/02ccb06/dffbc08/Build/Eigen/Install/include/eigen3/Eigen/src/Eigenvalues/SelfAdjointEigenSolver.h\n",
            "-- Installing: /root/.hunter/_Base/70287b1/02ccb06/dffbc08/Build/Eigen/Install/include/eigen3/Eigen/src/Eigenvalues/MatrixBaseEigenvalues.h\n",
            "-- Installing: /root/.hunter/_Base/70287b1/02ccb06/dffbc08/Build/Eigen/Install/include/eigen3/Eigen/src/Eigenvalues/EigenSolver.h\n",
            "-- Installing: /root/.hunter/_Base/70287b1/02ccb06/dffbc08/Build/Eigen/Install/include/eigen3/Eigen/src/Eigenvalues/RealSchur_LAPACKE.h\n",
            "-- Installing: /root/.hunter/_Base/70287b1/02ccb06/dffbc08/Build/Eigen/Install/include/eigen3/Eigen/src/Eigenvalues/RealQZ.h\n",
            "-- Installing: /root/.hunter/_Base/70287b1/02ccb06/dffbc08/Build/Eigen/Install/include/eigen3/Eigen/src/Eigenvalues/HessenbergDecomposition.h\n",
            "-- Installing: /root/.hunter/_Base/70287b1/02ccb06/dffbc08/Build/Eigen/Install/include/eigen3/Eigen/src/Eigenvalues/RealSchur.h\n",
            "-- Installing: /root/.hunter/_Base/70287b1/02ccb06/dffbc08/Build/Eigen/Install/include/eigen3/Eigen/src/Eigenvalues/ComplexSchur.h\n",
            "-- Installing: /root/.hunter/_Base/70287b1/02ccb06/dffbc08/Build/Eigen/Install/include/eigen3/Eigen/src/Eigenvalues/ComplexSchur_LAPACKE.h\n",
            "-- Installing: /root/.hunter/_Base/70287b1/02ccb06/dffbc08/Build/Eigen/Install/include/eigen3/Eigen/src/Eigenvalues/Tridiagonalization.h\n",
            "-- Installing: /root/.hunter/_Base/70287b1/02ccb06/dffbc08/Build/Eigen/Install/include/eigen3/Eigen/src/Eigenvalues/ComplexEigenSolver.h\n",
            "-- Installing: /root/.hunter/_Base/70287b1/02ccb06/dffbc08/Build/Eigen/Install/include/eigen3/Eigen/src/Eigenvalues/GeneralizedEigenSolver.h\n",
            "-- Installing: /root/.hunter/_Base/70287b1/02ccb06/dffbc08/Build/Eigen/Install/include/eigen3/Eigen/src/UmfPackSupport\n",
            "-- Installing: /root/.hunter/_Base/70287b1/02ccb06/dffbc08/Build/Eigen/Install/include/eigen3/Eigen/src/UmfPackSupport/UmfPackSupport.h\n",
            "-- Installing: /root/.hunter/_Base/70287b1/02ccb06/dffbc08/Build/Eigen/Install/include/eigen3/Eigen/src/PaStiXSupport\n",
            "-- Installing: /root/.hunter/_Base/70287b1/02ccb06/dffbc08/Build/Eigen/Install/include/eigen3/Eigen/src/PaStiXSupport/PaStiXSupport.h\n",
            "-- Installing: /root/.hunter/_Base/70287b1/02ccb06/dffbc08/Build/Eigen/Install/include/eigen3/unsupported/Eigen/AdolcForward\n",
            "-- Installing: /root/.hunter/_Base/70287b1/02ccb06/dffbc08/Build/Eigen/Install/include/eigen3/unsupported/Eigen/AlignedVector3\n",
            "-- Installing: /root/.hunter/_Base/70287b1/02ccb06/dffbc08/Build/Eigen/Install/include/eigen3/unsupported/Eigen/ArpackSupport\n",
            "-- Installing: /root/.hunter/_Base/70287b1/02ccb06/dffbc08/Build/Eigen/Install/include/eigen3/unsupported/Eigen/AutoDiff\n",
            "-- Installing: /root/.hunter/_Base/70287b1/02ccb06/dffbc08/Build/Eigen/Install/include/eigen3/unsupported/Eigen/BVH\n",
            "-- Installing: /root/.hunter/_Base/70287b1/02ccb06/dffbc08/Build/Eigen/Install/include/eigen3/unsupported/Eigen/EulerAngles\n",
            "-- Installing: /root/.hunter/_Base/70287b1/02ccb06/dffbc08/Build/Eigen/Install/include/eigen3/unsupported/Eigen/FFT\n",
            "-- Installing: /root/.hunter/_Base/70287b1/02ccb06/dffbc08/Build/Eigen/Install/include/eigen3/unsupported/Eigen/IterativeSolvers\n",
            "-- Installing: /root/.hunter/_Base/70287b1/02ccb06/dffbc08/Build/Eigen/Install/include/eigen3/unsupported/Eigen/KroneckerProduct\n",
            "-- Installing: /root/.hunter/_Base/70287b1/02ccb06/dffbc08/Build/Eigen/Install/include/eigen3/unsupported/Eigen/LevenbergMarquardt\n",
            "-- Installing: /root/.hunter/_Base/70287b1/02ccb06/dffbc08/Build/Eigen/Install/include/eigen3/unsupported/Eigen/MatrixFunctions\n",
            "-- Installing: /root/.hunter/_Base/70287b1/02ccb06/dffbc08/Build/Eigen/Install/include/eigen3/unsupported/Eigen/MoreVectorization\n",
            "-- Installing: /root/.hunter/_Base/70287b1/02ccb06/dffbc08/Build/Eigen/Install/include/eigen3/unsupported/Eigen/MPRealSupport\n",
            "-- Installing: /root/.hunter/_Base/70287b1/02ccb06/dffbc08/Build/Eigen/Install/include/eigen3/unsupported/Eigen/NonLinearOptimization\n",
            "-- Installing: /root/.hunter/_Base/70287b1/02ccb06/dffbc08/Build/Eigen/Install/include/eigen3/unsupported/Eigen/NumericalDiff\n",
            "-- Installing: /root/.hunter/_Base/70287b1/02ccb06/dffbc08/Build/Eigen/Install/include/eigen3/unsupported/Eigen/OpenGLSupport\n",
            "-- Installing: /root/.hunter/_Base/70287b1/02ccb06/dffbc08/Build/Eigen/Install/include/eigen3/unsupported/Eigen/Polynomials\n",
            "-- Installing: /root/.hunter/_Base/70287b1/02ccb06/dffbc08/Build/Eigen/Install/include/eigen3/unsupported/Eigen/Skyline\n",
            "-- Installing: /root/.hunter/_Base/70287b1/02ccb06/dffbc08/Build/Eigen/Install/include/eigen3/unsupported/Eigen/SparseExtra\n",
            "-- Installing: /root/.hunter/_Base/70287b1/02ccb06/dffbc08/Build/Eigen/Install/include/eigen3/unsupported/Eigen/SpecialFunctions\n",
            "-- Installing: /root/.hunter/_Base/70287b1/02ccb06/dffbc08/Build/Eigen/Install/include/eigen3/unsupported/Eigen/Splines\n",
            "-- Installing: /root/.hunter/_Base/70287b1/02ccb06/dffbc08/Build/Eigen/Install/include/eigen3/unsupported/Eigen/src\n",
            "-- Installing: /root/.hunter/_Base/70287b1/02ccb06/dffbc08/Build/Eigen/Install/include/eigen3/unsupported/Eigen/src/Splines\n",
            "-- Installing: /root/.hunter/_Base/70287b1/02ccb06/dffbc08/Build/Eigen/Install/include/eigen3/unsupported/Eigen/src/Splines/SplineFitting.h\n",
            "-- Installing: /root/.hunter/_Base/70287b1/02ccb06/dffbc08/Build/Eigen/Install/include/eigen3/unsupported/Eigen/src/Splines/SplineFwd.h\n",
            "-- Installing: /root/.hunter/_Base/70287b1/02ccb06/dffbc08/Build/Eigen/Install/include/eigen3/unsupported/Eigen/src/Splines/Spline.h\n",
            "-- Installing: /root/.hunter/_Base/70287b1/02ccb06/dffbc08/Build/Eigen/Install/include/eigen3/unsupported/Eigen/src/SpecialFunctions\n",
            "-- Installing: /root/.hunter/_Base/70287b1/02ccb06/dffbc08/Build/Eigen/Install/include/eigen3/unsupported/Eigen/src/SpecialFunctions/SpecialFunctionsArrayAPI.h\n",
            "-- Installing: /root/.hunter/_Base/70287b1/02ccb06/dffbc08/Build/Eigen/Install/include/eigen3/unsupported/Eigen/src/SpecialFunctions/SpecialFunctionsImpl.h\n",
            "-- Installing: /root/.hunter/_Base/70287b1/02ccb06/dffbc08/Build/Eigen/Install/include/eigen3/unsupported/Eigen/src/SpecialFunctions/arch\n",
            "-- Installing: /root/.hunter/_Base/70287b1/02ccb06/dffbc08/Build/Eigen/Install/include/eigen3/unsupported/Eigen/src/SpecialFunctions/arch/CUDA\n",
            "-- Installing: /root/.hunter/_Base/70287b1/02ccb06/dffbc08/Build/Eigen/Install/include/eigen3/unsupported/Eigen/src/SpecialFunctions/arch/CUDA/CudaSpecialFunctions.h\n",
            "-- Installing: /root/.hunter/_Base/70287b1/02ccb06/dffbc08/Build/Eigen/Install/include/eigen3/unsupported/Eigen/src/SpecialFunctions/SpecialFunctionsPacketMath.h\n",
            "-- Installing: /root/.hunter/_Base/70287b1/02ccb06/dffbc08/Build/Eigen/Install/include/eigen3/unsupported/Eigen/src/SpecialFunctions/SpecialFunctionsHalf.h\n",
            "-- Installing: /root/.hunter/_Base/70287b1/02ccb06/dffbc08/Build/Eigen/Install/include/eigen3/unsupported/Eigen/src/SpecialFunctions/SpecialFunctionsFunctors.h\n",
            "-- Installing: /root/.hunter/_Base/70287b1/02ccb06/dffbc08/Build/Eigen/Install/include/eigen3/unsupported/Eigen/src/BVH\n",
            "-- Installing: /root/.hunter/_Base/70287b1/02ccb06/dffbc08/Build/Eigen/Install/include/eigen3/unsupported/Eigen/src/BVH/BVAlgorithms.h\n",
            "-- Installing: /root/.hunter/_Base/70287b1/02ccb06/dffbc08/Build/Eigen/Install/include/eigen3/unsupported/Eigen/src/BVH/KdBVH.h\n",
            "-- Installing: /root/.hunter/_Base/70287b1/02ccb06/dffbc08/Build/Eigen/Install/include/eigen3/unsupported/Eigen/src/KroneckerProduct\n",
            "-- Installing: /root/.hunter/_Base/70287b1/02ccb06/dffbc08/Build/Eigen/Install/include/eigen3/unsupported/Eigen/src/KroneckerProduct/KroneckerTensorProduct.h\n",
            "-- Installing: /root/.hunter/_Base/70287b1/02ccb06/dffbc08/Build/Eigen/Install/include/eigen3/unsupported/Eigen/src/Polynomials\n",
            "-- Installing: /root/.hunter/_Base/70287b1/02ccb06/dffbc08/Build/Eigen/Install/include/eigen3/unsupported/Eigen/src/Polynomials/Companion.h\n",
            "-- Installing: /root/.hunter/_Base/70287b1/02ccb06/dffbc08/Build/Eigen/Install/include/eigen3/unsupported/Eigen/src/Polynomials/PolynomialUtils.h\n",
            "-- Installing: /root/.hunter/_Base/70287b1/02ccb06/dffbc08/Build/Eigen/Install/include/eigen3/unsupported/Eigen/src/Polynomials/PolynomialSolver.h\n",
            "-- Installing: /root/.hunter/_Base/70287b1/02ccb06/dffbc08/Build/Eigen/Install/include/eigen3/unsupported/Eigen/src/NumericalDiff\n",
            "-- Installing: /root/.hunter/_Base/70287b1/02ccb06/dffbc08/Build/Eigen/Install/include/eigen3/unsupported/Eigen/src/NumericalDiff/NumericalDiff.h\n",
            "-- Installing: /root/.hunter/_Base/70287b1/02ccb06/dffbc08/Build/Eigen/Install/include/eigen3/unsupported/Eigen/src/AutoDiff\n",
            "-- Installing: /root/.hunter/_Base/70287b1/02ccb06/dffbc08/Build/Eigen/Install/include/eigen3/unsupported/Eigen/src/AutoDiff/AutoDiffJacobian.h\n",
            "-- Installing: /root/.hunter/_Base/70287b1/02ccb06/dffbc08/Build/Eigen/Install/include/eigen3/unsupported/Eigen/src/AutoDiff/AutoDiffScalar.h\n",
            "-- Installing: /root/.hunter/_Base/70287b1/02ccb06/dffbc08/Build/Eigen/Install/include/eigen3/unsupported/Eigen/src/AutoDiff/AutoDiffVector.h\n",
            "-- Installing: /root/.hunter/_Base/70287b1/02ccb06/dffbc08/Build/Eigen/Install/include/eigen3/unsupported/Eigen/src/NonLinearOptimization\n",
            "-- Installing: /root/.hunter/_Base/70287b1/02ccb06/dffbc08/Build/Eigen/Install/include/eigen3/unsupported/Eigen/src/NonLinearOptimization/r1updt.h\n",
            "-- Installing: /root/.hunter/_Base/70287b1/02ccb06/dffbc08/Build/Eigen/Install/include/eigen3/unsupported/Eigen/src/NonLinearOptimization/covar.h\n",
            "-- Installing: /root/.hunter/_Base/70287b1/02ccb06/dffbc08/Build/Eigen/Install/include/eigen3/unsupported/Eigen/src/NonLinearOptimization/LevenbergMarquardt.h\n",
            "-- Installing: /root/.hunter/_Base/70287b1/02ccb06/dffbc08/Build/Eigen/Install/include/eigen3/unsupported/Eigen/src/NonLinearOptimization/HybridNonLinearSolver.h\n",
            "-- Installing: /root/.hunter/_Base/70287b1/02ccb06/dffbc08/Build/Eigen/Install/include/eigen3/unsupported/Eigen/src/NonLinearOptimization/chkder.h\n",
            "-- Installing: /root/.hunter/_Base/70287b1/02ccb06/dffbc08/Build/Eigen/Install/include/eigen3/unsupported/Eigen/src/NonLinearOptimization/dogleg.h\n",
            "-- Installing: /root/.hunter/_Base/70287b1/02ccb06/dffbc08/Build/Eigen/Install/include/eigen3/unsupported/Eigen/src/NonLinearOptimization/fdjac1.h\n",
            "-- Installing: /root/.hunter/_Base/70287b1/02ccb06/dffbc08/Build/Eigen/Install/include/eigen3/unsupported/Eigen/src/NonLinearOptimization/r1mpyq.h\n",
            "-- Installing: /root/.hunter/_Base/70287b1/02ccb06/dffbc08/Build/Eigen/Install/include/eigen3/unsupported/Eigen/src/NonLinearOptimization/qrsolv.h\n",
            "-- Installing: /root/.hunter/_Base/70287b1/02ccb06/dffbc08/Build/Eigen/Install/include/eigen3/unsupported/Eigen/src/NonLinearOptimization/lmpar.h\n",
            "-- Installing: /root/.hunter/_Base/70287b1/02ccb06/dffbc08/Build/Eigen/Install/include/eigen3/unsupported/Eigen/src/NonLinearOptimization/rwupdt.h\n",
            "-- Installing: /root/.hunter/_Base/70287b1/02ccb06/dffbc08/Build/Eigen/Install/include/eigen3/unsupported/Eigen/src/EulerAngles\n",
            "-- Installing: /root/.hunter/_Base/70287b1/02ccb06/dffbc08/Build/Eigen/Install/include/eigen3/unsupported/Eigen/src/EulerAngles/EulerAngles.h\n",
            "-- Installing: /root/.hunter/_Base/70287b1/02ccb06/dffbc08/Build/Eigen/Install/include/eigen3/unsupported/Eigen/src/EulerAngles/EulerSystem.h\n",
            "-- Installing: /root/.hunter/_Base/70287b1/02ccb06/dffbc08/Build/Eigen/Install/include/eigen3/unsupported/Eigen/src/FFT\n",
            "-- Installing: /root/.hunter/_Base/70287b1/02ccb06/dffbc08/Build/Eigen/Install/include/eigen3/unsupported/Eigen/src/FFT/ei_fftw_impl.h\n",
            "-- Installing: /root/.hunter/_Base/70287b1/02ccb06/dffbc08/Build/Eigen/Install/include/eigen3/unsupported/Eigen/src/FFT/ei_kissfft_impl.h\n",
            "-- Installing: /root/.hunter/_Base/70287b1/02ccb06/dffbc08/Build/Eigen/Install/include/eigen3/unsupported/Eigen/src/MatrixFunctions\n",
            "-- Installing: /root/.hunter/_Base/70287b1/02ccb06/dffbc08/Build/Eigen/Install/include/eigen3/unsupported/Eigen/src/MatrixFunctions/MatrixSquareRoot.h\n",
            "-- Installing: /root/.hunter/_Base/70287b1/02ccb06/dffbc08/Build/Eigen/Install/include/eigen3/unsupported/Eigen/src/MatrixFunctions/MatrixPower.h\n",
            "-- Installing: /root/.hunter/_Base/70287b1/02ccb06/dffbc08/Build/Eigen/Install/include/eigen3/unsupported/Eigen/src/MatrixFunctions/MatrixLogarithm.h\n",
            "-- Installing: /root/.hunter/_Base/70287b1/02ccb06/dffbc08/Build/Eigen/Install/include/eigen3/unsupported/Eigen/src/MatrixFunctions/MatrixExponential.h\n",
            "-- Installing: /root/.hunter/_Base/70287b1/02ccb06/dffbc08/Build/Eigen/Install/include/eigen3/unsupported/Eigen/src/MatrixFunctions/StemFunction.h\n",
            "-- Installing: /root/.hunter/_Base/70287b1/02ccb06/dffbc08/Build/Eigen/Install/include/eigen3/unsupported/Eigen/src/MatrixFunctions/MatrixFunction.h\n",
            "-- Installing: /root/.hunter/_Base/70287b1/02ccb06/dffbc08/Build/Eigen/Install/include/eigen3/unsupported/Eigen/src/Skyline\n",
            "-- Installing: /root/.hunter/_Base/70287b1/02ccb06/dffbc08/Build/Eigen/Install/include/eigen3/unsupported/Eigen/src/Skyline/SkylineStorage.h\n",
            "-- Installing: /root/.hunter/_Base/70287b1/02ccb06/dffbc08/Build/Eigen/Install/include/eigen3/unsupported/Eigen/src/Skyline/SkylineUtil.h\n",
            "-- Installing: /root/.hunter/_Base/70287b1/02ccb06/dffbc08/Build/Eigen/Install/include/eigen3/unsupported/Eigen/src/Skyline/SkylineInplaceLU.h\n",
            "-- Installing: /root/.hunter/_Base/70287b1/02ccb06/dffbc08/Build/Eigen/Install/include/eigen3/unsupported/Eigen/src/Skyline/SkylineMatrix.h\n",
            "-- Installing: /root/.hunter/_Base/70287b1/02ccb06/dffbc08/Build/Eigen/Install/include/eigen3/unsupported/Eigen/src/Skyline/SkylineProduct.h\n",
            "-- Installing: /root/.hunter/_Base/70287b1/02ccb06/dffbc08/Build/Eigen/Install/include/eigen3/unsupported/Eigen/src/Skyline/SkylineMatrixBase.h\n",
            "-- Installing: /root/.hunter/_Base/70287b1/02ccb06/dffbc08/Build/Eigen/Install/include/eigen3/unsupported/Eigen/src/MoreVectorization\n",
            "-- Installing: /root/.hunter/_Base/70287b1/02ccb06/dffbc08/Build/Eigen/Install/include/eigen3/unsupported/Eigen/src/MoreVectorization/MathFunctions.h\n",
            "-- Installing: /root/.hunter/_Base/70287b1/02ccb06/dffbc08/Build/Eigen/Install/include/eigen3/unsupported/Eigen/src/SparseExtra\n",
            "-- Installing: /root/.hunter/_Base/70287b1/02ccb06/dffbc08/Build/Eigen/Install/include/eigen3/unsupported/Eigen/src/SparseExtra/BlockSparseMatrix.h\n",
            "-- Installing: /root/.hunter/_Base/70287b1/02ccb06/dffbc08/Build/Eigen/Install/include/eigen3/unsupported/Eigen/src/SparseExtra/DynamicSparseMatrix.h\n",
            "-- Installing: /root/.hunter/_Base/70287b1/02ccb06/dffbc08/Build/Eigen/Install/include/eigen3/unsupported/Eigen/src/SparseExtra/RandomSetter.h\n",
            "-- Installing: /root/.hunter/_Base/70287b1/02ccb06/dffbc08/Build/Eigen/Install/include/eigen3/unsupported/Eigen/src/SparseExtra/BlockOfDynamicSparseMatrix.h\n",
            "-- Installing: /root/.hunter/_Base/70287b1/02ccb06/dffbc08/Build/Eigen/Install/include/eigen3/unsupported/Eigen/src/SparseExtra/MatrixMarketIterator.h\n",
            "-- Installing: /root/.hunter/_Base/70287b1/02ccb06/dffbc08/Build/Eigen/Install/include/eigen3/unsupported/Eigen/src/SparseExtra/MarketIO.h\n",
            "-- Installing: /root/.hunter/_Base/70287b1/02ccb06/dffbc08/Build/Eigen/Install/include/eigen3/unsupported/Eigen/src/IterativeSolvers\n",
            "-- Installing: /root/.hunter/_Base/70287b1/02ccb06/dffbc08/Build/Eigen/Install/include/eigen3/unsupported/Eigen/src/IterativeSolvers/ConstrainedConjGrad.h\n",
            "-- Installing: /root/.hunter/_Base/70287b1/02ccb06/dffbc08/Build/Eigen/Install/include/eigen3/unsupported/Eigen/src/IterativeSolvers/IncompleteLU.h\n",
            "-- Installing: /root/.hunter/_Base/70287b1/02ccb06/dffbc08/Build/Eigen/Install/include/eigen3/unsupported/Eigen/src/IterativeSolvers/IterationController.h\n",
            "-- Installing: /root/.hunter/_Base/70287b1/02ccb06/dffbc08/Build/Eigen/Install/include/eigen3/unsupported/Eigen/src/IterativeSolvers/DGMRES.h\n",
            "-- Installing: /root/.hunter/_Base/70287b1/02ccb06/dffbc08/Build/Eigen/Install/include/eigen3/unsupported/Eigen/src/IterativeSolvers/MINRES.h\n",
            "-- Installing: /root/.hunter/_Base/70287b1/02ccb06/dffbc08/Build/Eigen/Install/include/eigen3/unsupported/Eigen/src/IterativeSolvers/Scaling.h\n",
            "-- Installing: /root/.hunter/_Base/70287b1/02ccb06/dffbc08/Build/Eigen/Install/include/eigen3/unsupported/Eigen/src/IterativeSolvers/GMRES.h\n",
            "-- Installing: /root/.hunter/_Base/70287b1/02ccb06/dffbc08/Build/Eigen/Install/include/eigen3/unsupported/Eigen/src/LevenbergMarquardt\n",
            "-- Installing: /root/.hunter/_Base/70287b1/02ccb06/dffbc08/Build/Eigen/Install/include/eigen3/unsupported/Eigen/src/LevenbergMarquardt/LMonestep.h\n",
            "-- Installing: /root/.hunter/_Base/70287b1/02ccb06/dffbc08/Build/Eigen/Install/include/eigen3/unsupported/Eigen/src/LevenbergMarquardt/LevenbergMarquardt.h\n",
            "-- Installing: /root/.hunter/_Base/70287b1/02ccb06/dffbc08/Build/Eigen/Install/include/eigen3/unsupported/Eigen/src/LevenbergMarquardt/LMqrsolv.h\n",
            "-- Installing: /root/.hunter/_Base/70287b1/02ccb06/dffbc08/Build/Eigen/Install/include/eigen3/unsupported/Eigen/src/LevenbergMarquardt/LMpar.h\n",
            "-- Installing: /root/.hunter/_Base/70287b1/02ccb06/dffbc08/Build/Eigen/Install/include/eigen3/unsupported/Eigen/src/LevenbergMarquardt/LMcovar.h\n",
            "-- Installing: /root/.hunter/_Base/70287b1/02ccb06/dffbc08/Build/Eigen/Install/include/eigen3/unsupported/Eigen/src/Eigenvalues\n",
            "-- Installing: /root/.hunter/_Base/70287b1/02ccb06/dffbc08/Build/Eigen/Install/include/eigen3/unsupported/Eigen/src/Eigenvalues/ArpackSelfAdjointEigenSolver.h\n",
            "-- Installing: /root/.hunter/_Base/70287b1/02ccb06/dffbc08/Build/Eigen/Install/include/eigen3/unsupported/Eigen/CXX11/Tensor\n",
            "-- Installing: /root/.hunter/_Base/70287b1/02ccb06/dffbc08/Build/Eigen/Install/include/eigen3/unsupported/Eigen/CXX11/TensorSymmetry\n",
            "-- Installing: /root/.hunter/_Base/70287b1/02ccb06/dffbc08/Build/Eigen/Install/include/eigen3/unsupported/Eigen/CXX11/ThreadPool\n",
            "-- Installing: /root/.hunter/_Base/70287b1/02ccb06/dffbc08/Build/Eigen/Install/include/eigen3/unsupported/Eigen/CXX11/src\n",
            "-- Installing: /root/.hunter/_Base/70287b1/02ccb06/dffbc08/Build/Eigen/Install/include/eigen3/unsupported/Eigen/CXX11/src/ThreadPool\n",
            "-- Installing: /root/.hunter/_Base/70287b1/02ccb06/dffbc08/Build/Eigen/Install/include/eigen3/unsupported/Eigen/CXX11/src/ThreadPool/ThreadLocal.h\n",
            "-- Installing: /root/.hunter/_Base/70287b1/02ccb06/dffbc08/Build/Eigen/Install/include/eigen3/unsupported/Eigen/CXX11/src/ThreadPool/ThreadYield.h\n",
            "-- Installing: /root/.hunter/_Base/70287b1/02ccb06/dffbc08/Build/Eigen/Install/include/eigen3/unsupported/Eigen/CXX11/src/ThreadPool/EventCount.h\n",
            "-- Installing: /root/.hunter/_Base/70287b1/02ccb06/dffbc08/Build/Eigen/Install/include/eigen3/unsupported/Eigen/CXX11/src/ThreadPool/ThreadEnvironment.h\n",
            "-- Installing: /root/.hunter/_Base/70287b1/02ccb06/dffbc08/Build/Eigen/Install/include/eigen3/unsupported/Eigen/CXX11/src/ThreadPool/RunQueue.h\n",
            "-- Installing: /root/.hunter/_Base/70287b1/02ccb06/dffbc08/Build/Eigen/Install/include/eigen3/unsupported/Eigen/CXX11/src/ThreadPool/ThreadPoolInterface.h\n",
            "-- Installing: /root/.hunter/_Base/70287b1/02ccb06/dffbc08/Build/Eigen/Install/include/eigen3/unsupported/Eigen/CXX11/src/ThreadPool/NonBlockingThreadPool.h\n",
            "-- Installing: /root/.hunter/_Base/70287b1/02ccb06/dffbc08/Build/Eigen/Install/include/eigen3/unsupported/Eigen/CXX11/src/ThreadPool/SimpleThreadPool.h\n",
            "-- Installing: /root/.hunter/_Base/70287b1/02ccb06/dffbc08/Build/Eigen/Install/include/eigen3/unsupported/Eigen/CXX11/src/TensorSymmetry\n",
            "-- Installing: /root/.hunter/_Base/70287b1/02ccb06/dffbc08/Build/Eigen/Install/include/eigen3/unsupported/Eigen/CXX11/src/TensorSymmetry/DynamicSymmetry.h\n",
            "-- Installing: /root/.hunter/_Base/70287b1/02ccb06/dffbc08/Build/Eigen/Install/include/eigen3/unsupported/Eigen/CXX11/src/TensorSymmetry/StaticSymmetry.h\n",
            "-- Installing: /root/.hunter/_Base/70287b1/02ccb06/dffbc08/Build/Eigen/Install/include/eigen3/unsupported/Eigen/CXX11/src/TensorSymmetry/util\n",
            "-- Installing: /root/.hunter/_Base/70287b1/02ccb06/dffbc08/Build/Eigen/Install/include/eigen3/unsupported/Eigen/CXX11/src/TensorSymmetry/util/TemplateGroupTheory.h\n",
            "-- Installing: /root/.hunter/_Base/70287b1/02ccb06/dffbc08/Build/Eigen/Install/include/eigen3/unsupported/Eigen/CXX11/src/TensorSymmetry/Symmetry.h\n",
            "-- Installing: /root/.hunter/_Base/70287b1/02ccb06/dffbc08/Build/Eigen/Install/include/eigen3/unsupported/Eigen/CXX11/src/util\n",
            "-- Installing: /root/.hunter/_Base/70287b1/02ccb06/dffbc08/Build/Eigen/Install/include/eigen3/unsupported/Eigen/CXX11/src/util/EmulateArray.h\n",
            "-- Installing: /root/.hunter/_Base/70287b1/02ccb06/dffbc08/Build/Eigen/Install/include/eigen3/unsupported/Eigen/CXX11/src/util/CXX11Meta.h\n",
            "-- Installing: /root/.hunter/_Base/70287b1/02ccb06/dffbc08/Build/Eigen/Install/include/eigen3/unsupported/Eigen/CXX11/src/util/EmulateCXX11Meta.h\n",
            "-- Installing: /root/.hunter/_Base/70287b1/02ccb06/dffbc08/Build/Eigen/Install/include/eigen3/unsupported/Eigen/CXX11/src/util/MaxSizeVector.h\n",
            "-- Installing: /root/.hunter/_Base/70287b1/02ccb06/dffbc08/Build/Eigen/Install/include/eigen3/unsupported/Eigen/CXX11/src/util/CXX11Workarounds.h\n",
            "-- Installing: /root/.hunter/_Base/70287b1/02ccb06/dffbc08/Build/Eigen/Install/include/eigen3/unsupported/Eigen/CXX11/src/Tensor\n",
            "-- Installing: /root/.hunter/_Base/70287b1/02ccb06/dffbc08/Build/Eigen/Install/include/eigen3/unsupported/Eigen/CXX11/src/Tensor/TensorRef.h\n",
            "-- Installing: /root/.hunter/_Base/70287b1/02ccb06/dffbc08/Build/Eigen/Install/include/eigen3/unsupported/Eigen/CXX11/src/Tensor/TensorBroadcasting.h\n",
            "-- Installing: /root/.hunter/_Base/70287b1/02ccb06/dffbc08/Build/Eigen/Install/include/eigen3/unsupported/Eigen/CXX11/src/Tensor/TensorInitializer.h\n",
            "-- Installing: /root/.hunter/_Base/70287b1/02ccb06/dffbc08/Build/Eigen/Install/include/eigen3/unsupported/Eigen/CXX11/src/Tensor/TensorUInt128.h\n",
            "-- Installing: /root/.hunter/_Base/70287b1/02ccb06/dffbc08/Build/Eigen/Install/include/eigen3/unsupported/Eigen/CXX11/src/Tensor/TensorVolumePatch.h\n",
            "-- Installing: /root/.hunter/_Base/70287b1/02ccb06/dffbc08/Build/Eigen/Install/include/eigen3/unsupported/Eigen/CXX11/src/Tensor/TensorSyclExprConstructor.h\n",
            "-- Installing: /root/.hunter/_Base/70287b1/02ccb06/dffbc08/Build/Eigen/Install/include/eigen3/unsupported/Eigen/CXX11/src/Tensor/TensorSycl.h\n",
            "-- Installing: /root/.hunter/_Base/70287b1/02ccb06/dffbc08/Build/Eigen/Install/include/eigen3/unsupported/Eigen/CXX11/src/Tensor/TensorConversion.h\n",
            "-- Installing: /root/.hunter/_Base/70287b1/02ccb06/dffbc08/Build/Eigen/Install/include/eigen3/unsupported/Eigen/CXX11/src/Tensor/TensorPatch.h\n",
            "-- Installing: /root/.hunter/_Base/70287b1/02ccb06/dffbc08/Build/Eigen/Install/include/eigen3/unsupported/Eigen/CXX11/src/Tensor/TensorFunctors.h\n",
            "-- Installing: /root/.hunter/_Base/70287b1/02ccb06/dffbc08/Build/Eigen/Install/include/eigen3/unsupported/Eigen/CXX11/src/Tensor/TensorEvalTo.h\n",
            "-- Installing: /root/.hunter/_Base/70287b1/02ccb06/dffbc08/Build/Eigen/Install/include/eigen3/unsupported/Eigen/CXX11/src/Tensor/TensorMacros.h\n",
            "-- Installing: /root/.hunter/_Base/70287b1/02ccb06/dffbc08/Build/Eigen/Install/include/eigen3/unsupported/Eigen/CXX11/src/Tensor/TensorExecutor.h\n",
            "-- Installing: /root/.hunter/_Base/70287b1/02ccb06/dffbc08/Build/Eigen/Install/include/eigen3/unsupported/Eigen/CXX11/src/Tensor/TensorSyclTuple.h\n",
            "-- Installing: /root/.hunter/_Base/70287b1/02ccb06/dffbc08/Build/Eigen/Install/include/eigen3/unsupported/Eigen/CXX11/src/Tensor/TensorShuffling.h\n",
            "-- Installing: /root/.hunter/_Base/70287b1/02ccb06/dffbc08/Build/Eigen/Install/include/eigen3/unsupported/Eigen/CXX11/src/Tensor/Tensor.h\n",
            "-- Installing: /root/.hunter/_Base/70287b1/02ccb06/dffbc08/Build/Eigen/Install/include/eigen3/unsupported/Eigen/CXX11/src/Tensor/TensorDimensions.h\n",
            "-- Installing: /root/.hunter/_Base/70287b1/02ccb06/dffbc08/Build/Eigen/Install/include/eigen3/unsupported/Eigen/CXX11/src/Tensor/TensorStorage.h\n",
            "-- Installing: /root/.hunter/_Base/70287b1/02ccb06/dffbc08/Build/Eigen/Install/include/eigen3/unsupported/Eigen/CXX11/src/Tensor/TensorArgMax.h\n",
            "-- Installing: /root/.hunter/_Base/70287b1/02ccb06/dffbc08/Build/Eigen/Install/include/eigen3/unsupported/Eigen/CXX11/src/Tensor/TensorDimensionList.h\n",
            "-- Installing: /root/.hunter/_Base/70287b1/02ccb06/dffbc08/Build/Eigen/Install/include/eigen3/unsupported/Eigen/CXX11/src/Tensor/TensorPadding.h\n",
            "-- Installing: /root/.hunter/_Base/70287b1/02ccb06/dffbc08/Build/Eigen/Install/include/eigen3/unsupported/Eigen/CXX11/src/Tensor/TensorSyclConvertToDeviceExpression.h\n",
            "-- Installing: /root/.hunter/_Base/70287b1/02ccb06/dffbc08/Build/Eigen/Install/include/eigen3/unsupported/Eigen/CXX11/src/Tensor/TensorAssign.h\n",
            "-- Installing: /root/.hunter/_Base/70287b1/02ccb06/dffbc08/Build/Eigen/Install/include/eigen3/unsupported/Eigen/CXX11/src/Tensor/TensorContractionThreadPool.h\n",
            "-- Installing: /root/.hunter/_Base/70287b1/02ccb06/dffbc08/Build/Eigen/Install/include/eigen3/unsupported/Eigen/CXX11/src/Tensor/TensorReduction.h\n",
            "-- Installing: /root/.hunter/_Base/70287b1/02ccb06/dffbc08/Build/Eigen/Install/include/eigen3/unsupported/Eigen/CXX11/src/Tensor/TensorConcatenation.h\n",
            "-- Installing: /root/.hunter/_Base/70287b1/02ccb06/dffbc08/Build/Eigen/Install/include/eigen3/unsupported/Eigen/CXX11/src/Tensor/TensorFixedSize.h\n",
            "-- Installing: /root/.hunter/_Base/70287b1/02ccb06/dffbc08/Build/Eigen/Install/include/eigen3/unsupported/Eigen/CXX11/src/Tensor/TensorGenerator.h\n",
            "-- Installing: /root/.hunter/_Base/70287b1/02ccb06/dffbc08/Build/Eigen/Install/include/eigen3/unsupported/Eigen/CXX11/src/Tensor/TensorStriding.h\n",
            "-- Installing: /root/.hunter/_Base/70287b1/02ccb06/dffbc08/Build/Eigen/Install/include/eigen3/unsupported/Eigen/CXX11/src/Tensor/TensorSyclPlaceHolderExpr.h\n",
            "-- Installing: /root/.hunter/_Base/70287b1/02ccb06/dffbc08/Build/Eigen/Install/include/eigen3/unsupported/Eigen/CXX11/src/Tensor/TensorTraits.h\n",
            "-- Installing: /root/.hunter/_Base/70287b1/02ccb06/dffbc08/Build/Eigen/Install/include/eigen3/unsupported/Eigen/CXX11/src/Tensor/TensorImagePatch.h\n",
            "-- Installing: /root/.hunter/_Base/70287b1/02ccb06/dffbc08/Build/Eigen/Install/include/eigen3/unsupported/Eigen/CXX11/src/Tensor/TensorContractionMapper.h\n",
            "-- Installing: /root/.hunter/_Base/70287b1/02ccb06/dffbc08/Build/Eigen/Install/include/eigen3/unsupported/Eigen/CXX11/src/Tensor/TensorDevice.h\n",
            "-- Installing: /root/.hunter/_Base/70287b1/02ccb06/dffbc08/Build/Eigen/Install/include/eigen3/unsupported/Eigen/CXX11/src/Tensor/TensorEvaluator.h\n",
            "-- Installing: /root/.hunter/_Base/70287b1/02ccb06/dffbc08/Build/Eigen/Install/include/eigen3/unsupported/Eigen/CXX11/src/Tensor/TensorRandom.h\n",
            "-- Installing: /root/.hunter/_Base/70287b1/02ccb06/dffbc08/Build/Eigen/Install/include/eigen3/unsupported/Eigen/CXX11/src/Tensor/TensorInflation.h\n",
            "-- Installing: /root/.hunter/_Base/70287b1/02ccb06/dffbc08/Build/Eigen/Install/include/eigen3/unsupported/Eigen/CXX11/src/Tensor/TensorSyclRun.h\n",
            "-- Installing: /root/.hunter/_Base/70287b1/02ccb06/dffbc08/Build/Eigen/Install/include/eigen3/unsupported/Eigen/CXX11/src/Tensor/TensorSyclExtractFunctors.h\n",
            "-- Installing: /root/.hunter/_Base/70287b1/02ccb06/dffbc08/Build/Eigen/Install/include/eigen3/unsupported/Eigen/CXX11/src/Tensor/TensorContractionCuda.h\n",
            "-- Installing: /root/.hunter/_Base/70287b1/02ccb06/dffbc08/Build/Eigen/Install/include/eigen3/unsupported/Eigen/CXX11/src/Tensor/TensorMorphing.h\n",
            "-- Installing: /root/.hunter/_Base/70287b1/02ccb06/dffbc08/Build/Eigen/Install/include/eigen3/unsupported/Eigen/CXX11/src/Tensor/TensorReverse.h\n",
            "-- Installing: /root/.hunter/_Base/70287b1/02ccb06/dffbc08/Build/Eigen/Install/include/eigen3/unsupported/Eigen/CXX11/src/Tensor/TensorMeta.h\n",
            "-- Installing: /root/.hunter/_Base/70287b1/02ccb06/dffbc08/Build/Eigen/Install/include/eigen3/unsupported/Eigen/CXX11/src/Tensor/TensorContractionBlocking.h\n",
            "-- Installing: /root/.hunter/_Base/70287b1/02ccb06/dffbc08/Build/Eigen/Install/include/eigen3/unsupported/Eigen/CXX11/src/Tensor/TensorLayoutSwap.h\n",
            "-- Installing: /root/.hunter/_Base/70287b1/02ccb06/dffbc08/Build/Eigen/Install/include/eigen3/unsupported/Eigen/CXX11/src/Tensor/TensorMap.h\n",
            "-- Installing: /root/.hunter/_Base/70287b1/02ccb06/dffbc08/Build/Eigen/Install/include/eigen3/unsupported/Eigen/CXX11/src/Tensor/TensorReductionSycl.h\n",
            "-- Installing: /root/.hunter/_Base/70287b1/02ccb06/dffbc08/Build/Eigen/Install/include/eigen3/unsupported/Eigen/CXX11/src/Tensor/TensorGlobalFunctions.h\n",
            "-- Installing: /root/.hunter/_Base/70287b1/02ccb06/dffbc08/Build/Eigen/Install/include/eigen3/unsupported/Eigen/CXX11/src/Tensor/TensorIntDiv.h\n",
            "-- Installing: /root/.hunter/_Base/70287b1/02ccb06/dffbc08/Build/Eigen/Install/include/eigen3/unsupported/Eigen/CXX11/src/Tensor/TensorDeviceThreadPool.h\n",
            "-- Installing: /root/.hunter/_Base/70287b1/02ccb06/dffbc08/Build/Eigen/Install/include/eigen3/unsupported/Eigen/CXX11/src/Tensor/TensorForcedEval.h\n",
            "-- Installing: /root/.hunter/_Base/70287b1/02ccb06/dffbc08/Build/Eigen/Install/include/eigen3/unsupported/Eigen/CXX11/src/Tensor/TensorIO.h\n",
            "-- Installing: /root/.hunter/_Base/70287b1/02ccb06/dffbc08/Build/Eigen/Install/include/eigen3/unsupported/Eigen/CXX11/src/Tensor/TensorChipping.h\n",
            "-- Installing: /root/.hunter/_Base/70287b1/02ccb06/dffbc08/Build/Eigen/Install/include/eigen3/unsupported/Eigen/CXX11/src/Tensor/TensorBase.h\n",
            "-- Installing: /root/.hunter/_Base/70287b1/02ccb06/dffbc08/Build/Eigen/Install/include/eigen3/unsupported/Eigen/CXX11/src/Tensor/TensorDeviceSycl.h\n",
            "-- Installing: /root/.hunter/_Base/70287b1/02ccb06/dffbc08/Build/Eigen/Install/include/eigen3/unsupported/Eigen/CXX11/src/Tensor/TensorSyclExtractAccessor.h\n",
            "-- Installing: /root/.hunter/_Base/70287b1/02ccb06/dffbc08/Build/Eigen/Install/include/eigen3/unsupported/Eigen/CXX11/src/Tensor/TensorExpr.h\n",
            "-- Installing: /root/.hunter/_Base/70287b1/02ccb06/dffbc08/Build/Eigen/Install/include/eigen3/unsupported/Eigen/CXX11/src/Tensor/TensorScan.h\n",
            "-- Installing: /root/.hunter/_Base/70287b1/02ccb06/dffbc08/Build/Eigen/Install/include/eigen3/unsupported/Eigen/CXX11/src/Tensor/TensorDeviceCuda.h\n",
            "-- Installing: /root/.hunter/_Base/70287b1/02ccb06/dffbc08/Build/Eigen/Install/include/eigen3/unsupported/Eigen/CXX11/src/Tensor/TensorContraction.h\n",
            "-- Installing: /root/.hunter/_Base/70287b1/02ccb06/dffbc08/Build/Eigen/Install/include/eigen3/unsupported/Eigen/CXX11/src/Tensor/TensorIndexList.h\n",
            "-- Installing: /root/.hunter/_Base/70287b1/02ccb06/dffbc08/Build/Eigen/Install/include/eigen3/unsupported/Eigen/CXX11/src/Tensor/TensorDeviceDefault.h\n",
            "-- Installing: /root/.hunter/_Base/70287b1/02ccb06/dffbc08/Build/Eigen/Install/include/eigen3/unsupported/Eigen/CXX11/src/Tensor/TensorCustomOp.h\n",
            "-- Installing: /root/.hunter/_Base/70287b1/02ccb06/dffbc08/Build/Eigen/Install/include/eigen3/unsupported/Eigen/CXX11/src/Tensor/TensorConvolution.h\n",
            "-- Installing: /root/.hunter/_Base/70287b1/02ccb06/dffbc08/Build/Eigen/Install/include/eigen3/unsupported/Eigen/CXX11/src/Tensor/TensorSyclLeafCount.h\n",
            "-- Installing: /root/.hunter/_Base/70287b1/02ccb06/dffbc08/Build/Eigen/Install/include/eigen3/unsupported/Eigen/CXX11/src/Tensor/TensorReductionCuda.h\n",
            "-- Installing: /root/.hunter/_Base/70287b1/02ccb06/dffbc08/Build/Eigen/Install/include/eigen3/unsupported/Eigen/CXX11/src/Tensor/TensorCostModel.h\n",
            "-- Installing: /root/.hunter/_Base/70287b1/02ccb06/dffbc08/Build/Eigen/Install/include/eigen3/unsupported/Eigen/CXX11/src/Tensor/TensorForwardDeclarations.h\n",
            "-- Installing: /root/.hunter/_Base/70287b1/02ccb06/dffbc08/Build/Eigen/Install/include/eigen3/unsupported/Eigen/CXX11/src/Tensor/TensorFFT.h\n",
            "loading initial cache file /root/.hunter/_Base/70287b1/02ccb06/dffbc08/Build/Eigen/args.cmake\n",
            "[ 50%] Completed 'Eigen-Release'\n",
            "[ 50%] Built target Eigen-Release\n",
            "[ 56%] Creating directories for 'Eigen-Debug'\n",
            "[ 62%] Performing download step (download, verify and extract) for 'Eigen-Debug'\n",
            "-- verifying file...\n",
            "       file='/root/.hunter/_Base/Download/Eigen/3.3.5/c1801a3/3.3.5.tar.gz'\n",
            "-- File already exists and hash match (skip download):\n",
            "  file='/root/.hunter/_Base/Download/Eigen/3.3.5/c1801a3/3.3.5.tar.gz'\n",
            "  SHA1='c1801a3b37c7fd734c756b9dce4d00a3cd685b7a'\n",
            "-- extracting...\n",
            "     src='/root/.hunter/_Base/Download/Eigen/3.3.5/c1801a3/3.3.5.tar.gz'\n",
            "     dst='/root/.hunter/_Base/70287b1/02ccb06/dffbc08/Build/Eigen/Source'\n",
            "-- extracting... [tar xfz]\n",
            "-- extracting... [analysis]\n",
            "-- extracting... [rename]\n",
            "-- extracting... [clean up]\n",
            "-- extracting... done\n",
            "[ 68%] No update step for 'Eigen-Debug'\n",
            "[ 75%] No patch step for 'Eigen-Debug'\n",
            "[ 81%] Performing configure step for 'Eigen-Debug'\n",
            "loading initial cache file /root/.hunter/_Base/70287b1/02ccb06/dffbc08/cache.cmake\n",
            "loading initial cache file /root/.hunter/_Base/70287b1/02ccb06/dffbc08/Build/Eigen/args.cmake\n",
            "-- The C compiler identification is GNU 7.5.0\n",
            "-- The CXX compiler identification is GNU 7.5.0\n",
            "-- Check for working C compiler: /usr/bin/cc - skipped\n",
            "-- Detecting C compile features\n",
            "-- Detecting C compile features - done\n",
            "-- Check for working CXX compiler: /usr/bin/c++ - skipped\n",
            "-- Detecting CXX compile features\n",
            "-- Detecting CXX compile features - done\n",
            "CMake Deprecation Warning at CMakeLists.txt:3 (cmake_minimum_required):\n",
            "  Compatibility with CMake < 2.8.12 will be removed from a future version of\n",
            "  CMake.\n",
            "\n",
            "  Update the VERSION argument <min> value or use a ...<max> suffix to tell\n",
            "  CMake that the project does not need compatibility with older versions.\n",
            "\n",
            "\n",
            "-- Performing Test standard_math_library_linked_to_automatically\n",
            "-- Performing Test standard_math_library_linked_to_automatically - Success\n",
            "-- Standard libraries to link to explicitly: none\n",
            "-- Performing Test COMPILER_SUPPORT_WERROR\n",
            "-- Performing Test COMPILER_SUPPORT_WERROR - Success\n",
            "-- Performing Test COMPILER_SUPPORT_pedantic\n",
            "-- Performing Test COMPILER_SUPPORT_pedantic - Success\n",
            "-- Performing Test COMPILER_SUPPORT_Wall\n",
            "-- Performing Test COMPILER_SUPPORT_Wall - Success\n",
            "-- Performing Test COMPILER_SUPPORT_Wextra\n",
            "-- Performing Test COMPILER_SUPPORT_Wextra - Success\n",
            "-- Performing Test COMPILER_SUPPORT_Wundef\n",
            "-- Performing Test COMPILER_SUPPORT_Wundef - Success\n",
            "-- Performing Test COMPILER_SUPPORT_Wcastalign\n",
            "-- Performing Test COMPILER_SUPPORT_Wcastalign - Success\n",
            "-- Performing Test COMPILER_SUPPORT_Wcharsubscripts\n",
            "-- Performing Test COMPILER_SUPPORT_Wcharsubscripts - Success\n",
            "-- Performing Test COMPILER_SUPPORT_Wnonvirtualdtor\n",
            "-- Performing Test COMPILER_SUPPORT_Wnonvirtualdtor - Success\n",
            "-- Performing Test COMPILER_SUPPORT_Wunusedlocaltypedefs\n",
            "-- Performing Test COMPILER_SUPPORT_Wunusedlocaltypedefs - Success\n",
            "-- Performing Test COMPILER_SUPPORT_Wpointerarith\n",
            "-- Performing Test COMPILER_SUPPORT_Wpointerarith - Success\n",
            "-- Performing Test COMPILER_SUPPORT_Wwritestrings\n",
            "-- Performing Test COMPILER_SUPPORT_Wwritestrings - Success\n",
            "-- Performing Test COMPILER_SUPPORT_Wformatsecurity\n",
            "-- Performing Test COMPILER_SUPPORT_Wformatsecurity - Success\n",
            "-- Performing Test COMPILER_SUPPORT_Wshorten64to32\n",
            "-- Performing Test COMPILER_SUPPORT_Wshorten64to32 - Failed\n",
            "-- Performing Test COMPILER_SUPPORT_Wlogicalop\n",
            "-- Performing Test COMPILER_SUPPORT_Wlogicalop - Success\n",
            "-- Performing Test COMPILER_SUPPORT_Wenumconversion\n",
            "-- Performing Test COMPILER_SUPPORT_Wenumconversion - Failed\n",
            "-- Performing Test COMPILER_SUPPORT_Wcpp11extensions\n",
            "-- Performing Test COMPILER_SUPPORT_Wcpp11extensions - Failed\n",
            "-- Performing Test COMPILER_SUPPORT_Wdoublepromotion\n",
            "-- Performing Test COMPILER_SUPPORT_Wdoublepromotion - Success\n",
            "-- Performing Test COMPILER_SUPPORT_Wnopsabi\n",
            "-- Performing Test COMPILER_SUPPORT_Wnopsabi - Success\n",
            "-- Performing Test COMPILER_SUPPORT_Wnovariadicmacros\n",
            "-- Performing Test COMPILER_SUPPORT_Wnovariadicmacros - Success\n",
            "-- Performing Test COMPILER_SUPPORT_Wnolonglong\n",
            "-- Performing Test COMPILER_SUPPORT_Wnolonglong - Success\n",
            "-- Performing Test COMPILER_SUPPORT_fnochecknew\n",
            "-- Performing Test COMPILER_SUPPORT_fnochecknew - Success\n",
            "-- Performing Test COMPILER_SUPPORT_fnocommon\n",
            "-- Performing Test COMPILER_SUPPORT_fnocommon - Success\n",
            "-- Performing Test COMPILER_SUPPORT_fstrictaliasing\n",
            "-- Performing Test COMPILER_SUPPORT_fstrictaliasing - Success\n",
            "-- Performing Test COMPILER_SUPPORT_wd981\n",
            "-- Performing Test COMPILER_SUPPORT_wd981 - Failed\n",
            "-- Performing Test COMPILER_SUPPORT_wd2304\n",
            "-- Performing Test COMPILER_SUPPORT_wd2304 - Failed\n",
            "-- Performing Test COMPILER_SUPPORT_STRICTANSI\n",
            "-- Performing Test COMPILER_SUPPORT_STRICTANSI - Failed\n",
            "-- Performing Test COMPILER_SUPPORT_Qunusedarguments\n",
            "-- Performing Test COMPILER_SUPPORT_Qunusedarguments - Failed\n",
            "-- Performing Test COMPILER_SUPPORT_ansi\n",
            "-- Performing Test COMPILER_SUPPORT_ansi - Success\n",
            "-- Performing Test COMPILER_SUPPORT_OPENMP\n",
            "-- Performing Test COMPILER_SUPPORT_OPENMP - Success\n",
            "-- Performing Test EIGEN_COMPILER_SUPPORT_CPP11\n",
            "-- Performing Test EIGEN_COMPILER_SUPPORT_CPP11 - Success\n",
            "-- Found unsuitable Qt version \"5.9.5\" from /usr/bin/qmake\n",
            "-- The Fortran compiler identification is GNU 7.5.0\n",
            "-- Detecting Fortran compiler ABI info\n",
            "-- Detecting Fortran compiler ABI info - done\n",
            "-- Check for working Fortran compiler: /usr/bin/gfortran - skipped\n",
            "-- Found unsuitable Qt version \"5.9.5\" from /usr/bin/qmake\n",
            "-- Qt4 not found, so disabling the mandelbrot and opengl demos\n",
            "CMake Warning (dev) at /usr/local/lib/python3.7/dist-packages/cmake/data/share/cmake-3.22/Modules/FindPackageHandleStandardArgs.cmake:438 (message):\n",
            "  The package name passed to `find_package_handle_standard_args` (CHOLMOD)\n",
            "  does not match the name of the calling package (Cholmod).  This can lead to\n",
            "  problems in calling code that expects `find_package` result variables\n",
            "  (e.g., `_FOUND`) to follow a certain pattern.\n",
            "Call Stack (most recent call first):\n",
            "  cmake/FindCholmod.cmake:86 (find_package_handle_standard_args)\n",
            "  bench/spbench/CMakeLists.txt:16 (find_package)\n",
            "This warning is for project developers.  Use -Wno-dev to suppress it.\n",
            "\n",
            "-- Could NOT find CHOLMOD (missing: CHOLMOD_INCLUDES CHOLMOD_LIBRARIES) \n",
            "CMake Warning (dev) at /usr/local/lib/python3.7/dist-packages/cmake/data/share/cmake-3.22/Modules/FindPackageHandleStandardArgs.cmake:438 (message):\n",
            "  The package name passed to `find_package_handle_standard_args` (UMFPACK)\n",
            "  does not match the name of the calling package (Umfpack).  This can lead to\n",
            "  problems in calling code that expects `find_package` result variables\n",
            "  (e.g., `_FOUND`) to follow a certain pattern.\n",
            "Call Stack (most recent call first):\n",
            "  cmake/FindUmfpack.cmake:50 (find_package_handle_standard_args)\n",
            "  bench/spbench/CMakeLists.txt:24 (find_package)\n",
            "This warning is for project developers.  Use -Wno-dev to suppress it.\n",
            "\n",
            "-- Could NOT find UMFPACK (missing: UMFPACK_INCLUDES UMFPACK_LIBRARIES) \n",
            "-- Performing Test SUPERLU_HAS_GLOBAL_MEM_USAGE_T\n",
            "-- Performing Test SUPERLU_HAS_GLOBAL_MEM_USAGE_T - Success\n",
            "-- Performing Test SUPERLU_HAS_CLEAN_ENUMS\n",
            "-- Performing Test SUPERLU_HAS_CLEAN_ENUMS - Success\n",
            "-- Performing Test SUPERLU_HAS_GLOBALLU_T\n",
            "-- Performing Test SUPERLU_HAS_GLOBALLU_T - Success\n",
            "CMake Warning (dev) at /usr/local/lib/python3.7/dist-packages/cmake/data/share/cmake-3.22/Modules/FindPackageHandleStandardArgs.cmake:438 (message):\n",
            "  The package name passed to `find_package_handle_standard_args` (SUPERLU)\n",
            "  does not match the name of the calling package (SuperLU).  This can lead to\n",
            "  problems in calling code that expects `find_package` result variables\n",
            "  (e.g., `_FOUND`) to follow a certain pattern.\n",
            "Call Stack (most recent call first):\n",
            "  cmake/FindSuperLU.cmake:93 (find_package_handle_standard_args)\n",
            "  bench/spbench/CMakeLists.txt:32 (find_package)\n",
            "This warning is for project developers.  Use -Wno-dev to suppress it.\n",
            "\n",
            "-- Found SUPERLU: /usr/include/superlu (found version \"5.0\") \n",
            "-- A version of Pastix has been found but pastix_nompi.h does not exist in the include directory. Because Eigen tests require a version without MPI, we disable the Pastix backend.\n",
            "-- \n",
            "-- Configured Eigen 3.3.5\n",
            "-- \n",
            "-- Some things you can do now:\n",
            "-- --------------+--------------------------------------------------------------\n",
            "-- Command       |   Description\n",
            "-- --------------+--------------------------------------------------------------\n",
            "-- make install  | Install Eigen. Headers will be installed to:\n",
            "--               |     <CMAKE_INSTALL_PREFIX>/<INCLUDE_INSTALL_DIR>\n",
            "--               |   Using the following values:\n",
            "--               |     CMAKE_INSTALL_PREFIX: /root/.hunter/_Base/70287b1/02ccb06/dffbc08/Build/Eigen/Install\n",
            "--               |     INCLUDE_INSTALL_DIR:  include/eigen3\n",
            "--               |   Change the install location of Eigen headers using:\n",
            "--               |     cmake . -DCMAKE_INSTALL_PREFIX=yourprefix\n",
            "--               |   Or:\n",
            "--               |     cmake . -DINCLUDE_INSTALL_DIR=yourdir\n",
            "-- make doc      | Generate the API documentation, requires Doxygen & LaTeX\n",
            "-- make check    | Build and run the unit-tests. Read this page:\n",
            "--               |   http://eigen.tuxfamily.org/index.php?title=Tests\n",
            "-- make blas     | Build BLAS library (not the same thing as Eigen)\n",
            "-- make uninstall| Removes files installed by make install\n",
            "-- --------------+--------------------------------------------------------------\n",
            "-- \n",
            "-- Configuring done\n",
            "-- Generating done\n",
            "-- Build files have been written to: /root/.hunter/_Base/70287b1/02ccb06/dffbc08/Build/Eigen/Build/Eigen-Debug-prefix/src/Eigen-Debug-build\n",
            "[ 87%] Performing build step for 'Eigen-Debug'\n",
            "[ 93%] Performing install step for 'Eigen-Debug'\n",
            "Install the project...\n",
            "-- Install configuration: \"Debug\"\n",
            "-- Up-to-date: /root/.hunter/_Base/70287b1/02ccb06/dffbc08/Build/Eigen/Install/include/eigen3/signature_of_eigen3_matrix_library\n",
            "-- Installing: /root/.hunter/_Base/70287b1/02ccb06/dffbc08/Build/Eigen/Install/share/pkgconfig/eigen3.pc\n",
            "-- Installing: /root/.hunter/_Base/70287b1/02ccb06/dffbc08/Build/Eigen/Install/share/eigen3/cmake/Eigen3Targets.cmake\n",
            "-- Up-to-date: /root/.hunter/_Base/70287b1/02ccb06/dffbc08/Build/Eigen/Install/share/eigen3/cmake/UseEigen3.cmake\n",
            "-- Installing: /root/.hunter/_Base/70287b1/02ccb06/dffbc08/Build/Eigen/Install/share/eigen3/cmake/Eigen3Config.cmake\n",
            "-- Installing: /root/.hunter/_Base/70287b1/02ccb06/dffbc08/Build/Eigen/Install/share/eigen3/cmake/Eigen3ConfigVersion.cmake\n",
            "-- Up-to-date: /root/.hunter/_Base/70287b1/02ccb06/dffbc08/Build/Eigen/Install/include/eigen3/Eigen/Cholesky\n",
            "-- Up-to-date: /root/.hunter/_Base/70287b1/02ccb06/dffbc08/Build/Eigen/Install/include/eigen3/Eigen/CholmodSupport\n",
            "-- Up-to-date: /root/.hunter/_Base/70287b1/02ccb06/dffbc08/Build/Eigen/Install/include/eigen3/Eigen/Core\n",
            "-- Up-to-date: /root/.hunter/_Base/70287b1/02ccb06/dffbc08/Build/Eigen/Install/include/eigen3/Eigen/Dense\n",
            "-- Up-to-date: /root/.hunter/_Base/70287b1/02ccb06/dffbc08/Build/Eigen/Install/include/eigen3/Eigen/Eigen\n",
            "-- Up-to-date: /root/.hunter/_Base/70287b1/02ccb06/dffbc08/Build/Eigen/Install/include/eigen3/Eigen/Eigenvalues\n",
            "-- Up-to-date: /root/.hunter/_Base/70287b1/02ccb06/dffbc08/Build/Eigen/Install/include/eigen3/Eigen/Geometry\n",
            "-- Up-to-date: /root/.hunter/_Base/70287b1/02ccb06/dffbc08/Build/Eigen/Install/include/eigen3/Eigen/Householder\n",
            "-- Up-to-date: /root/.hunter/_Base/70287b1/02ccb06/dffbc08/Build/Eigen/Install/include/eigen3/Eigen/IterativeLinearSolvers\n",
            "-- Up-to-date: /root/.hunter/_Base/70287b1/02ccb06/dffbc08/Build/Eigen/Install/include/eigen3/Eigen/Jacobi\n",
            "-- Up-to-date: /root/.hunter/_Base/70287b1/02ccb06/dffbc08/Build/Eigen/Install/include/eigen3/Eigen/LU\n",
            "-- Up-to-date: /root/.hunter/_Base/70287b1/02ccb06/dffbc08/Build/Eigen/Install/include/eigen3/Eigen/MetisSupport\n",
            "-- Up-to-date: /root/.hunter/_Base/70287b1/02ccb06/dffbc08/Build/Eigen/Install/include/eigen3/Eigen/OrderingMethods\n",
            "-- Up-to-date: /root/.hunter/_Base/70287b1/02ccb06/dffbc08/Build/Eigen/Install/include/eigen3/Eigen/PaStiXSupport\n",
            "-- Up-to-date: /root/.hunter/_Base/70287b1/02ccb06/dffbc08/Build/Eigen/Install/include/eigen3/Eigen/PardisoSupport\n",
            "-- Up-to-date: /root/.hunter/_Base/70287b1/02ccb06/dffbc08/Build/Eigen/Install/include/eigen3/Eigen/QR\n",
            "-- Up-to-date: /root/.hunter/_Base/70287b1/02ccb06/dffbc08/Build/Eigen/Install/include/eigen3/Eigen/QtAlignedMalloc\n",
            "-- Up-to-date: /root/.hunter/_Base/70287b1/02ccb06/dffbc08/Build/Eigen/Install/include/eigen3/Eigen/SPQRSupport\n",
            "-- Up-to-date: /root/.hunter/_Base/70287b1/02ccb06/dffbc08/Build/Eigen/Install/include/eigen3/Eigen/SVD\n",
            "-- Up-to-date: /root/.hunter/_Base/70287b1/02ccb06/dffbc08/Build/Eigen/Install/include/eigen3/Eigen/Sparse\n",
            "-- Up-to-date: /root/.hunter/_Base/70287b1/02ccb06/dffbc08/Build/Eigen/Install/include/eigen3/Eigen/SparseCholesky\n",
            "-- Up-to-date: /root/.hunter/_Base/70287b1/02ccb06/dffbc08/Build/Eigen/Install/include/eigen3/Eigen/SparseCore\n",
            "-- Up-to-date: /root/.hunter/_Base/70287b1/02ccb06/dffbc08/Build/Eigen/Install/include/eigen3/Eigen/SparseLU\n",
            "-- Up-to-date: /root/.hunter/_Base/70287b1/02ccb06/dffbc08/Build/Eigen/Install/include/eigen3/Eigen/SparseQR\n",
            "-- Up-to-date: /root/.hunter/_Base/70287b1/02ccb06/dffbc08/Build/Eigen/Install/include/eigen3/Eigen/StdDeque\n",
            "-- Up-to-date: /root/.hunter/_Base/70287b1/02ccb06/dffbc08/Build/Eigen/Install/include/eigen3/Eigen/StdList\n",
            "-- Up-to-date: /root/.hunter/_Base/70287b1/02ccb06/dffbc08/Build/Eigen/Install/include/eigen3/Eigen/StdVector\n",
            "-- Up-to-date: /root/.hunter/_Base/70287b1/02ccb06/dffbc08/Build/Eigen/Install/include/eigen3/Eigen/SuperLUSupport\n",
            "-- Up-to-date: /root/.hunter/_Base/70287b1/02ccb06/dffbc08/Build/Eigen/Install/include/eigen3/Eigen/UmfPackSupport\n",
            "-- Up-to-date: /root/.hunter/_Base/70287b1/02ccb06/dffbc08/Build/Eigen/Install/include/eigen3/Eigen/src\n",
            "-- Up-to-date: /root/.hunter/_Base/70287b1/02ccb06/dffbc08/Build/Eigen/Install/include/eigen3/Eigen/src/CholmodSupport\n",
            "-- Up-to-date: /root/.hunter/_Base/70287b1/02ccb06/dffbc08/Build/Eigen/Install/include/eigen3/Eigen/src/CholmodSupport/CholmodSupport.h\n",
            "-- Up-to-date: /root/.hunter/_Base/70287b1/02ccb06/dffbc08/Build/Eigen/Install/include/eigen3/Eigen/src/SparseCore\n",
            "-- Up-to-date: /root/.hunter/_Base/70287b1/02ccb06/dffbc08/Build/Eigen/Install/include/eigen3/Eigen/src/SparseCore/SparseBlock.h\n",
            "-- Up-to-date: /root/.hunter/_Base/70287b1/02ccb06/dffbc08/Build/Eigen/Install/include/eigen3/Eigen/src/SparseCore/SparseFuzzy.h\n",
            "-- Up-to-date: /root/.hunter/_Base/70287b1/02ccb06/dffbc08/Build/Eigen/Install/include/eigen3/Eigen/src/SparseCore/SparseVector.h\n",
            "-- Up-to-date: /root/.hunter/_Base/70287b1/02ccb06/dffbc08/Build/Eigen/Install/include/eigen3/Eigen/src/SparseCore/SparseUtil.h\n",
            "-- Up-to-date: /root/.hunter/_Base/70287b1/02ccb06/dffbc08/Build/Eigen/Install/include/eigen3/Eigen/src/SparseCore/SparseView.h\n",
            "-- Up-to-date: /root/.hunter/_Base/70287b1/02ccb06/dffbc08/Build/Eigen/Install/include/eigen3/Eigen/src/SparseCore/SparseProduct.h\n",
            "-- Up-to-date: /root/.hunter/_Base/70287b1/02ccb06/dffbc08/Build/Eigen/Install/include/eigen3/Eigen/src/SparseCore/SparsePermutation.h\n",
            "-- Up-to-date: /root/.hunter/_Base/70287b1/02ccb06/dffbc08/Build/Eigen/Install/include/eigen3/Eigen/src/SparseCore/SparseSparseProductWithPruning.h\n",
            "-- Up-to-date: /root/.hunter/_Base/70287b1/02ccb06/dffbc08/Build/Eigen/Install/include/eigen3/Eigen/src/SparseCore/SparseTranspose.h\n",
            "-- Up-to-date: /root/.hunter/_Base/70287b1/02ccb06/dffbc08/Build/Eigen/Install/include/eigen3/Eigen/src/SparseCore/ConservativeSparseSparseProduct.h\n",
            "-- Up-to-date: /root/.hunter/_Base/70287b1/02ccb06/dffbc08/Build/Eigen/Install/include/eigen3/Eigen/src/SparseCore/SparseCompressedBase.h\n",
            "-- Up-to-date: /root/.hunter/_Base/70287b1/02ccb06/dffbc08/Build/Eigen/Install/include/eigen3/Eigen/src/SparseCore/SparseRedux.h\n",
            "-- Up-to-date: /root/.hunter/_Base/70287b1/02ccb06/dffbc08/Build/Eigen/Install/include/eigen3/Eigen/src/SparseCore/SparseDiagonalProduct.h\n",
            "-- Up-to-date: /root/.hunter/_Base/70287b1/02ccb06/dffbc08/Build/Eigen/Install/include/eigen3/Eigen/src/SparseCore/SparseSelfAdjointView.h\n",
            "-- Up-to-date: /root/.hunter/_Base/70287b1/02ccb06/dffbc08/Build/Eigen/Install/include/eigen3/Eigen/src/SparseCore/SparseMatrixBase.h\n",
            "-- Up-to-date: /root/.hunter/_Base/70287b1/02ccb06/dffbc08/Build/Eigen/Install/include/eigen3/Eigen/src/SparseCore/MappedSparseMatrix.h\n",
            "-- Up-to-date: /root/.hunter/_Base/70287b1/02ccb06/dffbc08/Build/Eigen/Install/include/eigen3/Eigen/src/SparseCore/AmbiVector.h\n",
            "-- Up-to-date: /root/.hunter/_Base/70287b1/02ccb06/dffbc08/Build/Eigen/Install/include/eigen3/Eigen/src/SparseCore/SparseCwiseBinaryOp.h\n",
            "-- Up-to-date: /root/.hunter/_Base/70287b1/02ccb06/dffbc08/Build/Eigen/Install/include/eigen3/Eigen/src/SparseCore/CompressedStorage.h\n",
            "-- Up-to-date: /root/.hunter/_Base/70287b1/02ccb06/dffbc08/Build/Eigen/Install/include/eigen3/Eigen/src/SparseCore/SparseDenseProduct.h\n",
            "-- Up-to-date: /root/.hunter/_Base/70287b1/02ccb06/dffbc08/Build/Eigen/Install/include/eigen3/Eigen/src/SparseCore/SparseTriangularView.h\n",
            "-- Up-to-date: /root/.hunter/_Base/70287b1/02ccb06/dffbc08/Build/Eigen/Install/include/eigen3/Eigen/src/SparseCore/SparseMatrix.h\n",
            "-- Up-to-date: /root/.hunter/_Base/70287b1/02ccb06/dffbc08/Build/Eigen/Install/include/eigen3/Eigen/src/SparseCore/SparseRef.h\n",
            "-- Up-to-date: /root/.hunter/_Base/70287b1/02ccb06/dffbc08/Build/Eigen/Install/include/eigen3/Eigen/src/SparseCore/TriangularSolver.h\n",
            "-- Up-to-date: /root/.hunter/_Base/70287b1/02ccb06/dffbc08/Build/Eigen/Install/include/eigen3/Eigen/src/SparseCore/SparseColEtree.h\n",
            "-- Up-to-date: /root/.hunter/_Base/70287b1/02ccb06/dffbc08/Build/Eigen/Install/include/eigen3/Eigen/src/SparseCore/SparseSolverBase.h\n",
            "-- Up-to-date: /root/.hunter/_Base/70287b1/02ccb06/dffbc08/Build/Eigen/Install/include/eigen3/Eigen/src/SparseCore/SparseAssign.h\n",
            "-- Up-to-date: /root/.hunter/_Base/70287b1/02ccb06/dffbc08/Build/Eigen/Install/include/eigen3/Eigen/src/SparseCore/SparseDot.h\n",
            "-- Up-to-date: /root/.hunter/_Base/70287b1/02ccb06/dffbc08/Build/Eigen/Install/include/eigen3/Eigen/src/SparseCore/SparseCwiseUnaryOp.h\n",
            "-- Up-to-date: /root/.hunter/_Base/70287b1/02ccb06/dffbc08/Build/Eigen/Install/include/eigen3/Eigen/src/SparseCore/SparseMap.h\n",
            "-- Up-to-date: /root/.hunter/_Base/70287b1/02ccb06/dffbc08/Build/Eigen/Install/include/eigen3/Eigen/src/misc\n",
            "-- Up-to-date: /root/.hunter/_Base/70287b1/02ccb06/dffbc08/Build/Eigen/Install/include/eigen3/Eigen/src/misc/lapack.h\n",
            "-- Up-to-date: /root/.hunter/_Base/70287b1/02ccb06/dffbc08/Build/Eigen/Install/include/eigen3/Eigen/src/misc/blas.h\n",
            "-- Up-to-date: /root/.hunter/_Base/70287b1/02ccb06/dffbc08/Build/Eigen/Install/include/eigen3/Eigen/src/misc/Image.h\n",
            "-- Up-to-date: /root/.hunter/_Base/70287b1/02ccb06/dffbc08/Build/Eigen/Install/include/eigen3/Eigen/src/misc/RealSvd2x2.h\n",
            "-- Up-to-date: /root/.hunter/_Base/70287b1/02ccb06/dffbc08/Build/Eigen/Install/include/eigen3/Eigen/src/misc/Kernel.h\n",
            "-- Up-to-date: /root/.hunter/_Base/70287b1/02ccb06/dffbc08/Build/Eigen/Install/include/eigen3/Eigen/src/misc/lapacke_mangling.h\n",
            "-- Up-to-date: /root/.hunter/_Base/70287b1/02ccb06/dffbc08/Build/Eigen/Install/include/eigen3/Eigen/src/misc/lapacke.h\n",
            "-- Up-to-date: /root/.hunter/_Base/70287b1/02ccb06/dffbc08/Build/Eigen/Install/include/eigen3/Eigen/src/SPQRSupport\n",
            "-- Up-to-date: /root/.hunter/_Base/70287b1/02ccb06/dffbc08/Build/Eigen/Install/include/eigen3/Eigen/src/SPQRSupport/SuiteSparseQRSupport.h\n",
            "-- Up-to-date: /root/.hunter/_Base/70287b1/02ccb06/dffbc08/Build/Eigen/Install/include/eigen3/Eigen/src/Cholesky\n",
            "-- Up-to-date: /root/.hunter/_Base/70287b1/02ccb06/dffbc08/Build/Eigen/Install/include/eigen3/Eigen/src/Cholesky/LLT_LAPACKE.h\n",
            "-- Up-to-date: /root/.hunter/_Base/70287b1/02ccb06/dffbc08/Build/Eigen/Install/include/eigen3/Eigen/src/Cholesky/LDLT.h\n",
            "-- Up-to-date: /root/.hunter/_Base/70287b1/02ccb06/dffbc08/Build/Eigen/Install/include/eigen3/Eigen/src/Cholesky/LLT.h\n",
            "-- Up-to-date: /root/.hunter/_Base/70287b1/02ccb06/dffbc08/Build/Eigen/Install/include/eigen3/Eigen/src/SuperLUSupport\n",
            "-- Up-to-date: /root/.hunter/_Base/70287b1/02ccb06/dffbc08/Build/Eigen/Install/include/eigen3/Eigen/src/SuperLUSupport/SuperLUSupport.h\n",
            "-- Up-to-date: /root/.hunter/_Base/70287b1/02ccb06/dffbc08/Build/Eigen/Install/include/eigen3/Eigen/src/IterativeLinearSolvers\n",
            "-- Up-to-date: /root/.hunter/_Base/70287b1/02ccb06/dffbc08/Build/Eigen/Install/include/eigen3/Eigen/src/IterativeLinearSolvers/BiCGSTAB.h\n",
            "-- Up-to-date: /root/.hunter/_Base/70287b1/02ccb06/dffbc08/Build/Eigen/Install/include/eigen3/Eigen/src/IterativeLinearSolvers/IterativeSolverBase.h\n",
            "-- Up-to-date: /root/.hunter/_Base/70287b1/02ccb06/dffbc08/Build/Eigen/Install/include/eigen3/Eigen/src/IterativeLinearSolvers/IncompleteLUT.h\n",
            "-- Up-to-date: /root/.hunter/_Base/70287b1/02ccb06/dffbc08/Build/Eigen/Install/include/eigen3/Eigen/src/IterativeLinearSolvers/ConjugateGradient.h\n",
            "-- Up-to-date: /root/.hunter/_Base/70287b1/02ccb06/dffbc08/Build/Eigen/Install/include/eigen3/Eigen/src/IterativeLinearSolvers/SolveWithGuess.h\n",
            "-- Up-to-date: /root/.hunter/_Base/70287b1/02ccb06/dffbc08/Build/Eigen/Install/include/eigen3/Eigen/src/IterativeLinearSolvers/BasicPreconditioners.h\n",
            "-- Up-to-date: /root/.hunter/_Base/70287b1/02ccb06/dffbc08/Build/Eigen/Install/include/eigen3/Eigen/src/IterativeLinearSolvers/IncompleteCholesky.h\n",
            "-- Up-to-date: /root/.hunter/_Base/70287b1/02ccb06/dffbc08/Build/Eigen/Install/include/eigen3/Eigen/src/IterativeLinearSolvers/LeastSquareConjugateGradient.h\n",
            "-- Up-to-date: /root/.hunter/_Base/70287b1/02ccb06/dffbc08/Build/Eigen/Install/include/eigen3/Eigen/src/Geometry\n",
            "-- Up-to-date: /root/.hunter/_Base/70287b1/02ccb06/dffbc08/Build/Eigen/Install/include/eigen3/Eigen/src/Geometry/Quaternion.h\n",
            "-- Up-to-date: /root/.hunter/_Base/70287b1/02ccb06/dffbc08/Build/Eigen/Install/include/eigen3/Eigen/src/Geometry/Umeyama.h\n",
            "-- Up-to-date: /root/.hunter/_Base/70287b1/02ccb06/dffbc08/Build/Eigen/Install/include/eigen3/Eigen/src/Geometry/OrthoMethods.h\n",
            "-- Up-to-date: /root/.hunter/_Base/70287b1/02ccb06/dffbc08/Build/Eigen/Install/include/eigen3/Eigen/src/Geometry/EulerAngles.h\n",
            "-- Up-to-date: /root/.hunter/_Base/70287b1/02ccb06/dffbc08/Build/Eigen/Install/include/eigen3/Eigen/src/Geometry/arch\n",
            "-- Up-to-date: /root/.hunter/_Base/70287b1/02ccb06/dffbc08/Build/Eigen/Install/include/eigen3/Eigen/src/Geometry/arch/Geometry_SSE.h\n",
            "-- Up-to-date: /root/.hunter/_Base/70287b1/02ccb06/dffbc08/Build/Eigen/Install/include/eigen3/Eigen/src/Geometry/ParametrizedLine.h\n",
            "-- Up-to-date: /root/.hunter/_Base/70287b1/02ccb06/dffbc08/Build/Eigen/Install/include/eigen3/Eigen/src/Geometry/Transform.h\n",
            "-- Up-to-date: /root/.hunter/_Base/70287b1/02ccb06/dffbc08/Build/Eigen/Install/include/eigen3/Eigen/src/Geometry/Scaling.h\n",
            "-- Up-to-date: /root/.hunter/_Base/70287b1/02ccb06/dffbc08/Build/Eigen/Install/include/eigen3/Eigen/src/Geometry/Homogeneous.h\n",
            "-- Up-to-date: /root/.hunter/_Base/70287b1/02ccb06/dffbc08/Build/Eigen/Install/include/eigen3/Eigen/src/Geometry/AlignedBox.h\n",
            "-- Up-to-date: /root/.hunter/_Base/70287b1/02ccb06/dffbc08/Build/Eigen/Install/include/eigen3/Eigen/src/Geometry/Hyperplane.h\n",
            "-- Up-to-date: /root/.hunter/_Base/70287b1/02ccb06/dffbc08/Build/Eigen/Install/include/eigen3/Eigen/src/Geometry/Rotation2D.h\n",
            "-- Up-to-date: /root/.hunter/_Base/70287b1/02ccb06/dffbc08/Build/Eigen/Install/include/eigen3/Eigen/src/Geometry/AngleAxis.h\n",
            "-- Up-to-date: /root/.hunter/_Base/70287b1/02ccb06/dffbc08/Build/Eigen/Install/include/eigen3/Eigen/src/Geometry/RotationBase.h\n",
            "-- Up-to-date: /root/.hunter/_Base/70287b1/02ccb06/dffbc08/Build/Eigen/Install/include/eigen3/Eigen/src/Geometry/Translation.h\n",
            "-- Up-to-date: /root/.hunter/_Base/70287b1/02ccb06/dffbc08/Build/Eigen/Install/include/eigen3/Eigen/src/SparseLU\n",
            "-- Up-to-date: /root/.hunter/_Base/70287b1/02ccb06/dffbc08/Build/Eigen/Install/include/eigen3/Eigen/src/SparseLU/SparseLU_gemm_kernel.h\n",
            "-- Up-to-date: /root/.hunter/_Base/70287b1/02ccb06/dffbc08/Build/Eigen/Install/include/eigen3/Eigen/src/SparseLU/SparseLU_pivotL.h\n",
            "-- Up-to-date: /root/.hunter/_Base/70287b1/02ccb06/dffbc08/Build/Eigen/Install/include/eigen3/Eigen/src/SparseLU/SparseLU_Utils.h\n",
            "-- Up-to-date: /root/.hunter/_Base/70287b1/02ccb06/dffbc08/Build/Eigen/Install/include/eigen3/Eigen/src/SparseLU/SparseLU_relax_snode.h\n",
            "-- Up-to-date: /root/.hunter/_Base/70287b1/02ccb06/dffbc08/Build/Eigen/Install/include/eigen3/Eigen/src/SparseLU/SparseLU_Memory.h\n",
            "-- Up-to-date: /root/.hunter/_Base/70287b1/02ccb06/dffbc08/Build/Eigen/Install/include/eigen3/Eigen/src/SparseLU/SparseLUImpl.h\n",
            "-- Up-to-date: /root/.hunter/_Base/70287b1/02ccb06/dffbc08/Build/Eigen/Install/include/eigen3/Eigen/src/SparseLU/SparseLU_column_dfs.h\n",
            "-- Up-to-date: /root/.hunter/_Base/70287b1/02ccb06/dffbc08/Build/Eigen/Install/include/eigen3/Eigen/src/SparseLU/SparseLU_column_bmod.h\n",
            "-- Up-to-date: /root/.hunter/_Base/70287b1/02ccb06/dffbc08/Build/Eigen/Install/include/eigen3/Eigen/src/SparseLU/SparseLU_panel_dfs.h\n",
            "-- Up-to-date: /root/.hunter/_Base/70287b1/02ccb06/dffbc08/Build/Eigen/Install/include/eigen3/Eigen/src/SparseLU/SparseLU_kernel_bmod.h\n",
            "-- Up-to-date: /root/.hunter/_Base/70287b1/02ccb06/dffbc08/Build/Eigen/Install/include/eigen3/Eigen/src/SparseLU/SparseLU_copy_to_ucol.h\n",
            "-- Up-to-date: /root/.hunter/_Base/70287b1/02ccb06/dffbc08/Build/Eigen/Install/include/eigen3/Eigen/src/SparseLU/SparseLU_Structs.h\n",
            "-- Up-to-date: /root/.hunter/_Base/70287b1/02ccb06/dffbc08/Build/Eigen/Install/include/eigen3/Eigen/src/SparseLU/SparseLU_SupernodalMatrix.h\n",
            "-- Up-to-date: /root/.hunter/_Base/70287b1/02ccb06/dffbc08/Build/Eigen/Install/include/eigen3/Eigen/src/SparseLU/SparseLU_heap_relax_snode.h\n",
            "-- Up-to-date: /root/.hunter/_Base/70287b1/02ccb06/dffbc08/Build/Eigen/Install/include/eigen3/Eigen/src/SparseLU/SparseLU_panel_bmod.h\n",
            "-- Up-to-date: /root/.hunter/_Base/70287b1/02ccb06/dffbc08/Build/Eigen/Install/include/eigen3/Eigen/src/SparseLU/SparseLU_pruneL.h\n",
            "-- Up-to-date: /root/.hunter/_Base/70287b1/02ccb06/dffbc08/Build/Eigen/Install/include/eigen3/Eigen/src/SparseLU/SparseLU.h\n",
            "-- Up-to-date: /root/.hunter/_Base/70287b1/02ccb06/dffbc08/Build/Eigen/Install/include/eigen3/Eigen/src/SVD\n",
            "-- Up-to-date: /root/.hunter/_Base/70287b1/02ccb06/dffbc08/Build/Eigen/Install/include/eigen3/Eigen/src/SVD/BDCSVD.h\n",
            "-- Up-to-date: /root/.hunter/_Base/70287b1/02ccb06/dffbc08/Build/Eigen/Install/include/eigen3/Eigen/src/SVD/JacobiSVD.h\n",
            "-- Up-to-date: /root/.hunter/_Base/70287b1/02ccb06/dffbc08/Build/Eigen/Install/include/eigen3/Eigen/src/SVD/JacobiSVD_LAPACKE.h\n",
            "-- Up-to-date: /root/.hunter/_Base/70287b1/02ccb06/dffbc08/Build/Eigen/Install/include/eigen3/Eigen/src/SVD/UpperBidiagonalization.h\n",
            "-- Up-to-date: /root/.hunter/_Base/70287b1/02ccb06/dffbc08/Build/Eigen/Install/include/eigen3/Eigen/src/SVD/SVDBase.h\n",
            "-- Up-to-date: /root/.hunter/_Base/70287b1/02ccb06/dffbc08/Build/Eigen/Install/include/eigen3/Eigen/src/OrderingMethods\n",
            "-- Up-to-date: /root/.hunter/_Base/70287b1/02ccb06/dffbc08/Build/Eigen/Install/include/eigen3/Eigen/src/OrderingMethods/Amd.h\n",
            "-- Up-to-date: /root/.hunter/_Base/70287b1/02ccb06/dffbc08/Build/Eigen/Install/include/eigen3/Eigen/src/OrderingMethods/Ordering.h\n",
            "-- Up-to-date: /root/.hunter/_Base/70287b1/02ccb06/dffbc08/Build/Eigen/Install/include/eigen3/Eigen/src/OrderingMethods/Eigen_Colamd.h\n",
            "-- Up-to-date: /root/.hunter/_Base/70287b1/02ccb06/dffbc08/Build/Eigen/Install/include/eigen3/Eigen/src/StlSupport\n",
            "-- Up-to-date: /root/.hunter/_Base/70287b1/02ccb06/dffbc08/Build/Eigen/Install/include/eigen3/Eigen/src/StlSupport/details.h\n",
            "-- Up-to-date: /root/.hunter/_Base/70287b1/02ccb06/dffbc08/Build/Eigen/Install/include/eigen3/Eigen/src/StlSupport/StdDeque.h\n",
            "-- Up-to-date: /root/.hunter/_Base/70287b1/02ccb06/dffbc08/Build/Eigen/Install/include/eigen3/Eigen/src/StlSupport/StdVector.h\n",
            "-- Up-to-date: /root/.hunter/_Base/70287b1/02ccb06/dffbc08/Build/Eigen/Install/include/eigen3/Eigen/src/StlSupport/StdList.h\n",
            "-- Up-to-date: /root/.hunter/_Base/70287b1/02ccb06/dffbc08/Build/Eigen/Install/include/eigen3/Eigen/src/Jacobi\n",
            "-- Up-to-date: /root/.hunter/_Base/70287b1/02ccb06/dffbc08/Build/Eigen/Install/include/eigen3/Eigen/src/Jacobi/Jacobi.h\n",
            "-- Up-to-date: /root/.hunter/_Base/70287b1/02ccb06/dffbc08/Build/Eigen/Install/include/eigen3/Eigen/src/QR\n",
            "-- Up-to-date: /root/.hunter/_Base/70287b1/02ccb06/dffbc08/Build/Eigen/Install/include/eigen3/Eigen/src/QR/ColPivHouseholderQR_LAPACKE.h\n",
            "-- Up-to-date: /root/.hunter/_Base/70287b1/02ccb06/dffbc08/Build/Eigen/Install/include/eigen3/Eigen/src/QR/HouseholderQR.h\n",
            "-- Up-to-date: /root/.hunter/_Base/70287b1/02ccb06/dffbc08/Build/Eigen/Install/include/eigen3/Eigen/src/QR/HouseholderQR_LAPACKE.h\n",
            "-- Up-to-date: /root/.hunter/_Base/70287b1/02ccb06/dffbc08/Build/Eigen/Install/include/eigen3/Eigen/src/QR/ColPivHouseholderQR.h\n",
            "-- Up-to-date: /root/.hunter/_Base/70287b1/02ccb06/dffbc08/Build/Eigen/Install/include/eigen3/Eigen/src/QR/FullPivHouseholderQR.h\n",
            "-- Up-to-date: /root/.hunter/_Base/70287b1/02ccb06/dffbc08/Build/Eigen/Install/include/eigen3/Eigen/src/QR/CompleteOrthogonalDecomposition.h\n",
            "-- Up-to-date: /root/.hunter/_Base/70287b1/02ccb06/dffbc08/Build/Eigen/Install/include/eigen3/Eigen/src/LU\n",
            "-- Up-to-date: /root/.hunter/_Base/70287b1/02ccb06/dffbc08/Build/Eigen/Install/include/eigen3/Eigen/src/LU/PartialPivLU_LAPACKE.h\n",
            "-- Up-to-date: /root/.hunter/_Base/70287b1/02ccb06/dffbc08/Build/Eigen/Install/include/eigen3/Eigen/src/LU/arch\n",
            "-- Up-to-date: /root/.hunter/_Base/70287b1/02ccb06/dffbc08/Build/Eigen/Install/include/eigen3/Eigen/src/LU/arch/Inverse_SSE.h\n",
            "-- Up-to-date: /root/.hunter/_Base/70287b1/02ccb06/dffbc08/Build/Eigen/Install/include/eigen3/Eigen/src/LU/InverseImpl.h\n",
            "-- Up-to-date: /root/.hunter/_Base/70287b1/02ccb06/dffbc08/Build/Eigen/Install/include/eigen3/Eigen/src/LU/Determinant.h\n",
            "-- Up-to-date: /root/.hunter/_Base/70287b1/02ccb06/dffbc08/Build/Eigen/Install/include/eigen3/Eigen/src/LU/FullPivLU.h\n",
            "-- Up-to-date: /root/.hunter/_Base/70287b1/02ccb06/dffbc08/Build/Eigen/Install/include/eigen3/Eigen/src/LU/PartialPivLU.h\n",
            "-- Up-to-date: /root/.hunter/_Base/70287b1/02ccb06/dffbc08/Build/Eigen/Install/include/eigen3/Eigen/src/plugins\n",
            "-- Up-to-date: /root/.hunter/_Base/70287b1/02ccb06/dffbc08/Build/Eigen/Install/include/eigen3/Eigen/src/plugins/CommonCwiseUnaryOps.h\n",
            "-- Up-to-date: /root/.hunter/_Base/70287b1/02ccb06/dffbc08/Build/Eigen/Install/include/eigen3/Eigen/src/plugins/ArrayCwiseUnaryOps.h\n",
            "-- Up-to-date: /root/.hunter/_Base/70287b1/02ccb06/dffbc08/Build/Eigen/Install/include/eigen3/Eigen/src/plugins/MatrixCwiseBinaryOps.h\n",
            "-- Up-to-date: /root/.hunter/_Base/70287b1/02ccb06/dffbc08/Build/Eigen/Install/include/eigen3/Eigen/src/plugins/BlockMethods.h\n",
            "-- Up-to-date: /root/.hunter/_Base/70287b1/02ccb06/dffbc08/Build/Eigen/Install/include/eigen3/Eigen/src/plugins/CommonCwiseBinaryOps.h\n",
            "-- Up-to-date: /root/.hunter/_Base/70287b1/02ccb06/dffbc08/Build/Eigen/Install/include/eigen3/Eigen/src/plugins/ArrayCwiseBinaryOps.h\n",
            "-- Up-to-date: /root/.hunter/_Base/70287b1/02ccb06/dffbc08/Build/Eigen/Install/include/eigen3/Eigen/src/plugins/MatrixCwiseUnaryOps.h\n",
            "-- Up-to-date: /root/.hunter/_Base/70287b1/02ccb06/dffbc08/Build/Eigen/Install/include/eigen3/Eigen/src/SparseCholesky\n",
            "-- Up-to-date: /root/.hunter/_Base/70287b1/02ccb06/dffbc08/Build/Eigen/Install/include/eigen3/Eigen/src/SparseCholesky/SimplicialCholesky.h\n",
            "-- Up-to-date: /root/.hunter/_Base/70287b1/02ccb06/dffbc08/Build/Eigen/Install/include/eigen3/Eigen/src/SparseCholesky/SimplicialCholesky_impl.h\n",
            "-- Up-to-date: /root/.hunter/_Base/70287b1/02ccb06/dffbc08/Build/Eigen/Install/include/eigen3/Eigen/src/Householder\n",
            "-- Up-to-date: /root/.hunter/_Base/70287b1/02ccb06/dffbc08/Build/Eigen/Install/include/eigen3/Eigen/src/Householder/BlockHouseholder.h\n",
            "-- Up-to-date: /root/.hunter/_Base/70287b1/02ccb06/dffbc08/Build/Eigen/Install/include/eigen3/Eigen/src/Householder/HouseholderSequence.h\n",
            "-- Up-to-date: /root/.hunter/_Base/70287b1/02ccb06/dffbc08/Build/Eigen/Install/include/eigen3/Eigen/src/Householder/Householder.h\n",
            "-- Up-to-date: /root/.hunter/_Base/70287b1/02ccb06/dffbc08/Build/Eigen/Install/include/eigen3/Eigen/src/PardisoSupport\n",
            "-- Up-to-date: /root/.hunter/_Base/70287b1/02ccb06/dffbc08/Build/Eigen/Install/include/eigen3/Eigen/src/PardisoSupport/PardisoSupport.h\n",
            "-- Up-to-date: /root/.hunter/_Base/70287b1/02ccb06/dffbc08/Build/Eigen/Install/include/eigen3/Eigen/src/SparseQR\n",
            "-- Up-to-date: /root/.hunter/_Base/70287b1/02ccb06/dffbc08/Build/Eigen/Install/include/eigen3/Eigen/src/SparseQR/SparseQR.h\n",
            "-- Up-to-date: /root/.hunter/_Base/70287b1/02ccb06/dffbc08/Build/Eigen/Install/include/eigen3/Eigen/src/MetisSupport\n",
            "-- Up-to-date: /root/.hunter/_Base/70287b1/02ccb06/dffbc08/Build/Eigen/Install/include/eigen3/Eigen/src/MetisSupport/MetisSupport.h\n",
            "-- Up-to-date: /root/.hunter/_Base/70287b1/02ccb06/dffbc08/Build/Eigen/Install/include/eigen3/Eigen/src/Core\n",
            "-- Up-to-date: /root/.hunter/_Base/70287b1/02ccb06/dffbc08/Build/Eigen/Install/include/eigen3/Eigen/src/Core/Diagonal.h\n",
            "-- Up-to-date: /root/.hunter/_Base/70287b1/02ccb06/dffbc08/Build/Eigen/Install/include/eigen3/Eigen/src/Core/Visitor.h\n",
            "-- Up-to-date: /root/.hunter/_Base/70287b1/02ccb06/dffbc08/Build/Eigen/Install/include/eigen3/Eigen/src/Core/CommaInitializer.h\n",
            "-- Up-to-date: /root/.hunter/_Base/70287b1/02ccb06/dffbc08/Build/Eigen/Install/include/eigen3/Eigen/src/Core/MathFunctions.h\n",
            "-- Up-to-date: /root/.hunter/_Base/70287b1/02ccb06/dffbc08/Build/Eigen/Install/include/eigen3/Eigen/src/Core/SelfCwiseBinaryOp.h\n",
            "-- Up-to-date: /root/.hunter/_Base/70287b1/02ccb06/dffbc08/Build/Eigen/Install/include/eigen3/Eigen/src/Core/DiagonalMatrix.h\n",
            "-- Up-to-date: /root/.hunter/_Base/70287b1/02ccb06/dffbc08/Build/Eigen/Install/include/eigen3/Eigen/src/Core/GeneralProduct.h\n",
            "-- Up-to-date: /root/.hunter/_Base/70287b1/02ccb06/dffbc08/Build/Eigen/Install/include/eigen3/Eigen/src/Core/NumTraits.h\n",
            "-- Up-to-date: /root/.hunter/_Base/70287b1/02ccb06/dffbc08/Build/Eigen/Install/include/eigen3/Eigen/src/Core/MapBase.h\n",
            "-- Up-to-date: /root/.hunter/_Base/70287b1/02ccb06/dffbc08/Build/Eigen/Install/include/eigen3/Eigen/src/Core/PermutationMatrix.h\n",
            "-- Up-to-date: /root/.hunter/_Base/70287b1/02ccb06/dffbc08/Build/Eigen/Install/include/eigen3/Eigen/src/Core/Stride.h\n",
            "-- Up-to-date: /root/.hunter/_Base/70287b1/02ccb06/dffbc08/Build/Eigen/Install/include/eigen3/Eigen/src/Core/Block.h\n",
            "-- Up-to-date: /root/.hunter/_Base/70287b1/02ccb06/dffbc08/Build/Eigen/Install/include/eigen3/Eigen/src/Core/products\n",
            "-- Up-to-date: /root/.hunter/_Base/70287b1/02ccb06/dffbc08/Build/Eigen/Install/include/eigen3/Eigen/src/Core/products/GeneralMatrixMatrixTriangular_BLAS.h\n",
            "-- Up-to-date: /root/.hunter/_Base/70287b1/02ccb06/dffbc08/Build/Eigen/Install/include/eigen3/Eigen/src/Core/products/SelfadjointProduct.h\n",
            "-- Up-to-date: /root/.hunter/_Base/70287b1/02ccb06/dffbc08/Build/Eigen/Install/include/eigen3/Eigen/src/Core/products/SelfadjointMatrixMatrix_BLAS.h\n",
            "-- Up-to-date: /root/.hunter/_Base/70287b1/02ccb06/dffbc08/Build/Eigen/Install/include/eigen3/Eigen/src/Core/products/SelfadjointMatrixVector.h\n",
            "-- Up-to-date: /root/.hunter/_Base/70287b1/02ccb06/dffbc08/Build/Eigen/Install/include/eigen3/Eigen/src/Core/products/TriangularSolverMatrix.h\n",
            "-- Up-to-date: /root/.hunter/_Base/70287b1/02ccb06/dffbc08/Build/Eigen/Install/include/eigen3/Eigen/src/Core/products/Parallelizer.h\n",
            "-- Up-to-date: /root/.hunter/_Base/70287b1/02ccb06/dffbc08/Build/Eigen/Install/include/eigen3/Eigen/src/Core/products/TriangularSolverMatrix_BLAS.h\n",
            "-- Up-to-date: /root/.hunter/_Base/70287b1/02ccb06/dffbc08/Build/Eigen/Install/include/eigen3/Eigen/src/Core/products/TriangularMatrixMatrix_BLAS.h\n",
            "-- Up-to-date: /root/.hunter/_Base/70287b1/02ccb06/dffbc08/Build/Eigen/Install/include/eigen3/Eigen/src/Core/products/TriangularMatrixMatrix.h\n",
            "-- Up-to-date: /root/.hunter/_Base/70287b1/02ccb06/dffbc08/Build/Eigen/Install/include/eigen3/Eigen/src/Core/products/GeneralBlockPanelKernel.h\n",
            "-- Up-to-date: /root/.hunter/_Base/70287b1/02ccb06/dffbc08/Build/Eigen/Install/include/eigen3/Eigen/src/Core/products/GeneralMatrixMatrixTriangular.h\n",
            "-- Up-to-date: /root/.hunter/_Base/70287b1/02ccb06/dffbc08/Build/Eigen/Install/include/eigen3/Eigen/src/Core/products/TriangularMatrixVector_BLAS.h\n",
            "-- Up-to-date: /root/.hunter/_Base/70287b1/02ccb06/dffbc08/Build/Eigen/Install/include/eigen3/Eigen/src/Core/products/GeneralMatrixVector_BLAS.h\n",
            "-- Up-to-date: /root/.hunter/_Base/70287b1/02ccb06/dffbc08/Build/Eigen/Install/include/eigen3/Eigen/src/Core/products/TriangularSolverVector.h\n",
            "-- Up-to-date: /root/.hunter/_Base/70287b1/02ccb06/dffbc08/Build/Eigen/Install/include/eigen3/Eigen/src/Core/products/GeneralMatrixVector.h\n",
            "-- Up-to-date: /root/.hunter/_Base/70287b1/02ccb06/dffbc08/Build/Eigen/Install/include/eigen3/Eigen/src/Core/products/SelfadjointMatrixVector_BLAS.h\n",
            "-- Up-to-date: /root/.hunter/_Base/70287b1/02ccb06/dffbc08/Build/Eigen/Install/include/eigen3/Eigen/src/Core/products/SelfadjointRank2Update.h\n",
            "-- Up-to-date: /root/.hunter/_Base/70287b1/02ccb06/dffbc08/Build/Eigen/Install/include/eigen3/Eigen/src/Core/products/GeneralMatrixMatrix.h\n",
            "-- Up-to-date: /root/.hunter/_Base/70287b1/02ccb06/dffbc08/Build/Eigen/Install/include/eigen3/Eigen/src/Core/products/SelfadjointMatrixMatrix.h\n",
            "-- Up-to-date: /root/.hunter/_Base/70287b1/02ccb06/dffbc08/Build/Eigen/Install/include/eigen3/Eigen/src/Core/products/TriangularMatrixVector.h\n",
            "-- Up-to-date: /root/.hunter/_Base/70287b1/02ccb06/dffbc08/Build/Eigen/Install/include/eigen3/Eigen/src/Core/products/GeneralMatrixMatrix_BLAS.h\n",
            "-- Up-to-date: /root/.hunter/_Base/70287b1/02ccb06/dffbc08/Build/Eigen/Install/include/eigen3/Eigen/src/Core/CwiseBinaryOp.h\n",
            "-- Up-to-date: /root/.hunter/_Base/70287b1/02ccb06/dffbc08/Build/Eigen/Install/include/eigen3/Eigen/src/Core/Assign.h\n",
            "-- Up-to-date: /root/.hunter/_Base/70287b1/02ccb06/dffbc08/Build/Eigen/Install/include/eigen3/Eigen/src/Core/CwiseUnaryView.h\n",
            "-- Up-to-date: /root/.hunter/_Base/70287b1/02ccb06/dffbc08/Build/Eigen/Install/include/eigen3/Eigen/src/Core/DenseBase.h\n",
            "-- Up-to-date: /root/.hunter/_Base/70287b1/02ccb06/dffbc08/Build/Eigen/Install/include/eigen3/Eigen/src/Core/functors\n",
            "-- Up-to-date: /root/.hunter/_Base/70287b1/02ccb06/dffbc08/Build/Eigen/Install/include/eigen3/Eigen/src/Core/functors/UnaryFunctors.h\n",
            "-- Up-to-date: /root/.hunter/_Base/70287b1/02ccb06/dffbc08/Build/Eigen/Install/include/eigen3/Eigen/src/Core/functors/NullaryFunctors.h\n",
            "-- Up-to-date: /root/.hunter/_Base/70287b1/02ccb06/dffbc08/Build/Eigen/Install/include/eigen3/Eigen/src/Core/functors/AssignmentFunctors.h\n",
            "-- Up-to-date: /root/.hunter/_Base/70287b1/02ccb06/dffbc08/Build/Eigen/Install/include/eigen3/Eigen/src/Core/functors/TernaryFunctors.h\n",
            "-- Up-to-date: /root/.hunter/_Base/70287b1/02ccb06/dffbc08/Build/Eigen/Install/include/eigen3/Eigen/src/Core/functors/StlFunctors.h\n",
            "-- Up-to-date: /root/.hunter/_Base/70287b1/02ccb06/dffbc08/Build/Eigen/Install/include/eigen3/Eigen/src/Core/functors/BinaryFunctors.h\n",
            "-- Up-to-date: /root/.hunter/_Base/70287b1/02ccb06/dffbc08/Build/Eigen/Install/include/eigen3/Eigen/src/Core/Swap.h\n",
            "-- Up-to-date: /root/.hunter/_Base/70287b1/02ccb06/dffbc08/Build/Eigen/Install/include/eigen3/Eigen/src/Core/ForceAlignedAccess.h\n",
            "-- Up-to-date: /root/.hunter/_Base/70287b1/02ccb06/dffbc08/Build/Eigen/Install/include/eigen3/Eigen/src/Core/DenseCoeffsBase.h\n",
            "-- Up-to-date: /root/.hunter/_Base/70287b1/02ccb06/dffbc08/Build/Eigen/Install/include/eigen3/Eigen/src/Core/ProductEvaluators.h\n",
            "-- Up-to-date: /root/.hunter/_Base/70287b1/02ccb06/dffbc08/Build/Eigen/Install/include/eigen3/Eigen/src/Core/CoreIterators.h\n",
            "-- Up-to-date: /root/.hunter/_Base/70287b1/02ccb06/dffbc08/Build/Eigen/Install/include/eigen3/Eigen/src/Core/IO.h\n",
            "-- Up-to-date: /root/.hunter/_Base/70287b1/02ccb06/dffbc08/Build/Eigen/Install/include/eigen3/Eigen/src/Core/Dot.h\n",
            "-- Up-to-date: /root/.hunter/_Base/70287b1/02ccb06/dffbc08/Build/Eigen/Install/include/eigen3/Eigen/src/Core/BooleanRedux.h\n",
            "-- Up-to-date: /root/.hunter/_Base/70287b1/02ccb06/dffbc08/Build/Eigen/Install/include/eigen3/Eigen/src/Core/GlobalFunctions.h\n",
            "-- Up-to-date: /root/.hunter/_Base/70287b1/02ccb06/dffbc08/Build/Eigen/Install/include/eigen3/Eigen/src/Core/Replicate.h\n",
            "-- Up-to-date: /root/.hunter/_Base/70287b1/02ccb06/dffbc08/Build/Eigen/Install/include/eigen3/Eigen/src/Core/TriangularMatrix.h\n",
            "-- Up-to-date: /root/.hunter/_Base/70287b1/02ccb06/dffbc08/Build/Eigen/Install/include/eigen3/Eigen/src/Core/CwiseTernaryOp.h\n",
            "-- Up-to-date: /root/.hunter/_Base/70287b1/02ccb06/dffbc08/Build/Eigen/Install/include/eigen3/Eigen/src/Core/SelfAdjointView.h\n",
            "-- Up-to-date: /root/.hunter/_Base/70287b1/02ccb06/dffbc08/Build/Eigen/Install/include/eigen3/Eigen/src/Core/MatrixBase.h\n",
            "-- Up-to-date: /root/.hunter/_Base/70287b1/02ccb06/dffbc08/Build/Eigen/Install/include/eigen3/Eigen/src/Core/BandMatrix.h\n",
            "-- Up-to-date: /root/.hunter/_Base/70287b1/02ccb06/dffbc08/Build/Eigen/Install/include/eigen3/Eigen/src/Core/util\n",
            "-- Up-to-date: /root/.hunter/_Base/70287b1/02ccb06/dffbc08/Build/Eigen/Install/include/eigen3/Eigen/src/Core/util/ReenableStupidWarnings.h\n",
            "-- Up-to-date: /root/.hunter/_Base/70287b1/02ccb06/dffbc08/Build/Eigen/Install/include/eigen3/Eigen/src/Core/util/StaticAssert.h\n",
            "-- Up-to-date: /root/.hunter/_Base/70287b1/02ccb06/dffbc08/Build/Eigen/Install/include/eigen3/Eigen/src/Core/util/MKL_support.h\n",
            "-- Up-to-date: /root/.hunter/_Base/70287b1/02ccb06/dffbc08/Build/Eigen/Install/include/eigen3/Eigen/src/Core/util/Meta.h\n",
            "-- Up-to-date: /root/.hunter/_Base/70287b1/02ccb06/dffbc08/Build/Eigen/Install/include/eigen3/Eigen/src/Core/util/XprHelper.h\n",
            "-- Up-to-date: /root/.hunter/_Base/70287b1/02ccb06/dffbc08/Build/Eigen/Install/include/eigen3/Eigen/src/Core/util/Constants.h\n",
            "-- Up-to-date: /root/.hunter/_Base/70287b1/02ccb06/dffbc08/Build/Eigen/Install/include/eigen3/Eigen/src/Core/util/ForwardDeclarations.h\n",
            "-- Up-to-date: /root/.hunter/_Base/70287b1/02ccb06/dffbc08/Build/Eigen/Install/include/eigen3/Eigen/src/Core/util/DisableStupidWarnings.h\n",
            "-- Up-to-date: /root/.hunter/_Base/70287b1/02ccb06/dffbc08/Build/Eigen/Install/include/eigen3/Eigen/src/Core/util/Macros.h\n",
            "-- Up-to-date: /root/.hunter/_Base/70287b1/02ccb06/dffbc08/Build/Eigen/Install/include/eigen3/Eigen/src/Core/util/BlasUtil.h\n",
            "-- Up-to-date: /root/.hunter/_Base/70287b1/02ccb06/dffbc08/Build/Eigen/Install/include/eigen3/Eigen/src/Core/util/Memory.h\n",
            "-- Up-to-date: /root/.hunter/_Base/70287b1/02ccb06/dffbc08/Build/Eigen/Install/include/eigen3/Eigen/src/Core/util/NonMPL2.h\n",
            "-- Up-to-date: /root/.hunter/_Base/70287b1/02ccb06/dffbc08/Build/Eigen/Install/include/eigen3/Eigen/src/Core/CoreEvaluators.h\n",
            "-- Up-to-date: /root/.hunter/_Base/70287b1/02ccb06/dffbc08/Build/Eigen/Install/include/eigen3/Eigen/src/Core/DenseStorage.h\n",
            "-- Up-to-date: /root/.hunter/_Base/70287b1/02ccb06/dffbc08/Build/Eigen/Install/include/eigen3/Eigen/src/Core/CwiseNullaryOp.h\n",
            "-- Up-to-date: /root/.hunter/_Base/70287b1/02ccb06/dffbc08/Build/Eigen/Install/include/eigen3/Eigen/src/Core/StableNorm.h\n",
            "-- Up-to-date: /root/.hunter/_Base/70287b1/02ccb06/dffbc08/Build/Eigen/Install/include/eigen3/Eigen/src/Core/SolveTriangular.h\n",
            "-- Up-to-date: /root/.hunter/_Base/70287b1/02ccb06/dffbc08/Build/Eigen/Install/include/eigen3/Eigen/src/Core/ArrayWrapper.h\n",
            "-- Up-to-date: /root/.hunter/_Base/70287b1/02ccb06/dffbc08/Build/Eigen/Install/include/eigen3/Eigen/src/Core/ConditionEstimator.h\n",
            "-- Up-to-date: /root/.hunter/_Base/70287b1/02ccb06/dffbc08/Build/Eigen/Install/include/eigen3/Eigen/src/Core/arch\n",
            "-- Up-to-date: /root/.hunter/_Base/70287b1/02ccb06/dffbc08/Build/Eigen/Install/include/eigen3/Eigen/src/Core/arch/AVX512\n",
            "-- Up-to-date: /root/.hunter/_Base/70287b1/02ccb06/dffbc08/Build/Eigen/Install/include/eigen3/Eigen/src/Core/arch/AVX512/MathFunctions.h\n",
            "-- Up-to-date: /root/.hunter/_Base/70287b1/02ccb06/dffbc08/Build/Eigen/Install/include/eigen3/Eigen/src/Core/arch/AVX512/PacketMath.h\n",
            "-- Up-to-date: /root/.hunter/_Base/70287b1/02ccb06/dffbc08/Build/Eigen/Install/include/eigen3/Eigen/src/Core/arch/CUDA\n",
            "-- Up-to-date: /root/.hunter/_Base/70287b1/02ccb06/dffbc08/Build/Eigen/Install/include/eigen3/Eigen/src/Core/arch/CUDA/MathFunctions.h\n",
            "-- Up-to-date: /root/.hunter/_Base/70287b1/02ccb06/dffbc08/Build/Eigen/Install/include/eigen3/Eigen/src/Core/arch/CUDA/Half.h\n",
            "-- Up-to-date: /root/.hunter/_Base/70287b1/02ccb06/dffbc08/Build/Eigen/Install/include/eigen3/Eigen/src/Core/arch/CUDA/PacketMathHalf.h\n",
            "-- Up-to-date: /root/.hunter/_Base/70287b1/02ccb06/dffbc08/Build/Eigen/Install/include/eigen3/Eigen/src/Core/arch/CUDA/TypeCasting.h\n",
            "-- Up-to-date: /root/.hunter/_Base/70287b1/02ccb06/dffbc08/Build/Eigen/Install/include/eigen3/Eigen/src/Core/arch/CUDA/PacketMath.h\n",
            "-- Up-to-date: /root/.hunter/_Base/70287b1/02ccb06/dffbc08/Build/Eigen/Install/include/eigen3/Eigen/src/Core/arch/CUDA/Complex.h\n",
            "-- Up-to-date: /root/.hunter/_Base/70287b1/02ccb06/dffbc08/Build/Eigen/Install/include/eigen3/Eigen/src/Core/arch/Default\n",
            "-- Up-to-date: /root/.hunter/_Base/70287b1/02ccb06/dffbc08/Build/Eigen/Install/include/eigen3/Eigen/src/Core/arch/Default/ConjHelper.h\n",
            "-- Up-to-date: /root/.hunter/_Base/70287b1/02ccb06/dffbc08/Build/Eigen/Install/include/eigen3/Eigen/src/Core/arch/Default/Settings.h\n",
            "-- Up-to-date: /root/.hunter/_Base/70287b1/02ccb06/dffbc08/Build/Eigen/Install/include/eigen3/Eigen/src/Core/arch/NEON\n",
            "-- Up-to-date: /root/.hunter/_Base/70287b1/02ccb06/dffbc08/Build/Eigen/Install/include/eigen3/Eigen/src/Core/arch/NEON/MathFunctions.h\n",
            "-- Up-to-date: /root/.hunter/_Base/70287b1/02ccb06/dffbc08/Build/Eigen/Install/include/eigen3/Eigen/src/Core/arch/NEON/PacketMath.h\n",
            "-- Up-to-date: /root/.hunter/_Base/70287b1/02ccb06/dffbc08/Build/Eigen/Install/include/eigen3/Eigen/src/Core/arch/NEON/Complex.h\n",
            "-- Up-to-date: /root/.hunter/_Base/70287b1/02ccb06/dffbc08/Build/Eigen/Install/include/eigen3/Eigen/src/Core/arch/ZVector\n",
            "-- Up-to-date: /root/.hunter/_Base/70287b1/02ccb06/dffbc08/Build/Eigen/Install/include/eigen3/Eigen/src/Core/arch/ZVector/MathFunctions.h\n",
            "-- Up-to-date: /root/.hunter/_Base/70287b1/02ccb06/dffbc08/Build/Eigen/Install/include/eigen3/Eigen/src/Core/arch/ZVector/PacketMath.h\n",
            "-- Up-to-date: /root/.hunter/_Base/70287b1/02ccb06/dffbc08/Build/Eigen/Install/include/eigen3/Eigen/src/Core/arch/ZVector/Complex.h\n",
            "-- Up-to-date: /root/.hunter/_Base/70287b1/02ccb06/dffbc08/Build/Eigen/Install/include/eigen3/Eigen/src/Core/arch/AltiVec\n",
            "-- Up-to-date: /root/.hunter/_Base/70287b1/02ccb06/dffbc08/Build/Eigen/Install/include/eigen3/Eigen/src/Core/arch/AltiVec/MathFunctions.h\n",
            "-- Up-to-date: /root/.hunter/_Base/70287b1/02ccb06/dffbc08/Build/Eigen/Install/include/eigen3/Eigen/src/Core/arch/AltiVec/PacketMath.h\n",
            "-- Up-to-date: /root/.hunter/_Base/70287b1/02ccb06/dffbc08/Build/Eigen/Install/include/eigen3/Eigen/src/Core/arch/AltiVec/Complex.h\n",
            "-- Up-to-date: /root/.hunter/_Base/70287b1/02ccb06/dffbc08/Build/Eigen/Install/include/eigen3/Eigen/src/Core/arch/AVX\n",
            "-- Up-to-date: /root/.hunter/_Base/70287b1/02ccb06/dffbc08/Build/Eigen/Install/include/eigen3/Eigen/src/Core/arch/AVX/MathFunctions.h\n",
            "-- Up-to-date: /root/.hunter/_Base/70287b1/02ccb06/dffbc08/Build/Eigen/Install/include/eigen3/Eigen/src/Core/arch/AVX/TypeCasting.h\n",
            "-- Up-to-date: /root/.hunter/_Base/70287b1/02ccb06/dffbc08/Build/Eigen/Install/include/eigen3/Eigen/src/Core/arch/AVX/PacketMath.h\n",
            "-- Up-to-date: /root/.hunter/_Base/70287b1/02ccb06/dffbc08/Build/Eigen/Install/include/eigen3/Eigen/src/Core/arch/AVX/Complex.h\n",
            "-- Up-to-date: /root/.hunter/_Base/70287b1/02ccb06/dffbc08/Build/Eigen/Install/include/eigen3/Eigen/src/Core/arch/SSE\n",
            "-- Up-to-date: /root/.hunter/_Base/70287b1/02ccb06/dffbc08/Build/Eigen/Install/include/eigen3/Eigen/src/Core/arch/SSE/MathFunctions.h\n",
            "-- Up-to-date: /root/.hunter/_Base/70287b1/02ccb06/dffbc08/Build/Eigen/Install/include/eigen3/Eigen/src/Core/arch/SSE/TypeCasting.h\n",
            "-- Up-to-date: /root/.hunter/_Base/70287b1/02ccb06/dffbc08/Build/Eigen/Install/include/eigen3/Eigen/src/Core/arch/SSE/PacketMath.h\n",
            "-- Up-to-date: /root/.hunter/_Base/70287b1/02ccb06/dffbc08/Build/Eigen/Install/include/eigen3/Eigen/src/Core/arch/SSE/Complex.h\n",
            "-- Up-to-date: /root/.hunter/_Base/70287b1/02ccb06/dffbc08/Build/Eigen/Install/include/eigen3/Eigen/src/Core/Matrix.h\n",
            "-- Up-to-date: /root/.hunter/_Base/70287b1/02ccb06/dffbc08/Build/Eigen/Install/include/eigen3/Eigen/src/Core/MathFunctionsImpl.h\n",
            "-- Up-to-date: /root/.hunter/_Base/70287b1/02ccb06/dffbc08/Build/Eigen/Install/include/eigen3/Eigen/src/Core/NoAlias.h\n",
            "-- Up-to-date: /root/.hunter/_Base/70287b1/02ccb06/dffbc08/Build/Eigen/Install/include/eigen3/Eigen/src/Core/ArrayBase.h\n",
            "-- Up-to-date: /root/.hunter/_Base/70287b1/02ccb06/dffbc08/Build/Eigen/Install/include/eigen3/Eigen/src/Core/VectorwiseOp.h\n",
            "-- Up-to-date: /root/.hunter/_Base/70287b1/02ccb06/dffbc08/Build/Eigen/Install/include/eigen3/Eigen/src/Core/Reverse.h\n",
            "-- Up-to-date: /root/.hunter/_Base/70287b1/02ccb06/dffbc08/Build/Eigen/Install/include/eigen3/Eigen/src/Core/GenericPacketMath.h\n",
            "-- Up-to-date: /root/.hunter/_Base/70287b1/02ccb06/dffbc08/Build/Eigen/Install/include/eigen3/Eigen/src/Core/Array.h\n",
            "-- Up-to-date: /root/.hunter/_Base/70287b1/02ccb06/dffbc08/Build/Eigen/Install/include/eigen3/Eigen/src/Core/EigenBase.h\n",
            "-- Up-to-date: /root/.hunter/_Base/70287b1/02ccb06/dffbc08/Build/Eigen/Install/include/eigen3/Eigen/src/Core/NestByValue.h\n",
            "-- Up-to-date: /root/.hunter/_Base/70287b1/02ccb06/dffbc08/Build/Eigen/Install/include/eigen3/Eigen/src/Core/Map.h\n",
            "-- Up-to-date: /root/.hunter/_Base/70287b1/02ccb06/dffbc08/Build/Eigen/Install/include/eigen3/Eigen/src/Core/ReturnByValue.h\n",
            "-- Up-to-date: /root/.hunter/_Base/70287b1/02ccb06/dffbc08/Build/Eigen/Install/include/eigen3/Eigen/src/Core/Transpositions.h\n",
            "-- Up-to-date: /root/.hunter/_Base/70287b1/02ccb06/dffbc08/Build/Eigen/Install/include/eigen3/Eigen/src/Core/Solve.h\n",
            "-- Up-to-date: /root/.hunter/_Base/70287b1/02ccb06/dffbc08/Build/Eigen/Install/include/eigen3/Eigen/src/Core/SolverBase.h\n",
            "-- Up-to-date: /root/.hunter/_Base/70287b1/02ccb06/dffbc08/Build/Eigen/Install/include/eigen3/Eigen/src/Core/Random.h\n",
            "-- Up-to-date: /root/.hunter/_Base/70287b1/02ccb06/dffbc08/Build/Eigen/Install/include/eigen3/Eigen/src/Core/DiagonalProduct.h\n",
            "-- Up-to-date: /root/.hunter/_Base/70287b1/02ccb06/dffbc08/Build/Eigen/Install/include/eigen3/Eigen/src/Core/AssignEvaluator.h\n",
            "-- Up-to-date: /root/.hunter/_Base/70287b1/02ccb06/dffbc08/Build/Eigen/Install/include/eigen3/Eigen/src/Core/Fuzzy.h\n",
            "-- Up-to-date: /root/.hunter/_Base/70287b1/02ccb06/dffbc08/Build/Eigen/Install/include/eigen3/Eigen/src/Core/Transpose.h\n",
            "-- Up-to-date: /root/.hunter/_Base/70287b1/02ccb06/dffbc08/Build/Eigen/Install/include/eigen3/Eigen/src/Core/PlainObjectBase.h\n",
            "-- Up-to-date: /root/.hunter/_Base/70287b1/02ccb06/dffbc08/Build/Eigen/Install/include/eigen3/Eigen/src/Core/Select.h\n",
            "-- Up-to-date: /root/.hunter/_Base/70287b1/02ccb06/dffbc08/Build/Eigen/Install/include/eigen3/Eigen/src/Core/Ref.h\n",
            "-- Up-to-date: /root/.hunter/_Base/70287b1/02ccb06/dffbc08/Build/Eigen/Install/include/eigen3/Eigen/src/Core/VectorBlock.h\n",
            "-- Up-to-date: /root/.hunter/_Base/70287b1/02ccb06/dffbc08/Build/Eigen/Install/include/eigen3/Eigen/src/Core/Assign_MKL.h\n",
            "-- Up-to-date: /root/.hunter/_Base/70287b1/02ccb06/dffbc08/Build/Eigen/Install/include/eigen3/Eigen/src/Core/CwiseUnaryOp.h\n",
            "-- Up-to-date: /root/.hunter/_Base/70287b1/02ccb06/dffbc08/Build/Eigen/Install/include/eigen3/Eigen/src/Core/Inverse.h\n",
            "-- Up-to-date: /root/.hunter/_Base/70287b1/02ccb06/dffbc08/Build/Eigen/Install/include/eigen3/Eigen/src/Core/Redux.h\n",
            "-- Up-to-date: /root/.hunter/_Base/70287b1/02ccb06/dffbc08/Build/Eigen/Install/include/eigen3/Eigen/src/Core/Product.h\n",
            "-- Up-to-date: /root/.hunter/_Base/70287b1/02ccb06/dffbc08/Build/Eigen/Install/include/eigen3/Eigen/src/Eigenvalues\n",
            "-- Up-to-date: /root/.hunter/_Base/70287b1/02ccb06/dffbc08/Build/Eigen/Install/include/eigen3/Eigen/src/Eigenvalues/GeneralizedSelfAdjointEigenSolver.h\n",
            "-- Up-to-date: /root/.hunter/_Base/70287b1/02ccb06/dffbc08/Build/Eigen/Install/include/eigen3/Eigen/src/Eigenvalues/SelfAdjointEigenSolver_LAPACKE.h\n",
            "-- Up-to-date: /root/.hunter/_Base/70287b1/02ccb06/dffbc08/Build/Eigen/Install/include/eigen3/Eigen/src/Eigenvalues/SelfAdjointEigenSolver.h\n",
            "-- Up-to-date: /root/.hunter/_Base/70287b1/02ccb06/dffbc08/Build/Eigen/Install/include/eigen3/Eigen/src/Eigenvalues/MatrixBaseEigenvalues.h\n",
            "-- Up-to-date: /root/.hunter/_Base/70287b1/02ccb06/dffbc08/Build/Eigen/Install/include/eigen3/Eigen/src/Eigenvalues/EigenSolver.h\n",
            "-- Up-to-date: /root/.hunter/_Base/70287b1/02ccb06/dffbc08/Build/Eigen/Install/include/eigen3/Eigen/src/Eigenvalues/RealSchur_LAPACKE.h\n",
            "-- Up-to-date: /root/.hunter/_Base/70287b1/02ccb06/dffbc08/Build/Eigen/Install/include/eigen3/Eigen/src/Eigenvalues/RealQZ.h\n",
            "-- Up-to-date: /root/.hunter/_Base/70287b1/02ccb06/dffbc08/Build/Eigen/Install/include/eigen3/Eigen/src/Eigenvalues/HessenbergDecomposition.h\n",
            "-- Up-to-date: /root/.hunter/_Base/70287b1/02ccb06/dffbc08/Build/Eigen/Install/include/eigen3/Eigen/src/Eigenvalues/RealSchur.h\n",
            "-- Up-to-date: /root/.hunter/_Base/70287b1/02ccb06/dffbc08/Build/Eigen/Install/include/eigen3/Eigen/src/Eigenvalues/ComplexSchur.h\n",
            "-- Up-to-date: /root/.hunter/_Base/70287b1/02ccb06/dffbc08/Build/Eigen/Install/include/eigen3/Eigen/src/Eigenvalues/ComplexSchur_LAPACKE.h\n",
            "-- Up-to-date: /root/.hunter/_Base/70287b1/02ccb06/dffbc08/Build/Eigen/Install/include/eigen3/Eigen/src/Eigenvalues/Tridiagonalization.h\n",
            "-- Up-to-date: /root/.hunter/_Base/70287b1/02ccb06/dffbc08/Build/Eigen/Install/include/eigen3/Eigen/src/Eigenvalues/ComplexEigenSolver.h\n",
            "-- Up-to-date: /root/.hunter/_Base/70287b1/02ccb06/dffbc08/Build/Eigen/Install/include/eigen3/Eigen/src/Eigenvalues/GeneralizedEigenSolver.h\n",
            "-- Up-to-date: /root/.hunter/_Base/70287b1/02ccb06/dffbc08/Build/Eigen/Install/include/eigen3/Eigen/src/UmfPackSupport\n",
            "-- Up-to-date: /root/.hunter/_Base/70287b1/02ccb06/dffbc08/Build/Eigen/Install/include/eigen3/Eigen/src/UmfPackSupport/UmfPackSupport.h\n",
            "-- Up-to-date: /root/.hunter/_Base/70287b1/02ccb06/dffbc08/Build/Eigen/Install/include/eigen3/Eigen/src/PaStiXSupport\n",
            "-- Up-to-date: /root/.hunter/_Base/70287b1/02ccb06/dffbc08/Build/Eigen/Install/include/eigen3/Eigen/src/PaStiXSupport/PaStiXSupport.h\n",
            "-- Up-to-date: /root/.hunter/_Base/70287b1/02ccb06/dffbc08/Build/Eigen/Install/include/eigen3/unsupported/Eigen/AdolcForward\n",
            "-- Up-to-date: /root/.hunter/_Base/70287b1/02ccb06/dffbc08/Build/Eigen/Install/include/eigen3/unsupported/Eigen/AlignedVector3\n",
            "-- Up-to-date: /root/.hunter/_Base/70287b1/02ccb06/dffbc08/Build/Eigen/Install/include/eigen3/unsupported/Eigen/ArpackSupport\n",
            "-- Up-to-date: /root/.hunter/_Base/70287b1/02ccb06/dffbc08/Build/Eigen/Install/include/eigen3/unsupported/Eigen/AutoDiff\n",
            "-- Up-to-date: /root/.hunter/_Base/70287b1/02ccb06/dffbc08/Build/Eigen/Install/include/eigen3/unsupported/Eigen/BVH\n",
            "-- Up-to-date: /root/.hunter/_Base/70287b1/02ccb06/dffbc08/Build/Eigen/Install/include/eigen3/unsupported/Eigen/EulerAngles\n",
            "-- Up-to-date: /root/.hunter/_Base/70287b1/02ccb06/dffbc08/Build/Eigen/Install/include/eigen3/unsupported/Eigen/FFT\n",
            "-- Up-to-date: /root/.hunter/_Base/70287b1/02ccb06/dffbc08/Build/Eigen/Install/include/eigen3/unsupported/Eigen/IterativeSolvers\n",
            "-- Up-to-date: /root/.hunter/_Base/70287b1/02ccb06/dffbc08/Build/Eigen/Install/include/eigen3/unsupported/Eigen/KroneckerProduct\n",
            "-- Up-to-date: /root/.hunter/_Base/70287b1/02ccb06/dffbc08/Build/Eigen/Install/include/eigen3/unsupported/Eigen/LevenbergMarquardt\n",
            "-- Up-to-date: /root/.hunter/_Base/70287b1/02ccb06/dffbc08/Build/Eigen/Install/include/eigen3/unsupported/Eigen/MatrixFunctions\n",
            "-- Up-to-date: /root/.hunter/_Base/70287b1/02ccb06/dffbc08/Build/Eigen/Install/include/eigen3/unsupported/Eigen/MoreVectorization\n",
            "-- Up-to-date: /root/.hunter/_Base/70287b1/02ccb06/dffbc08/Build/Eigen/Install/include/eigen3/unsupported/Eigen/MPRealSupport\n",
            "-- Up-to-date: /root/.hunter/_Base/70287b1/02ccb06/dffbc08/Build/Eigen/Install/include/eigen3/unsupported/Eigen/NonLinearOptimization\n",
            "-- Up-to-date: /root/.hunter/_Base/70287b1/02ccb06/dffbc08/Build/Eigen/Install/include/eigen3/unsupported/Eigen/NumericalDiff\n",
            "-- Up-to-date: /root/.hunter/_Base/70287b1/02ccb06/dffbc08/Build/Eigen/Install/include/eigen3/unsupported/Eigen/OpenGLSupport\n",
            "-- Up-to-date: /root/.hunter/_Base/70287b1/02ccb06/dffbc08/Build/Eigen/Install/include/eigen3/unsupported/Eigen/Polynomials\n",
            "-- Up-to-date: /root/.hunter/_Base/70287b1/02ccb06/dffbc08/Build/Eigen/Install/include/eigen3/unsupported/Eigen/Skyline\n",
            "-- Up-to-date: /root/.hunter/_Base/70287b1/02ccb06/dffbc08/Build/Eigen/Install/include/eigen3/unsupported/Eigen/SparseExtra\n",
            "-- Up-to-date: /root/.hunter/_Base/70287b1/02ccb06/dffbc08/Build/Eigen/Install/include/eigen3/unsupported/Eigen/SpecialFunctions\n",
            "-- Up-to-date: /root/.hunter/_Base/70287b1/02ccb06/dffbc08/Build/Eigen/Install/include/eigen3/unsupported/Eigen/Splines\n",
            "-- Up-to-date: /root/.hunter/_Base/70287b1/02ccb06/dffbc08/Build/Eigen/Install/include/eigen3/unsupported/Eigen/src\n",
            "-- Up-to-date: /root/.hunter/_Base/70287b1/02ccb06/dffbc08/Build/Eigen/Install/include/eigen3/unsupported/Eigen/src/Splines\n",
            "-- Up-to-date: /root/.hunter/_Base/70287b1/02ccb06/dffbc08/Build/Eigen/Install/include/eigen3/unsupported/Eigen/src/Splines/SplineFitting.h\n",
            "-- Up-to-date: /root/.hunter/_Base/70287b1/02ccb06/dffbc08/Build/Eigen/Install/include/eigen3/unsupported/Eigen/src/Splines/SplineFwd.h\n",
            "-- Up-to-date: /root/.hunter/_Base/70287b1/02ccb06/dffbc08/Build/Eigen/Install/include/eigen3/unsupported/Eigen/src/Splines/Spline.h\n",
            "-- Up-to-date: /root/.hunter/_Base/70287b1/02ccb06/dffbc08/Build/Eigen/Install/include/eigen3/unsupported/Eigen/src/SpecialFunctions\n",
            "-- Up-to-date: /root/.hunter/_Base/70287b1/02ccb06/dffbc08/Build/Eigen/Install/include/eigen3/unsupported/Eigen/src/SpecialFunctions/SpecialFunctionsArrayAPI.h\n",
            "-- Up-to-date: /root/.hunter/_Base/70287b1/02ccb06/dffbc08/Build/Eigen/Install/include/eigen3/unsupported/Eigen/src/SpecialFunctions/SpecialFunctionsImpl.h\n",
            "-- Up-to-date: /root/.hunter/_Base/70287b1/02ccb06/dffbc08/Build/Eigen/Install/include/eigen3/unsupported/Eigen/src/SpecialFunctions/arch\n",
            "-- Up-to-date: /root/.hunter/_Base/70287b1/02ccb06/dffbc08/Build/Eigen/Install/include/eigen3/unsupported/Eigen/src/SpecialFunctions/arch/CUDA\n",
            "-- Up-to-date: /root/.hunter/_Base/70287b1/02ccb06/dffbc08/Build/Eigen/Install/include/eigen3/unsupported/Eigen/src/SpecialFunctions/arch/CUDA/CudaSpecialFunctions.h\n",
            "-- Up-to-date: /root/.hunter/_Base/70287b1/02ccb06/dffbc08/Build/Eigen/Install/include/eigen3/unsupported/Eigen/src/SpecialFunctions/SpecialFunctionsPacketMath.h\n",
            "-- Up-to-date: /root/.hunter/_Base/70287b1/02ccb06/dffbc08/Build/Eigen/Install/include/eigen3/unsupported/Eigen/src/SpecialFunctions/SpecialFunctionsHalf.h\n",
            "-- Up-to-date: /root/.hunter/_Base/70287b1/02ccb06/dffbc08/Build/Eigen/Install/include/eigen3/unsupported/Eigen/src/SpecialFunctions/SpecialFunctionsFunctors.h\n",
            "-- Up-to-date: /root/.hunter/_Base/70287b1/02ccb06/dffbc08/Build/Eigen/Install/include/eigen3/unsupported/Eigen/src/BVH\n",
            "-- Up-to-date: /root/.hunter/_Base/70287b1/02ccb06/dffbc08/Build/Eigen/Install/include/eigen3/unsupported/Eigen/src/BVH/BVAlgorithms.h\n",
            "-- Up-to-date: /root/.hunter/_Base/70287b1/02ccb06/dffbc08/Build/Eigen/Install/include/eigen3/unsupported/Eigen/src/BVH/KdBVH.h\n",
            "-- Up-to-date: /root/.hunter/_Base/70287b1/02ccb06/dffbc08/Build/Eigen/Install/include/eigen3/unsupported/Eigen/src/KroneckerProduct\n",
            "-- Up-to-date: /root/.hunter/_Base/70287b1/02ccb06/dffbc08/Build/Eigen/Install/include/eigen3/unsupported/Eigen/src/KroneckerProduct/KroneckerTensorProduct.h\n",
            "-- Up-to-date: /root/.hunter/_Base/70287b1/02ccb06/dffbc08/Build/Eigen/Install/include/eigen3/unsupported/Eigen/src/Polynomials\n",
            "-- Up-to-date: /root/.hunter/_Base/70287b1/02ccb06/dffbc08/Build/Eigen/Install/include/eigen3/unsupported/Eigen/src/Polynomials/Companion.h\n",
            "-- Up-to-date: /root/.hunter/_Base/70287b1/02ccb06/dffbc08/Build/Eigen/Install/include/eigen3/unsupported/Eigen/src/Polynomials/PolynomialUtils.h\n",
            "-- Up-to-date: /root/.hunter/_Base/70287b1/02ccb06/dffbc08/Build/Eigen/Install/include/eigen3/unsupported/Eigen/src/Polynomials/PolynomialSolver.h\n",
            "-- Up-to-date: /root/.hunter/_Base/70287b1/02ccb06/dffbc08/Build/Eigen/Install/include/eigen3/unsupported/Eigen/src/NumericalDiff\n",
            "-- Up-to-date: /root/.hunter/_Base/70287b1/02ccb06/dffbc08/Build/Eigen/Install/include/eigen3/unsupported/Eigen/src/NumericalDiff/NumericalDiff.h\n",
            "-- Up-to-date: /root/.hunter/_Base/70287b1/02ccb06/dffbc08/Build/Eigen/Install/include/eigen3/unsupported/Eigen/src/AutoDiff\n",
            "-- Up-to-date: /root/.hunter/_Base/70287b1/02ccb06/dffbc08/Build/Eigen/Install/include/eigen3/unsupported/Eigen/src/AutoDiff/AutoDiffJacobian.h\n",
            "-- Up-to-date: /root/.hunter/_Base/70287b1/02ccb06/dffbc08/Build/Eigen/Install/include/eigen3/unsupported/Eigen/src/AutoDiff/AutoDiffScalar.h\n",
            "-- Up-to-date: /root/.hunter/_Base/70287b1/02ccb06/dffbc08/Build/Eigen/Install/include/eigen3/unsupported/Eigen/src/AutoDiff/AutoDiffVector.h\n",
            "-- Up-to-date: /root/.hunter/_Base/70287b1/02ccb06/dffbc08/Build/Eigen/Install/include/eigen3/unsupported/Eigen/src/NonLinearOptimization\n",
            "-- Up-to-date: /root/.hunter/_Base/70287b1/02ccb06/dffbc08/Build/Eigen/Install/include/eigen3/unsupported/Eigen/src/NonLinearOptimization/r1updt.h\n",
            "-- Up-to-date: /root/.hunter/_Base/70287b1/02ccb06/dffbc08/Build/Eigen/Install/include/eigen3/unsupported/Eigen/src/NonLinearOptimization/covar.h\n",
            "-- Up-to-date: /root/.hunter/_Base/70287b1/02ccb06/dffbc08/Build/Eigen/Install/include/eigen3/unsupported/Eigen/src/NonLinearOptimization/LevenbergMarquardt.h\n",
            "-- Up-to-date: /root/.hunter/_Base/70287b1/02ccb06/dffbc08/Build/Eigen/Install/include/eigen3/unsupported/Eigen/src/NonLinearOptimization/HybridNonLinearSolver.h\n",
            "-- Up-to-date: /root/.hunter/_Base/70287b1/02ccb06/dffbc08/Build/Eigen/Install/include/eigen3/unsupported/Eigen/src/NonLinearOptimization/chkder.h\n",
            "-- Up-to-date: /root/.hunter/_Base/70287b1/02ccb06/dffbc08/Build/Eigen/Install/include/eigen3/unsupported/Eigen/src/NonLinearOptimization/dogleg.h\n",
            "-- Up-to-date: /root/.hunter/_Base/70287b1/02ccb06/dffbc08/Build/Eigen/Install/include/eigen3/unsupported/Eigen/src/NonLinearOptimization/fdjac1.h\n",
            "-- Up-to-date: /root/.hunter/_Base/70287b1/02ccb06/dffbc08/Build/Eigen/Install/include/eigen3/unsupported/Eigen/src/NonLinearOptimization/r1mpyq.h\n",
            "-- Up-to-date: /root/.hunter/_Base/70287b1/02ccb06/dffbc08/Build/Eigen/Install/include/eigen3/unsupported/Eigen/src/NonLinearOptimization/qrsolv.h\n",
            "-- Up-to-date: /root/.hunter/_Base/70287b1/02ccb06/dffbc08/Build/Eigen/Install/include/eigen3/unsupported/Eigen/src/NonLinearOptimization/lmpar.h\n",
            "-- Up-to-date: /root/.hunter/_Base/70287b1/02ccb06/dffbc08/Build/Eigen/Install/include/eigen3/unsupported/Eigen/src/NonLinearOptimization/rwupdt.h\n",
            "-- Up-to-date: /root/.hunter/_Base/70287b1/02ccb06/dffbc08/Build/Eigen/Install/include/eigen3/unsupported/Eigen/src/EulerAngles\n",
            "-- Up-to-date: /root/.hunter/_Base/70287b1/02ccb06/dffbc08/Build/Eigen/Install/include/eigen3/unsupported/Eigen/src/EulerAngles/EulerAngles.h\n",
            "-- Up-to-date: /root/.hunter/_Base/70287b1/02ccb06/dffbc08/Build/Eigen/Install/include/eigen3/unsupported/Eigen/src/EulerAngles/EulerSystem.h\n",
            "-- Up-to-date: /root/.hunter/_Base/70287b1/02ccb06/dffbc08/Build/Eigen/Install/include/eigen3/unsupported/Eigen/src/FFT\n",
            "-- Up-to-date: /root/.hunter/_Base/70287b1/02ccb06/dffbc08/Build/Eigen/Install/include/eigen3/unsupported/Eigen/src/FFT/ei_fftw_impl.h\n",
            "-- Up-to-date: /root/.hunter/_Base/70287b1/02ccb06/dffbc08/Build/Eigen/Install/include/eigen3/unsupported/Eigen/src/FFT/ei_kissfft_impl.h\n",
            "-- Up-to-date: /root/.hunter/_Base/70287b1/02ccb06/dffbc08/Build/Eigen/Install/include/eigen3/unsupported/Eigen/src/MatrixFunctions\n",
            "-- Up-to-date: /root/.hunter/_Base/70287b1/02ccb06/dffbc08/Build/Eigen/Install/include/eigen3/unsupported/Eigen/src/MatrixFunctions/MatrixSquareRoot.h\n",
            "-- Up-to-date: /root/.hunter/_Base/70287b1/02ccb06/dffbc08/Build/Eigen/Install/include/eigen3/unsupported/Eigen/src/MatrixFunctions/MatrixPower.h\n",
            "-- Up-to-date: /root/.hunter/_Base/70287b1/02ccb06/dffbc08/Build/Eigen/Install/include/eigen3/unsupported/Eigen/src/MatrixFunctions/MatrixLogarithm.h\n",
            "-- Up-to-date: /root/.hunter/_Base/70287b1/02ccb06/dffbc08/Build/Eigen/Install/include/eigen3/unsupported/Eigen/src/MatrixFunctions/MatrixExponential.h\n",
            "-- Up-to-date: /root/.hunter/_Base/70287b1/02ccb06/dffbc08/Build/Eigen/Install/include/eigen3/unsupported/Eigen/src/MatrixFunctions/StemFunction.h\n",
            "-- Up-to-date: /root/.hunter/_Base/70287b1/02ccb06/dffbc08/Build/Eigen/Install/include/eigen3/unsupported/Eigen/src/MatrixFunctions/MatrixFunction.h\n",
            "-- Up-to-date: /root/.hunter/_Base/70287b1/02ccb06/dffbc08/Build/Eigen/Install/include/eigen3/unsupported/Eigen/src/Skyline\n",
            "-- Up-to-date: /root/.hunter/_Base/70287b1/02ccb06/dffbc08/Build/Eigen/Install/include/eigen3/unsupported/Eigen/src/Skyline/SkylineStorage.h\n",
            "-- Up-to-date: /root/.hunter/_Base/70287b1/02ccb06/dffbc08/Build/Eigen/Install/include/eigen3/unsupported/Eigen/src/Skyline/SkylineUtil.h\n",
            "-- Up-to-date: /root/.hunter/_Base/70287b1/02ccb06/dffbc08/Build/Eigen/Install/include/eigen3/unsupported/Eigen/src/Skyline/SkylineInplaceLU.h\n",
            "-- Up-to-date: /root/.hunter/_Base/70287b1/02ccb06/dffbc08/Build/Eigen/Install/include/eigen3/unsupported/Eigen/src/Skyline/SkylineMatrix.h\n",
            "-- Up-to-date: /root/.hunter/_Base/70287b1/02ccb06/dffbc08/Build/Eigen/Install/include/eigen3/unsupported/Eigen/src/Skyline/SkylineProduct.h\n",
            "-- Up-to-date: /root/.hunter/_Base/70287b1/02ccb06/dffbc08/Build/Eigen/Install/include/eigen3/unsupported/Eigen/src/Skyline/SkylineMatrixBase.h\n",
            "-- Up-to-date: /root/.hunter/_Base/70287b1/02ccb06/dffbc08/Build/Eigen/Install/include/eigen3/unsupported/Eigen/src/MoreVectorization\n",
            "-- Up-to-date: /root/.hunter/_Base/70287b1/02ccb06/dffbc08/Build/Eigen/Install/include/eigen3/unsupported/Eigen/src/MoreVectorization/MathFunctions.h\n",
            "-- Up-to-date: /root/.hunter/_Base/70287b1/02ccb06/dffbc08/Build/Eigen/Install/include/eigen3/unsupported/Eigen/src/SparseExtra\n",
            "-- Up-to-date: /root/.hunter/_Base/70287b1/02ccb06/dffbc08/Build/Eigen/Install/include/eigen3/unsupported/Eigen/src/SparseExtra/BlockSparseMatrix.h\n",
            "-- Up-to-date: /root/.hunter/_Base/70287b1/02ccb06/dffbc08/Build/Eigen/Install/include/eigen3/unsupported/Eigen/src/SparseExtra/DynamicSparseMatrix.h\n",
            "-- Up-to-date: /root/.hunter/_Base/70287b1/02ccb06/dffbc08/Build/Eigen/Install/include/eigen3/unsupported/Eigen/src/SparseExtra/RandomSetter.h\n",
            "-- Up-to-date: /root/.hunter/_Base/70287b1/02ccb06/dffbc08/Build/Eigen/Install/include/eigen3/unsupported/Eigen/src/SparseExtra/BlockOfDynamicSparseMatrix.h\n",
            "-- Up-to-date: /root/.hunter/_Base/70287b1/02ccb06/dffbc08/Build/Eigen/Install/include/eigen3/unsupported/Eigen/src/SparseExtra/MatrixMarketIterator.h\n",
            "-- Up-to-date: /root/.hunter/_Base/70287b1/02ccb06/dffbc08/Build/Eigen/Install/include/eigen3/unsupported/Eigen/src/SparseExtra/MarketIO.h\n",
            "-- Up-to-date: /root/.hunter/_Base/70287b1/02ccb06/dffbc08/Build/Eigen/Install/include/eigen3/unsupported/Eigen/src/IterativeSolvers\n",
            "-- Up-to-date: /root/.hunter/_Base/70287b1/02ccb06/dffbc08/Build/Eigen/Install/include/eigen3/unsupported/Eigen/src/IterativeSolvers/ConstrainedConjGrad.h\n",
            "-- Up-to-date: /root/.hunter/_Base/70287b1/02ccb06/dffbc08/Build/Eigen/Install/include/eigen3/unsupported/Eigen/src/IterativeSolvers/IncompleteLU.h\n",
            "-- Up-to-date: /root/.hunter/_Base/70287b1/02ccb06/dffbc08/Build/Eigen/Install/include/eigen3/unsupported/Eigen/src/IterativeSolvers/IterationController.h\n",
            "-- Up-to-date: /root/.hunter/_Base/70287b1/02ccb06/dffbc08/Build/Eigen/Install/include/eigen3/unsupported/Eigen/src/IterativeSolvers/DGMRES.h\n",
            "-- Up-to-date: /root/.hunter/_Base/70287b1/02ccb06/dffbc08/Build/Eigen/Install/include/eigen3/unsupported/Eigen/src/IterativeSolvers/MINRES.h\n",
            "-- Up-to-date: /root/.hunter/_Base/70287b1/02ccb06/dffbc08/Build/Eigen/Install/include/eigen3/unsupported/Eigen/src/IterativeSolvers/Scaling.h\n",
            "-- Up-to-date: /root/.hunter/_Base/70287b1/02ccb06/dffbc08/Build/Eigen/Install/include/eigen3/unsupported/Eigen/src/IterativeSolvers/GMRES.h\n",
            "-- Up-to-date: /root/.hunter/_Base/70287b1/02ccb06/dffbc08/Build/Eigen/Install/include/eigen3/unsupported/Eigen/src/LevenbergMarquardt\n",
            "-- Up-to-date: /root/.hunter/_Base/70287b1/02ccb06/dffbc08/Build/Eigen/Install/include/eigen3/unsupported/Eigen/src/LevenbergMarquardt/LMonestep.h\n",
            "-- Up-to-date: /root/.hunter/_Base/70287b1/02ccb06/dffbc08/Build/Eigen/Install/include/eigen3/unsupported/Eigen/src/LevenbergMarquardt/LevenbergMarquardt.h\n",
            "-- Up-to-date: /root/.hunter/_Base/70287b1/02ccb06/dffbc08/Build/Eigen/Install/include/eigen3/unsupported/Eigen/src/LevenbergMarquardt/LMqrsolv.h\n",
            "-- Up-to-date: /root/.hunter/_Base/70287b1/02ccb06/dffbc08/Build/Eigen/Install/include/eigen3/unsupported/Eigen/src/LevenbergMarquardt/LMpar.h\n",
            "-- Up-to-date: /root/.hunter/_Base/70287b1/02ccb06/dffbc08/Build/Eigen/Install/include/eigen3/unsupported/Eigen/src/LevenbergMarquardt/LMcovar.h\n",
            "-- Up-to-date: /root/.hunter/_Base/70287b1/02ccb06/dffbc08/Build/Eigen/Install/include/eigen3/unsupported/Eigen/src/Eigenvalues\n",
            "-- Up-to-date: /root/.hunter/_Base/70287b1/02ccb06/dffbc08/Build/Eigen/Install/include/eigen3/unsupported/Eigen/src/Eigenvalues/ArpackSelfAdjointEigenSolver.h\n",
            "-- Up-to-date: /root/.hunter/_Base/70287b1/02ccb06/dffbc08/Build/Eigen/Install/include/eigen3/unsupported/Eigen/CXX11/Tensor\n",
            "-- Up-to-date: /root/.hunter/_Base/70287b1/02ccb06/dffbc08/Build/Eigen/Install/include/eigen3/unsupported/Eigen/CXX11/TensorSymmetry\n",
            "-- Up-to-date: /root/.hunter/_Base/70287b1/02ccb06/dffbc08/Build/Eigen/Install/include/eigen3/unsupported/Eigen/CXX11/ThreadPool\n",
            "-- Up-to-date: /root/.hunter/_Base/70287b1/02ccb06/dffbc08/Build/Eigen/Install/include/eigen3/unsupported/Eigen/CXX11/src\n",
            "-- Up-to-date: /root/.hunter/_Base/70287b1/02ccb06/dffbc08/Build/Eigen/Install/include/eigen3/unsupported/Eigen/CXX11/src/ThreadPool\n",
            "-- Up-to-date: /root/.hunter/_Base/70287b1/02ccb06/dffbc08/Build/Eigen/Install/include/eigen3/unsupported/Eigen/CXX11/src/ThreadPool/ThreadLocal.h\n",
            "-- Up-to-date: /root/.hunter/_Base/70287b1/02ccb06/dffbc08/Build/Eigen/Install/include/eigen3/unsupported/Eigen/CXX11/src/ThreadPool/ThreadYield.h\n",
            "-- Up-to-date: /root/.hunter/_Base/70287b1/02ccb06/dffbc08/Build/Eigen/Install/include/eigen3/unsupported/Eigen/CXX11/src/ThreadPool/EventCount.h\n",
            "-- Up-to-date: /root/.hunter/_Base/70287b1/02ccb06/dffbc08/Build/Eigen/Install/include/eigen3/unsupported/Eigen/CXX11/src/ThreadPool/ThreadEnvironment.h\n",
            "-- Up-to-date: /root/.hunter/_Base/70287b1/02ccb06/dffbc08/Build/Eigen/Install/include/eigen3/unsupported/Eigen/CXX11/src/ThreadPool/RunQueue.h\n",
            "-- Up-to-date: /root/.hunter/_Base/70287b1/02ccb06/dffbc08/Build/Eigen/Install/include/eigen3/unsupported/Eigen/CXX11/src/ThreadPool/ThreadPoolInterface.h\n",
            "-- Up-to-date: /root/.hunter/_Base/70287b1/02ccb06/dffbc08/Build/Eigen/Install/include/eigen3/unsupported/Eigen/CXX11/src/ThreadPool/NonBlockingThreadPool.h\n",
            "-- Up-to-date: /root/.hunter/_Base/70287b1/02ccb06/dffbc08/Build/Eigen/Install/include/eigen3/unsupported/Eigen/CXX11/src/ThreadPool/SimpleThreadPool.h\n",
            "-- Up-to-date: /root/.hunter/_Base/70287b1/02ccb06/dffbc08/Build/Eigen/Install/include/eigen3/unsupported/Eigen/CXX11/src/TensorSymmetry\n",
            "-- Up-to-date: /root/.hunter/_Base/70287b1/02ccb06/dffbc08/Build/Eigen/Install/include/eigen3/unsupported/Eigen/CXX11/src/TensorSymmetry/DynamicSymmetry.h\n",
            "-- Up-to-date: /root/.hunter/_Base/70287b1/02ccb06/dffbc08/Build/Eigen/Install/include/eigen3/unsupported/Eigen/CXX11/src/TensorSymmetry/StaticSymmetry.h\n",
            "-- Up-to-date: /root/.hunter/_Base/70287b1/02ccb06/dffbc08/Build/Eigen/Install/include/eigen3/unsupported/Eigen/CXX11/src/TensorSymmetry/util\n",
            "-- Up-to-date: /root/.hunter/_Base/70287b1/02ccb06/dffbc08/Build/Eigen/Install/include/eigen3/unsupported/Eigen/CXX11/src/TensorSymmetry/util/TemplateGroupTheory.h\n",
            "-- Up-to-date: /root/.hunter/_Base/70287b1/02ccb06/dffbc08/Build/Eigen/Install/include/eigen3/unsupported/Eigen/CXX11/src/TensorSymmetry/Symmetry.h\n",
            "-- Up-to-date: /root/.hunter/_Base/70287b1/02ccb06/dffbc08/Build/Eigen/Install/include/eigen3/unsupported/Eigen/CXX11/src/util\n",
            "-- Up-to-date: /root/.hunter/_Base/70287b1/02ccb06/dffbc08/Build/Eigen/Install/include/eigen3/unsupported/Eigen/CXX11/src/util/EmulateArray.h\n",
            "-- Up-to-date: /root/.hunter/_Base/70287b1/02ccb06/dffbc08/Build/Eigen/Install/include/eigen3/unsupported/Eigen/CXX11/src/util/CXX11Meta.h\n",
            "-- Up-to-date: /root/.hunter/_Base/70287b1/02ccb06/dffbc08/Build/Eigen/Install/include/eigen3/unsupported/Eigen/CXX11/src/util/EmulateCXX11Meta.h\n",
            "-- Up-to-date: /root/.hunter/_Base/70287b1/02ccb06/dffbc08/Build/Eigen/Install/include/eigen3/unsupported/Eigen/CXX11/src/util/MaxSizeVector.h\n",
            "-- Up-to-date: /root/.hunter/_Base/70287b1/02ccb06/dffbc08/Build/Eigen/Install/include/eigen3/unsupported/Eigen/CXX11/src/util/CXX11Workarounds.h\n",
            "-- Up-to-date: /root/.hunter/_Base/70287b1/02ccb06/dffbc08/Build/Eigen/Install/include/eigen3/unsupported/Eigen/CXX11/src/Tensor\n",
            "-- Up-to-date: /root/.hunter/_Base/70287b1/02ccb06/dffbc08/Build/Eigen/Install/include/eigen3/unsupported/Eigen/CXX11/src/Tensor/TensorRef.h\n",
            "-- Up-to-date: /root/.hunter/_Base/70287b1/02ccb06/dffbc08/Build/Eigen/Install/include/eigen3/unsupported/Eigen/CXX11/src/Tensor/TensorBroadcasting.h\n",
            "-- Up-to-date: /root/.hunter/_Base/70287b1/02ccb06/dffbc08/Build/Eigen/Install/include/eigen3/unsupported/Eigen/CXX11/src/Tensor/TensorInitializer.h\n",
            "-- Up-to-date: /root/.hunter/_Base/70287b1/02ccb06/dffbc08/Build/Eigen/Install/include/eigen3/unsupported/Eigen/CXX11/src/Tensor/TensorUInt128.h\n",
            "-- Up-to-date: /root/.hunter/_Base/70287b1/02ccb06/dffbc08/Build/Eigen/Install/include/eigen3/unsupported/Eigen/CXX11/src/Tensor/TensorVolumePatch.h\n",
            "-- Up-to-date: /root/.hunter/_Base/70287b1/02ccb06/dffbc08/Build/Eigen/Install/include/eigen3/unsupported/Eigen/CXX11/src/Tensor/TensorSyclExprConstructor.h\n",
            "-- Up-to-date: /root/.hunter/_Base/70287b1/02ccb06/dffbc08/Build/Eigen/Install/include/eigen3/unsupported/Eigen/CXX11/src/Tensor/TensorSycl.h\n",
            "-- Up-to-date: /root/.hunter/_Base/70287b1/02ccb06/dffbc08/Build/Eigen/Install/include/eigen3/unsupported/Eigen/CXX11/src/Tensor/TensorConversion.h\n",
            "-- Up-to-date: /root/.hunter/_Base/70287b1/02ccb06/dffbc08/Build/Eigen/Install/include/eigen3/unsupported/Eigen/CXX11/src/Tensor/TensorPatch.h\n",
            "-- Up-to-date: /root/.hunter/_Base/70287b1/02ccb06/dffbc08/Build/Eigen/Install/include/eigen3/unsupported/Eigen/CXX11/src/Tensor/TensorFunctors.h\n",
            "-- Up-to-date: /root/.hunter/_Base/70287b1/02ccb06/dffbc08/Build/Eigen/Install/include/eigen3/unsupported/Eigen/CXX11/src/Tensor/TensorEvalTo.h\n",
            "-- Up-to-date: /root/.hunter/_Base/70287b1/02ccb06/dffbc08/Build/Eigen/Install/include/eigen3/unsupported/Eigen/CXX11/src/Tensor/TensorMacros.h\n",
            "-- Up-to-date: /root/.hunter/_Base/70287b1/02ccb06/dffbc08/Build/Eigen/Install/include/eigen3/unsupported/Eigen/CXX11/src/Tensor/TensorExecutor.h\n",
            "-- Up-to-date: /root/.hunter/_Base/70287b1/02ccb06/dffbc08/Build/Eigen/Install/include/eigen3/unsupported/Eigen/CXX11/src/Tensor/TensorSyclTuple.h\n",
            "-- Up-to-date: /root/.hunter/_Base/70287b1/02ccb06/dffbc08/Build/Eigen/Install/include/eigen3/unsupported/Eigen/CXX11/src/Tensor/TensorShuffling.h\n",
            "-- Up-to-date: /root/.hunter/_Base/70287b1/02ccb06/dffbc08/Build/Eigen/Install/include/eigen3/unsupported/Eigen/CXX11/src/Tensor/Tensor.h\n",
            "-- Up-to-date: /root/.hunter/_Base/70287b1/02ccb06/dffbc08/Build/Eigen/Install/include/eigen3/unsupported/Eigen/CXX11/src/Tensor/TensorDimensions.h\n",
            "-- Up-to-date: /root/.hunter/_Base/70287b1/02ccb06/dffbc08/Build/Eigen/Install/include/eigen3/unsupported/Eigen/CXX11/src/Tensor/TensorStorage.h\n",
            "-- Up-to-date: /root/.hunter/_Base/70287b1/02ccb06/dffbc08/Build/Eigen/Install/include/eigen3/unsupported/Eigen/CXX11/src/Tensor/TensorArgMax.h\n",
            "-- Up-to-date: /root/.hunter/_Base/70287b1/02ccb06/dffbc08/Build/Eigen/Install/include/eigen3/unsupported/Eigen/CXX11/src/Tensor/TensorDimensionList.h\n",
            "-- Up-to-date: /root/.hunter/_Base/70287b1/02ccb06/dffbc08/Build/Eigen/Install/include/eigen3/unsupported/Eigen/CXX11/src/Tensor/TensorPadding.h\n",
            "-- Up-to-date: /root/.hunter/_Base/70287b1/02ccb06/dffbc08/Build/Eigen/Install/include/eigen3/unsupported/Eigen/CXX11/src/Tensor/TensorSyclConvertToDeviceExpression.h\n",
            "-- Up-to-date: /root/.hunter/_Base/70287b1/02ccb06/dffbc08/Build/Eigen/Install/include/eigen3/unsupported/Eigen/CXX11/src/Tensor/TensorAssign.h\n",
            "-- Up-to-date: /root/.hunter/_Base/70287b1/02ccb06/dffbc08/Build/Eigen/Install/include/eigen3/unsupported/Eigen/CXX11/src/Tensor/TensorContractionThreadPool.h\n",
            "-- Up-to-date: /root/.hunter/_Base/70287b1/02ccb06/dffbc08/Build/Eigen/Install/include/eigen3/unsupported/Eigen/CXX11/src/Tensor/TensorReduction.h\n",
            "-- Up-to-date: /root/.hunter/_Base/70287b1/02ccb06/dffbc08/Build/Eigen/Install/include/eigen3/unsupported/Eigen/CXX11/src/Tensor/TensorConcatenation.h\n",
            "-- Up-to-date: /root/.hunter/_Base/70287b1/02ccb06/dffbc08/Build/Eigen/Install/include/eigen3/unsupported/Eigen/CXX11/src/Tensor/TensorFixedSize.h\n",
            "-- Up-to-date: /root/.hunter/_Base/70287b1/02ccb06/dffbc08/Build/Eigen/Install/include/eigen3/unsupported/Eigen/CXX11/src/Tensor/TensorGenerator.h\n",
            "-- Up-to-date: /root/.hunter/_Base/70287b1/02ccb06/dffbc08/Build/Eigen/Install/include/eigen3/unsupported/Eigen/CXX11/src/Tensor/TensorStriding.h\n",
            "-- Up-to-date: /root/.hunter/_Base/70287b1/02ccb06/dffbc08/Build/Eigen/Install/include/eigen3/unsupported/Eigen/CXX11/src/Tensor/TensorSyclPlaceHolderExpr.h\n",
            "-- Up-to-date: /root/.hunter/_Base/70287b1/02ccb06/dffbc08/Build/Eigen/Install/include/eigen3/unsupported/Eigen/CXX11/src/Tensor/TensorTraits.h\n",
            "-- Up-to-date: /root/.hunter/_Base/70287b1/02ccb06/dffbc08/Build/Eigen/Install/include/eigen3/unsupported/Eigen/CXX11/src/Tensor/TensorImagePatch.h\n",
            "-- Up-to-date: /root/.hunter/_Base/70287b1/02ccb06/dffbc08/Build/Eigen/Install/include/eigen3/unsupported/Eigen/CXX11/src/Tensor/TensorContractionMapper.h\n",
            "-- Up-to-date: /root/.hunter/_Base/70287b1/02ccb06/dffbc08/Build/Eigen/Install/include/eigen3/unsupported/Eigen/CXX11/src/Tensor/TensorDevice.h\n",
            "-- Up-to-date: /root/.hunter/_Base/70287b1/02ccb06/dffbc08/Build/Eigen/Install/include/eigen3/unsupported/Eigen/CXX11/src/Tensor/TensorEvaluator.h\n",
            "-- Up-to-date: /root/.hunter/_Base/70287b1/02ccb06/dffbc08/Build/Eigen/Install/include/eigen3/unsupported/Eigen/CXX11/src/Tensor/TensorRandom.h\n",
            "-- Up-to-date: /root/.hunter/_Base/70287b1/02ccb06/dffbc08/Build/Eigen/Install/include/eigen3/unsupported/Eigen/CXX11/src/Tensor/TensorInflation.h\n",
            "-- Up-to-date: /root/.hunter/_Base/70287b1/02ccb06/dffbc08/Build/Eigen/Install/include/eigen3/unsupported/Eigen/CXX11/src/Tensor/TensorSyclRun.h\n",
            "-- Up-to-date: /root/.hunter/_Base/70287b1/02ccb06/dffbc08/Build/Eigen/Install/include/eigen3/unsupported/Eigen/CXX11/src/Tensor/TensorSyclExtractFunctors.h\n",
            "-- Up-to-date: /root/.hunter/_Base/70287b1/02ccb06/dffbc08/Build/Eigen/Install/include/eigen3/unsupported/Eigen/CXX11/src/Tensor/TensorContractionCuda.h\n",
            "-- Up-to-date: /root/.hunter/_Base/70287b1/02ccb06/dffbc08/Build/Eigen/Install/include/eigen3/unsupported/Eigen/CXX11/src/Tensor/TensorMorphing.h\n",
            "-- Up-to-date: /root/.hunter/_Base/70287b1/02ccb06/dffbc08/Build/Eigen/Install/include/eigen3/unsupported/Eigen/CXX11/src/Tensor/TensorReverse.h\n",
            "-- Up-to-date: /root/.hunter/_Base/70287b1/02ccb06/dffbc08/Build/Eigen/Install/include/eigen3/unsupported/Eigen/CXX11/src/Tensor/TensorMeta.h\n",
            "-- Up-to-date: /root/.hunter/_Base/70287b1/02ccb06/dffbc08/Build/Eigen/Install/include/eigen3/unsupported/Eigen/CXX11/src/Tensor/TensorContractionBlocking.h\n",
            "-- Up-to-date: /root/.hunter/_Base/70287b1/02ccb06/dffbc08/Build/Eigen/Install/include/eigen3/unsupported/Eigen/CXX11/src/Tensor/TensorLayoutSwap.h\n",
            "-- Up-to-date: /root/.hunter/_Base/70287b1/02ccb06/dffbc08/Build/Eigen/Install/include/eigen3/unsupported/Eigen/CXX11/src/Tensor/TensorMap.h\n",
            "-- Up-to-date: /root/.hunter/_Base/70287b1/02ccb06/dffbc08/Build/Eigen/Install/include/eigen3/unsupported/Eigen/CXX11/src/Tensor/TensorReductionSycl.h\n",
            "-- Up-to-date: /root/.hunter/_Base/70287b1/02ccb06/dffbc08/Build/Eigen/Install/include/eigen3/unsupported/Eigen/CXX11/src/Tensor/TensorGlobalFunctions.h\n",
            "-- Up-to-date: /root/.hunter/_Base/70287b1/02ccb06/dffbc08/Build/Eigen/Install/include/eigen3/unsupported/Eigen/CXX11/src/Tensor/TensorIntDiv.h\n",
            "-- Up-to-date: /root/.hunter/_Base/70287b1/02ccb06/dffbc08/Build/Eigen/Install/include/eigen3/unsupported/Eigen/CXX11/src/Tensor/TensorDeviceThreadPool.h\n",
            "-- Up-to-date: /root/.hunter/_Base/70287b1/02ccb06/dffbc08/Build/Eigen/Install/include/eigen3/unsupported/Eigen/CXX11/src/Tensor/TensorForcedEval.h\n",
            "-- Up-to-date: /root/.hunter/_Base/70287b1/02ccb06/dffbc08/Build/Eigen/Install/include/eigen3/unsupported/Eigen/CXX11/src/Tensor/TensorIO.h\n",
            "-- Up-to-date: /root/.hunter/_Base/70287b1/02ccb06/dffbc08/Build/Eigen/Install/include/eigen3/unsupported/Eigen/CXX11/src/Tensor/TensorChipping.h\n",
            "-- Up-to-date: /root/.hunter/_Base/70287b1/02ccb06/dffbc08/Build/Eigen/Install/include/eigen3/unsupported/Eigen/CXX11/src/Tensor/TensorBase.h\n",
            "-- Up-to-date: /root/.hunter/_Base/70287b1/02ccb06/dffbc08/Build/Eigen/Install/include/eigen3/unsupported/Eigen/CXX11/src/Tensor/TensorDeviceSycl.h\n",
            "-- Up-to-date: /root/.hunter/_Base/70287b1/02ccb06/dffbc08/Build/Eigen/Install/include/eigen3/unsupported/Eigen/CXX11/src/Tensor/TensorSyclExtractAccessor.h\n",
            "-- Up-to-date: /root/.hunter/_Base/70287b1/02ccb06/dffbc08/Build/Eigen/Install/include/eigen3/unsupported/Eigen/CXX11/src/Tensor/TensorExpr.h\n",
            "-- Up-to-date: /root/.hunter/_Base/70287b1/02ccb06/dffbc08/Build/Eigen/Install/include/eigen3/unsupported/Eigen/CXX11/src/Tensor/TensorScan.h\n",
            "-- Up-to-date: /root/.hunter/_Base/70287b1/02ccb06/dffbc08/Build/Eigen/Install/include/eigen3/unsupported/Eigen/CXX11/src/Tensor/TensorDeviceCuda.h\n",
            "-- Up-to-date: /root/.hunter/_Base/70287b1/02ccb06/dffbc08/Build/Eigen/Install/include/eigen3/unsupported/Eigen/CXX11/src/Tensor/TensorContraction.h\n",
            "-- Up-to-date: /root/.hunter/_Base/70287b1/02ccb06/dffbc08/Build/Eigen/Install/include/eigen3/unsupported/Eigen/CXX11/src/Tensor/TensorIndexList.h\n",
            "-- Up-to-date: /root/.hunter/_Base/70287b1/02ccb06/dffbc08/Build/Eigen/Install/include/eigen3/unsupported/Eigen/CXX11/src/Tensor/TensorDeviceDefault.h\n",
            "-- Up-to-date: /root/.hunter/_Base/70287b1/02ccb06/dffbc08/Build/Eigen/Install/include/eigen3/unsupported/Eigen/CXX11/src/Tensor/TensorCustomOp.h\n",
            "-- Up-to-date: /root/.hunter/_Base/70287b1/02ccb06/dffbc08/Build/Eigen/Install/include/eigen3/unsupported/Eigen/CXX11/src/Tensor/TensorConvolution.h\n",
            "-- Up-to-date: /root/.hunter/_Base/70287b1/02ccb06/dffbc08/Build/Eigen/Install/include/eigen3/unsupported/Eigen/CXX11/src/Tensor/TensorSyclLeafCount.h\n",
            "-- Up-to-date: /root/.hunter/_Base/70287b1/02ccb06/dffbc08/Build/Eigen/Install/include/eigen3/unsupported/Eigen/CXX11/src/Tensor/TensorReductionCuda.h\n",
            "-- Up-to-date: /root/.hunter/_Base/70287b1/02ccb06/dffbc08/Build/Eigen/Install/include/eigen3/unsupported/Eigen/CXX11/src/Tensor/TensorCostModel.h\n",
            "-- Up-to-date: /root/.hunter/_Base/70287b1/02ccb06/dffbc08/Build/Eigen/Install/include/eigen3/unsupported/Eigen/CXX11/src/Tensor/TensorForwardDeclarations.h\n",
            "-- Up-to-date: /root/.hunter/_Base/70287b1/02ccb06/dffbc08/Build/Eigen/Install/include/eigen3/unsupported/Eigen/CXX11/src/Tensor/TensorFFT.h\n",
            "loading initial cache file /root/.hunter/_Base/70287b1/02ccb06/dffbc08/Build/Eigen/args.cmake\n",
            "[100%] Completed 'Eigen-Debug'\n",
            "[100%] Built target Eigen-Debug\n",
            "-- [hunter] Build step successful (dir: /root/.hunter/_Base/70287b1/02ccb06/dffbc08/Build/Eigen)\n",
            "-- [hunter] Cache saved: /root/.hunter/_Base/Cache/raw/fc54b6fa04f7d823434cd0ec39bad2dd0d7ccb2c.tar.bz2\n",
            "-- [hunter] FMT_ROOT: /root/.hunter/_Base/70287b1/02ccb06/dffbc08/Install (ver.: 4.1.0)\n",
            "-- [hunter] Building fmt\n",
            "loading initial cache file /root/.hunter/_Base/70287b1/02ccb06/dffbc08/cache.cmake\n",
            "loading initial cache file /root/.hunter/_Base/70287b1/02ccb06/dffbc08/Build/fmt/args.cmake\n",
            "-- The C compiler identification is GNU 7.5.0\n",
            "-- The CXX compiler identification is GNU 7.5.0\n",
            "-- Check for working C compiler: /usr/bin/cc - skipped\n",
            "-- Detecting C compile features\n",
            "-- Detecting C compile features - done\n",
            "-- Check for working CXX compiler: /usr/bin/c++ - skipped\n",
            "-- Detecting CXX compile features\n",
            "-- Detecting CXX compile features - done\n",
            "-- Configuring done\n",
            "-- Generating done\n",
            "-- Build files have been written to: /root/.hunter/_Base/70287b1/02ccb06/dffbc08/Build/fmt/Build\n",
            "[  6%] Creating directories for 'fmt-Release'\n",
            "[ 12%] Performing download step (download, verify and extract) for 'fmt-Release'\n",
            "-- Downloading...\n",
            "   dst='/root/.hunter/_Base/Download/fmt/4.1.0/9df8f7a/4.1.0.tar.gz'\n",
            "   timeout='none'\n",
            "   inactivity timeout='none'\n",
            "-- Using src='https://github.com/fmtlib/fmt/archive/4.1.0.tar.gz'\n",
            "-- verifying file...\n",
            "       file='/root/.hunter/_Base/Download/fmt/4.1.0/9df8f7a/4.1.0.tar.gz'\n",
            "-- Downloading... done\n",
            "-- extracting...\n",
            "     src='/root/.hunter/_Base/Download/fmt/4.1.0/9df8f7a/4.1.0.tar.gz'\n",
            "     dst='/root/.hunter/_Base/70287b1/02ccb06/dffbc08/Build/fmt/Source'\n",
            "-- extracting... [tar xfz]\n",
            "-- extracting... [analysis]\n",
            "-- extracting... [rename]\n",
            "-- extracting... [clean up]\n",
            "-- extracting... done\n",
            "[ 18%] No update step for 'fmt-Release'\n",
            "[ 25%] No patch step for 'fmt-Release'\n",
            "[ 31%] Performing configure step for 'fmt-Release'\n",
            "loading initial cache file /root/.hunter/_Base/70287b1/02ccb06/dffbc08/cache.cmake\n",
            "loading initial cache file /root/.hunter/_Base/70287b1/02ccb06/dffbc08/Build/fmt/args.cmake\n",
            "-- CMake version: 3.22.5\n",
            "CMake Deprecation Warning at CMakeLists.txt:6 (cmake_policy):\n",
            "  The OLD behavior for policy CMP0048 will be removed from a future version\n",
            "  of CMake.\n",
            "\n",
            "  The cmake-policies(7) manual explains that the OLD behaviors of all\n",
            "  policies are deprecated and that a policy should be set to OLD only under\n",
            "  specific short-term circumstances.  Projects should be ported to the NEW\n",
            "  behavior and not rely on setting a policy to OLD.\n",
            "\n",
            "\n",
            "CMake Deprecation Warning at CMakeLists.txt:10 (cmake_policy):\n",
            "  The OLD behavior for policy CMP0063 will be removed from a future version\n",
            "  of CMake.\n",
            "\n",
            "  The cmake-policies(7) manual explains that the OLD behaviors of all\n",
            "  policies are deprecated and that a policy should be set to OLD only under\n",
            "  specific short-term circumstances.  Projects should be ported to the NEW\n",
            "  behavior and not rely on setting a policy to OLD.\n",
            "\n",
            "\n",
            "-- The C compiler identification is GNU 7.5.0\n",
            "-- The CXX compiler identification is GNU 7.5.0\n",
            "-- Check for working C compiler: /usr/bin/cc - skipped\n",
            "-- Detecting C compile features\n",
            "-- Detecting C compile features - done\n",
            "-- Check for working CXX compiler: /usr/bin/c++ - skipped\n",
            "-- Detecting CXX compile features\n",
            "-- Detecting CXX compile features - done\n",
            "-- Version: 4.1.0\n",
            "-- Build type: Release\n",
            "-- Performing Test HAVE_STD_CPP11_FLAG\n",
            "-- Performing Test HAVE_STD_CPP11_FLAG - Success\n",
            "-- Performing Test FMT_CPP11_CMATH\n",
            "-- Performing Test FMT_CPP11_CMATH - Success\n",
            "-- Performing Test FMT_CPP11_UNISTD_H\n",
            "-- Performing Test FMT_CPP11_UNISTD_H - Success\n",
            "-- Performing Test FMT_CPP11_SNPRINTF\n",
            "-- Performing Test FMT_CPP11_SNPRINTF - Success\n",
            "-- Performing Test SUPPORTS_VARIADIC_TEMPLATES\n",
            "-- Performing Test SUPPORTS_VARIADIC_TEMPLATES - Success\n",
            "-- Performing Test SUPPORTS_INITIALIZER_LIST\n",
            "-- Performing Test SUPPORTS_INITIALIZER_LIST - Success\n",
            "-- Performing Test SUPPORTS_ENUM_BASE\n",
            "-- Performing Test SUPPORTS_ENUM_BASE - Success\n",
            "-- Performing Test SUPPORTS_TYPE_TRAITS\n",
            "-- Performing Test SUPPORTS_TYPE_TRAITS - Success\n",
            "-- Performing Test SUPPORTS_USER_DEFINED_LITERALS\n",
            "-- Performing Test SUPPORTS_USER_DEFINED_LITERALS - Success\n",
            "-- Looking for open\n",
            "-- Looking for open - found\n",
            "-- Configuring done\n",
            "-- Generating done\n",
            "-- Build files have been written to: /root/.hunter/_Base/70287b1/02ccb06/dffbc08/Build/fmt/Build/fmt-Release-prefix/src/fmt-Release-build\n",
            "[ 37%] Performing build step for 'fmt-Release'\n",
            "[ 40%] Building CXX object fmt/CMakeFiles/fmt.dir/posix.cc.o\n",
            "[ 40%] Building CXX object fmt/CMakeFiles/fmt.dir/format.cc.o\n",
            "[ 60%] Building CXX object fmt/CMakeFiles/fmt.dir/ostream.cc.o\n",
            "[ 80%] Building CXX object fmt/CMakeFiles/fmt.dir/printf.cc.o\n",
            "[100%] Linking CXX shared library libfmt.so\n",
            "[100%] Built target fmt\n",
            "[ 43%] Performing install step for 'fmt-Release'\n",
            "Consolidate compiler generated dependencies of target fmt\n",
            "[100%] Built target fmt\n",
            "Install the project...\n",
            "-- Install configuration: \"Release\"\n",
            "-- Installing: /root/.hunter/_Base/70287b1/02ccb06/dffbc08/Build/fmt/Install/lib/cmake/fmt/fmt-config.cmake\n",
            "-- Installing: /root/.hunter/_Base/70287b1/02ccb06/dffbc08/Build/fmt/Install/lib/cmake/fmt/fmt-config-version.cmake\n",
            "-- Installing: /root/.hunter/_Base/70287b1/02ccb06/dffbc08/Build/fmt/Install/lib/cmake/fmt/fmt-targets.cmake\n",
            "-- Installing: /root/.hunter/_Base/70287b1/02ccb06/dffbc08/Build/fmt/Install/lib/cmake/fmt/fmt-targets-release.cmake\n",
            "-- Installing: /root/.hunter/_Base/70287b1/02ccb06/dffbc08/Build/fmt/Install/lib/libfmt.so.4.1.0\n",
            "-- Installing: /root/.hunter/_Base/70287b1/02ccb06/dffbc08/Build/fmt/Install/lib/libfmt.so.4\n",
            "-- Installing: /root/.hunter/_Base/70287b1/02ccb06/dffbc08/Build/fmt/Install/lib/libfmt.so\n",
            "-- Installing: /root/.hunter/_Base/70287b1/02ccb06/dffbc08/Build/fmt/Install/include/fmt/container.h\n",
            "-- Installing: /root/.hunter/_Base/70287b1/02ccb06/dffbc08/Build/fmt/Install/include/fmt/format.h\n",
            "-- Installing: /root/.hunter/_Base/70287b1/02ccb06/dffbc08/Build/fmt/Install/include/fmt/format.cc\n",
            "-- Installing: /root/.hunter/_Base/70287b1/02ccb06/dffbc08/Build/fmt/Install/include/fmt/ostream.h\n",
            "-- Installing: /root/.hunter/_Base/70287b1/02ccb06/dffbc08/Build/fmt/Install/include/fmt/ostream.cc\n",
            "-- Installing: /root/.hunter/_Base/70287b1/02ccb06/dffbc08/Build/fmt/Install/include/fmt/printf.h\n",
            "-- Installing: /root/.hunter/_Base/70287b1/02ccb06/dffbc08/Build/fmt/Install/include/fmt/printf.cc\n",
            "-- Installing: /root/.hunter/_Base/70287b1/02ccb06/dffbc08/Build/fmt/Install/include/fmt/string.h\n",
            "-- Installing: /root/.hunter/_Base/70287b1/02ccb06/dffbc08/Build/fmt/Install/include/fmt/time.h\n",
            "-- Installing: /root/.hunter/_Base/70287b1/02ccb06/dffbc08/Build/fmt/Install/include/fmt/posix.h\n",
            "loading initial cache file /root/.hunter/_Base/70287b1/02ccb06/dffbc08/Build/fmt/args.cmake\n",
            "[ 50%] Completed 'fmt-Release'\n",
            "[ 50%] Built target fmt-Release\n",
            "[ 56%] Creating directories for 'fmt-Debug'\n",
            "[ 62%] Performing download step (download, verify and extract) for 'fmt-Debug'\n",
            "-- verifying file...\n",
            "       file='/root/.hunter/_Base/Download/fmt/4.1.0/9df8f7a/4.1.0.tar.gz'\n",
            "-- File already exists and hash match (skip download):\n",
            "  file='/root/.hunter/_Base/Download/fmt/4.1.0/9df8f7a/4.1.0.tar.gz'\n",
            "  SHA1='9df8f7a70c1b45ffe308e8e3f4f92b31cb927a7a'\n",
            "-- extracting...\n",
            "     src='/root/.hunter/_Base/Download/fmt/4.1.0/9df8f7a/4.1.0.tar.gz'\n",
            "     dst='/root/.hunter/_Base/70287b1/02ccb06/dffbc08/Build/fmt/Source'\n",
            "-- extracting... [tar xfz]\n",
            "-- extracting... [analysis]\n",
            "-- extracting... [rename]\n",
            "-- extracting... [clean up]\n",
            "-- extracting... done\n",
            "[ 68%] No update step for 'fmt-Debug'\n",
            "[ 75%] No patch step for 'fmt-Debug'\n",
            "[ 81%] Performing configure step for 'fmt-Debug'\n",
            "loading initial cache file /root/.hunter/_Base/70287b1/02ccb06/dffbc08/cache.cmake\n",
            "loading initial cache file /root/.hunter/_Base/70287b1/02ccb06/dffbc08/Build/fmt/args.cmake\n",
            "-- CMake version: 3.22.5\n",
            "CMake Deprecation Warning at CMakeLists.txt:6 (cmake_policy):\n",
            "  The OLD behavior for policy CMP0048 will be removed from a future version\n",
            "  of CMake.\n",
            "\n",
            "  The cmake-policies(7) manual explains that the OLD behaviors of all\n",
            "  policies are deprecated and that a policy should be set to OLD only under\n",
            "  specific short-term circumstances.  Projects should be ported to the NEW\n",
            "  behavior and not rely on setting a policy to OLD.\n",
            "\n",
            "\n",
            "CMake Deprecation Warning at CMakeLists.txt:10 (cmake_policy):\n",
            "  The OLD behavior for policy CMP0063 will be removed from a future version\n",
            "  of CMake.\n",
            "\n",
            "  The cmake-policies(7) manual explains that the OLD behaviors of all\n",
            "  policies are deprecated and that a policy should be set to OLD only under\n",
            "  specific short-term circumstances.  Projects should be ported to the NEW\n",
            "  behavior and not rely on setting a policy to OLD.\n",
            "\n",
            "\n",
            "-- The C compiler identification is GNU 7.5.0\n",
            "-- The CXX compiler identification is GNU 7.5.0\n",
            "-- Check for working C compiler: /usr/bin/cc - skipped\n",
            "-- Detecting C compile features\n",
            "-- Detecting C compile features - done\n",
            "-- Check for working CXX compiler: /usr/bin/c++ - skipped\n",
            "-- Detecting CXX compile features\n",
            "-- Detecting CXX compile features - done\n",
            "-- Version: 4.1.0\n",
            "-- Build type: Debug\n",
            "-- Performing Test HAVE_STD_CPP11_FLAG\n",
            "-- Performing Test HAVE_STD_CPP11_FLAG - Success\n",
            "-- Performing Test FMT_CPP11_CMATH\n",
            "-- Performing Test FMT_CPP11_CMATH - Success\n",
            "-- Performing Test FMT_CPP11_UNISTD_H\n",
            "-- Performing Test FMT_CPP11_UNISTD_H - Success\n",
            "-- Performing Test FMT_CPP11_SNPRINTF\n",
            "-- Performing Test FMT_CPP11_SNPRINTF - Success\n",
            "-- Performing Test SUPPORTS_VARIADIC_TEMPLATES\n",
            "-- Performing Test SUPPORTS_VARIADIC_TEMPLATES - Success\n",
            "-- Performing Test SUPPORTS_INITIALIZER_LIST\n",
            "-- Performing Test SUPPORTS_INITIALIZER_LIST - Success\n",
            "-- Performing Test SUPPORTS_ENUM_BASE\n",
            "-- Performing Test SUPPORTS_ENUM_BASE - Success\n",
            "-- Performing Test SUPPORTS_TYPE_TRAITS\n",
            "-- Performing Test SUPPORTS_TYPE_TRAITS - Success\n",
            "-- Performing Test SUPPORTS_USER_DEFINED_LITERALS\n",
            "-- Performing Test SUPPORTS_USER_DEFINED_LITERALS - Success\n",
            "-- Looking for open\n",
            "-- Looking for open - found\n",
            "-- Configuring done\n",
            "-- Generating done\n",
            "-- Build files have been written to: /root/.hunter/_Base/70287b1/02ccb06/dffbc08/Build/fmt/Build/fmt-Debug-prefix/src/fmt-Debug-build\n",
            "[ 87%] Performing build step for 'fmt-Debug'\n",
            "[ 20%] Building CXX object fmt/CMakeFiles/fmt.dir/posix.cc.o\n",
            "[ 40%] Building CXX object fmt/CMakeFiles/fmt.dir/format.cc.o\n",
            "[ 60%] Building CXX object fmt/CMakeFiles/fmt.dir/ostream.cc.o\n",
            "[ 80%] Building CXX object fmt/CMakeFiles/fmt.dir/printf.cc.o\n",
            "[100%] Linking CXX shared library libfmt_debug.so\n",
            "[100%] Built target fmt\n",
            "[ 93%] Performing install step for 'fmt-Debug'\n",
            "Consolidate compiler generated dependencies of target fmt\n",
            "[100%] Built target fmt\n",
            "Install the project...\n",
            "-- Install configuration: \"Debug\"\n",
            "-- Installing: /root/.hunter/_Base/70287b1/02ccb06/dffbc08/Build/fmt/Install/lib/cmake/fmt/fmt-config.cmake\n",
            "-- Installing: /root/.hunter/_Base/70287b1/02ccb06/dffbc08/Build/fmt/Install/lib/cmake/fmt/fmt-config-version.cmake\n",
            "-- Installing: /root/.hunter/_Base/70287b1/02ccb06/dffbc08/Build/fmt/Install/lib/cmake/fmt/fmt-targets.cmake\n",
            "-- Installing: /root/.hunter/_Base/70287b1/02ccb06/dffbc08/Build/fmt/Install/lib/cmake/fmt/fmt-targets-debug.cmake\n",
            "-- Installing: /root/.hunter/_Base/70287b1/02ccb06/dffbc08/Build/fmt/Install/lib/libfmt_debug.so.4.1.0\n",
            "-- Installing: /root/.hunter/_Base/70287b1/02ccb06/dffbc08/Build/fmt/Install/lib/libfmt_debug.so.4\n",
            "-- Installing: /root/.hunter/_Base/70287b1/02ccb06/dffbc08/Build/fmt/Install/lib/libfmt_debug.so\n",
            "-- Up-to-date: /root/.hunter/_Base/70287b1/02ccb06/dffbc08/Build/fmt/Install/include/fmt/container.h\n",
            "-- Up-to-date: /root/.hunter/_Base/70287b1/02ccb06/dffbc08/Build/fmt/Install/include/fmt/format.h\n",
            "-- Up-to-date: /root/.hunter/_Base/70287b1/02ccb06/dffbc08/Build/fmt/Install/include/fmt/format.cc\n",
            "-- Up-to-date: /root/.hunter/_Base/70287b1/02ccb06/dffbc08/Build/fmt/Install/include/fmt/ostream.h\n",
            "-- Up-to-date: /root/.hunter/_Base/70287b1/02ccb06/dffbc08/Build/fmt/Install/include/fmt/ostream.cc\n",
            "-- Up-to-date: /root/.hunter/_Base/70287b1/02ccb06/dffbc08/Build/fmt/Install/include/fmt/printf.h\n",
            "-- Up-to-date: /root/.hunter/_Base/70287b1/02ccb06/dffbc08/Build/fmt/Install/include/fmt/printf.cc\n",
            "-- Up-to-date: /root/.hunter/_Base/70287b1/02ccb06/dffbc08/Build/fmt/Install/include/fmt/string.h\n",
            "-- Up-to-date: /root/.hunter/_Base/70287b1/02ccb06/dffbc08/Build/fmt/Install/include/fmt/time.h\n",
            "-- Up-to-date: /root/.hunter/_Base/70287b1/02ccb06/dffbc08/Build/fmt/Install/include/fmt/posix.h\n",
            "loading initial cache file /root/.hunter/_Base/70287b1/02ccb06/dffbc08/Build/fmt/args.cmake\n",
            "[100%] Completed 'fmt-Debug'\n",
            "[100%] Built target fmt-Debug\n",
            "-- [hunter] Build step successful (dir: /root/.hunter/_Base/70287b1/02ccb06/dffbc08/Build/fmt)\n",
            "-- [hunter] Cache saved: /root/.hunter/_Base/Cache/raw/1230aaf413ddda92bae9f0719f81a900ab501d74.tar.bz2\n",
            "-- [hunter] GTEST_ROOT: /root/.hunter/_Base/70287b1/02ccb06/dffbc08/Install (ver.: 1.8.0-hunter-p11)\n",
            "-- [hunter] Building GTest\n",
            "loading initial cache file /root/.hunter/_Base/70287b1/02ccb06/dffbc08/cache.cmake\n",
            "loading initial cache file /root/.hunter/_Base/70287b1/02ccb06/dffbc08/Build/GTest/args.cmake\n",
            "-- The C compiler identification is GNU 7.5.0\n",
            "-- The CXX compiler identification is GNU 7.5.0\n",
            "-- Check for working C compiler: /usr/bin/cc - skipped\n",
            "-- Detecting C compile features\n",
            "-- Detecting C compile features - done\n",
            "-- Check for working CXX compiler: /usr/bin/c++ - skipped\n",
            "-- Detecting CXX compile features\n",
            "-- Detecting CXX compile features - done\n",
            "-- Configuring done\n",
            "-- Generating done\n",
            "-- Build files have been written to: /root/.hunter/_Base/70287b1/02ccb06/dffbc08/Build/GTest/Build\n",
            "[  6%] Creating directories for 'GTest-Release'\n",
            "[ 12%] Performing download step (download, verify and extract) for 'GTest-Release'\n",
            "-- Downloading...\n",
            "   dst='/root/.hunter/_Base/Download/GTest/1.8.0-hunter-p11/76c6aec/1.8.0-hunter-p11.tar.gz'\n",
            "   timeout='none'\n",
            "   inactivity timeout='none'\n",
            "-- Using src='https://github.com/hunter-packages/googletest/archive/1.8.0-hunter-p11.tar.gz'\n",
            "-- verifying file...\n",
            "       file='/root/.hunter/_Base/Download/GTest/1.8.0-hunter-p11/76c6aec/1.8.0-hunter-p11.tar.gz'\n",
            "-- Downloading... done\n",
            "-- extracting...\n",
            "     src='/root/.hunter/_Base/Download/GTest/1.8.0-hunter-p11/76c6aec/1.8.0-hunter-p11.tar.gz'\n",
            "     dst='/root/.hunter/_Base/70287b1/02ccb06/dffbc08/Build/GTest/Source'\n",
            "-- extracting... [tar xfz]\n",
            "-- extracting... [analysis]\n",
            "-- extracting... [rename]\n",
            "-- extracting... [clean up]\n",
            "-- extracting... done\n",
            "[ 18%] No update step for 'GTest-Release'\n",
            "[ 25%] No patch step for 'GTest-Release'\n",
            "[ 31%] Performing configure step for 'GTest-Release'\n",
            "loading initial cache file /root/.hunter/_Base/70287b1/02ccb06/dffbc08/cache.cmake\n",
            "loading initial cache file /root/.hunter/_Base/70287b1/02ccb06/dffbc08/Build/GTest/args.cmake\n",
            "-- The C compiler identification is GNU 7.5.0\n",
            "-- The CXX compiler identification is GNU 7.5.0\n",
            "-- Check for working C compiler: /usr/bin/cc - skipped\n",
            "-- Detecting C compile features\n",
            "-- Detecting C compile features - done\n",
            "-- Check for working CXX compiler: /usr/bin/c++ - skipped\n",
            "-- Detecting CXX compile features\n",
            "-- Detecting CXX compile features - done\n",
            "-- Found PythonInterp: /usr/local/bin/python (found version \"3.7.13\") \n",
            "-- Looking for pthread.h\n",
            "-- Looking for pthread.h - found\n",
            "-- Performing Test CMAKE_HAVE_LIBC_PTHREAD\n",
            "-- Performing Test CMAKE_HAVE_LIBC_PTHREAD - Failed\n",
            "-- Check if compiler accepts -pthread\n",
            "-- Check if compiler accepts -pthread - yes\n",
            "-- Found Threads: TRUE  \n",
            "-- Configuring done\n",
            "-- Generating done\n",
            "-- Build files have been written to: /root/.hunter/_Base/70287b1/02ccb06/dffbc08/Build/GTest/Build/GTest-Release-prefix/src/GTest-Release-build\n",
            "[ 37%] Performing build step for 'GTest-Release'\n",
            "[  9%] Building CXX object googlemock/CMakeFiles/gmock_main.dir/__/googletest/src/gtest-all.cc.o\n",
            "[ 18%] Building CXX object googlemock/CMakeFiles/gmock.dir/__/googletest/src/gtest-all.cc.o\n",
            "[ 27%] Building CXX object googlemock/CMakeFiles/gmock.dir/src/gmock-all.cc.o\n",
            "[ 36%] Building CXX object googlemock/CMakeFiles/gmock_main.dir/src/gmock-all.cc.o\n",
            "[ 45%] Linking CXX shared library libgmock.so\n",
            "[ 54%] Building CXX object googlemock/CMakeFiles/gmock_main.dir/src/gmock_main.cc.o\n",
            "[ 54%] Built target gmock\n",
            "[ 63%] Building CXX object googlemock/gtest/CMakeFiles/gtest.dir/src/gtest-all.cc.o\n",
            "[ 72%] Linking CXX shared library libgmock_main.so\n",
            "[ 72%] Built target gmock_main\n",
            "[ 81%] Linking CXX shared library libgtest.so\n",
            "[ 81%] Built target gtest\n",
            "[ 90%] Building CXX object googlemock/gtest/CMakeFiles/gtest_main.dir/src/gtest_main.cc.o\n",
            "[100%] Linking CXX shared library libgtest_main.so\n",
            "[100%] Built target gtest_main\n",
            "[ 43%] Performing install step for 'GTest-Release'\n",
            "Consolidate compiler generated dependencies of target gmock\n",
            "[ 27%] Built target gmock\n",
            "Consolidate compiler generated dependencies of target gmock_main\n",
            "[ 63%] Built target gmock_main\n",
            "Consolidate compiler generated dependencies of target gtest\n",
            "[ 81%] Built target gtest\n",
            "Consolidate compiler generated dependencies of target gtest_main\n",
            "[100%] Built target gtest_main\n",
            "Install the project...\n",
            "-- Install configuration: \"Release\"\n",
            "-- Installing: /root/.hunter/_Base/70287b1/02ccb06/dffbc08/Build/GTest/Install/lib/libgmock.so\n",
            "-- Installing: /root/.hunter/_Base/70287b1/02ccb06/dffbc08/Build/GTest/Install/lib/libgmock_main.so\n",
            "-- Installing: /root/.hunter/_Base/70287b1/02ccb06/dffbc08/Build/GTest/Install/include/gmock\n",
            "-- Installing: /root/.hunter/_Base/70287b1/02ccb06/dffbc08/Build/GTest/Install/include/gmock/gmock.h\n",
            "-- Installing: /root/.hunter/_Base/70287b1/02ccb06/dffbc08/Build/GTest/Install/include/gmock/gmock-generated-matchers.h\n",
            "-- Installing: /root/.hunter/_Base/70287b1/02ccb06/dffbc08/Build/GTest/Install/include/gmock/gmock-generated-actions.h\n",
            "-- Installing: /root/.hunter/_Base/70287b1/02ccb06/dffbc08/Build/GTest/Install/include/gmock/gmock-matchers.h\n",
            "-- Installing: /root/.hunter/_Base/70287b1/02ccb06/dffbc08/Build/GTest/Install/include/gmock/gmock-cardinalities.h\n",
            "-- Installing: /root/.hunter/_Base/70287b1/02ccb06/dffbc08/Build/GTest/Install/include/gmock/gmock-actions.h\n",
            "-- Installing: /root/.hunter/_Base/70287b1/02ccb06/dffbc08/Build/GTest/Install/include/gmock/gmock-generated-nice-strict.h\n",
            "-- Installing: /root/.hunter/_Base/70287b1/02ccb06/dffbc08/Build/GTest/Install/include/gmock/internal\n",
            "-- Installing: /root/.hunter/_Base/70287b1/02ccb06/dffbc08/Build/GTest/Install/include/gmock/internal/gmock-internal-utils.h\n",
            "-- Installing: /root/.hunter/_Base/70287b1/02ccb06/dffbc08/Build/GTest/Install/include/gmock/internal/custom\n",
            "-- Installing: /root/.hunter/_Base/70287b1/02ccb06/dffbc08/Build/GTest/Install/include/gmock/internal/custom/gmock-generated-actions.h\n",
            "-- Installing: /root/.hunter/_Base/70287b1/02ccb06/dffbc08/Build/GTest/Install/include/gmock/internal/custom/gmock-matchers.h\n",
            "-- Installing: /root/.hunter/_Base/70287b1/02ccb06/dffbc08/Build/GTest/Install/include/gmock/internal/custom/gmock-port.h\n",
            "-- Installing: /root/.hunter/_Base/70287b1/02ccb06/dffbc08/Build/GTest/Install/include/gmock/internal/gmock-port.h\n",
            "-- Installing: /root/.hunter/_Base/70287b1/02ccb06/dffbc08/Build/GTest/Install/include/gmock/internal/gmock-generated-internal-utils.h\n",
            "-- Installing: /root/.hunter/_Base/70287b1/02ccb06/dffbc08/Build/GTest/Install/include/gmock/gmock-more-actions.h\n",
            "-- Installing: /root/.hunter/_Base/70287b1/02ccb06/dffbc08/Build/GTest/Install/include/gmock/gmock-more-matchers.h\n",
            "-- Installing: /root/.hunter/_Base/70287b1/02ccb06/dffbc08/Build/GTest/Install/include/gmock/gmock-generated-function-mockers.h\n",
            "-- Installing: /root/.hunter/_Base/70287b1/02ccb06/dffbc08/Build/GTest/Install/include/gmock/gmock-spec-builders.h\n",
            "-- Installing: /root/.hunter/_Base/70287b1/02ccb06/dffbc08/Build/GTest/Install/lib/cmake/GMock/GMockConfig.cmake\n",
            "-- Installing: /root/.hunter/_Base/70287b1/02ccb06/dffbc08/Build/GTest/Install/lib/cmake/GMock/GMockConfigVersion.cmake\n",
            "-- Installing: /root/.hunter/_Base/70287b1/02ccb06/dffbc08/Build/GTest/Install/lib/cmake/GMock/GMockTargets.cmake\n",
            "-- Installing: /root/.hunter/_Base/70287b1/02ccb06/dffbc08/Build/GTest/Install/lib/cmake/GMock/GMockTargets-release.cmake\n",
            "-- Installing: /root/.hunter/_Base/70287b1/02ccb06/dffbc08/Build/GTest/Install/lib/libgtest.so\n",
            "-- Installing: /root/.hunter/_Base/70287b1/02ccb06/dffbc08/Build/GTest/Install/lib/libgtest_main.so\n",
            "-- Set runtime path of \"/root/.hunter/_Base/70287b1/02ccb06/dffbc08/Build/GTest/Install/lib/libgtest_main.so\" to \"\"\n",
            "-- Installing: /root/.hunter/_Base/70287b1/02ccb06/dffbc08/Build/GTest/Install/include/gtest\n",
            "-- Installing: /root/.hunter/_Base/70287b1/02ccb06/dffbc08/Build/GTest/Install/include/gtest/gtest-test-part.h\n",
            "-- Installing: /root/.hunter/_Base/70287b1/02ccb06/dffbc08/Build/GTest/Install/include/gtest/gtest_pred_impl.h\n",
            "-- Installing: /root/.hunter/_Base/70287b1/02ccb06/dffbc08/Build/GTest/Install/include/gtest/gtest-spi.h\n",
            "-- Installing: /root/.hunter/_Base/70287b1/02ccb06/dffbc08/Build/GTest/Install/include/gtest/gtest-typed-test.h\n",
            "-- Installing: /root/.hunter/_Base/70287b1/02ccb06/dffbc08/Build/GTest/Install/include/gtest/gtest_prod.h\n",
            "-- Installing: /root/.hunter/_Base/70287b1/02ccb06/dffbc08/Build/GTest/Install/include/gtest/gtest-death-test.h\n",
            "-- Installing: /root/.hunter/_Base/70287b1/02ccb06/dffbc08/Build/GTest/Install/include/gtest/internal\n",
            "-- Installing: /root/.hunter/_Base/70287b1/02ccb06/dffbc08/Build/GTest/Install/include/gtest/internal/gtest-death-test-internal.h\n",
            "-- Installing: /root/.hunter/_Base/70287b1/02ccb06/dffbc08/Build/GTest/Install/include/gtest/internal/gtest-param-util.h\n",
            "-- Installing: /root/.hunter/_Base/70287b1/02ccb06/dffbc08/Build/GTest/Install/include/gtest/internal/gtest-port.h\n",
            "-- Installing: /root/.hunter/_Base/70287b1/02ccb06/dffbc08/Build/GTest/Install/include/gtest/internal/custom\n",
            "-- Installing: /root/.hunter/_Base/70287b1/02ccb06/dffbc08/Build/GTest/Install/include/gtest/internal/custom/gtest-port.h\n",
            "-- Installing: /root/.hunter/_Base/70287b1/02ccb06/dffbc08/Build/GTest/Install/include/gtest/internal/custom/gtest.h\n",
            "-- Installing: /root/.hunter/_Base/70287b1/02ccb06/dffbc08/Build/GTest/Install/include/gtest/internal/custom/gtest-printers.h\n",
            "-- Installing: /root/.hunter/_Base/70287b1/02ccb06/dffbc08/Build/GTest/Install/include/gtest/internal/gtest-tuple.h\n",
            "-- Installing: /root/.hunter/_Base/70287b1/02ccb06/dffbc08/Build/GTest/Install/include/gtest/internal/gtest-filepath.h\n",
            "-- Installing: /root/.hunter/_Base/70287b1/02ccb06/dffbc08/Build/GTest/Install/include/gtest/internal/gtest-type-util.h\n",
            "-- Installing: /root/.hunter/_Base/70287b1/02ccb06/dffbc08/Build/GTest/Install/include/gtest/internal/gtest-linked_ptr.h\n",
            "-- Installing: /root/.hunter/_Base/70287b1/02ccb06/dffbc08/Build/GTest/Install/include/gtest/internal/gtest-internal.h\n",
            "-- Installing: /root/.hunter/_Base/70287b1/02ccb06/dffbc08/Build/GTest/Install/include/gtest/internal/gtest-param-util-generated.h\n",
            "-- Installing: /root/.hunter/_Base/70287b1/02ccb06/dffbc08/Build/GTest/Install/include/gtest/internal/gtest-port-arch.h\n",
            "-- Installing: /root/.hunter/_Base/70287b1/02ccb06/dffbc08/Build/GTest/Install/include/gtest/internal/gtest-string.h\n",
            "-- Installing: /root/.hunter/_Base/70287b1/02ccb06/dffbc08/Build/GTest/Install/include/gtest/gtest-param-test.h\n",
            "-- Installing: /root/.hunter/_Base/70287b1/02ccb06/dffbc08/Build/GTest/Install/include/gtest/gtest.h\n",
            "-- Installing: /root/.hunter/_Base/70287b1/02ccb06/dffbc08/Build/GTest/Install/include/gtest/gtest-printers.h\n",
            "-- Installing: /root/.hunter/_Base/70287b1/02ccb06/dffbc08/Build/GTest/Install/include/gtest/gtest-message.h\n",
            "-- Installing: /root/.hunter/_Base/70287b1/02ccb06/dffbc08/Build/GTest/Install/lib/cmake/GTest/GTestConfig.cmake\n",
            "-- Installing: /root/.hunter/_Base/70287b1/02ccb06/dffbc08/Build/GTest/Install/lib/cmake/GTest/GTestConfigVersion.cmake\n",
            "-- Installing: /root/.hunter/_Base/70287b1/02ccb06/dffbc08/Build/GTest/Install/lib/cmake/GTest/GTestTargets.cmake\n",
            "-- Installing: /root/.hunter/_Base/70287b1/02ccb06/dffbc08/Build/GTest/Install/lib/cmake/GTest/GTestTargets-release.cmake\n",
            "loading initial cache file /root/.hunter/_Base/70287b1/02ccb06/dffbc08/Build/GTest/args.cmake\n",
            "[ 50%] Completed 'GTest-Release'\n",
            "[ 50%] Built target GTest-Release\n",
            "[ 56%] Creating directories for 'GTest-Debug'\n",
            "[ 62%] Performing download step (download, verify and extract) for 'GTest-Debug'\n",
            "-- verifying file...\n",
            "       file='/root/.hunter/_Base/Download/GTest/1.8.0-hunter-p11/76c6aec/1.8.0-hunter-p11.tar.gz'\n",
            "-- File already exists and hash match (skip download):\n",
            "  file='/root/.hunter/_Base/Download/GTest/1.8.0-hunter-p11/76c6aec/1.8.0-hunter-p11.tar.gz'\n",
            "  SHA1='76c6aec038f7d7258bf5c4f45c4817b34039d285'\n",
            "-- extracting...\n",
            "     src='/root/.hunter/_Base/Download/GTest/1.8.0-hunter-p11/76c6aec/1.8.0-hunter-p11.tar.gz'\n",
            "     dst='/root/.hunter/_Base/70287b1/02ccb06/dffbc08/Build/GTest/Source'\n",
            "-- extracting... [tar xfz]\n",
            "-- extracting... [analysis]\n",
            "-- extracting... [rename]\n",
            "-- extracting... [clean up]\n",
            "-- extracting... done\n",
            "[ 68%] No update step for 'GTest-Debug'\n",
            "[ 75%] No patch step for 'GTest-Debug'\n",
            "[ 81%] Performing configure step for 'GTest-Debug'\n",
            "loading initial cache file /root/.hunter/_Base/70287b1/02ccb06/dffbc08/cache.cmake\n",
            "loading initial cache file /root/.hunter/_Base/70287b1/02ccb06/dffbc08/Build/GTest/args.cmake\n",
            "-- The C compiler identification is GNU 7.5.0\n",
            "-- The CXX compiler identification is GNU 7.5.0\n",
            "-- Check for working C compiler: /usr/bin/cc - skipped\n",
            "-- Detecting C compile features\n",
            "-- Detecting C compile features - done\n",
            "-- Check for working CXX compiler: /usr/bin/c++ - skipped\n",
            "-- Detecting CXX compile features\n",
            "-- Detecting CXX compile features - done\n",
            "-- Found PythonInterp: /usr/local/bin/python (found version \"3.7.13\") \n",
            "-- Looking for pthread.h\n",
            "-- Looking for pthread.h - found\n",
            "-- Performing Test CMAKE_HAVE_LIBC_PTHREAD\n",
            "-- Performing Test CMAKE_HAVE_LIBC_PTHREAD - Failed\n",
            "-- Check if compiler accepts -pthread\n",
            "-- Check if compiler accepts -pthread - yes\n",
            "-- Found Threads: TRUE  \n",
            "-- Configuring done\n",
            "-- Generating done\n",
            "-- Build files have been written to: /root/.hunter/_Base/70287b1/02ccb06/dffbc08/Build/GTest/Build/GTest-Debug-prefix/src/GTest-Debug-build\n",
            "[ 87%] Performing build step for 'GTest-Debug'\n",
            "[  9%] Building CXX object googlemock/CMakeFiles/gmock_main.dir/__/googletest/src/gtest-all.cc.o\n",
            "[ 18%] Building CXX object googlemock/CMakeFiles/gmock.dir/__/googletest/src/gtest-all.cc.o\n",
            "[ 27%] Building CXX object googlemock/CMakeFiles/gmock_main.dir/src/gmock-all.cc.o\n",
            "[ 36%] Building CXX object googlemock/CMakeFiles/gmock.dir/src/gmock-all.cc.o\n",
            "[ 45%] Building CXX object googlemock/CMakeFiles/gmock_main.dir/src/gmock_main.cc.o\n",
            "[ 54%] Linking CXX shared library libgmock_debug.so\n",
            "[ 54%] Built target gmock\n",
            "[ 63%] Building CXX object googlemock/gtest/CMakeFiles/gtest.dir/src/gtest-all.cc.o\n",
            "[ 72%] Linking CXX shared library libgmock_main_debug.so\n",
            "[ 72%] Built target gmock_main\n",
            "[ 81%] Linking CXX shared library libgtest_debug.so\n",
            "[ 81%] Built target gtest\n",
            "[ 90%] Building CXX object googlemock/gtest/CMakeFiles/gtest_main.dir/src/gtest_main.cc.o\n",
            "[100%] Linking CXX shared library libgtest_main_debug.so\n",
            "[100%] Built target gtest_main\n",
            "[ 93%] Performing install step for 'GTest-Debug'\n",
            "Consolidate compiler generated dependencies of target gmock\n",
            "[ 27%] Built target gmock\n",
            "Consolidate compiler generated dependencies of target gmock_main\n",
            "[ 63%] Built target gmock_main\n",
            "Consolidate compiler generated dependencies of target gtest\n",
            "[ 81%] Built target gtest\n",
            "Consolidate compiler generated dependencies of target gtest_main\n",
            "[100%] Built target gtest_main\n",
            "Install the project...\n",
            "-- Install configuration: \"Debug\"\n",
            "-- Installing: /root/.hunter/_Base/70287b1/02ccb06/dffbc08/Build/GTest/Install/lib/libgmock_debug.so\n",
            "-- Installing: /root/.hunter/_Base/70287b1/02ccb06/dffbc08/Build/GTest/Install/lib/libgmock_main_debug.so\n",
            "-- Up-to-date: /root/.hunter/_Base/70287b1/02ccb06/dffbc08/Build/GTest/Install/include/gmock\n",
            "-- Up-to-date: /root/.hunter/_Base/70287b1/02ccb06/dffbc08/Build/GTest/Install/include/gmock/gmock.h\n",
            "-- Up-to-date: /root/.hunter/_Base/70287b1/02ccb06/dffbc08/Build/GTest/Install/include/gmock/gmock-generated-matchers.h\n",
            "-- Up-to-date: /root/.hunter/_Base/70287b1/02ccb06/dffbc08/Build/GTest/Install/include/gmock/gmock-generated-actions.h\n",
            "-- Up-to-date: /root/.hunter/_Base/70287b1/02ccb06/dffbc08/Build/GTest/Install/include/gmock/gmock-matchers.h\n",
            "-- Up-to-date: /root/.hunter/_Base/70287b1/02ccb06/dffbc08/Build/GTest/Install/include/gmock/gmock-cardinalities.h\n",
            "-- Up-to-date: /root/.hunter/_Base/70287b1/02ccb06/dffbc08/Build/GTest/Install/include/gmock/gmock-actions.h\n",
            "-- Up-to-date: /root/.hunter/_Base/70287b1/02ccb06/dffbc08/Build/GTest/Install/include/gmock/gmock-generated-nice-strict.h\n",
            "-- Up-to-date: /root/.hunter/_Base/70287b1/02ccb06/dffbc08/Build/GTest/Install/include/gmock/internal\n",
            "-- Up-to-date: /root/.hunter/_Base/70287b1/02ccb06/dffbc08/Build/GTest/Install/include/gmock/internal/gmock-internal-utils.h\n",
            "-- Up-to-date: /root/.hunter/_Base/70287b1/02ccb06/dffbc08/Build/GTest/Install/include/gmock/internal/custom\n",
            "-- Up-to-date: /root/.hunter/_Base/70287b1/02ccb06/dffbc08/Build/GTest/Install/include/gmock/internal/custom/gmock-generated-actions.h\n",
            "-- Up-to-date: /root/.hunter/_Base/70287b1/02ccb06/dffbc08/Build/GTest/Install/include/gmock/internal/custom/gmock-matchers.h\n",
            "-- Up-to-date: /root/.hunter/_Base/70287b1/02ccb06/dffbc08/Build/GTest/Install/include/gmock/internal/custom/gmock-port.h\n",
            "-- Up-to-date: /root/.hunter/_Base/70287b1/02ccb06/dffbc08/Build/GTest/Install/include/gmock/internal/gmock-port.h\n",
            "-- Up-to-date: /root/.hunter/_Base/70287b1/02ccb06/dffbc08/Build/GTest/Install/include/gmock/internal/gmock-generated-internal-utils.h\n",
            "-- Up-to-date: /root/.hunter/_Base/70287b1/02ccb06/dffbc08/Build/GTest/Install/include/gmock/gmock-more-actions.h\n",
            "-- Up-to-date: /root/.hunter/_Base/70287b1/02ccb06/dffbc08/Build/GTest/Install/include/gmock/gmock-more-matchers.h\n",
            "-- Up-to-date: /root/.hunter/_Base/70287b1/02ccb06/dffbc08/Build/GTest/Install/include/gmock/gmock-generated-function-mockers.h\n",
            "-- Up-to-date: /root/.hunter/_Base/70287b1/02ccb06/dffbc08/Build/GTest/Install/include/gmock/gmock-spec-builders.h\n",
            "-- Installing: /root/.hunter/_Base/70287b1/02ccb06/dffbc08/Build/GTest/Install/lib/cmake/GMock/GMockConfig.cmake\n",
            "-- Installing: /root/.hunter/_Base/70287b1/02ccb06/dffbc08/Build/GTest/Install/lib/cmake/GMock/GMockConfigVersion.cmake\n",
            "-- Installing: /root/.hunter/_Base/70287b1/02ccb06/dffbc08/Build/GTest/Install/lib/cmake/GMock/GMockTargets.cmake\n",
            "-- Installing: /root/.hunter/_Base/70287b1/02ccb06/dffbc08/Build/GTest/Install/lib/cmake/GMock/GMockTargets-debug.cmake\n",
            "-- Installing: /root/.hunter/_Base/70287b1/02ccb06/dffbc08/Build/GTest/Install/lib/libgtest_debug.so\n",
            "-- Installing: /root/.hunter/_Base/70287b1/02ccb06/dffbc08/Build/GTest/Install/lib/libgtest_main_debug.so\n",
            "-- Set runtime path of \"/root/.hunter/_Base/70287b1/02ccb06/dffbc08/Build/GTest/Install/lib/libgtest_main_debug.so\" to \"\"\n",
            "-- Up-to-date: /root/.hunter/_Base/70287b1/02ccb06/dffbc08/Build/GTest/Install/include/gtest\n",
            "-- Up-to-date: /root/.hunter/_Base/70287b1/02ccb06/dffbc08/Build/GTest/Install/include/gtest/gtest-test-part.h\n",
            "-- Up-to-date: /root/.hunter/_Base/70287b1/02ccb06/dffbc08/Build/GTest/Install/include/gtest/gtest_pred_impl.h\n",
            "-- Up-to-date: /root/.hunter/_Base/70287b1/02ccb06/dffbc08/Build/GTest/Install/include/gtest/gtest-spi.h\n",
            "-- Up-to-date: /root/.hunter/_Base/70287b1/02ccb06/dffbc08/Build/GTest/Install/include/gtest/gtest-typed-test.h\n",
            "-- Up-to-date: /root/.hunter/_Base/70287b1/02ccb06/dffbc08/Build/GTest/Install/include/gtest/gtest_prod.h\n",
            "-- Up-to-date: /root/.hunter/_Base/70287b1/02ccb06/dffbc08/Build/GTest/Install/include/gtest/gtest-death-test.h\n",
            "-- Up-to-date: /root/.hunter/_Base/70287b1/02ccb06/dffbc08/Build/GTest/Install/include/gtest/internal\n",
            "-- Up-to-date: /root/.hunter/_Base/70287b1/02ccb06/dffbc08/Build/GTest/Install/include/gtest/internal/gtest-death-test-internal.h\n",
            "-- Up-to-date: /root/.hunter/_Base/70287b1/02ccb06/dffbc08/Build/GTest/Install/include/gtest/internal/gtest-param-util.h\n",
            "-- Up-to-date: /root/.hunter/_Base/70287b1/02ccb06/dffbc08/Build/GTest/Install/include/gtest/internal/gtest-port.h\n",
            "-- Up-to-date: /root/.hunter/_Base/70287b1/02ccb06/dffbc08/Build/GTest/Install/include/gtest/internal/custom\n",
            "-- Up-to-date: /root/.hunter/_Base/70287b1/02ccb06/dffbc08/Build/GTest/Install/include/gtest/internal/custom/gtest-port.h\n",
            "-- Up-to-date: /root/.hunter/_Base/70287b1/02ccb06/dffbc08/Build/GTest/Install/include/gtest/internal/custom/gtest.h\n",
            "-- Up-to-date: /root/.hunter/_Base/70287b1/02ccb06/dffbc08/Build/GTest/Install/include/gtest/internal/custom/gtest-printers.h\n",
            "-- Up-to-date: /root/.hunter/_Base/70287b1/02ccb06/dffbc08/Build/GTest/Install/include/gtest/internal/gtest-tuple.h\n",
            "-- Up-to-date: /root/.hunter/_Base/70287b1/02ccb06/dffbc08/Build/GTest/Install/include/gtest/internal/gtest-filepath.h\n",
            "-- Up-to-date: /root/.hunter/_Base/70287b1/02ccb06/dffbc08/Build/GTest/Install/include/gtest/internal/gtest-type-util.h\n",
            "-- Up-to-date: /root/.hunter/_Base/70287b1/02ccb06/dffbc08/Build/GTest/Install/include/gtest/internal/gtest-linked_ptr.h\n",
            "-- Up-to-date: /root/.hunter/_Base/70287b1/02ccb06/dffbc08/Build/GTest/Install/include/gtest/internal/gtest-internal.h\n",
            "-- Up-to-date: /root/.hunter/_Base/70287b1/02ccb06/dffbc08/Build/GTest/Install/include/gtest/internal/gtest-param-util-generated.h\n",
            "-- Up-to-date: /root/.hunter/_Base/70287b1/02ccb06/dffbc08/Build/GTest/Install/include/gtest/internal/gtest-port-arch.h\n",
            "-- Up-to-date: /root/.hunter/_Base/70287b1/02ccb06/dffbc08/Build/GTest/Install/include/gtest/internal/gtest-string.h\n",
            "-- Up-to-date: /root/.hunter/_Base/70287b1/02ccb06/dffbc08/Build/GTest/Install/include/gtest/gtest-param-test.h\n",
            "-- Up-to-date: /root/.hunter/_Base/70287b1/02ccb06/dffbc08/Build/GTest/Install/include/gtest/gtest.h\n",
            "-- Up-to-date: /root/.hunter/_Base/70287b1/02ccb06/dffbc08/Build/GTest/Install/include/gtest/gtest-printers.h\n",
            "-- Up-to-date: /root/.hunter/_Base/70287b1/02ccb06/dffbc08/Build/GTest/Install/include/gtest/gtest-message.h\n",
            "-- Installing: /root/.hunter/_Base/70287b1/02ccb06/dffbc08/Build/GTest/Install/lib/cmake/GTest/GTestConfig.cmake\n",
            "-- Installing: /root/.hunter/_Base/70287b1/02ccb06/dffbc08/Build/GTest/Install/lib/cmake/GTest/GTestConfigVersion.cmake\n",
            "-- Installing: /root/.hunter/_Base/70287b1/02ccb06/dffbc08/Build/GTest/Install/lib/cmake/GTest/GTestTargets.cmake\n",
            "-- Installing: /root/.hunter/_Base/70287b1/02ccb06/dffbc08/Build/GTest/Install/lib/cmake/GTest/GTestTargets-debug.cmake\n",
            "loading initial cache file /root/.hunter/_Base/70287b1/02ccb06/dffbc08/Build/GTest/args.cmake\n",
            "[100%] Completed 'GTest-Debug'\n",
            "[100%] Built target GTest-Debug\n",
            "-- [hunter] Build step successful (dir: /root/.hunter/_Base/70287b1/02ccb06/dffbc08/Build/GTest)\n",
            "-- [hunter] Cache saved: /root/.hunter/_Base/Cache/raw/655ff56023efd2d1bc856a4601e361089d261aee.tar.bz2\n",
            "-- [hunter] NLOHMANN_JSON_ROOT: /root/.hunter/_Base/70287b1/02ccb06/dffbc08/Install (ver.: 3.3.0)\n",
            "-- [hunter] Building nlohmann_json\n",
            "loading initial cache file /root/.hunter/_Base/70287b1/02ccb06/dffbc08/cache.cmake\n",
            "loading initial cache file /root/.hunter/_Base/70287b1/02ccb06/dffbc08/Build/nlohmann_json/args.cmake\n",
            "-- The C compiler identification is GNU 7.5.0\n",
            "-- The CXX compiler identification is GNU 7.5.0\n",
            "-- Check for working C compiler: /usr/bin/cc - skipped\n",
            "-- Detecting C compile features\n",
            "-- Detecting C compile features - done\n",
            "-- Check for working CXX compiler: /usr/bin/c++ - skipped\n",
            "-- Detecting CXX compile features\n",
            "-- Detecting CXX compile features - done\n",
            "-- Configuring done\n",
            "-- Generating done\n",
            "-- Build files have been written to: /root/.hunter/_Base/70287b1/02ccb06/dffbc08/Build/nlohmann_json/Build\n",
            "[  6%] Creating directories for 'nlohmann_json-Release'\n",
            "[ 12%] Performing download step (download, verify and extract) for 'nlohmann_json-Release'\n",
            "-- Downloading...\n",
            "   dst='/root/.hunter/_Base/Download/nlohmann_json/3.3.0/90842f0/v3.3.0.tar.gz'\n",
            "   timeout='none'\n",
            "   inactivity timeout='none'\n",
            "-- Using src='https://github.com/nlohmann/json/archive/v3.3.0.tar.gz'\n",
            "-- verifying file...\n",
            "       file='/root/.hunter/_Base/Download/nlohmann_json/3.3.0/90842f0/v3.3.0.tar.gz'\n",
            "-- Downloading... done\n",
            "-- extracting...\n",
            "     src='/root/.hunter/_Base/Download/nlohmann_json/3.3.0/90842f0/v3.3.0.tar.gz'\n",
            "     dst='/root/.hunter/_Base/70287b1/02ccb06/dffbc08/Build/nlohmann_json/Source'\n",
            "-- extracting... [tar xfz]\n",
            "-- extracting... [analysis]\n",
            "-- extracting... [rename]\n",
            "-- extracting... [clean up]\n",
            "-- extracting... done\n",
            "[ 18%] No update step for 'nlohmann_json-Release'\n",
            "[ 25%] No patch step for 'nlohmann_json-Release'\n",
            "[ 31%] Performing configure step for 'nlohmann_json-Release'\n",
            "loading initial cache file /root/.hunter/_Base/70287b1/02ccb06/dffbc08/cache.cmake\n",
            "loading initial cache file /root/.hunter/_Base/70287b1/02ccb06/dffbc08/Build/nlohmann_json/args.cmake\n",
            "-- The CXX compiler identification is GNU 7.5.0\n",
            "-- Check for working CXX compiler: /usr/bin/c++ - skipped\n",
            "-- Detecting CXX compile features\n",
            "-- Detecting CXX compile features - done\n",
            "-- Using the single-header code from /root/.hunter/_Base/70287b1/02ccb06/dffbc08/Build/nlohmann_json/Source/single_include/\n",
            "-- Configuring done\n",
            "-- Generating done\n",
            "-- Build files have been written to: /root/.hunter/_Base/70287b1/02ccb06/dffbc08/Build/nlohmann_json/Build/nlohmann_json-Release-prefix/src/nlohmann_json-Release-build\n",
            "[ 37%] Performing build step for 'nlohmann_json-Release'\n",
            "[ 43%] Performing install step for 'nlohmann_json-Release'\n",
            "Install the project...\n",
            "-- Install configuration: \"Release\"\n",
            "-- Installing: /root/.hunter/_Base/70287b1/02ccb06/dffbc08/Build/nlohmann_json/Install/include\n",
            "-- Installing: /root/.hunter/_Base/70287b1/02ccb06/dffbc08/Build/nlohmann_json/Install/include/nlohmann\n",
            "-- Installing: /root/.hunter/_Base/70287b1/02ccb06/dffbc08/Build/nlohmann_json/Install/include/nlohmann/json.hpp\n",
            "-- Installing: /root/.hunter/_Base/70287b1/02ccb06/dffbc08/Build/nlohmann_json/Install/lib/cmake/nlohmann_json/nlohmann_jsonConfig.cmake\n",
            "-- Installing: /root/.hunter/_Base/70287b1/02ccb06/dffbc08/Build/nlohmann_json/Install/lib/cmake/nlohmann_json/nlohmann_jsonConfigVersion.cmake\n",
            "-- Installing: /root/.hunter/_Base/70287b1/02ccb06/dffbc08/Build/nlohmann_json/Install/lib/cmake/nlohmann_json/nlohmann_jsonTargets.cmake\n",
            "loading initial cache file /root/.hunter/_Base/70287b1/02ccb06/dffbc08/Build/nlohmann_json/args.cmake\n",
            "[ 50%] Completed 'nlohmann_json-Release'\n",
            "[ 50%] Built target nlohmann_json-Release\n",
            "[ 56%] Creating directories for 'nlohmann_json-Debug'\n",
            "[ 62%] Performing download step (download, verify and extract) for 'nlohmann_json-Debug'\n",
            "-- verifying file...\n",
            "       file='/root/.hunter/_Base/Download/nlohmann_json/3.3.0/90842f0/v3.3.0.tar.gz'\n",
            "-- File already exists and hash match (skip download):\n",
            "  file='/root/.hunter/_Base/Download/nlohmann_json/3.3.0/90842f0/v3.3.0.tar.gz'\n",
            "  SHA1='90842f04aadc1af1af600ce84c7fbe0d1dfc3d3c'\n",
            "-- extracting...\n",
            "     src='/root/.hunter/_Base/Download/nlohmann_json/3.3.0/90842f0/v3.3.0.tar.gz'\n",
            "     dst='/root/.hunter/_Base/70287b1/02ccb06/dffbc08/Build/nlohmann_json/Source'\n",
            "-- extracting... [tar xfz]\n",
            "-- extracting... [analysis]\n",
            "-- extracting... [rename]\n",
            "-- extracting... [clean up]\n",
            "-- extracting... done\n",
            "[ 68%] No update step for 'nlohmann_json-Debug'\n",
            "[ 75%] No patch step for 'nlohmann_json-Debug'\n",
            "[ 81%] Performing configure step for 'nlohmann_json-Debug'\n",
            "loading initial cache file /root/.hunter/_Base/70287b1/02ccb06/dffbc08/cache.cmake\n",
            "loading initial cache file /root/.hunter/_Base/70287b1/02ccb06/dffbc08/Build/nlohmann_json/args.cmake\n",
            "-- The CXX compiler identification is GNU 7.5.0\n",
            "-- Check for working CXX compiler: /usr/bin/c++ - skipped\n",
            "-- Detecting CXX compile features\n",
            "-- Detecting CXX compile features - done\n",
            "-- Using the single-header code from /root/.hunter/_Base/70287b1/02ccb06/dffbc08/Build/nlohmann_json/Source/single_include/\n",
            "-- Configuring done\n",
            "-- Generating done\n",
            "-- Build files have been written to: /root/.hunter/_Base/70287b1/02ccb06/dffbc08/Build/nlohmann_json/Build/nlohmann_json-Debug-prefix/src/nlohmann_json-Debug-build\n",
            "[ 87%] Performing build step for 'nlohmann_json-Debug'\n",
            "[ 93%] Performing install step for 'nlohmann_json-Debug'\n",
            "Install the project...\n",
            "-- Install configuration: \"Debug\"\n",
            "-- Up-to-date: /root/.hunter/_Base/70287b1/02ccb06/dffbc08/Build/nlohmann_json/Install/include\n",
            "-- Up-to-date: /root/.hunter/_Base/70287b1/02ccb06/dffbc08/Build/nlohmann_json/Install/include/nlohmann\n",
            "-- Up-to-date: /root/.hunter/_Base/70287b1/02ccb06/dffbc08/Build/nlohmann_json/Install/include/nlohmann/json.hpp\n",
            "-- Installing: /root/.hunter/_Base/70287b1/02ccb06/dffbc08/Build/nlohmann_json/Install/lib/cmake/nlohmann_json/nlohmann_jsonConfig.cmake\n",
            "-- Installing: /root/.hunter/_Base/70287b1/02ccb06/dffbc08/Build/nlohmann_json/Install/lib/cmake/nlohmann_json/nlohmann_jsonConfigVersion.cmake\n",
            "-- Installing: /root/.hunter/_Base/70287b1/02ccb06/dffbc08/Build/nlohmann_json/Install/lib/cmake/nlohmann_json/nlohmann_jsonTargets.cmake\n",
            "loading initial cache file /root/.hunter/_Base/70287b1/02ccb06/dffbc08/Build/nlohmann_json/args.cmake\n",
            "[100%] Completed 'nlohmann_json-Debug'\n",
            "[100%] Built target nlohmann_json-Debug\n",
            "-- [hunter] Build step successful (dir: /root/.hunter/_Base/70287b1/02ccb06/dffbc08/Build/nlohmann_json)\n",
            "-- [hunter] Cache saved: /root/.hunter/_Base/Cache/raw/630d589b87bbbe9cfb7eec34e04ff67ce516171a.tar.bz2\n",
            "-- Found nlohmann_json: /root/.hunter/_Base/70287b1/02ccb06/dffbc08/Install/lib/cmake/nlohmann_json/nlohmann_jsonConfig.cmake (found version \"3.3.0\") \n",
            "-- [hunter] SPDLOG_ROOT: /root/.hunter/_Base/70287b1/02ccb06/dffbc08/Install (ver.: 0.16.3-p1)\n",
            "-- [hunter] Building spdlog\n",
            "loading initial cache file /root/.hunter/_Base/70287b1/02ccb06/dffbc08/cache.cmake\n",
            "loading initial cache file /root/.hunter/_Base/70287b1/02ccb06/dffbc08/Build/spdlog/args.cmake\n",
            "-- The C compiler identification is GNU 7.5.0\n",
            "-- The CXX compiler identification is GNU 7.5.0\n",
            "-- Check for working C compiler: /usr/bin/cc - skipped\n",
            "-- Detecting C compile features\n",
            "-- Detecting C compile features - done\n",
            "-- Check for working CXX compiler: /usr/bin/c++ - skipped\n",
            "-- Detecting CXX compile features\n",
            "-- Detecting CXX compile features - done\n",
            "-- Configuring done\n",
            "-- Generating done\n",
            "-- Build files have been written to: /root/.hunter/_Base/70287b1/02ccb06/dffbc08/Build/spdlog/Build\n",
            "[  6%] Creating directories for 'spdlog-Release'\n",
            "[ 12%] Performing download step (download, verify and extract) for 'spdlog-Release'\n",
            "-- Downloading...\n",
            "   dst='/root/.hunter/_Base/Download/spdlog/0.16.3-p1/1400ca4/v0.16.3-p1.tar.gz'\n",
            "   timeout='none'\n",
            "   inactivity timeout='none'\n",
            "-- Using src='https://github.com/hunter-packages/spdlog/archive/v0.16.3-p1.tar.gz'\n",
            "-- verifying file...\n",
            "       file='/root/.hunter/_Base/Download/spdlog/0.16.3-p1/1400ca4/v0.16.3-p1.tar.gz'\n",
            "-- Downloading... done\n",
            "-- extracting...\n",
            "     src='/root/.hunter/_Base/Download/spdlog/0.16.3-p1/1400ca4/v0.16.3-p1.tar.gz'\n",
            "     dst='/root/.hunter/_Base/70287b1/02ccb06/dffbc08/Build/spdlog/Source'\n",
            "-- extracting... [tar xfz]\n",
            "-- extracting... [analysis]\n",
            "-- extracting... [rename]\n",
            "-- extracting... [clean up]\n",
            "-- extracting... done\n",
            "[ 18%] No update step for 'spdlog-Release'\n",
            "[ 25%] No patch step for 'spdlog-Release'\n",
            "[ 31%] Performing configure step for 'spdlog-Release'\n",
            "loading initial cache file /root/.hunter/_Base/70287b1/02ccb06/dffbc08/cache.cmake\n",
            "loading initial cache file /root/.hunter/_Base/70287b1/02ccb06/dffbc08/Build/spdlog/args.cmake\n",
            "-- The C compiler identification is GNU 7.5.0\n",
            "-- The CXX compiler identification is GNU 7.5.0\n",
            "-- Check for working C compiler: /usr/bin/cc - skipped\n",
            "-- Detecting C compile features\n",
            "-- Detecting C compile features - done\n",
            "-- Check for working CXX compiler: /usr/bin/c++ - skipped\n",
            "-- Detecting CXX compile features\n",
            "-- Detecting CXX compile features - done\n",
            "-- [hunter] HUNTER_ROOT: /root/.hunter\n",
            "-- [hunter] [ Hunter-ID: 70287b1 | Toolchain-ID: 02ccb06 | Config-ID: dffbc08 ]\n",
            "-- [hunter] FMT_ROOT: /root/.hunter/_Base/70287b1/02ccb06/dffbc08/Install (ver.: 4.1.0)\n",
            "-- Looking for pthread.h\n",
            "-- Looking for pthread.h - found\n",
            "-- Performing Test CMAKE_HAVE_LIBC_PTHREAD\n",
            "-- Performing Test CMAKE_HAVE_LIBC_PTHREAD - Failed\n",
            "-- Looking for pthread_create in pthreads\n",
            "-- Looking for pthread_create in pthreads - not found\n",
            "-- Looking for pthread_create in pthread\n",
            "-- Looking for pthread_create in pthread - found\n",
            "-- Found Threads: TRUE  \n",
            "-- Configuring done\n",
            "-- Generating done\n",
            "-- Build files have been written to: /root/.hunter/_Base/70287b1/02ccb06/dffbc08/Build/spdlog/Build/spdlog-Release-prefix/src/spdlog-Release-build\n",
            "[ 37%] Performing build step for 'spdlog-Release'\n",
            "[ 43%] Performing install step for 'spdlog-Release'\n",
            "Install the project...\n",
            "-- Install configuration: \"Release\"\n",
            "-- Installing: /root/.hunter/_Base/70287b1/02ccb06/dffbc08/Build/spdlog/Install/include/spdlog\n",
            "-- Installing: /root/.hunter/_Base/70287b1/02ccb06/dffbc08/Build/spdlog/Install/include/spdlog/logger.h\n",
            "-- Installing: /root/.hunter/_Base/70287b1/02ccb06/dffbc08/Build/spdlog/Install/include/spdlog/fmt\n",
            "-- Installing: /root/.hunter/_Base/70287b1/02ccb06/dffbc08/Build/spdlog/Install/include/spdlog/fmt/fmt.h\n",
            "-- Installing: /root/.hunter/_Base/70287b1/02ccb06/dffbc08/Build/spdlog/Install/include/spdlog/fmt/bundled\n",
            "-- Installing: /root/.hunter/_Base/70287b1/02ccb06/dffbc08/Build/spdlog/Install/include/spdlog/fmt/bundled/ostream.h\n",
            "-- Installing: /root/.hunter/_Base/70287b1/02ccb06/dffbc08/Build/spdlog/Install/include/spdlog/fmt/bundled/posix.cc\n",
            "-- Installing: /root/.hunter/_Base/70287b1/02ccb06/dffbc08/Build/spdlog/Install/include/spdlog/fmt/bundled/printf.h\n",
            "-- Installing: /root/.hunter/_Base/70287b1/02ccb06/dffbc08/Build/spdlog/Install/include/spdlog/fmt/bundled/ostream.cc\n",
            "-- Installing: /root/.hunter/_Base/70287b1/02ccb06/dffbc08/Build/spdlog/Install/include/spdlog/fmt/bundled/format.cc\n",
            "-- Installing: /root/.hunter/_Base/70287b1/02ccb06/dffbc08/Build/spdlog/Install/include/spdlog/fmt/bundled/format.h\n",
            "-- Installing: /root/.hunter/_Base/70287b1/02ccb06/dffbc08/Build/spdlog/Install/include/spdlog/fmt/bundled/printf.cc\n",
            "-- Installing: /root/.hunter/_Base/70287b1/02ccb06/dffbc08/Build/spdlog/Install/include/spdlog/fmt/bundled/LICENSE.rst\n",
            "-- Installing: /root/.hunter/_Base/70287b1/02ccb06/dffbc08/Build/spdlog/Install/include/spdlog/fmt/bundled/posix.h\n",
            "-- Installing: /root/.hunter/_Base/70287b1/02ccb06/dffbc08/Build/spdlog/Install/include/spdlog/fmt/bundled/time.h\n",
            "-- Installing: /root/.hunter/_Base/70287b1/02ccb06/dffbc08/Build/spdlog/Install/include/spdlog/fmt/ostr.h\n",
            "-- Installing: /root/.hunter/_Base/70287b1/02ccb06/dffbc08/Build/spdlog/Install/include/spdlog/async_logger.h\n",
            "-- Installing: /root/.hunter/_Base/70287b1/02ccb06/dffbc08/Build/spdlog/Install/include/spdlog/formatter.h\n",
            "-- Installing: /root/.hunter/_Base/70287b1/02ccb06/dffbc08/Build/spdlog/Install/include/spdlog/sinks\n",
            "-- Installing: /root/.hunter/_Base/70287b1/02ccb06/dffbc08/Build/spdlog/Install/include/spdlog/sinks/windebug_sink.h\n",
            "-- Installing: /root/.hunter/_Base/70287b1/02ccb06/dffbc08/Build/spdlog/Install/include/spdlog/sinks/msvc_sink.h\n",
            "-- Installing: /root/.hunter/_Base/70287b1/02ccb06/dffbc08/Build/spdlog/Install/include/spdlog/sinks/dist_sink.h\n",
            "-- Installing: /root/.hunter/_Base/70287b1/02ccb06/dffbc08/Build/spdlog/Install/include/spdlog/sinks/null_sink.h\n",
            "-- Installing: /root/.hunter/_Base/70287b1/02ccb06/dffbc08/Build/spdlog/Install/include/spdlog/sinks/android_sink.h\n",
            "-- Installing: /root/.hunter/_Base/70287b1/02ccb06/dffbc08/Build/spdlog/Install/include/spdlog/sinks/stdout_sinks.h\n",
            "-- Installing: /root/.hunter/_Base/70287b1/02ccb06/dffbc08/Build/spdlog/Install/include/spdlog/sinks/file_sinks.h\n",
            "-- Installing: /root/.hunter/_Base/70287b1/02ccb06/dffbc08/Build/spdlog/Install/include/spdlog/sinks/wincolor_sink.h\n",
            "-- Installing: /root/.hunter/_Base/70287b1/02ccb06/dffbc08/Build/spdlog/Install/include/spdlog/sinks/ansicolor_sink.h\n",
            "-- Installing: /root/.hunter/_Base/70287b1/02ccb06/dffbc08/Build/spdlog/Install/include/spdlog/sinks/sink.h\n",
            "-- Installing: /root/.hunter/_Base/70287b1/02ccb06/dffbc08/Build/spdlog/Install/include/spdlog/sinks/ostream_sink.h\n",
            "-- Installing: /root/.hunter/_Base/70287b1/02ccb06/dffbc08/Build/spdlog/Install/include/spdlog/sinks/base_sink.h\n",
            "-- Installing: /root/.hunter/_Base/70287b1/02ccb06/dffbc08/Build/spdlog/Install/include/spdlog/sinks/syslog_sink.h\n",
            "-- Installing: /root/.hunter/_Base/70287b1/02ccb06/dffbc08/Build/spdlog/Install/include/spdlog/details\n",
            "-- Installing: /root/.hunter/_Base/70287b1/02ccb06/dffbc08/Build/spdlog/Install/include/spdlog/details/pattern_formatter_impl.h\n",
            "-- Installing: /root/.hunter/_Base/70287b1/02ccb06/dffbc08/Build/spdlog/Install/include/spdlog/details/async_logger_impl.h\n",
            "-- Installing: /root/.hunter/_Base/70287b1/02ccb06/dffbc08/Build/spdlog/Install/include/spdlog/details/async_log_helper.h\n",
            "-- Installing: /root/.hunter/_Base/70287b1/02ccb06/dffbc08/Build/spdlog/Install/include/spdlog/details/null_mutex.h\n",
            "-- Installing: /root/.hunter/_Base/70287b1/02ccb06/dffbc08/Build/spdlog/Install/include/spdlog/details/spdlog_impl.h\n",
            "-- Installing: /root/.hunter/_Base/70287b1/02ccb06/dffbc08/Build/spdlog/Install/include/spdlog/details/os.h\n",
            "-- Installing: /root/.hunter/_Base/70287b1/02ccb06/dffbc08/Build/spdlog/Install/include/spdlog/details/mpmc_bounded_q.h\n",
            "-- Installing: /root/.hunter/_Base/70287b1/02ccb06/dffbc08/Build/spdlog/Install/include/spdlog/details/registry.h\n",
            "-- Installing: /root/.hunter/_Base/70287b1/02ccb06/dffbc08/Build/spdlog/Install/include/spdlog/details/file_helper.h\n",
            "-- Installing: /root/.hunter/_Base/70287b1/02ccb06/dffbc08/Build/spdlog/Install/include/spdlog/details/logger_impl.h\n",
            "-- Installing: /root/.hunter/_Base/70287b1/02ccb06/dffbc08/Build/spdlog/Install/include/spdlog/details/log_msg.h\n",
            "-- Installing: /root/.hunter/_Base/70287b1/02ccb06/dffbc08/Build/spdlog/Install/include/spdlog/tweakme.h\n",
            "-- Installing: /root/.hunter/_Base/70287b1/02ccb06/dffbc08/Build/spdlog/Install/include/spdlog/spdlog.h\n",
            "-- Installing: /root/.hunter/_Base/70287b1/02ccb06/dffbc08/Build/spdlog/Install/include/spdlog/common.h\n",
            "-- Installing: /root/.hunter/_Base/70287b1/02ccb06/dffbc08/Build/spdlog/Install/lib/cmake/spdlog/spdlogConfig.cmake\n",
            "-- Installing: /root/.hunter/_Base/70287b1/02ccb06/dffbc08/Build/spdlog/Install/lib/cmake/spdlog/spdlogConfigVersion.cmake\n",
            "-- Installing: /root/.hunter/_Base/70287b1/02ccb06/dffbc08/Build/spdlog/Install/lib/pkgconfig/spdlog.pc\n",
            "-- Installing: /root/.hunter/_Base/70287b1/02ccb06/dffbc08/Build/spdlog/Install/lib/cmake/spdlog/spdlogTargets.cmake\n",
            "loading initial cache file /root/.hunter/_Base/70287b1/02ccb06/dffbc08/Build/spdlog/args.cmake\n",
            "[ 50%] Completed 'spdlog-Release'\n",
            "[ 50%] Built target spdlog-Release\n",
            "[ 56%] Creating directories for 'spdlog-Debug'\n",
            "[ 62%] Performing download step (download, verify and extract) for 'spdlog-Debug'\n",
            "-- verifying file...\n",
            "       file='/root/.hunter/_Base/Download/spdlog/0.16.3-p1/1400ca4/v0.16.3-p1.tar.gz'\n",
            "-- File already exists and hash match (skip download):\n",
            "  file='/root/.hunter/_Base/Download/spdlog/0.16.3-p1/1400ca4/v0.16.3-p1.tar.gz'\n",
            "  SHA1='1400ca456ad7c5ba89491f0dd3cd8935a16fe65c'\n",
            "-- extracting...\n",
            "     src='/root/.hunter/_Base/Download/spdlog/0.16.3-p1/1400ca4/v0.16.3-p1.tar.gz'\n",
            "     dst='/root/.hunter/_Base/70287b1/02ccb06/dffbc08/Build/spdlog/Source'\n",
            "-- extracting... [tar xfz]\n",
            "-- extracting... [analysis]\n",
            "-- extracting... [rename]\n",
            "-- extracting... [clean up]\n",
            "-- extracting... done\n",
            "[ 68%] No update step for 'spdlog-Debug'\n",
            "[ 75%] No patch step for 'spdlog-Debug'\n",
            "[ 81%] Performing configure step for 'spdlog-Debug'\n",
            "loading initial cache file /root/.hunter/_Base/70287b1/02ccb06/dffbc08/cache.cmake\n",
            "loading initial cache file /root/.hunter/_Base/70287b1/02ccb06/dffbc08/Build/spdlog/args.cmake\n",
            "-- The C compiler identification is GNU 7.5.0\n",
            "-- The CXX compiler identification is GNU 7.5.0\n",
            "-- Check for working C compiler: /usr/bin/cc - skipped\n",
            "-- Detecting C compile features\n",
            "-- Detecting C compile features - done\n",
            "-- Check for working CXX compiler: /usr/bin/c++ - skipped\n",
            "-- Detecting CXX compile features\n",
            "-- Detecting CXX compile features - done\n",
            "-- [hunter] HUNTER_ROOT: /root/.hunter\n",
            "-- [hunter] [ Hunter-ID: 70287b1 | Toolchain-ID: 02ccb06 | Config-ID: dffbc08 ]\n",
            "-- [hunter] FMT_ROOT: /root/.hunter/_Base/70287b1/02ccb06/dffbc08/Install (ver.: 4.1.0)\n",
            "-- Looking for pthread.h\n",
            "-- Looking for pthread.h - found\n",
            "-- Performing Test CMAKE_HAVE_LIBC_PTHREAD\n",
            "-- Performing Test CMAKE_HAVE_LIBC_PTHREAD - Failed\n",
            "-- Looking for pthread_create in pthreads\n",
            "-- Looking for pthread_create in pthreads - not found\n",
            "-- Looking for pthread_create in pthread\n",
            "-- Looking for pthread_create in pthread - found\n",
            "-- Found Threads: TRUE  \n",
            "-- Configuring done\n",
            "-- Generating done\n",
            "-- Build files have been written to: /root/.hunter/_Base/70287b1/02ccb06/dffbc08/Build/spdlog/Build/spdlog-Debug-prefix/src/spdlog-Debug-build\n",
            "[ 87%] Performing build step for 'spdlog-Debug'\n",
            "[ 93%] Performing install step for 'spdlog-Debug'\n",
            "Install the project...\n",
            "-- Install configuration: \"Debug\"\n",
            "-- Up-to-date: /root/.hunter/_Base/70287b1/02ccb06/dffbc08/Build/spdlog/Install/include/spdlog\n",
            "-- Up-to-date: /root/.hunter/_Base/70287b1/02ccb06/dffbc08/Build/spdlog/Install/include/spdlog/logger.h\n",
            "-- Up-to-date: /root/.hunter/_Base/70287b1/02ccb06/dffbc08/Build/spdlog/Install/include/spdlog/fmt\n",
            "-- Up-to-date: /root/.hunter/_Base/70287b1/02ccb06/dffbc08/Build/spdlog/Install/include/spdlog/fmt/fmt.h\n",
            "-- Up-to-date: /root/.hunter/_Base/70287b1/02ccb06/dffbc08/Build/spdlog/Install/include/spdlog/fmt/bundled\n",
            "-- Up-to-date: /root/.hunter/_Base/70287b1/02ccb06/dffbc08/Build/spdlog/Install/include/spdlog/fmt/bundled/ostream.h\n",
            "-- Up-to-date: /root/.hunter/_Base/70287b1/02ccb06/dffbc08/Build/spdlog/Install/include/spdlog/fmt/bundled/posix.cc\n",
            "-- Up-to-date: /root/.hunter/_Base/70287b1/02ccb06/dffbc08/Build/spdlog/Install/include/spdlog/fmt/bundled/printf.h\n",
            "-- Up-to-date: /root/.hunter/_Base/70287b1/02ccb06/dffbc08/Build/spdlog/Install/include/spdlog/fmt/bundled/ostream.cc\n",
            "-- Up-to-date: /root/.hunter/_Base/70287b1/02ccb06/dffbc08/Build/spdlog/Install/include/spdlog/fmt/bundled/format.cc\n",
            "-- Up-to-date: /root/.hunter/_Base/70287b1/02ccb06/dffbc08/Build/spdlog/Install/include/spdlog/fmt/bundled/format.h\n",
            "-- Up-to-date: /root/.hunter/_Base/70287b1/02ccb06/dffbc08/Build/spdlog/Install/include/spdlog/fmt/bundled/printf.cc\n",
            "-- Up-to-date: /root/.hunter/_Base/70287b1/02ccb06/dffbc08/Build/spdlog/Install/include/spdlog/fmt/bundled/LICENSE.rst\n",
            "-- Up-to-date: /root/.hunter/_Base/70287b1/02ccb06/dffbc08/Build/spdlog/Install/include/spdlog/fmt/bundled/posix.h\n",
            "-- Up-to-date: /root/.hunter/_Base/70287b1/02ccb06/dffbc08/Build/spdlog/Install/include/spdlog/fmt/bundled/time.h\n",
            "-- Up-to-date: /root/.hunter/_Base/70287b1/02ccb06/dffbc08/Build/spdlog/Install/include/spdlog/fmt/ostr.h\n",
            "-- Up-to-date: /root/.hunter/_Base/70287b1/02ccb06/dffbc08/Build/spdlog/Install/include/spdlog/async_logger.h\n",
            "-- Up-to-date: /root/.hunter/_Base/70287b1/02ccb06/dffbc08/Build/spdlog/Install/include/spdlog/formatter.h\n",
            "-- Up-to-date: /root/.hunter/_Base/70287b1/02ccb06/dffbc08/Build/spdlog/Install/include/spdlog/sinks\n",
            "-- Up-to-date: /root/.hunter/_Base/70287b1/02ccb06/dffbc08/Build/spdlog/Install/include/spdlog/sinks/windebug_sink.h\n",
            "-- Up-to-date: /root/.hunter/_Base/70287b1/02ccb06/dffbc08/Build/spdlog/Install/include/spdlog/sinks/msvc_sink.h\n",
            "-- Up-to-date: /root/.hunter/_Base/70287b1/02ccb06/dffbc08/Build/spdlog/Install/include/spdlog/sinks/dist_sink.h\n",
            "-- Up-to-date: /root/.hunter/_Base/70287b1/02ccb06/dffbc08/Build/spdlog/Install/include/spdlog/sinks/null_sink.h\n",
            "-- Up-to-date: /root/.hunter/_Base/70287b1/02ccb06/dffbc08/Build/spdlog/Install/include/spdlog/sinks/android_sink.h\n",
            "-- Up-to-date: /root/.hunter/_Base/70287b1/02ccb06/dffbc08/Build/spdlog/Install/include/spdlog/sinks/stdout_sinks.h\n",
            "-- Up-to-date: /root/.hunter/_Base/70287b1/02ccb06/dffbc08/Build/spdlog/Install/include/spdlog/sinks/file_sinks.h\n",
            "-- Up-to-date: /root/.hunter/_Base/70287b1/02ccb06/dffbc08/Build/spdlog/Install/include/spdlog/sinks/wincolor_sink.h\n",
            "-- Up-to-date: /root/.hunter/_Base/70287b1/02ccb06/dffbc08/Build/spdlog/Install/include/spdlog/sinks/ansicolor_sink.h\n",
            "-- Up-to-date: /root/.hunter/_Base/70287b1/02ccb06/dffbc08/Build/spdlog/Install/include/spdlog/sinks/sink.h\n",
            "-- Up-to-date: /root/.hunter/_Base/70287b1/02ccb06/dffbc08/Build/spdlog/Install/include/spdlog/sinks/ostream_sink.h\n",
            "-- Up-to-date: /root/.hunter/_Base/70287b1/02ccb06/dffbc08/Build/spdlog/Install/include/spdlog/sinks/base_sink.h\n",
            "-- Up-to-date: /root/.hunter/_Base/70287b1/02ccb06/dffbc08/Build/spdlog/Install/include/spdlog/sinks/syslog_sink.h\n",
            "-- Up-to-date: /root/.hunter/_Base/70287b1/02ccb06/dffbc08/Build/spdlog/Install/include/spdlog/details\n",
            "-- Up-to-date: /root/.hunter/_Base/70287b1/02ccb06/dffbc08/Build/spdlog/Install/include/spdlog/details/pattern_formatter_impl.h\n",
            "-- Up-to-date: /root/.hunter/_Base/70287b1/02ccb06/dffbc08/Build/spdlog/Install/include/spdlog/details/async_logger_impl.h\n",
            "-- Up-to-date: /root/.hunter/_Base/70287b1/02ccb06/dffbc08/Build/spdlog/Install/include/spdlog/details/async_log_helper.h\n",
            "-- Up-to-date: /root/.hunter/_Base/70287b1/02ccb06/dffbc08/Build/spdlog/Install/include/spdlog/details/null_mutex.h\n",
            "-- Up-to-date: /root/.hunter/_Base/70287b1/02ccb06/dffbc08/Build/spdlog/Install/include/spdlog/details/spdlog_impl.h\n",
            "-- Up-to-date: /root/.hunter/_Base/70287b1/02ccb06/dffbc08/Build/spdlog/Install/include/spdlog/details/os.h\n",
            "-- Up-to-date: /root/.hunter/_Base/70287b1/02ccb06/dffbc08/Build/spdlog/Install/include/spdlog/details/mpmc_bounded_q.h\n",
            "-- Up-to-date: /root/.hunter/_Base/70287b1/02ccb06/dffbc08/Build/spdlog/Install/include/spdlog/details/registry.h\n",
            "-- Up-to-date: /root/.hunter/_Base/70287b1/02ccb06/dffbc08/Build/spdlog/Install/include/spdlog/details/file_helper.h\n",
            "-- Up-to-date: /root/.hunter/_Base/70287b1/02ccb06/dffbc08/Build/spdlog/Install/include/spdlog/details/logger_impl.h\n",
            "-- Up-to-date: /root/.hunter/_Base/70287b1/02ccb06/dffbc08/Build/spdlog/Install/include/spdlog/details/log_msg.h\n",
            "-- Up-to-date: /root/.hunter/_Base/70287b1/02ccb06/dffbc08/Build/spdlog/Install/include/spdlog/tweakme.h\n",
            "-- Up-to-date: /root/.hunter/_Base/70287b1/02ccb06/dffbc08/Build/spdlog/Install/include/spdlog/spdlog.h\n",
            "-- Up-to-date: /root/.hunter/_Base/70287b1/02ccb06/dffbc08/Build/spdlog/Install/include/spdlog/common.h\n",
            "-- Installing: /root/.hunter/_Base/70287b1/02ccb06/dffbc08/Build/spdlog/Install/lib/cmake/spdlog/spdlogConfig.cmake\n",
            "-- Installing: /root/.hunter/_Base/70287b1/02ccb06/dffbc08/Build/spdlog/Install/lib/cmake/spdlog/spdlogConfigVersion.cmake\n",
            "-- Installing: /root/.hunter/_Base/70287b1/02ccb06/dffbc08/Build/spdlog/Install/lib/pkgconfig/spdlog.pc\n",
            "-- Installing: /root/.hunter/_Base/70287b1/02ccb06/dffbc08/Build/spdlog/Install/lib/cmake/spdlog/spdlogTargets.cmake\n",
            "loading initial cache file /root/.hunter/_Base/70287b1/02ccb06/dffbc08/Build/spdlog/args.cmake\n",
            "[100%] Completed 'spdlog-Debug'\n",
            "[100%] Built target spdlog-Debug\n",
            "-- [hunter] Build step successful (dir: /root/.hunter/_Base/70287b1/02ccb06/dffbc08/Build/spdlog)\n",
            "-- [hunter] Cache saved: /root/.hunter/_Base/Cache/raw/8497ceb317e773c5989416995358263c55271a0c.tar.bz2\n",
            "-- Looking for pthread.h\n",
            "-- Looking for pthread.h - found\n",
            "-- Performing Test CMAKE_HAVE_LIBC_PTHREAD\n",
            "-- Performing Test CMAKE_HAVE_LIBC_PTHREAD - Failed\n",
            "-- Looking for pthread_create in pthreads\n",
            "-- Looking for pthread_create in pthreads - not found\n",
            "-- Looking for pthread_create in pthread\n",
            "-- Looking for pthread_create in pthread - found\n",
            "-- Found Threads: TRUE  \n",
            "-- Configuring done\n",
            "-- Generating done\n",
            "-- Build files have been written to: /content/khaiii/build\n",
            "[  3%] \u001b[32mBuilding CXX object CMakeFiles/obj_khaiii.dir/src/main/cpp/khaiii/Config.cpp.o\u001b[0m\n",
            "[  7%] \u001b[32mBuilding CXX object CMakeFiles/obj_khaiii.dir/src/main/cpp/khaiii/Embed.cpp.o\u001b[0m\n",
            "[ 11%] \u001b[32mBuilding CXX object CMakeFiles/obj_khaiii.dir/src/main/cpp/khaiii/ErrPatch.cpp.o\u001b[0m\n",
            "[ 15%] \u001b[32mBuilding CXX object CMakeFiles/obj_khaiii.dir/src/main/cpp/khaiii/KhaiiiImpl.cpp.o\u001b[0m\n",
            "[ 19%] \u001b[32mBuilding CXX object CMakeFiles/obj_khaiii.dir/src/main/cpp/khaiii/Morph.cpp.o\u001b[0m\n",
            "[ 23%] \u001b[32mBuilding CXX object CMakeFiles/obj_khaiii.dir/src/main/cpp/khaiii/Preanal.cpp.o\u001b[0m\n",
            "[ 26%] \u001b[32mBuilding CXX object CMakeFiles/obj_khaiii.dir/src/main/cpp/khaiii/Resource.cpp.o\u001b[0m\n",
            "[ 30%] \u001b[32mBuilding CXX object CMakeFiles/obj_khaiii.dir/src/main/cpp/khaiii/Restore.cpp.o\u001b[0m\n",
            "[ 34%] \u001b[32mBuilding CXX object CMakeFiles/obj_khaiii.dir/src/main/cpp/khaiii/Sentence.cpp.o\u001b[0m\n",
            "[ 38%] \u001b[32mBuilding CXX object CMakeFiles/obj_khaiii.dir/src/main/cpp/khaiii/Tagger.cpp.o\u001b[0m\n",
            "[ 42%] \u001b[32mBuilding CXX object CMakeFiles/obj_khaiii.dir/src/main/cpp/khaiii/Trie.cpp.o\u001b[0m\n",
            "[ 46%] \u001b[32mBuilding CXX object CMakeFiles/obj_khaiii.dir/src/main/cpp/khaiii/Word.cpp.o\u001b[0m\n",
            "[ 50%] \u001b[32mBuilding CXX object CMakeFiles/obj_khaiii.dir/src/main/cpp/khaiii/khaiii_api.cpp.o\u001b[0m\n",
            "[ 53%] \u001b[32mBuilding CXX object CMakeFiles/obj_khaiii.dir/src/main/cpp/khaiii/khaiii_dev.cpp.o\u001b[0m\n",
            "[ 57%] \u001b[32mBuilding CXX object CMakeFiles/obj_khaiii.dir/src/main/cpp/khaiii/nn/Conv1d.cpp.o\u001b[0m\n",
            "[ 61%] \u001b[32mBuilding CXX object CMakeFiles/obj_khaiii.dir/src/main/cpp/khaiii/nn/Linear.cpp.o\u001b[0m\n",
            "[ 65%] \u001b[32mBuilding CXX object CMakeFiles/obj_khaiii.dir/src/main/cpp/khaiii/nn/tensor.cpp.o\u001b[0m\n",
            "[ 65%] Built target obj_khaiii\n",
            "[ 69%] \u001b[32m\u001b[1mLinking CXX shared library lib/libkhaiii.so\u001b[0m\n",
            "[ 69%] Built target khaiii\n",
            "[ 73%] \u001b[32mBuilding CXX object CMakeFiles/bin_khaiii.dir/src/main/cpp/main.cpp.o\u001b[0m\n",
            "[ 76%] \u001b[32m\u001b[1mLinking CXX executable bin/khaiii\u001b[0m\n",
            "[ 76%] Built target bin_khaiii\n",
            "[ 80%] \u001b[32mBuilding CXX object CMakeFiles/test_khaiii.dir/src/test/cpp/test_main.cpp.o\u001b[0m\n",
            "[ 84%] \u001b[32mBuilding CXX object CMakeFiles/test_khaiii.dir/src/test/cpp/khaiii/ErrPatchTest.cpp.o\u001b[0m\n",
            "[ 88%] \u001b[32mBuilding CXX object CMakeFiles/test_khaiii.dir/src/test/cpp/khaiii/KhaiiiApiTest.cpp.o\u001b[0m\n",
            "[ 92%] \u001b[32mBuilding CXX object CMakeFiles/test_khaiii.dir/src/test/cpp/khaiii/KhaiiiDevTest.cpp.o\u001b[0m\n",
            "[ 96%] \u001b[32mBuilding CXX object CMakeFiles/test_khaiii.dir/src/test/cpp/khaiii/PreanalTest.cpp.o\u001b[0m\n",
            "[100%] \u001b[32m\u001b[1mLinking CXX executable test/khaiii\u001b[0m\n",
            "[100%] Built target test_khaiii\n",
            "INFO:root:config: {\n",
            "    \"cutoff\": 1,\n",
            "    \"embed_dim\": 35,\n",
            "    \"hidden_dim\": 320,\n",
            "    \"model_id\": \"munjong.cut1.win4.sdo0.1.emb35.lr0.001.lrd0.9.bs500\",\n",
            "    \"rsc_src\": \"../rsc/src\",\n",
            "    \"window\": 4\n",
            "}\n",
            "INFO:root:vocab.in: 5621 entries, 0 cutoff\n",
            "INFO:root:vocab.out: 500 entries, 0 cutoff\n",
            "INFO:root:restore.dic: 4303 entries\n",
            "INFO:root:preanal.auto\n",
            "INFO:root:preanal.manual\n",
            "INFO:root:trie saved: /content/khaiii/build/share/khaiii/preanal.tri\n",
            "INFO:root:total nodes: 120812\n",
            "INFO:root:expected size: 1932992\n",
            "INFO:root:value saved: /content/khaiii/build/share/khaiii/preanal.val\n",
            "INFO:root:total entries: 83373\n",
            "INFO:root:expected size: 593730\n",
            "INFO:root:restore.key: 17212\n",
            "INFO:root:restore.val: 68848\n",
            "INFO:root:restore.one: 503\n",
            "INFO:root:base.errpatch.auto\n",
            "INFO:root:base.errpatch.manual\n",
            "INFO:root:trie saved: /content/khaiii/build/share/khaiii/errpatch.tri\n",
            "INFO:root:total nodes: 2067\n",
            "INFO:root:expected size: 33072\n",
            "INFO:root:length saved: /content/khaiii/build/share/khaiii/errpatch.len\n",
            "INFO:root:expected size: 551\n",
            "INFO:root:value saved: /content/khaiii/build/share/khaiii/errpatch.val\n",
            "INFO:root:total entries: 550\n",
            "INFO:root:expected size: 7632\n",
            "Built target resource\n",
            "\u001b[36mRun CPack packaging tool for source...\u001b[0m\n",
            "CPack: Create package using ZIP\n",
            "CPack: Install projects\n",
            "CPack: - Install directory: /content/khaiii\n",
            "CPack: Create package\n",
            "CPack: - package: /content/khaiii/build/khaiii-0.4.zip generated.\n",
            "Built target package_python\n",
            "\u001b[31mERROR: You must give at least one requirement to install (see \"pip help install\")\u001b[0m\n"
          ]
        }
      ]
    },
    {
      "cell_type": "code",
      "source": [
        "!cd khaiii/build; make all\n"
      ],
      "metadata": {
        "colab": {
          "base_uri": "https://localhost:8080/"
        },
        "id": "_-bOyFZVXnu_",
        "outputId": "0d7df5d4-f7b6-4e6f-c929-b27fdeb9a584"
      },
      "execution_count": null,
      "outputs": [
        {
          "output_type": "stream",
          "name": "stdout",
          "text": [
            "\u001b[35m\u001b[1mConsolidate compiler generated dependencies of target obj_khaiii\u001b[0m\n",
            "[ 65%] Built target obj_khaiii\n",
            "[ 69%] Built target khaiii\n",
            "\u001b[35m\u001b[1mConsolidate compiler generated dependencies of target bin_khaiii\u001b[0m\n",
            "[ 76%] Built target bin_khaiii\n",
            "\u001b[35m\u001b[1mConsolidate compiler generated dependencies of target test_khaiii\u001b[0m\n",
            "[100%] Built target test_khaiii\n"
          ]
        }
      ]
    },
    {
      "cell_type": "code",
      "source": [
        "!cd khaiii/build; make resource\n"
      ],
      "metadata": {
        "colab": {
          "base_uri": "https://localhost:8080/"
        },
        "id": "mIsDgJ-eXuSN",
        "outputId": "f9243101-b376-48b2-f099-e142de54f591"
      },
      "execution_count": null,
      "outputs": [
        {
          "output_type": "stream",
          "name": "stdout",
          "text": [
            "Built target resource\n"
          ]
        }
      ]
    },
    {
      "cell_type": "code",
      "source": [
        "!cd khaiii/build; make package_python\n"
      ],
      "metadata": {
        "colab": {
          "base_uri": "https://localhost:8080/"
        },
        "id": "rW3XiOT7XzJp",
        "outputId": "0466bdd9-4a85-49fc-a0c2-38ae4814119d"
      },
      "execution_count": null,
      "outputs": [
        {
          "output_type": "stream",
          "name": "stdout",
          "text": [
            "\u001b[36mRun CPack packaging tool for source...\u001b[0m\n",
            "CPack: Create package using ZIP\n",
            "CPack: Install projects\n",
            "CPack: - Install directory: /content/khaiii\n",
            "CPack: Create package\n",
            "CPack: - package: /content/khaiii/build/khaiii-0.4.zip generated.\n",
            "Built target package_python\n"
          ]
        }
      ]
    },
    {
      "cell_type": "code",
      "source": [
        "!cd khaiii/build/package_python; pip install ."
      ],
      "metadata": {
        "colab": {
          "base_uri": "https://localhost:8080/"
        },
        "id": "kb4N9k8-X38g",
        "outputId": "8b38b65e-3f0b-47e6-c618-f20469d4f966"
      },
      "execution_count": null,
      "outputs": [
        {
          "output_type": "stream",
          "name": "stdout",
          "text": [
            "Looking in indexes: https://pypi.org/simple, https://us-python.pkg.dev/colab-wheels/public/simple/\n",
            "Processing /content/khaiii/build/package_python\n",
            "\u001b[33m  DEPRECATION: A future pip version will change local packages to be built in-place without first copying to a temporary directory. We recommend you use --use-feature=in-tree-build to test your packages with this new behavior before it becomes the default.\n",
            "   pip 21.3 will remove support for this functionality. You can find discussion regarding this at https://github.com/pypa/pip/issues/7555.\u001b[0m\n",
            "Building wheels for collected packages: khaiii\n",
            "  Building wheel for khaiii (setup.py) ... \u001b[?25l\u001b[?25hdone\n",
            "  Created wheel for khaiii: filename=khaiii-0.4-py3-none-any.whl size=22883642 sha256=6e7e6dcd2deac9cb1d59709b77300b571511a6edebe5bf4f691f105beb378a8d\n",
            "  Stored in directory: /tmp/pip-ephem-wheel-cache-wahu8vsw/wheels/48/78/52/0f40fd0fccb276056f31430d37efe26fa03f9fa921d0653fe5\n",
            "Successfully built khaiii\n",
            "Installing collected packages: khaiii\n",
            "Successfully installed khaiii-0.4\n"
          ]
        }
      ]
    },
    {
      "cell_type": "markdown",
      "source": [
        "* df_b에는 영화마다 리뷰가 30개씩 들어있다.\n",
        "* 30개의 리뷰를 하나의 문자열로 만들어 texts에 저장한다.\n",
        "* texts에는 100개의 문자열이 들어있다."
      ],
      "metadata": {
        "id": "_6_F6yKfPVp8"
      }
    },
    {
      "cell_type": "code",
      "source": [
        "texts = df_b.apply(lambda x: ' '.join([str(t) for t in x]),axis=1)\n",
        "texts.shape"
      ],
      "metadata": {
        "colab": {
          "base_uri": "https://localhost:8080/"
        },
        "id": "l63J8ynbXVny",
        "outputId": "620002b0-e663-4fb5-a4d2-04b7f6bdb98a"
      },
      "execution_count": null,
      "outputs": [
        {
          "output_type": "execute_result",
          "data": {
            "text/plain": [
              "(100,)"
            ]
          },
          "metadata": {},
          "execution_count": 58
        }
      ]
    },
    {
      "cell_type": "markdown",
      "source": [
        "* 첫 번째 영화의 리뷰들이다."
      ],
      "metadata": {
        "id": "5x5m_pFvP-M-"
      }
    },
    {
      "cell_type": "code",
      "source": [
        "texts[0]"
      ],
      "metadata": {
        "colab": {
          "base_uri": "https://localhost:8080/",
          "height": 167
        },
        "id": "znzOxp27Y9ci",
        "outputId": "da360ba5-1c88-4aba-8811-f5779b7beed0"
      },
      "execution_count": null,
      "outputs": [
        {
          "output_type": "execute_result",
          "data": {
            "text/plain": [
              "'이 영화는 최근에 보게 되었다.\\n\\n사실 개봉했을 당시에 나는 무척 반감이 들었다.\\n\\n만든 곳이 JK필름이라\\n\\n또 역사를 어떻게 조져서 표를 팔아먹으려는지 궁금했기 때문이다.\\n\\n그리고 7년 후 이 영화를 보게된 나는 이 영화가 천만관객의 영화 꼬리표를 달만한 \\n\\n영화라는 사실을 알게 되었다. 만약 그때 내가 가진 선입견(이라고는 하지만 JK필름 이 새끼들은 선을 넘어도 한참 넘었어. 선입견 심어준 건 이새끼들임)이 아니었다면 똑같이 영화를 보고 괜찮은 영화라고 평가하진 못 했을 것이다. 이게 무슨 의식의 흐름이냐면, 사실 나는 영화를 보기전에 임진왜란을 조금 복습하고 봤다. 그래서 명량 해전이 구체적으로 어떤 전투인지 알고 있었고 어떻게 이순신 장군이 왜놈새끼들을 몰아냈는지도 구체적으로 알고 있었기에, 이 영화가 고증을 잘 지켰다는 것을 알고 봤고 그래서 점수를 높게 쳐준 것이라, 만약 잘 모르고 봤다면 억지 연출이었다고 영화를 까고, 캐릭터 묘사는 1차원적이고 일본 장수는 그저 소모품에 불과하다고 거품 영화라 깠을 것이다. 그러나 실제는 더 말이 안 될 지경이니, 이순신 장군이 왜 신급으로 묘사하는지 우리는 알아야한다.\\n\\n\\n\\n명량 해전은 이순신 장군의 수많은 해전 이후에 벌어진 후반 전투였다.\\n\\n이순신은 전대미문의 팀킬로 인해 거의 죽음 직전까지 갔다온 몸이었고 \\n\\n오랜 기간의 전쟁으로 조선, 일본 모두 정신과 몸이 피폐해진 상태였기에 누구하나 유리하다 볼 수 없는 상태였고 특히 조선 삼도 수군은 원균 씹새끼의 트롤짓에 이미 함대 대부분이 박살난 상태여서 사기는 밑바닥에 있었다. 그와중에 이순신이 삼도수군통제사를 다시 받고 왜군을 막으러 명량으로 가는데 솔직히 이 상황에서 누가 겨우 13척의 배로 133척을 상대해서 이긴다고 생각하는가? 그냥 죽으러 가는 것이다라는 생각이 모두에게 들었을 것이다. 더욱이 원균 개새끼의 트롤짓에 환멸을 느꼈을것이고 그 상황에서 나라를 위해 죽으라고 하면 아무도 말을 안 들을 것이다. 이순신 장군은 그 상황에서 완벽하면서도 유도리 있는 원칙주의자였다. 군인은 명령에 따르지 않으면 죽어야한다고 했지만 그렇게 되면 전력을 잃고 사기는 더 떨어진다는 생각에 그는 혼자 전선 앞에 나선다. 영화 명량은 오히려 이 부분의 고증을 제대로 짚지 못했다. 이순신은 뒤에 12척을 남기고 혼자 1:133빵을 때렸다. 이게 진짜 역사다. 영화보다 더 말이 안되는 현실을 이순신 장군이 이미 몇 백 년 전에 이뤄낸 것이다.\\n\\n\\n\\n어찌됐든 울돌목의 해류가 다시 왜쪽으로 불리하게 바뀌고 겨우 배 한 척에 수많은 배와 사망자가 나오고 안택선 마저 침몰하자 왜군은 후퇴하게 된다. 그보다 이미 다이묘들에게 이순신이란 존재는 공포 그 자체였기에, 다시 전열을 다듬고 전투를 하기에는 이미 사기가 바닥에 떨어진 상태. 더욱이 오랜 전쟁으로 이미 피폐해진 왜놈들은 이런 명분 없는 전쟁에 휘말리고 싶지 않는 마음이 간절했을 것이다. (물론 살아남은 다이묘들은 본토에 가서 또다시 지들끼리 싸우다가 쳐뒤졌지만)\\n\\n\\n\\n그런 마당에 IOC는 이순신 장군의 말을 인용한 응원 문구를 정치적인 문구로 해석해서 현수막을 내리게 했다. 그래놓고서 진정으로 금지시켜야할 욱일기, 그와 관련된 디자인은 그대로 남겨뒀다. \\n\\n올림픽 정신은 온데간데 사라지고 오히려 일본 국민의 피해는 나몰라라하며 자신들의 정치적 목적으로 올림픽을 이용하는 일본 정부는 일언반구 없는 이 작금의 사태에, 누가 올림픽을 즐겁게 시청할까? \\n\\n\\n\\n전에 영속패전론 이라는 책을 읽었던 적이 있는데\\n\\n일본은 여전히 전쟁의 패배를 인정하지 않고 미국에 지배당한다는 어떤 사회학자의 이론을 담은 책이었다. 일본은 딱 그 수준이다. 무슨 수준이냐, 전문적인 학자들마저 민주주의의 정신을 망각한 채\\n\\n\\'패배\\' \\'승리\\' 라는 기준으로 \\'사회\\'를 평가하는 수준 말이다.\\n\\n더 큰 문제는 그 영속패전론의 의미를 제대로 파악하지 못한 한국인이다. 일본을 까면 얼씨구나 하고 발광하는 어떤 방향에 편향된 사람들은 그 책을 매우 긍정적으로 표현하고 있다.\\n\\n\\n\\n일본은 우리나라에선 되게 금기시하는 \\'공산당\\'이 당 이름으로 버젓이 쓰인다. 그들의 선전을 조사해봤고, 정말 놀랍게도 우리나라의 좌적폐의 행동이 이들과 비슷하다. 말로는 원칙적이고 옳은 말을 하는 듯이 보이나, 그 실체를 들여다보면 전혀 아닌. 특히 독도 관련 문제를 들여다보면 1905년 불법으로 편입한 것은 정당하지만 누구 영토인지는 토의를 해야한다는게 그들 입장이다. 말그대로 좌익스러운 입장인 것이다.\\n\\n영속패전론 역시 한국의 좌적폐가 펼치는 이론과 같다. 한국이나 일본이나 미군에게 점령당한 상태이며 이것에서 벗어나야한다는 것이다. 하나만 묻고 싶다. 그렇게 지배, 피지배의 이분법을 따른 뒤에 이 창백한 푸른 점 지구에서 남는 것은 무엇인가? 팩트는 점령이라는 의미는 냉전 시대의 상황에 따른 것이었고 미국은 줄곧 동맹국이었다. 만약 경제적, 군사적 차이로 점령이라는 논리를 펼치는 거라면 그야말로 새시대의 제국주의와 우생학을 외치는 나치새끼들이나 다름 없다. (실제로 나치당은 민주적으로 정권을 잡았다)\\n\\n\\n\\n우로는 전범, 좌로는 공산당. 이런 일본의 정치 판에 일본인들이 정치에 혐오를 가지고 허무주의에 빠지는 그 마음은, 그 누구보다 내가 더 잘 안다. 우리나라야말로 10년 전 딱 정치가 그랬기 때문이다.\\n\\n\\n\\n그런 와중에 일본은 일본인이 정신차려야한다는 소리를 하는 정치인이 판에 깔려있다. 당연히 일본사람들은 환멸을 느낄 뿐이다. 내가 그러했듯이. 물론 일본 역시 그런 좌우를 떠나 전 지구가 원하는 \\'정의\\'의 바람대로, 올바른 방향으로 정치를 외치는 사람들이 분명 있을 것이다. 그게 입헌민주당이겠거니 생각 중인데 강령만 봐도 자유민주당의 헌법 파괴시키겠다는 극우적인 강령과 다른 방향이 느껴진다. \\n\\n\\n\\n왜 갑자기 영화 리뷰에서 일본 얘기로 빠졌는가,\\n\\n\\n\\n나를 알고 적을 알면 몇 번을 싸워도 이긴다. 이는 이순신이 주로 공부했을거라 추측하는 손자병법에서 나오는 격언이다. 조금이라도 이순신 장군이 상대적으로 열악한 상황에서 충성과 절의, 애국을 위해 어떻게 왜군을 막았는지 생각해본다면 먼저 상대방의 전력을 면밀히 파악했으리라 생각이든다. 그래서 나또한 일본을 조사하고 알아봤다. 이순신 장군의 마음을 헤아리고 지피지기 백전불태를 위해. \\n\\n\\n\\n그래서 일본은 아직까지도 글로발 리더 국가의 자격은 가지고 있다는 사실을 우리는 알아야 한다. 깨어있는 일본 국민이 나라를 이끌어가는 주역이고 김대중 노무현 정권이 그러했던 것처럼 우리는 다시 그들을 맞이해야할 준비를 해야한다. 일본은 임진왜란이라는 병크를 냈지만, 이후 번영의 꽃인 애도 시대를 만들어냈고 명목상 민주주의 시작이라는 메이지 유신을 끌어냈다. 그 결말은 좆쓰레기 싸이코패스 전범국가로 핵 두 발 맞고 끝났지만 말이다.\\n\\n\\n\\n 현대에 와선 일본이 또 신의를 어기고 반도체 수출 규제를 때렸고 우리나라는 소부장을 안정적으로 자립하는 승리의 결과를 만들어냈다. 물론 피해가 없지는 않았다. 그러나 정황이 임진왜란과 비슷하다. 일본 정치계는 자신들의 안위를 위해 자국민을 조졌고 한국은 전쟁의 피해를 입었다. 이게 무슨 개씹지랄인가? 하지만 전쟁을 원한다면 우리 조상이 지켜온 이 땅을, 나도 역시 그 정신을 받들 것이다. 만약 실제 전쟁이 벌어진다면 나는 한 100킬 정도 예상하는 중이다. 다 덤벼라 씹발 왜구새끼들\\n\\n[출처] 영화 명량 리뷰|작성자 rrrr\\n\\n 개봉한 지 약 7년만에 처음으로 명량을 보았다.\\n\\n늘 보고 싶었는데, 이번에 한국사시험을 준비하면서 보고싶은 욕구가 강해져 보기로 결심했다.\\n\\n영화의 러닝타임의 절반정도를 전투씬을 보여주었는데, 하나도 지루하지 않고 오히려 더 집중되었다.\\n\\n\\u200b\\n\\n영화의 연출이 상당히 좋았다.\\n\\n이순신이 전투에 행할 때, 아들과의 대화를 번갈아 보여준다거나, 백성들이 이순신을 도우는 장면. 이 장면은 정말 인상깊었다. 이순신은 아들에게 이렇게 말한 바가 있다. 그런 왕을 위해 뭣하러 싸우냐는 아들의 질문에 자신은 왕을 위해서가 아닌, 백성들에게 충을 바친다고 하였다. 백성들이 이순신을 회오리로부터 구해줌으로써 이순신이 전투를 임하는 이유(앞서 말했던 것)가 타당해졌으며(이순신이 백성에게 해준 것이 없다면, 백성이 이순신을 살려주겠는가), 여기서 백성과 이순신 서로는 긍정적인 영향을 주는, 상호적인 관계임을 알 수 있었다. \\n\\n또한, 특히, 왜군이 조선 수군들의 목을 베어 보내온 장면이 있다. 이는 후반에 승리세를 잡고, 이순신이 왜군의 수장의 목을 달아 그대로 돌려주는 모습을 보여주었다. 이것이 실화인 것은 모르겠으나, 이러한 연출적인 부분이 좋았다.\\n\\n\\u200b\\n\\n이순신의 명언은 빼놓을 수가 없다.\\n\\n\"두려움을 용기로 만드는 것\"\\n\\n\"필히 살고자하면 죽을 것이고, 죽고자 하면 살 것이다\"\\n\\n그리고 가장 기억에 남는 것은 아들에게 한마디 하고 가는 부분인데, \"네 생각엔 무엇이 더 천행같더냐\" 이순신의 뜻은 백성들의 도움이 가장 천행이었다는 말이었다.\\n\\n\\u200b\\n\\n또한, 이순신이 미리 전투계획을 세워놓은 것인지, 그 짧은 순간순간 일사불란하게 명령을 내리는 모습이 너무 멋있었다.\\n\\n\\u200b\\n\\n이해가 안되는 부분도 꽤 많아, 영화가 끝나는 즉시 리뷰들을 찾아보았다.\\n\\n조선 배에 타고있던 일본어 하는 놈 - 첩보원\\n\\n구선이 부활했다 - 구선(거북선)이 아닌, 일반 배가 왜군의 배를 부딪혀 부서뜨리는 모습을 표현한 것\\n\\n이순신 아들은 왜 전투에 참가하지 않았는지 - 아버지를 도우려다 다쳐서 (다친 장면은 보았는데, 왜 그렇게 생각을 안했는지 모르겠다. 배에 오르지 않고 백성들과 함께 바라보기에 아들은 수군이 아닌가 싶었다.)\\n\\n\\u200b\\n\\n나는 영화 중간에 울기도 하였다.\\n\\n바로, 배우 진구때문이다. 탐망꾼이라 하는데, 무슨 뜻인지 몰라 찾아보니, 정보를 알아내는 사람을 부르는 말 같다.\\n\\n이 탐망꾼이 부인에게 자신의 죽음을 인지하고 있지만 뒤로하고 장군을 살리기 위해 외치는 장면이,\\n\\n이를 다 알면서도 남편의 뜻대로 들어주는 아내의 장면까지 너무 마음이 아프고, 공감되어서 서럽게 눈물이 났다.\\n\\n이 탐망꾼은 실제로도 있었던 사람이면서, 명량대첩 중 죽은 것은 사실이 아니라고 한다. 또한, 아내는 허구의 인물이라 한다.\\n\\n\\u200b\\n\\n영화를 보는 내내 내 웃음사냥꾼이 되주었던 배우 고경표. 좋아하는 배우인데, 배역이 어린 군인인지, 놀라는 표정이 많고, 어리숙한 모습이 귀여우면서 웃겨가지고 자주 웃었다.\\n\\n그리고 배우 노민우의 왜놈 연기. 너무 섹시해서 안좋아할 수가 없잖아. 다음부턴 이런 일본과의 전쟁영화 만들 때 진짜 일본인으로 쓰자. 류승룡도, 조진웅도, 노민우도 다 너무 좋아하는 배우라 영화를 보면서도 싫어할 수가 없잖아. 노민우...너무 잘생겼더라.\\n\\n\\u200b\\n\\n마지막으로, 전쟁이 승리를 가져와 무사히 마친 후, 수군들이 떠들었던 대화가 기억에 남는다.\\n\\n영화적으로 관객들에게 하는 말이겠지.\\n\\n\"후손들이 우리가 이렇게 고생한 걸 알까?\"\\n\\n\"당연하지 모르면 호로자식이다\"\\n\\n이번 기회에 잘 알고 머릿속에 새기겠습니다.\\n\\n정말, 모든 등장인물이 하나같이 멋있는 것 같다.\\n\\n물론 단연 최고는 이순신이다.\\n\\n내가 그자리에 있었다면, 노라도 제대로 저었을까?\\n\\n오늘도 스스로의 반성을 하며, 영화리뷰 끝.\\n\\n\\u200b\\n[출처] [영화] 명량 리뷰 (주저리주저리)|작성자 Bluez 너무나도 유명한 영화였지만 나는 이제야 보게 되었다. “노희영의 브랜딩 법칙”이라는 책을 읽던 중 “명량”과 “광해”를 언급했는데 읽다보니 궁금해져서 보게 되었다. \\n\\n \\n\\n 이순신 장군의 위대함은 모두 알 것이다. 나는 이순신역을 맡은 최민식의 연기에 감동을 받았다. 묵직하면서 중후하고 깊이가 있는 최민식이 이 역할을 맡았기에 이순신 장군의 활약이 더 눈에 띄지 않았을 까 생각되어졌다. 그리고 이미 일어난 일이고 승리가 확실한 것을 알고 보는 거지만 전투신에서 태위태 할 때는 내 마음도 콩알만 해졌다. \\n\\n 그리고 백성들이 배를 타고 나와 대장선을 끌어내는 모습은 너무나도 감동적인 장면이었다. 죽음을 각오하고 전장으로 나간 군사들과 백성들이 있었기에 현재 우리가 있는 것일테다.\\n\\n 나는 또 한번 저 시대에 태어나지 않음에 감사하며 우리 선조들에게 다시한번 감사를 표한다.\\n\\n\\u200b\\n\\n 이 영화는 내가 볼 때 잔인한 장면이 좀 많이 있었다. 개인적으로 그런 장면을 잘 보지 못한다. 하지만 연기자들의 연기가 좋아서 몰입감이 높고 (내가 아는 많은 연기자들이 나오고 류승룡의 연기도 훌륭하다.) 해상 전투신은 어떻게 저걸 찍었을까 하는 감탄이 나올 정도로 훌륭하며 이순신 장군의 업적을 볼 수 있는 영화이기에 안 보신 분이라면 보고 후회하지 않을 영화일 듯 싶다. \\n\\n \\n[출처] [영화리뷰]명량|작성자 서들의 맘 이 작품은 어마어마한 관객수와는 별개로 평가가 애매한 편입니다..! 해전씬은 매우 훌륭하였으나 대부분의 등장인물들의 낮은 비중과 평면적인 캐릭터가 아쉬웠다는 평가를 받고 있는데요! 한국의 엄청난 흥행과는 별개로.. 작품성에 대한 이야기는 호불호가 갈립니다! 중장년층은 대체로 호의적인 반응을 보였으나 젊은층에서는 호불호가 많이 가렸으며 평론가들은 회의적인 반응들을 많이 보여주었다고 하네요..! 그리고 해외 평론가들에게는 관심을 딱히 받지 못한..! 그런 작품입니다 ㅎㅎㅎ\\n\\n영화의 기승전결 구분이 없이 승전전전결~ 같다는 평가나 백성들의 도움을 표현한답시고 어설프게 미화된 신파 또한 지적이 되었습니다..! 또 스크린 독점이야기도 나오고 있고 ㅎㅎㅎ 관객수는 넘사벽이었지만 그 뒤에는 또 여러가지 말이 많았던 영화였네요...!ㅎㅎㅎㅎ\\n\\n[출처] 영화 명량 리뷰|작성자 달밤\\n\\n  이번에 소개드릴 영화는 2014년에 개봉한 <명량>입니다.\\n영화관에 개봉되면서 작품 자체에 대한 이야기도 많이 들려 왔었지만,\\n\\'스크린 독점\\' 즉, 독과점이라는 꼬리표가 붙게 되었던 영화입니다.\\n사실 처음 예매시간표를 잔뜩 있는 <명량>이라는 글자가 참 마음에 들지 않아서\\n\\n그냥 안봐야겠다 하다가 얼떨결에 보게 된 영화였는데, 그때 이 영화를 다보고 느낀건\\n\\n\"굳이 이렇게 잘 만들어 놓고 굳이 독과점을 해야 했을까?\"라는 생각이 먼저 들었습니다.\\n전체적인 연출도 상당히 만족스러웠고, <명량>이라는 영화의 큰 주제 자체가 역사 속의 \\'전쟁\\'을 담아\\n\\n시도때도 없이 펑펑 터지는 장면들이 주를 이루고 있지만, 막상 보고나면 전체적인 흐름 자체가\\n\\n상당히 매끄럽고 큰 불편함을 느끼지 못했습니다. 오롯이 영화에 집중할 수 있는 연출과 분위기여서\\n\\n<명량>이라는 영화 자체에 스토리를 몰입하는데 있어서는 정말 나쁘지 않았습니다.\\n사실 <명량>은 역사를 기반으로 만든 영화인만큼 기본적으로 흥행에 성공할 수 밖에 없는\\n\\n대중적으로 좋아하고 긍정적으로 생각할만한 영화라고 생각합니다. 그래서 그런지 매끄러운\\n\\n스토리에, 역사로써의 사실과 내용을 생각하더라도 세부적인 연출에 대한 뻔한 느낌이 있습니다.\\n하지만 그럼에도 <명량>의 가장 훌륭한 점은 적재적소에 강약조절이 아주 잘 되어 있다는 겁니다.\\n\\n긴박해야 할 곳에는 긴박하게, 유연하게 흘러가야 할 때는 유연하게 흘러가줍니다.\\n\\n2시간이라는 긴 런타임을 생각하더라도 매끄럽고 눈이 즐거운 연출로 재밌게 본 영화입니다.\\n\\n[출처] [영화리뷰] 명량 (2014)|작성자 슬기로운영화생활\\n 가슴에 새겨 군인본분을 다 해야 한다는\\n\\n내용의 정신교육을 많이 하는데요\\n\\n\\u200b\\n\\n명량대첩을 다룬 이순신 영화 명량을 통해\\n\\n생즉사 사즉생 정신으로 무장한\\n\\n그의 모습을 고스란히 느낄 수 있었습니다\\n영화 명량 같은 경우 우리나라 흥행 기록을\\n\\n순식간에 갈아엎은 흥행작이기도 한데요\\n\\n\\u200b\\n\\n총 1,761만 명의 관객을 동원했으며\\n\\n역사 영화인 만큼 많은 사람들의\\n\\n심금을 울린 작품이라 할 수 있겠습니다\\n\\n\\u200b\\n\\n거두절미하고 영화 명량 줄거리\\n\\n간략하게 소개해드리면서\\n\\n찍먹 리뷰 해드리도록 하겠습니다\\n명량해전 같은 경우 임진왜란의 종식을\\n\\n앞당긴 중요한 전투이며 이순신 장군의\\n\\n위대한 업적을 엿볼 수 있기도 한데요\\n\\n\\u200b\\n\\n이를 다룬 역사 영화이기 때문에\\n\\n몰입해서 보기 좋을 작품이라고 생각합니다\\n\\n\\u200b\\n\\n최근 역사 콘텐츠들이 왜곡 논란에 휩싸이곤\\n\\n하는데 다큐가 아닌 영화라는 점에서\\n\\n\\u200b\\n\\n너무 사실에 입각해 보기보다는 극적인\\n\\n묘사와 약간의 각색은 수용하면서 보면\\n\\n더욱 만족스러운 감상이 될 것 같네요:)\\n\\n\\u200b \\u200b오늘은 영화 <명량>의 후기를 남겨보려고\\n\\n하는데요! 개봉 당시에 영화관에서 보고\\n\\n최근에 넷플릭스로 다시 챙겨 봐도 역시\\n\\n재밌더라고요 ㅎㅎ 웅장함과 감동이\\n\\n있어서 더 재밌게 봤던 영화네요 :)\\n\\n간단하게 후기 남겨볼게요~\\n\\n\\u200b일단 명량은 이순신 장군의 명량대첩을 그린\\n\\n영화인데요! 대표적으로 거북선 없이\\n\\n출정하여 큰 승리를 거준 전쟁이죠.\\n\\n\\u200b14년도에 개봉했던 영화인데 당시에\\n\\n영화관에서 엄청 재밌게 봤었네요 ㅎㅎ\\n\\n출연하는 3명의 배우는 뭐 워낙 유명하신\\n\\n분들이라서 다시 봐도 역시 반가웠네요 :)\\n\\n또한 이순신 장군의 연대기를 담은 영화\\n\\n3부작 중 첫 번째 영화인데 곧 두 번째\\n\\n영화인 <한산: 용의 출현>도 곧 개봉할\\n\\n예정이라고 하는데 얼른 확정이 나면\\n\\n좋겠네요 ㅎㅎ\\n\\n지금 생각해도 말도 안 되는 과정으로\\n\\n역사를 뒤바꾼 이순신 장군은 대단하다고\\n\\n생각하네요!\\n\\n외에도 많은 배우들이 나오는데 모두들 연기를\\n\\n잘해서 더욱 몰입감이 좋았던 거 같아요 ㅎㅎ\\n\\n\\u200b배우들의 연기도 좋고, 해상 전투신은\\n\\n손에 땀이 날 만큼 집중해서 봤네요 :) 이 영화 역시 이미 본 작품이지만 기록겸 포스팅을 남겨봅니다.\\n\\n우리나라 국민이라면 대부분 존경하는 인물인 #이순신 장군이야기라 안 볼수가 없었어요.\\n\\n그리고 나오는 출연진들도 쟁쟁해서 좋았던 영화 < #명량 >!\\n\\n박보검 님도 반갑고 진구 님도 반가웠죠. 그리고 몰랐는데\\n\\n노민우 님까지 나오셔서 역할을 떠나 더 반가웠던 #영화명량\\n\\u200b\\n\\u200b영화 흥행 여부에 따라 후속편으로 #한산 과 #노량 등 #이순신관련영화 2편을 계획하고 있다고 들었었고, 다행히 명량이 대성공이어서 기대를 했었다죠.\\n\\n그러나 최민식 님께서 부담감에 거절하셔서 무산되나 싶었는데, 다행히 캐스팅을 바꿔서 준비중이라고 하더라고요.\\n\\n\\u200b영화 < 한산 : 용의출현 >은 이순신 역에 박해일 배우님을 시작으로 변요한, 안성기, 손현주, 김성균, 공명, 김성규 님이 캐스팅되셔서 2021년에 개봉예정이라 하고, < 노량 : 죽음의 바다 > 에서는 김윤석 님이 캐스팅 되셨다고 해요.\\n\\n개인적으로 같은 분들이 캐스팅 되셔서 나중에 이어서 보면 좋을텐데 싶기도 했지만\\n\\n워낙 존경받는 위인이다보니 부담감도 크신듯하더라고요.\\n\\n아쉽지만 박해일 님과 김윤석 님표 이순신 연기를 기대해보면서 영화명량 소개글을 남겨봅니다. 역대 한국 박스오피스 관객수 1위, 그리고 역대 매출액 2위라는\\n\\n어마어마한 기록을 세운 작품입니다.\\n\\n\\u200b\\n\\n박은우 소설가의 <명량>을 원작으로 하며,\\n\\n최민식, 류승룡, 조진웅 등 내로라하는 배우들이 출연했죠.\\n\\u200b\\n\\n\\u200b임진왜란 6년, 오랜 전쟁으로 지친 조선.\\n\\n한양으로 올라오는 왜군을 막기 위해 \\n\\n누명을 쓰고 파면 당했던 이순신(최민식 분)은 삼도수군통제사로 재임명됩니다.\\n\\n\\u200b\\n\\n하지만 남은 건 사기 떨어진 병사들과 두려움에 떠는 백성, 그리고 12척의 배 뿐.\\n\\n우리가 아는 거북선마저 불에 타고\\n\\n악랄한 구루시마 미치후사(류승룡 분)가 왜군 수장으로 나서자 조선은 더욱 술렁입니다.\\n무려 330척의 왜군 배가 전투에 나오고\\n\\n이에 맞서 이순신은 12척의 배를 이끌고 전장으로 나갑니다.\\n\\n\\u200b\\n\\n배 갑판 위에서 전쟁을 치르는 병사들의 모습뿐만 아니라\\n\\n배 아래에서 죽을 힘을 다해 노를 젓고 대포를 쏘는 병사들의 모습,\\n\\n그리고 피 튀기는 잔혹한 해상 전투를 아주 적나라하고 리얼하게 보여주죠.\\n\\n\\u200b\\n\\n전투를 앞두고 인간 이순신이 느꼈을 두려움과 내적 갈등 또한 잘 묘사됩니다.\\n자신의 목숨보다 나라의 안전을 더 우선시했던\\n\\n이순신과 그의 동료 장군들, 참모들, 그리고 병사들의 모습을 따라가다보면\\n\\n짠한 마음을 감출 수가 없게 된답니다.\\n\\n\\u200b\\n\\n우리나라 역사에 이런 분들이 계셨음을 깊이 감사하게 되는 것 같습니다. 넷플릭스 김한민 감독님의 바로 그 영혼이 뽑혀나갈 것 같은 해전영화!\\n\\n실화를 배경으로 하고, 한국의 역사에 있어 가장 위대했던 전투를 그린 바로 그 영화!\\n\\n이순신 장군님이 다시금 위대해 보이는 그 영화!\\n\\n<< 명량 >> 입니다.\\n명량이란 영화는 우리나라에서 만든 전쟁영화 중 단연 최고라고 생각하는 영화에요.\\n\\n내용은 어렵지 않고 이해하기 쉬운 내용이에요.\\n\\n이 영화는 핵심 \"명량해전\"에 모든 걸 갈아넣었다고 해도 과언이 아닐만큼\\n\\n해전 자체 내용의 런닝타임이 대부분이에요!\\n\\n\\n그렇기에 굳이 내용을 따질 이유 없어서 보는 데 정말 편했어요.\\n\\n하지만 그렇다고 내용을 버린 영화는 아니에요.\\n\\n초반부에는 지금까지의 상황, 그리고 조선 수군이 처한 상황을 묘사하고\\n\\n일본의 군세의 압도적인 힘을 보여줘요.\\n\\n조선 수군 내부에서 일어나는 잡음도 이 전쟁이 얼마나 무모한 전쟁이고, 승산이 없는 싸움이었는지\\n\\n잘 표현했다고 생각해요.\\n초반부가 지나면서 시작되는 명량해전!\\n\\n영화의 대부분을 차지하는 이 전투장면은\\n\\n명량해전이 얼마나 끔찍하고 처절하고 위대한 전투였는지를 간접적으로\\n\\n보여줘요. 멋지고 화려해서 보는 맛도 쏠쏠하지만\\n\\n무엇보다 이순신 장군님의 위대함을 정말 짧고 굵게 잘 보여주었다고\\n\\n생각해요.\\n적장 구루시마와\\n\\n하루도 꽤나 매력적인 캐릭터 였어요.\\n\\n일본 내에서 해적왕이라는 별명을 갖고 있을 정도로\\n\\n전투에 능하고, 거침이 없고, 대담한 일본의 장수에요.\\n\\n\\n하루는 일본군의 저격수인데 역시 저격수... 간지작렬!\\n영화는 명량해전에서 이 두 장군의 싸움을 핵심주제로 하고 있어요.\\n\\n음~ 하지만 영화는 영화일 뿐\\n\\n\\n저도 영화를 보고 이게 정말 있었던 실화일까?(전투의 내용) 해서\\n\\n여기저기 찾아보았는데, 명량해전이 있었던 건 사실이지만\\n\\n세부적인 내용은 영화의 재미를 위해 각색된 부분이 많다고 하더라구요!\\n\\n물론, 영화지 다큐멘터리가 아니니까! 당연한 이야기지만요 ㅎ.ㅎ\\n\\n\\n속이 그냥 뻥~ 하고 뚫리는 영화를 찾으신다면!\\n\\n웅장한 영화를 찾으신다면!\\n\\n마음까지 웅~장 해지고 싶으시다면\\n\\n바로 이 영화\\n\\n<< 명량 >>\\n\\n추천드립니다! 오늘 소개할 영화는 \"명량\"입니다\\n\\n2014년에 개봉하여 천만 관객을 가뿐히 넘으며\\n\\n약 1700만 명의 관객수로 1등을 굳건히 지키고 있습니다\\n\\n우리나라의 역사적 인물인 이순신 장군의 스토리를 재밌고, 감동적으로 뽑아낸 영화라고 할 수 있는데요\\n\\n그럼 영화 리뷰 보러갈까요?\\n\\n전하, 신에게는 아직 12척의 배가 남아있사옵니다.\\n\\n이 말을 빼놓고는 이순신 장군을 논할 수 없죠\\n\\n저는 이 영화를 보면서 임진왜란이나 이순신 장군에 대하여 더 자세히 알게됐는데\\n\\n저 말에 대해 별 생각이 없다가 영화를 보고나니 눈물이 나는거에요...\\n\\n12척의 배만으로 330척의 적군을 물리쳐야 하는데 이게 어떻게 가능했을까요\\n\\n그만큼 이순신 장군의 지략과 실행력이 대단했기에 이루어질 수 있었던 거 같아요\\n싸움에 있어 죽고자 하면 반드시 살고, 살고자 하면 죽는다\\n\\n필사즉생 필즉생사.\\n\\n그만큼 죽을 각오로 싸우고 덤비라는 거겠죠\\n\\n이미 수많은 패배로 사기가 떨어진 군사들을 일으켜 세우고,\\n\\n승리까지 이끌었으니 대단하지 않을 수가 없어요\\n\\n\\u200b\\n\\n이 말을 들으면 뭐든 이렇게 해야한다는 생각이 드는 거 같아요\\n\\n이 영화가 나왔을 때 학생이었어서 그런지\\n\\n정말 죽기살기로 공부해야겠다는 마음이 들더라구요\\n\\n그런데 또 살다보면 언제 저렇게 치열하고 열정적으로 살아봤던가... 싶더라구요\\n백성이 있어야 나라가 있고,\\n\\n나라가 있어야 임금이 있는 법이지\\n\\n그 시대에 누가 이렇게 말할 수 있었을까요\\n\\n이렇게 또 생각하고 바꾸려는 사람이 있었기에 지금 우리가 이렇게 살 수 있는 거 같아요\\n\\n그만큼 또 백성을 생각하고 아꼈던 이순신 장군의 마음도 드러나는 것 같아요\\n\\n리뷰 하면 할 수록 장군님 너무 멋있어요...ㅠㅠ\\n역사적으로 임진왜란은 동시대에서 가장 큰 전쟁 중 하나였어요\\n\\n명량해전은 1597년(선조 30) 9월 16일 어란포(於蘭浦)를 출발한 왜선 133척을 맞아\\n\\n12척의 병선으로 필사의 전투를 벌여 31척의 왜선을 불사르고 적의 함대를 물러나게 한 전투입니다\\n\\n그 당시에는 사리 때여서 물살이 빠른 데다 적이 침입할 때 북서류하던 해류가\\n\\n점차 남동류로 바뀌어 아군에게 유리하였는데도 결국 승리를 이끈 이순신 장군 ㅠㅠ\\n\\n그리고 명량해전은 정유재란을 일으킨 왜군이 한강유역으로 침입하는 길목을 차단하였다는 의미도 갖는다고 해요\\n\\n\\u200b\\n\\n명량 영화의 배경인 명량해전을 잘 설명해주신 설민석 분의 강의가 있는데\\n\\n이 강의를 들으니까 영화가 더 이해가 잘 갔던 거 같아요\\n\\n설명 너무 재밌어서 한국사 쥐약인 저도 엄청 재밌게 봤다는...\\n\\n\\u200b우리나라의 역사를 다시 되새겨 볼 수 있고,\\n\\n이순신 장군의 위대함을 다시 한 번 상기시킬 수 있는 영화 명량\\n\\n주말에 시청해보는 건 어떤가요? \\u200b명량은 1597년, \\n\\n백의종군 중이던 이순신 장군이 다시 삼도수군통제사로 임명되었던 \\n\\n정유재란 초반의 이야기로 시작됩니다. \\n\\n \\n\\n당시, 조선 수군은 12척*의 배를 가지고 있었고, 왜적은 330척*의 배를 이끌고 \\n\\n조선의 바다를 위협하고 있는 상황이었습니다.\\n\\n \\n\\n*영화 명량 속 내용 기준\\n\\n \\n\\n누가 봐도 적군의 전력이 우세하였기에, 임금(선조)은 육군에 합류하라는 어명을 내립니다. \\n\\n \\n\\n이 같은 상황에 충무공 이순신 장군은 어떻게 임금과 그리고, \\n\\n장수들을 설득시켜 명량해전을 승리로 이끌 수 있었을까요? \\n\\n \\n\\n매년 4월 28일, 충무공 이순신 탄신일이 되면 생각나는 영화 \\n\\n‘명량’에서 나타난 이순신 장군의 전략과 지휘력을 통해 그 답을 찾아보고자 합니다.\\n\\u200b\\n\\n명량해전의 승리는 적군도 아군도 사실상 예상하지 못했을 것입니다. \\n\\n영화 ‘명량’ 초반 “장군, 불가능합니다.” 와 “육군과 합류하라”라는 대사가 여러 번 들립니다. \\n\\n그만큼 330척의 배를 앞세워 쳐들어오고 있는 왜군과의 대적은 힘든 전력이었음을 시사합니다.\\n\\n \\n\\n이에 이순신 장군은\\u3000\\n\\n육군과 합류하라는 임금께 “신에게는 아직 12척의 배가 남아 있습니다”라며\\n\\n330척을 가진 왜군에 맞서 싸우겠다는 의지를 전합니다. \\n\\n \\n\\n영화에서는 임진왜란 당시 큰 몫을 한 거북선이 불타 없어져 버린 상황에서도 말이죠. \\n\\n바다를 버리는 것은 조선을 버리는 것이다\\n영화에서 이순신 장군은 바다를 내어주면 한양이 쑥대밭이 되는 것은 시간문제이며, \\n\\n한양이 함락되면, 조선을 지킬 수 없다고 생각합니다.\\n\\n\\u200b\\n\\n이순신 장군의 결단을 잘 나타낸 장면은 권율 장군과 장수 나대용의 대면 장면입니다. \\n\\n권율 장군이 장수 나대용에게 육군에 합류하라는 어명을 받들어야 한다는 의견을 내비치자\\n\\n 나대용은 “바다를 버리는 것은 조선을 버리는 것”이라는 이순신 장군의 생각을 전합니다. \\n\\n \\n\\n실제로 이러한 이순신 장군의 결단은 적중했습니다.\\n\\n이순신 장군이 해상 보급로를 확보하기 위해 진격했던 일본 수군에게 승리를 거둔 후\\n\\n왜군의 행보는 더 이상 이어지지 않았습니다.\\n명량해전이 일어나기 전, \\n\\n부족한 전력으로 싸우러 나가고자 하는 이순신 장군에게 \\n\\n전장에 함께 있던 큰아들 이회가 묻습니다. \\n\\n \\n\\n“아버님은 왜 싸우려고 하십니까?” \\n\\n \\n\\n이에 이순신 장군은 ‘의리’ 때문이라고 답하며, \\n\\n“무릇 장수된 자의 의리는 충(忠)을 좇아야 하고, 충(忠)은 백성들을 향해야 한다.”라는 \\n\\n명언을 남깁니다. \\n\\n \\n\\n또한 백성들이 아버님의 노고를 알아주지 않는데 \\n\\n이렇게 할 필요가 있냐는 아들의 물음에 이순신 장군은 이렇게 답합니다.\\n\\n \\n\\n“백성이 있어야 나라가 있고, 나라가 있어야 임금이 있는 법”이라고요. \\n\\n \\n\\n나랏일이라 함은 무릇 백성 즉 국민을 위함이라는 \\n\\n충무공 이순신 장군의 가치관이자, 지휘 방향이 잘 담긴 한마디이며, \\n\\n오늘날 우리 국군이 늘 되새겨야 하는 말이 아닌가 싶습니다. \\n신이 살아 있는 한 적들은 감히 우리를 업신여기지 못할 것입니다\\n이순신 장군은 두려움이란, 누구나에게 있는 것이기에 \\n\\n막강한 전력을 가진 왜적에게도 있을 것이라고 생각하셨고 \\n\\n적의 두려움은 더욱 크게 아군의 두려움은 용기로 바꾸는 것이 \\n\\n전력이 약한 아군에게 가장 필요한 전략이라고 생각했습니다.\\n\\n \\n\\n이와 같은 이순신 장군의 용맹함은 적군을 두려움에 떨게 했죠. \\n\\n \\n\\n실제로 명량해전에서는 두 가지의 숙제가 있었습니다. \\n\\n첫 번째는 ‘두려움에 떨고 있는 장수들을 어떻게 끌고 전장에 나갈 것인가?’였습니다.\\n\\n \\n\\n적군 대비 열세한 상황에 병사와 장수들의 전투력을 높이기 위해 \\n\\n이순신 장군은 장수들에게 “한 사람이 길목을 잘 지키면 천 명도 두렵게 한다”라며 \\n\\n전투에 자신감을 심어주려 합니다.\\n\\n \\n\\n그러고는 대장선을 앞세워 전장에 나가 대장선 홀로 100여 척과 싸운 이순신 장군은\\n\\n결국 왜적을 물리치고 백성과 나라를 지키게 됩니다.\\n\\n \\n\\n영화 속에서 승리의 힘은 이순신 장군의 용맹함뿐만은 아니었습니다. \\n\\n위기 상황에서 대장선을 구해 준 백성들 덕분이었죠. \\n\\n \\n\\n결국 이순신 장군이 향한 충(忠)이 통했던 것입니다.\\n\\n \\n\\n두 번째는, ‘330척을 상대하기 위해서는 어떤 전략이 필요한가?’였습니다. \\n\\n \\n\\n영화 속에서 이순신 장군은  울돌목을 내려다보며, 많은 생각을 합니다. \\n\\n \\n\\n밀물과 썰물을 잘 이용했던 점, 화포 공격이 가능했던 판옥선의 장점을\\n\\n잘 살렸던 것이 이순신 장군의 전략이었는데요. \\n\\n \\n\\n호랑이 굴에 들어가도 정신만 차리면 된다는 속담이 무색하지 않을 만큼, \\n\\n이순신 장군의 ‘충’이 곧 훌륭한 전략을 만들어낸 게 아닌가 싶습니다. \\n\\n \\n\\n영화를 보면서, 충무공 이순신 장군의 위대함을 다시 한번 깨닫게 되는데요. \\n\\n이순신 장군이 펼쳤던 전략은 뛰어난 아이디어가 아닌,\\n\\n백성을 위해 나라를 지키고자 했던 마음이 아니었을까 싶습니다. \\n\\n충무공 이순신 장군의 탄신일,\\n\\n대한민국 국군은 이순신 장군의 충을 본받아 \\n\\n오늘도 국민을 위해, 굳건히 나라를 지키고자 합니다.   영화 <명량>의 배경은 역사적인 사실에 바탕을 하고 있어요. 1597년 정유재란, 임진왜란 발발 6년 정유년에 이순신 장군은 선조 임금에 의해, 수군통제사에서 파직을 당합니다. 그 해, 음력7월 거제도 앞 칠천량에서 원균 장군이 이끈 조선 수군은 왜군에게 궤멸당합니다. 이 후, 선조 임금은 이순신 장군을 재임명하고, 12척의 배와 수군을 모아, 남해안 서쪽끝 진도 벽파진에 진을 칩니다. 한편, 근처 바다엔 왜선 330척이 속속 모여들고 있습니다. 이제, 영화 <명량>에서 이순신 장군님의 승전보를 확인해볼까요.\\n군영 내에 장교와 군사들의 사기는 바닥에 떨어질 때로 떨어져있습니다. 왜군에 두려움만이 존재하는 참담한 상황에 놓여져있지요. 적을 물리치고 나라와 백성을 구해야한다는 생각을 할 수도 없을 정도로, 적과의 병력 차이가 너무 크기만 합니다. 이순신 장군님(최민식 님)의 아들, 이회(권율 님)는 \"왜 싸워야하는 지, 그리고 임진왜란의 영웅인 아버지를 고문까지 한 선조에게 왜 의리를 지켜야 하느냐\"고 반문을 합니다. 이 때, 영화 속 이순신 장군님은 다음과 같은 유명한 말씀을 남깁니다.\\n\\n\\u200b\\n\\n장수된 자의 의리는 충을 쫓아야하고,\\n\\n충은 백성을 향해야 한다.\\n\\n\\u200b\\n\\n \\n이순신 장군님의 함선 수는 총 열 두 척만이 있어요. 거북선도 건조하는 중이지만.......... 그리고, 적선수는 330척이나 모여 있습니다. 이때, 왜군 구루지마 (류승룡 님)와 와키자카 (조진웅 님)는 이순신 장군과 마지막 승리의 전투를 준비하려 합니다. 함선 수만 비교해보아도 \"불가합니다\"란 수식어가 붙는 해전으로 보이며, 선조 임금의 명령서에는 육군에 합류하라고 독촉을 합니다. 이때, 이순신 장군님은 또다른 유명한 어록을 남기는데요.\\n\\n\\u200b\\n\\n신에게는 아직 12척의\\n\\n배가 남아있습니다.\\n\\n수군을 버리는 것은 나라를 버리는 것입니다. 만일, 조선수군이 없다면 바닷길로 한양을 그대로 침공할 수 있기 때문입니다. 그래서, 국가의 최고 지도자의 역할이 중요하다는 생각을 해봅니다.\\n\\n\\u200b\\n\\n \\n이정현 님을 영화 속에서 볼 수 있어서 좋았는데요. 대사가 따로 없어서, 그게 조금 아쉬운 부분이었습니다. 첩보원인 준영(진구 님)의 부인으로 나오는데, 이순신 장군이 탄 대장선을 살리기위해 앞치마를 벗어 힘차게 펄럭이는 장면이 기억에 남습니다.\\n\\n\\u200b\\n\\n\\n\"이순신 장군님의 명량 전투장면\\u200b\\n\\n\\u200b\\n\\n학익진 대형으로 다량의 왜적선들에게 대포를 발포하는 장면을 기대했으나, <명량> 영화에서는 앞서 말씀드렸듯이 사기는 바닥이고 싸울 의지가 없을 정도로 군사들의 두여움만 가득한 상태입니다. 그렇다보니, 나머지 11대의 도움없이 대장선 1대로 적 선발대와 전투을 치르게 됩니다. 영화 대화 속에서 보면, 이순신 장군님은 두여움을 용기로 바꾸기 위해 \"내가 죽어야지 내가\"라는 말을 하는데요. 죽음을 각오하는 그의 의지를 엿볼수 있었습니다.\\n\\n살고자 하면 죽을 것이오\\n\\n죽고자 하면 살 것이다.\\n\\n왜선 4대와의 전투에서 이순신 장군님의 대장선이 승리를 하자, 두려움은 점점 커다란 용기로 변화하고 다들 \"대장선이 살아있다~~~\"를 외치기 시작합니다. 오직 두려움만 존재하던 군사들은 두려움을 용기로 바꾸고, 죽음을 각오하며 싸우려는 의지를 갖게 됩니다. 그 후, 구루지마(류승룡 님)와의 마지막 전투를 시작하며, 왜군본대와의 마지막 전투를 향합니다.\\n\\n\\u200b\\n\\n \\n영화 <명량>은 우리나라 사람이면, 위인으로 가장 먼저 떠오르는 분 중 한 분인 이순신 장군님의 이야기여서도 그렇고, 2019년도까지 현재 모든 영화 순위중, 1번 순위인 우리나라 최고의 영화라는 생각을 해봅니다. 영화 리뷰를 할 때 가능하면 감동적인 장면으로 큰 무리하지 않는 선에서 리뷰하고자 생각을 해보는데요. 그래서, <명량> 영화 리뷰가 조심스럽고 더 어려운 것 같습니다.\\n\\u200b 오랜만에 영화 <명량>을 또 보았다. 2014년 개봉한 <명량>은 그 유명세와 달리 허점도 많은 작품이다. 그럼에도 매년 한두 번씩은 꼭 보게 되는 영화다. 이순신과 명량해전을 다룬 <명량>은 1761만 명으로 우리나라 영화 중 역대 관객 수 1위를 차지했다. <최종병기 활>을 연출한 김한민 감독이 또 한 번 역사를 기반으로 한 전쟁 서사물을 찍었다. <최종병기 활>의 배경이 병자호란이라면 <명량>은 임진왜란이다. 난중의 조선은 피폐했으나, 영웅은 늘 태어난다. <최종병기 활>의 영웅은 동생 내외를 지키는 허구의 무인이었고, <명량>의 주인공은 한국 역사상 최고의 성웅인 이순신이다.\\n<명량>은 영화적으로 보자면 완성도가 뛰어난 작품은 아니다. 결말을 향해 거두절미하고 속도감 있게 달려가는 <최종병기 활>과 비교해 쓸데없는 캐릭터와 내용이 너무 많다. 우선 구루지마(류승룡), 와키자카(조진웅), 도도(김명곤)이 전장에서 조선군에 밀려 각자 한 번씩 “리슌신!” 하고 분통을 터트리는 장면은 너무 반복적이다. 일본군의 저격수인 하루(노민우)가 안위(이승준)의 화살에 맞아 바다에 빠져죽는 장면은 너무 과장되게 표현됐다. 임준영(진구)이 적의 미끼선에서 죽음을 맞이할 때 벙어리 정씨 여인(이정현)이 오열하는 장면은 감동적이기보다 그 맥락없음에 오글거리기까지 한다. 그 오글거림은 영화의 마지막 12척의 판옥선으로 충파전을 할 때 김노인(유순웅)의 “구선이다! 구선이 나타났드아!”라고 외치는 장면에서 정점을 빚는다.\\n하지만 이런 오점에도 불구하고 <명량>을 또 보는 이유는 무엇일까? 그건 다른 영화엔 없는 몇 가지 쾌감이 이 영화에는 있기 때문이다. 첫째, 이순신에 대한 새로운 시선이 <명량>에는 담겨 있다. 이전까지 영화나 드라마에서 이순신은 영웅적인 모습으로만 그려져 왔다. <명량>의 이순신은 인간적이다. 전투에서 쓸데없이 사기를 고취시키지도 않고 필요한 말 이외에는 하지 않는다. 느릿한 말투로 아들과 함께 간장에 밥을 비벼먹고 죽은 동료의 원혼에 괴로워하는 이순신은 영웅이라기보다 오랜 전쟁에 지친 노선비에 가까운 모습이다. 이순신이 성웅일 수밖에 없었던 이유는 그가 타고난 영웅이라서기보단 병법과 군법에 엄격한 사람이었기 때문이다.\\n<난중일기>를 보면 이순신이 얼마나 군법에 철저한 인물이었음을 알 수 있다. 그는 일기조차도 일처럼 썼다. 그날 무엇이 있었는지 사실에 입각해 쓴 그의 일기는 일기라기보다 기록에 가까웠다. 그리고 그 기록에는 누가 군법을 어겨 목을 베었고 곤장을 쳤는지 끊임없이 등장한다. 이순신은 국가적으로는 칭송받는 성웅이었으나, 부하들 입장에선 너그러운 덕장과는 거리가 멀었을 테다.\\n\\u200b이 영화의 가장 큰 매력은 최민식의 연기다. 대부분 연기가 절제된 톤과 행위로 이뤄진 그의 이순신은 그가 출연했던 그 어떤 영화들보다도 강한 울림을 선사한다. 출정 때 나직하게 “전군, 출정하라”를 선언하는 모습이나, 전투가 끝난 이후 아들 이회(권율)에게 “천행이었다”고 고백하는 장면까지 짧지만 묵직한 대사 처리와 표현력이 무척 인상적이었다. 두려움에 휩싸인 부하들을 통솔할 때 일말의 흔들림 없이 앞으로 나아가는 눈빛은 아마 이순신이 살아있었다면 이런 모습이 아니었을까 할 정도로 조용한 카리스마를 선보였다.\\n\\u200b영화 후반부 무려 61분에 걸쳐 펼쳐지는 해상전투 장면은 특히 이 영화의 백미다. <명량> 이후 한창 논쟁이 벌어졌던 명량해전의 전법은 이제 적선 유인 후 갈퀴로 소탕했다는 것보다 울돌목의 소용돌이를 이용해 함포를 이용해 전투에 승리했다는 설이 더 유력해졌다. 천자총통과 지자총통 등 약 20문이 넘는 화포로 무장한 판옥선 한 대가 적선 수십 척을 무너트린다는 이야기는 허구가 아니다. 오히려 일본의 소형 전투선인 세키부네는 실제로 판옥선 높이의 절반도 채 되지 않아 도선하려면 사다리가 필요할 정도였다고 한다. 다만, 영화에서는 약간의 고저 차는 있지만 그냥 판자를 놓고 왜병이 판옥선으로 뛰어드는 장면에서 고증이 부족했다고 보인다. 심지어 <난중일기>에 따르면 이순신의 대장선에서는 백병전도 없었고, 사망자가 고작 두세 명에 불과했다. 영화에서처럼 치열한 백병전이 있었다면 대장선의 사망자는 더 늘어났어야 옳다.\\n영화적으로 따지자면 부족한 부분도 적지 않고 실제보다 과장 및 꾸며낸 이야기가 많은데도 이 영화를 늘 보게 되는 이유는 우리 시대 최고의 영웅인 이순신을 실제와 허구 사이에서 극적으로 잘 빚어냈다는 부분에 있다. 뻔히 아는 내용을 가슴 졸이며 보게 만드는 연출력, 선악이 뚜렷한 캐릭터와 최민식, 류승룡, 조진웅, 김명곤 같은 뛰어난 배우들의 앙상블이 영화의 재미를 극대화한 것이다. 게다가 김한민 감독은 이 전투를 이순신 혼자가 아니라 수많은 병사와 백성들의 승리로 갈무리한다. 극중 어부들이 대장선을 구하는 장면이 그렇다.\\n물론 작위적인 부분도 있지만 실제로 <이충무공행록>에는 백성들이 수군에 군량과 옷감을 손수 바쳤으며, 명량해전 발발 시 부족했던 수군을 위해 먼 바다에서 후원군인척 행세를 했다는 설도 있다. 전란에 이순신은 장수가 아니라 거의 신적인 존재였는지도 모른다. 목숨이 위태로운 상황에 이순신 같은 성웅에게 의지하고 싶지 않은 사람이 누가 있었을까? \\n\\n\\u200b\\n\\n대중은 늘 영웅을 원하고 그리워한다. 가장 이상적인 존재의 현신을 통해 사람들은 위안과 자존감, 희망을 얻고 대리 만족을 느낀다. 이순신은 우리 역사에 있어 가장 위대한 영웅이었기에 지금까지도 가장 큰 존경의 대상이자 오락거리라 할 수 있다. 그 영웅사에 잠시나마 동참하고 있다는 \\'환타지\\'야말로 이 영화가 이뤄낸 가장 큰 매력이다. 관객이 영화를 보는 이유는 현실을 잊고 영화라는 환상에 빠지고 싶기 때문인 것이니까. 그것이 실제든 아니든 늘 우리가 꿈꾸었던, 전란 속 물러서지 않는 불굴의 의지와 삶을 초월한 용기를 지닌 영웅이 그 안에 숨어 있기에 <명량>의 감동은 늘 무한한 감동을 선사할 수밖에 없다.\\n\\n\\u200b 이순신 장군의 모습을 보여준 영화 <명량>입니다.\\n\\n천칠백만명의 관객이 봤었는데요. \\n\\n위에 <극한직업>과는 백만명의 차이가 나네요.\\n\\n영화가 개봉하고 난 후, 2주 뒤에 광복절이다 보니 \\n\\n더더욱 관객들이 많이 봤을 거라고 예상되요.\\n\\n영화의 내용은 다들 아시다시피 가장 유명한 이순신 장군의 이야기입니다.\\n\\n임진왜란 시기, 파면 당했었던 이순신 장군이 삼도수군통제사로 임명 되면서, \\n\\n12척의 배로 일본을 무찌르는 내용인데요. 이 당시에 많은 명언들이 나왔었죠.\\n\\n네이버 명대사에 가장 높은 좋아요를 받은 대사는 \\n\\n\"전하, 신에게는 아직 12척의 배가 남아있사옵니다.\" 인데, \\n\\n너무 인상깊지 않나요?\\n\\n게다가 12척의 배만 남아있음에도 불구하고 \\n\\n이순신 장군의 어떤 심정이었을지도 영화 속에서 더욱 잘 끌어줘서 \\n\\n한국 사람들의 인상깊은 영화라고 생각되네요. \\n\\n 영화보는걸 나름 좋아한다고 생각했는데\\n\\n취향이 확고한건지, 배우를 많이 보는건지... 어쨋든 천만영화라고해도 보지 않은 영화들이 몇 있다.\\n\\n\\u200b\\n\\n그 중에 하나가 #명량 과 국제시장인데\\n\\n역사덕후인 남편이라 그런지, 어떻게 그 명작을 보지 않았냐는 말을 귀에 딱지가 앉도록 듣다가 드디어 #넷플릭스영화 로 명량을 보게되었다.\\n지금 읽고 있는 #칼의노래 도 #이순신장군 에 대한 소설인지라,\\n\\n명량을 보면 소설을 읽는 배경이 조금이라도 도움이 될거라고 하면서 어쩌다가 책을 읽고 있음에도 책을 다 덮지 못하고 영화로 #명량해전 을 접했다.\\n\\n\\u200b\\n\\n\\u200b\\n\\n#이순신 위인전을 어렸을 때 읽었을 법도 한데\\n\\n전혀 기억이 없는 나의 무지를 탓타며 그냥 전투이름과 장군의 이름만 외우기만 하고 그 깊이를 알지 못함에 너무 부끄러울 따름이었다. \\n\\n\\u200b\\n\\n\\u200b\\n\\n13척의 배로 133척의 왜군을 물리친 이 이야기가 우리의 역사라는 점에서 너무나 자랑스럽고\\n\\n장군의 인품이 실로 남다르다는 것을 깨닫고 다시한번 존경을 표한다.\\n\\n그가 제일 좋아하는 인물 중 하나인 이순신장군. 이제는 나에게도 제일 존경스러운 우리 선대인물 중 한 분이 되셨다. \\n\\n\\u200b\\n\\n역사 속에는 참으로 많은 위인들이 계신다. 지금 이 순간도 언젠가는 역사가 될 순간들이니, 내가 알지 못하게 세상에 많은 위인들과 함께 살아가고 있겠지. 그와 조금이라도 어울리는 사람이 되자!\\n\\n\\u200b 개봉 당시에도 정말 재미있게 봤었고\\n\\n후에 몇번 더 볼 때도\\n\\n감탄하면서 봤는데요\\n\\n\\u200b\\n\\n그때마다 \\n\\n\\'와 이 영화 진짜 재밌다\\n\\n 대박이다..소름\\'이라는 말로\\n\\n느낌만 남아있을 뿐\\n\\n\\u200b\\n\\n\\u200b\\n\\n\\n\\u200b\\n\\n\\u200b\\n\\n어떤게 좋았고\\n\\n왜 인상적이었는지 \\n\\n제 블로그에 하나도\\n\\n기록이 안되어 있는거에요ㅠㅠ\\n\\n\\u200b\\n\\n엊그제 남편이랑 이 영화\\n\\n또 다시보고도 너무 좋아서\\n\\n이번에는 꼭 후기 기록해둬야지\\n\\n그리고 나중에 내 생각이 어떻게 변했나 봐야지\\n\\n하는 마음으로 리뷰를 남깁니다 *.*\\n\\u200b\\n\\n와, 역사책에도 사실이라 나오고 \\n\\n영화로도 그 상황을 \\n\\n지켜보지만 정말 승리했다는게\\n\\n믿기 어려운 명량해전입니다!!\\n\\n\\u200b\\n\\n특히 영화 명량에서\\n\\n\\'이순신\\'역을 맡았던 배우 최민식님의\\n\\n연기가 정말 짱이었죠..!\\n\\n\\u200b\\n\\n아래 인터뷰영상까지\\n\\n보고 나니 얼마나 많은 고민을 했는가가\\n\\n고스란히 느껴집니다\\n두려움을\\n\\n용기로 바꿀 수만 있다면\\n\\n그 용기는 배가 될 것이다\\n\\n\\u200b\\n\\n영화 명량에 많은 명대사가 있지만\\n\\n저는 이 대사가 가장 와닿았어요\\n\\n\\u200b\\n\\n울돌목에서 회오리에 휩쓸려\\n\\n배가 가라앉으려고 할 때\\n\\n\\u200b\\n\\n백성들이 나룻배를 타고 나와 밧줄로\\n\\n소용돌이에 떠내려 가려는 \\n\\n이순신의 배를 다같이 끌어내는 순간\\n\\n\\u200b\\n\\n손이 피가 나도록, 죽어라 끌어당기고\\n\\n노를 젓는 영화 속 그 모습에서\\n\\n이순신을 향한 백성들의 마음이 느껴져\\n\\n너무나 감동적이었습니다ㅠㅠ\\n\\n\\u200b\\n\\n그들의 두려움을 \\n\\n존경과 진심으로 바꾼\\n\\n이순신 장군의 리더쉽\\n\\n.\\n\\n.\\n\\n\\u200b\\n\\n진정한 리더라면 \\n\\n백성의 마음을 얻어\\n\\n끝내는 가슴 깊은 존경을 \\n\\n받을 줄 아는 사람이구나\\n\\n\\u200b\\n\\n\\'참 어려운 자리겠다\\'\\n\\n라는 생각이 들었습니다 2.\\'영화\\'가 가진 매력\\n   \\n①영웅 이순신의 면모\\n\\n영화 <명량>에서는 우리가 알고 있는 이순신의 영웅적인 면모가 가감없이 드러납니다. 2시간의 런닝타임동안 지루할 틈 없이, 왜구의 침략을 받고, 고민 후, 명량해전에서 반격에 나서는 것이죠. 우리가 알고 있는 히어로 영화의 전형적인 스토리라인을 따라간다고 볼 수도 있을 것 같습니다.\\n그럼에도 불구하고 영화는 충분히 재밌게 감상할 수 있습니다. 그 이유는 바로 한국사에서 가장 의로운 영웅이라고 우리는 인지하고 있기 때문입니다. 말도 안되는 전투를 승리로 이끈 이순신의 업적이, 내재되어 있는 애국심을 한껏 고취시킵니다.\\n1,761만 명이라는 놀라운 관객 수가 이를 증명하고 있죠. 이 숫자는 <명량>을 한국 영화 역사상 관객 수 1위라는 타이틀을 거머쥐게 만들었습니다.\\n     \\n②배우 최민식\\n\\n여러분은 연기파 배우라고 하면 가장 먼저 누굴 떠올리시나요? 아마도 대부분은 이 배우를 떠올리실 거라 믿어 의심치 않습니다. 바로 \\'최민식\\' 씨죠. 한국을 대표하는 배우 최민식 씨가 이순신 역할을 맡았습니다. \\n오로지 연기 외길 인생을 걸어온 그에게도 이순신이란 역할은 부담스러웠을 텐데요. 하지만 그 누구보다 이순신 장군을 잘 표현하고 보여줬습니다. 우리나라의 대표 영웅과 배우의 만남. 안봐도 최고겠죠?\\n      \\n③화려한 스케일\\n\\n영화 <명량>은 명량해전을 바탕으로 이뤄진 이야기이기 때문에 수중전이 상당히 많습니다. 더불어 왜구 300척 대 12척의 배와의 전투였기 때문에 스케일이 커질 수 밖에 없죠.\\n그로 인해 자그마치 190억원이라는 많은 제작비가 투입됐습니다. 그 중 CG제작비로만 43억이 들었습니다. 가늠할 수 없는 비용이지만, 영화를 보면 상당히 많은 투자를 했다는 걸 느낄 수 있습니다. 후반부 30분 동안의 치열한 전투 장면은 한시도 눈을 뗄 수 없을 정도로 놀랍습니다.  [亂中日記 二]\\n\\n 죽고자 하면 반드시 살 것이요,\\n\\n 살고자 하면 반드시 죽을 것이다\\n\\n이순신 장군님\\n\\n <명량>은 대한민국 사람 모두가 알고 존경하는 위인이자, 적장의 장수조차 찬사를 아끼지 않을 정도로 전세계적으로 추앙 받아온 성웅 이순신의 가장 드라마틱한 전쟁 <명량대첩>을 중심으로 왕을 모시는 신하이자 한 사람의 아버지, 군사를 이끄는 장수이자 두려움에 번민하는 인간으로서의 입체적 면모를 묵직하고 강렬하게 담아냈다.\\n\\n \\n\\n 왜군의 계략에 의해 누명을 쓴 채 파면 당하고 \"원균\" 이 이끄는 수군의 대패로 삼도 수군통제사에 재임명된 직후, 패배감에 사로잡힌 군사를 이끌고 절망의 위기에서 조선을 지켜야 하는 이순신 장군. <명량>은 이순신 장군 생애 가장 고난의 시기와도 같았던 명량대첩 직전의 이야기를 통해 23전 23승의 장수이자 한국 역사를 대표하는 영웅, 그 이면에 있는 이순신의 번민과 고뇌를 깊이 있는 시선으로 그려낸다. 육군으로 합류하라는 왕과 조정의 압박에도 불구하고 바다를 지키기 위해 홀로 전쟁을 선택한 신하로서의 갈등, 자신의 건강을 걱정하는 아들에게 \"충이란 백성을 향해야 한다\"며 전장으로 나서는 아비의 아픔, 마지막 거북선이 불타 없어지는 걸 보며 오열하는 장수의 슬픔, 죽음을 두려워하는 군사를 이끌기 위해 먼저 목숨을 걸어야 했던 리더로서의 결단과 외로움 등 영웅이기 이전에 한 명의 인간이었던 이순신의 처절한 모습은 <명량>의 강렬한 드라마를 관통하며 진한 연민과 감동을 만들어낸다. 그리고 330척의 왜군에 맞서 적진의 허를 찌르는 고도의 심리전과 독창적 전술을 발휘하는 전략가로서의 면모, 두려움을 용기로 바꿀 줄 아는 진정한 리더로서의 위용과 용맹함은 짜릿하고 통쾌한 카타르시스를 전한다. 외로움과 두려움에 포기하지 않고 불가능에 맞서 싸웠던 인간이자, 자신의 목숨보다 백성을 먼저 염려한 충신, 신념과 용기로 승리를 이끈 진정한 리더 이순신 장군을 묵직하면서도 진심 어린 시선으로 담아낸 <명량>은 현시대를 관통하는 공감대와 울림을 전할 것이다.  \\n\\n 영화는 영화였다\\n\\n역사적 사실과 다른 부분이 있기는 하나\\n그 패턴은 고증을 토대로 하였고\\n신화적 요소를 가미하였다\\n\\n반면 감독은\\n고증을 거꾸로 뒤집어 각색하였다\\n\\n그러나 전체적으로 볼 때\\n충무공 이순신 장군의 지휘통솔 능력과\\n전투 전략을 실감나게 그렸고\\n아들 휘와의 대화를 통한 일련의\\n명대사들은 그의 진면목을 승화시켰다\\n\\n내가 난중일기를 읽어보니\\n장군은 면밀한 전략가였으며\\n아군이 불리한 전황에는 쉽사리 전선을\\n구축하지 않았다\\n\\n그러한 내용이 일기형식으로\\n그대로 나온다\\n\\n오늘은 활을 10순 쏘았고\\n어제는 30순을 쏘았고\\n누가 찾아왔고 조정에 장개를 올렸고\\n술을 한잔 마셨다 등등\\n\\n왜의 척후병선이 유인술로 접근했다가\\n도망치길래\\n따라가지 않았다 등등\\n\\n이는 아군의 피해를\\n최소화시키려는 작전이었으며\\n실제로 그러했다\\n\\n영화에서 처럼 백병전을 한다든지\\n그런 것은 영화적 요소이다\\n\\n원균이 거제의 칠전량(칠전도)에서\\n거북선을 비롯한 조선 수군의 판옥선을\\n거의 함몰당하고 명량에서 나오는 인물\\n배설이 가지고 도망치다시피한 배 12척\\n만이 남아 있었던 것은 사실이었다\\n\\n갖은 고문과 모친상 아들의 죽음 등으로\\n시련을 받은 장군이 다시 수군총사령관\\n으로 임명되어 명량해전에서 대승을\\n거두는 것.\\n\\n이것은 천행이었다\\n\\n천행?\\n\\n천행은 하늘의 뜻이라는 말인데\\n보통 그 하늘은 왕이기에 왕의 뜻으로\\n비유하지만 영화는 달랐다\\n\\n이 천행을 이순신 장군은\\n백성의 뜻이라고 여기고\\n실천한다\\n\\n이 점이 영화 명량이 잘 된 점\\n아닐까 싶다\\n\\n배설은 경상우수사였으며\\n실제로는 명량해전에 참여치 않았고\\n도망친다\\n\\n나중에 이 사실을 안 권율 장군에게\\n처형되는 실존 인물이다\\n\\n그가 거북선을 불태우고\\n도망가다가 거제 현령 안휘의 화살에\\n맞아 죽는 것은\\n영화적 픽션이다\\n \"저는 명량을 보고 나서 처음 든 느낌은 \"이게 바로 영화의 매력이지!\"라는 생각이었습니다.\\n\\n세상에서 가장 많은 자본을 투자해 재현해내는 역사적 사실들을 이렇게 디테일하게 만들 수 있는 \\n\\n장르는 영화밖에 없다고 생각해요.\\n\\n\\u200b\\n\\n\\u200b\\n\\n그리고 그런 영화적 장점을 너무도 잘 살려서 재밌고 감동적으로 표현했어요.\\n\\n\\u200b\\n\\n이 영화에서 가장 인상깊었던 장면은 백병전을 치르는 전투씬을 슬로우로 표현한 장면으로 이순신 뿐만 아니라\\n\\n병사 한명한명의 악전고투를 너무도 디테일하게 잘 살려냈고 이 장면을 통해\\n\\n 이순신에게만 몰입되는 원맨영화가 아닌 조선수군전체에 감정이 이입되면서 감동이 배가 됐어요.\\n\\n또한 일본인 첩자 역할의 전사를 과감히 없앤 것도 현명한 선택으로 보였죠.\\n\\n\\u200b\\n\\n영화 명량이 정말 재밌게 느껴지는 지점은 이 평범한 스토리(?)를 관객의 허를 찌르며 전혀 \\n\\n다른 각도에서 표현해냈다는 점입니다.\\n\\n\\u200b\\n\\n영화를 보기전 기대한 부분은 역시나 지형지물을 활용한 이순신의 지략이었는데요.\\n\\n하지만 나의 기대는 완전히 깨지면서 오히려 한단계 더 매력적인 영화가 만들어졌습니다.\\n\\n\\u200b\\n\\n전투의 신 이순신이 아닌 인간 이순신 그리고 이순신의 지략에 의한 전투가 아닌 조선수군 전체의 노력,\\n\\n특히나 노젓는 수군들의 비중을 엄청나게 늘리면서 해상전의 새로운 지평을 열었다고 해도\\n\\n과언이 아닐만큼 관객의 허를 제대로 찔렀어요.\\n\\n\\u200b\\n\\n대개 이런 영화는 전사가 길고 실제 전투는 짧고 임팩트있게 가는 측면이 있는데 이 영화는 전사가 짧고\\n\\n실제 전투장면이 상당히 길면서 매우 박진감 넘치는 영화가 되었는데 이런 해상전투씬을\\n\\n 계속 관객에게 몰입감을 주면서 만들어냈다는 점에서 감독의 역량을 칭찬하고 싶네요.\\n\\n\\u200b\\n\\n또하나 이 영화의 숨은 장점은 소비되는 캐릭터가 거의 없다는 점인데요.\\n\\n어느 한 사람에게 치중되지 않고 하나하나 캐릭터를 살려가면서 소비되는 캐릭터가 없다는 점 또한 감독 대단해요.\\n\\n\\u200b\\n\\n영화적 재미라는 측면에서는 현재 대한민국에서 최고라고 생각된다.\\n\\n\\u200b 영화 <명량>은 1597년, 단 12척의 배로 330척 왜군의 공격에 맞서 싸운 이순신 장군의 \\'명량대첩\\'을 그린 전쟁액션대작이다. 이순신 장군의 대표적 전투 중 거북선 없이 출전해 큰 승리를 거둔 전쟁으로 어떻게 12척의 배로 330척의 대군을 물리칠 수 있었는지 현재까지도 그 전술과 과정에 대한 기록이 분분한 ‘명량대첩’을 최초로 영화화 한 <명량>은 역사적 사실을 기반으로 영화적 상상력과 전쟁의 스펙터클한 볼거리가 더해져 한국 영화에 없었던 새로운 해상 전투극으로 완성되었다. 한국 사람 이라면 모르는 사람이 없는 이순신 장군의 이야기를 아주 잘 담았고 역사에 기록된 이순신의 평소 생각하는 이념과 말투, 지병까지 모두 표현을 잘 했다고 생각 되는 영화 입니다\\n\\n\\u200b\\n\\n요즘 초등학교에 이순신, 세종대왕 동상은 요즘도 있나요? 밤 12시 되면 둘이 서로 싸우는데..\\n\\n넵 저는 라떼 입니다\\n\\n\\u200b풍전등화의 조선, 모두가 패배를 예견할 때 홀로 왜군에 맞선 이순신 장군의 숨겨진 이야기는 대한민국 국민이라면 누구나 공감할 수 있는 감동을 전하고, 지형과 환경, 심리전을 바탕으로 열세의 전쟁을 극복해 나가는 8시간의 긴박감 넘치는 전투는 그 자체로 드라마틱한 스토리가 되어 전율과 쾌감을 선사한다. 짜릿한 활의 전쟁으로 747만 명의 관객을 매료시켰던 <최종병기 활> 김한민 감독에 의해 2014년 스크린에서 새롭게 탄생한 위대한 전쟁 <명량>은 뜨거운 감동과 울림, 그리고 스펙터클한 볼거리가 살아 숨쉬는 영화로 올 여름, 대한민국의 가슴을 뛰게 할 것이다.\\n\\n김한민 감독의 최종병기 활은 활의 민족, 주몽의 후예에 걸맞는 영화 스토리였는데 단순하게 활을 잘 쏜다 라는 의미 보다는 그 속에 여러가지 스킬을 담아서 영상미를 보여줬는데 정말 재밌게 봤던 영화 이다\\n\\n\\u200b\\n\\n명량 또한 나이 불문하고 국뽕 영화 + 이순신 + 일본 필살기는 다 가져다가 쓰는데 \\n\\n안볼 사람이 누가 있겠나요? 스토리는 무조건 흥행이 가능한 스토리다 보니 전투신, 스케일, 함척 등 영상미에 신경을 많이 쓴 것 같습니다. 귀가 따갑게 알고 있는 스토리 영화를 결과를 아는 상태에서 보는데도 전혀 지루하지 않게 흘러 가는 스토리의 함축적 이면서도 자연스럽게 연계 되고 중간 중간 함척들의 디테일이 나오면서 지루하지 않게 볼 수 있었던 영화 입니다\\n수식이 필요 없는 한국 최고의 배우 최민식이 한국을 대표하는 영웅 이순신 장군으로 돌아왔다. 평소 존경해 마지 않는 위인을 연기하기 위해 최민식은 인물에 대한 끊임없는 연구와 치열한 고민을 거듭하여 희망과 절망, 용기와 두려움, 리더십과 외로움 등 폭넓은 진폭의 감정과 애끓는 인간미가 살아 숨쉬는 이순신 장군을 탄생시켰다. \\n\\n실제로 최민식 배우님이 어디에서 인터뷰할때 악마를 보았다 촬영시 싸이코패스 연쇄살인마 역할을 맡았는데 캐릭터에 너무 심취해서 촬영중 이었나 촬영이 끝나고도 누군가 자기를 쳐다보면 속으로 죽일까? 라는 생각이 들었다고 합니다 바로 그 순간 정신과 치료를 받으러 갔다고 하네요 그정도로 캐릭터 역할에 굉장히 공부를 많이 하고 실제로 그 인물이 되어 연기 하시는 분 입니다. \\n\\n\\u200b\\n\\n이전 작품에서 주로 이순신 장군의 용맹함과 카리스마 넘치는 면모가 주로 다뤄진 것에 반해 최민식은 혼돈의 군란에서 강인한 장수의 모습 이면에 두려움과 외로움을 감춘 이순신 장군의 인간적인 면모를 조명하며 전에 없던 새로운 캐릭터를 보여준다. 특히 배우 최민식은 영화 촬영이 본격적으로 시작되기 전, 위대한 영웅 이순신 장군에 대한 예의와 존경의 의미로 씻김굿을 제안하고, 그 현장에서 눈물을 쏟아낼 만큼 캐릭터에 대한 강한 애착과 경외심을 드러냈다. 최민식 배우님이 아니었으면 이순신 역할을 이렇게 잘 소화 하실만한 배우님이 또 계실까요?\\n\\n이순신 장군은 최고의 영웅인데 그런 인물을 연기 해야하는 국민 배우 여야 하고 나이도 있어야 하며 평소에 진중한 캐릭터를 많이 했던 사람이었어야 할겁니다 너무너무 잘 어울리고 너무 잘 소화 하신 최민식 배우님 입니다\\n영화는 끝으로 갈수록 끝 없는 전투와 전투속에서도 이루어지는 전략들.\\n\\n당시 전국적으로 전투에서 일본에게 밀리고 있는 열세에도 불구하고 눈앞에 수백척이 있는데도 목숨 걸고 싸웠던 조상들에게 영화 명량에 대해 포스팅을 하면서 다시 한번 경의를 표하고 싶습니다.\\n\\n\\u200b\\n\\n현란한 카메라 워크와 박진감 넘치는 촬영으로 호평 받았던 김태성 촬영감독과 그에 어울리는 과감한 빛의 조율로 생동감을 불어넣은 김경석 조명감독은 <명량>에서 한층 무게가 실린 촬영과 조명으로 역사상 가장 위대한 전쟁의 스펙터클과 비장미를 담아내며 바다 물길에 따라서 배가 움직일때도 현란한 카메라 워킹으로 시청자가 느껴질 수 있게 속도감과 부딪힐때 진동 등을 카메라의 액션으로 담아 냈습니다. 포스팅을 하며 또다시 보고 싶은 영화가 아닐까 싶네요 오늘 저녁은 일정 마치고 명량을 보며 하루를 마감 해야 겠습니다 ㅎㅎ\\n\\n\\u200b총을 들고 있는 일본군에게 칼, 총으로 맞서며 역사를 지켜줬던 이야기\\n\\n\\u200b\\n\\n영화 명량 입니다. 명량, 백성이 있어야 나라가 있고, 나라가 있어야 임금이 있는 법이지 살고자 하면 죽을 것이요, 죽고자 하면 살 것이다. 전하, 신에게는 아직 12척의 배가 남아있사옵니다. 요즘 대한민국을 송두리째 코로나19의 악몽에 빠지게 만든 작금의 현실을 보면서 이순신 장군의 다짐이 새롭게 다가오는 건 꼭 나만의 생각이 아닐 듯합니다. \\n\\n\\u200b\\n\\n요즘 코로나19 때문에 집에 콕 박혀 지내야 하는 암울한 현실 속에서 오늘 밤 케이블 방송을 통해 보게 되는 이 영화 한편이 어쩌면 어려움이 빠진 우리들에게 많은 울림을 주지 않을까 싶기도 합니다. 이 영화는 벌써 6년 전에 개봉되었던 영화입니다. 개봉관에서 이 영화를 볼 때때론 알 수 없는 울화가 치밀어 오르고 때론 가슴이 뭉클해지기도 하며 영화 보는 내내 그냥 감사하고픈 생각이 절로 들기도 했습니다. 어쩌면 작금의 암울한 현실을 바라볼 땐 누구나 울화가 치밀어 오르고 그냥 탄식이 절로 나오는 것처럼 말입니다. \\n\\n\\u200b\\n\\n\\n누군가는 말하더라고요, 지금 이게 전쟁이 아니고 뭐가 전쟁이냐고 말이죠. 하지만 뭐 하나도 제대로 할 수 없는 암울한 현실이지만 이순신 장군이 그랬던 것처럼 달랑 12척의 배로 330척의 왜군을 이길 수 있었던 것. 그런 믿음 하나면 거뜬하게 이겨낼 수 있고, 적어도 이순신 장군 같은 지도자 한 분만 있었어도 적어도 세계에서 손가락질 받는 대한민국은 아니었을 거란 자책도 해 봅니다. \\n\\n\\u200b\\n\\n다시 영화 이야기입니다. 왜군과 싸우고 있는 전쟁터에서 어명을 구실로 10대의 판옥선 함장들이 선발에 나선 이순신이 지휘하는 대장선의 고군분투만 지켜보고 있을 땐 분노가 끓어오르고, 포탄과 총성이 가득한 바닷가에서 피신하던 정씨부인이 멈춘 채 절벽 위로 올라가 겉치마를 벗어 흔들자 백성들이 이에 동참하며 만들어내는 깃발들은 가슴을 뭉클하게 만듭니다. 마치 코로나19 때문에 힘들어 하는 모든 국민들이 거뜬히 이겨내리라 하는 다짐이고 간절히 바라는 모든 국민들의 외침처럼 보이는 것은 나만 느끼는 것은 아닐텐데 말입니다.\\n\\n\\u200b\\n\\n\\n영화를 보게 되면 자연스럽게 박수칠 수밖에 없는 장군의 리더십. 이게 바로 리더십이고 이게 바로 우리 국민들이 원하는 지도자상 아닐까요? 최근 코로나19로 야기된 대한민국 아픔에 대한 사회 기득권층의 책임 회피에 대해 일갈하듯 충무공 이순신의 무한책임 리더십이 더 고귀해 보입니다. 그래서 오늘밤 꼭 이 영화를 봐야 할 이유기도 합니다.\\n\\n\\u200b\\n\\n\\n어떤 영화일까?\\n\\n이순신 장군과 명량 해전, 이름만 들어도 설레지 않을까요? 무려 1천7백만 명의 관객을 돌파한 영화니까 대한민국 웬만한 성인들은 한번 쯤 보지 않았을 싶습니다. 아니 영화를 보지 않았다 하더라도 적어도 이순신 장군 이름을 모르는 대한민국 국민은 없을 테고, 정상적으로 초등학교만 나왔다 하더라도 이순신의 명량해전쯤은 알고 있을 겁니다. \\n\\n\\u200b\\n\\n우리의 역사에서도 그렇지만 이 영화는 1597년, 단 12척의 배로 330척 왜군의 공격에 맞서 싸운 이순신 장군의 명량대첩을 그린 전쟁액션대작입니다. 임진왜란 때 바다에서 이순신 장국이 거둔 승리가 한 둘이 아니건만 이순신 장군의 대표적 전투 중 거북선 없이 출전해 큰 승리를 거둔 전쟁으로 어떻게 12척의 배로 330척의 대군을 물리칠 수 있었는지 영화는 영화로써 그 해답을 제시합니다. \\n\\n\\u200b\\n\\n\\n현재까지도 그 전술과 과정에 대한 기록이 분분한 이 전쟁이 역사를 최초로 영화화 이 작품은 역사적 사실을 기반으로 영화적 상상력과 전쟁의 스펙터클한 볼거리가 더해져 한국 영화에 없었던 새로운 해상 전투 극으로 완성되었다고 해도 지나친 말이 아닐 겁니다. 누구라도 알고 있었던 당시의 풍전등화의 조선, 모두가 패배를 예견할 때 홀로 왜군에 맞선 이순신 장군의 숨겨진 이야기는 대한민국 국민이라면 누구나 공감할 수 있는 감동을 전하지 않을까 싶습니다.\\n\\n\\u200b\\n\\n지형과 환경, 심리전을 바탕으로 열세의 전쟁을 극복해 나가는 8시간의 긴박감 넘치는 전투는 그 자체로 드라마틱한 스토리가 되기 때문에 중국에서 건너 온 고약한 우한 폐렴 때문에 야기된 코로나19로 국민들 모두가 먹먹한 기분을 비록 잠깐이지만 짜릿한 전율과 쾌감을 선사하지 않을까 싶기도 합니다만.\\n\\n\\u200b 개봉한 지 약 7년만에 처음으로 명량을 보았다.\\n\\n늘 보고 싶었는데, 이번에 한국사시험을 준비하면서 보고싶은 욕구가 강해져 보기로 결심했다.\\n\\n영화의 러닝타임의 절반정도를 전투씬을 보여주었는데, 하나도 지루하지 않고 오히려 더 집중되었다.\\n\\n\\u200b\\n\\n영화의 연출이 상당히 좋았다.\\n\\n이순신이 전투에 행할 때, 아들과의 대화를 번갈아 보여준다거나, 백성들이 이순신을 도우는 장면. 이 장면은 정말 인상깊었다. 이순신은 아들에게 이렇게 말한 바가 있다. 그런 왕을 위해 뭣하러 싸우냐는 아들의 질문에 자신은 왕을 위해서가 아닌, 백성들에게 충을 바친다고 하였다. 백성들이 이순신을 회오리로부터 구해줌으로써 이순신이 전투를 임하는 이유(앞서 말했던 것)가 타당해졌으며(이순신이 백성에게 해준 것이 없다면, 백성이 이순신을 살려주겠는가), 여기서 백성과 이순신 서로는 긍정적인 영향을 주는, 상호적인 관계임을 알 수 있었다. \\n\\n또한, 특히, 왜군이 조선 수군들의 목을 베어 보내온 장면이 있다. 이는 후반에 승리세를 잡고, 이순신이 왜군의 수장의 목을 달아 그대로 돌려주는 모습을 보여주었다. 이것이 실화인 것은 모르겠으나, 이러한 연출적인 부분이 좋았다.\\n\\n\\u200b\\n\\n이순신의 명언은 빼놓을 수가 없다.\\n\\n\"두려움을 용기로 만드는 것\"\\n\\n\"필히 살고자하면 죽을 것이고, 죽고자 하면 살 것이다\"\\n\\n그리고 가장 기억에 남는 것은 아들에게 한마디 하고 가는 부분인데, \"네 생각엔 무엇이 더 천행같더냐\" 이순신의 뜻은 백성들의 도움이 가장 천행이었다는 말이었다.\\n\\n\\u200b\\n\\n또한, 이순신이 미리 전투계획을 세워놓은 것인지, 그 짧은 순간순간 일사불란하게 명령을 내리는 모습이 너무 멋있었다.\\n\\n\\u200b\\n\\n이해가 안되는 부분도 꽤 많아, 영화가 끝나는 즉시 리뷰들을 찾아보았다.\\n\\n조선 배에 타고있던 일본어 하는 놈 - 첩보원\\n\\n구선이 부활했다 - 구선(거북선)이 아닌, 일반 배가 왜군의 배를 부딪혀 부서뜨리는 모습을 표현한 것\\n\\n이순신 아들은 왜 전투에 참가하지 않았는지 - 아버지를 도우려다 다쳐서 (다친 장면은 보았는데, 왜 그렇게 생각을 안했는지 모르겠다. 배에 오르지 않고 백성들과 함께 바라보기에 아들은 수군이 아닌가 싶었다.)\\n\\n\\u200b\\n\\n나는 영화 중간에 울기도 하였다.\\n\\n바로, 배우 진구때문이다. 탐망꾼이라 하는데, 무슨 뜻인지 몰라 찾아보니, 정보를 알아내는 사람을 부르는 말 같다.\\n\\n이 탐망꾼이 부인에게 자신의 죽음을 인지하고 있지만 뒤로하고 장군을 살리기 위해 외치는 장면이,\\n\\n이를 다 알면서도 남편의 뜻대로 들어주는 아내의 장면까지 너무 마음이 아프고, 공감되어서 서럽게 눈물이 났다.\\n\\n이 탐망꾼은 실제로도 있었던 사람이면서, 명량대첩 중 죽은 것은 사실이 아니라고 한다. 또한, 아내는 허구의 인물이라 한다.\\n\\n\\u200b\\n\\n영화를 보는 내내 내 웃음사냥꾼이 되주었던 배우 고경표. 좋아하는 배우인데, 배역이 어린 군인인지, 놀라는 표정이 많고, 어리숙한 모습이 귀여우면서 웃겨가지고 자주 웃었다.\\n\\n그리고 배우 노민우의 왜놈 연기. 너무 섹시해서 안좋아할 수가 없잖아. 다음부턴 이런 일본과의 전쟁영화 만들 때 진짜 일본인으로 쓰자. 류승룡도, 조진웅도, 노민우도 다 너무 좋아하는 배우라 영화를 보면서도 싫어할 수가 없잖아. 노민우...너무 잘생겼더라.\\n\\n\\u200b\\n\\n마지막으로, 전쟁이 승리를 가져와 무사히 마친 후, 수군들이 떠들었던 대화가 기억에 남는다.\\n\\n영화적으로 관객들에게 하는 말이겠지.\\n\\n\"후손들이 우리가 이렇게 고생한 걸 알까?\"\\n\\n\"당연하지 모르면 호로자식이다\"\\n\\n이번 기회에 잘 알고 머릿속에 새기겠습니다.\\n\\n정말, 모든 등장인물이 하나같이 멋있는 것 같다.\\n\\n물론 단연 최고는 이순신이다.\\n\\n내가 그자리에 있었다면, 노라도 제대로 저었을까?\\n\\n오늘도 스스로의 반성을 하며, 영화리뷰 끝. 광남이가 영화 명량을 통해 또 한번 느낀 점은 현재가 있을 수 있는 이유는 과거가 있기 때문이라는 생각을 했는데요. 국가의 *존망이 달려있다지만, 자신들의 목숨을 내받쳐서라도 지켜내는 모습은 무어라 표현하기 어려운 것 같다. 영화 명량의 김한민 감독님은 명량의 명대사 중 하나로 \"장수의 의리는 충(忠)이다. 충은 백성을 향한다. 백성이 있어야 나라가 있고, 나라가 있어야 임금이 있다\"는 것을 이야기 했는데요.  대체 이런 지점에 \\'왜 싸울까\\'라는 부분에 대해 의문이 있었고, 영화에서는 이순신 장군의 첫째 아들 이회(권율)가 물어보는 것으로 표현을 대체했다고 하는데요. 김한민 감독은 이순신이라면 당연히 백성에 대해 이야기 하지 않았겠느냐고 했다고 해요.\\n\\n\\u200b\\n\\n*존망: 존속과 멸망 또는 생존과 사망을 아울러 이르는 말.\\n\\n명량\\n\\n리더십을 깨운 영화\\n\\nROARING CURRENTS, 2014\\n\\n\\n \\n\\n확실히 이 부분은 당시 영화가 나온 시기 많은 분들이 공감할 수밖에 없던 것 같아요. 광남이도 이 영화에 열광했던 부분이었고, 영화가 나온 직후에는 이순신 리더십과 관련된 강연, 책 등이 많이 보이기도 했었어요. 이순신 리더십은 항일, 위기극복, 소통 등을 떠올릴 수 있는데요. 그 동안 \\'이순신\\'이라는 사람을 다룬 작품들이 성웅 이순신의 모습만 보여줬다면 영화 명량은 (당연히 성웅이지만) 조금 더 인간적인 면을 보여주면서도 그의 결단력을 볼 수 있었던 것 같아요. \\n\\n명량\\n\\n계속되는 전쟁씬\\n\\nROARING CURRENTS, 2014\\n\\n\\n \\n\\n\\n \\n\\n명량 김한민 감독의 전작 최종병기 활에서 주연을 맡았던 류승룡 배우님이 영화 명량에서는 왜구의 수장 구루지마 역할을 맡았었는데요. 욕먹을 것을 생각하면 왜군의 역할을 하기 힘들었을 텐데, 정말 지독한 왜군의 모습을 그대로 보여준 것 같았어요. 그리고 명량에서 이순신을 저격하려던 하루(노민우)도 짧지만 굵게 제 역할을 해주었던 것 같아요. 그리고 전쟁 속에서 \"우리가 이렇게 개고생한 걸 후손들이 알랑가\"와 같은 대사로 우리 마음 속 무언가를 터치하기도 했죠. 이러한 장면들이 단순히 극적인 전쟁이 아닌, 실제 전쟁이 났을 때의 모습을 그린 것 같아 굉장히 몰입하면서 봤던 것 같아요.\\n\\n이렇게 오늘은 영화 명량 (ROARING CURRENTS, 2014) 후기를 남겨봤는데요. 우리나라 국민이라면 알고 있어야 하는 역사적 인물이자 역사적 사실이죠. 내용과 결말이 뻔함에도 불구하고 1700만명이 넘는 사람이 봤던 영화 명량은 이순신 장군의 인간적인 면모와 더불어 당시 조선의 상황과 사람들의 모습까지 하나도 놓칠 게 없는 영화인 것 같네요. 아직까지도 역사적 사실에 대해 잘 모르고 있다면 영화 명량을 시작으로 조금씩이라도 공부해보면 어떨까요? 물론 저도요. - 광남 -   너무나도 유명한 영화였지만 나는 이제야 보게 되었다. “노희영의 브랜딩 법칙”이라는 책을 읽던 중 “명량”과 “광해”를 언급했는데 읽다보니 궁금해져서 보게 되었다. \\n\\n \\n\\n 이순신 장군의 위대함은 모두 알 것이다. 나는 이순신역을 맡은 최민식의 연기에 감동을 받았다. 묵직하면서 중후하고 깊이가 있는 최민식이 이 역할을 맡았기에 이순신 장군의 활약이 더 눈에 띄지 않았을 까 생각되어졌다. 그리고 이미 일어난 일이고 승리가 확실한 것을 알고 보는 거지만 전투신에서 위태위태 할 때는 내 마음도 콩알만 해졌다. \\n\\n 그리고 백성들이 배를 타고 나와 대장선을 끌어내는 모습은 너무나도 감동적인 장면이었다. 죽음을 각오하고 전장으로 나간 군사들과 백성들이 있었기에 현재 우리가 있는 것일테다.\\n\\n 나는 또 한번 저 시대에 태어나지 않음에 감사하며 우리 선조들에게 다시한번 감사를 표한다.\\n\\n\\u200b\\n\\n 이 영화는 내가 볼 때 잔인한 장면이 좀 많이 있었다. 개인적으로 그런 장면을 잘 보지 못한다. 하지만 연기자들의 연기가 좋아서 몰입감이 높고 (내가 아는 많은 연기자들이 나오고 류승룡의 연기도 훌륭하다.) 해상 전투신은 어떻게 저걸 찍었을까 하는 감탄이 나올 정도로 훌륭하며 이순신 장군의 업적을 볼 수 있는 영화이기에 안 보신 분이라면 보고 후회하지 않을 영화일 듯 싶다.  여러분 안녕하세요 행복한 수요일입니다~! 다들 즐거운 하루 보내고들 계신가요~?ㅎㅎㅎㅎ\\n\\n저는 오늘 여러분들에게 영화 명량을 소개시켜드리려고 합니다~! 영화 명량도 우리나라의 천만영화중에 하나이죠!! 오늘은 여러분들에게 이 영화에 대한 소개와 tmi를 전달해드리는 시간을 가져보도록 하겠습니다~!\\n\\n그럼 포스팅 시작할게요 레고레고~!ㅎㅎㅎㅎ\\n\\n\\n영화 명량에 대한 간단한 소개부터 하고 들어가보도록 하겠습니다~!\\n\\n영화 명량은 2014년에 개봉한 한국 영화입니다~! 한국의 대표적인 명장 이순신을 다룬 영화로 2014년 개봉된 한국영화 중 가장 오랜 기간 스크린에 걸린 영화라고 합니다~! 이 작품은 <최종병기 활>의 김한민 감독이 메가폰을 잡은 명량 해전을 다룬 영황비니다~! 13년 3월 14일부터 13년 여름즈음에 촬영을 마쳤다고 하고 후반 작업을 거쳐서 14년 7월 30일에 개봉을 하게 됩니다~ 이 작품의 원작은 박은우의 소설 <명량>이지만 개봉하기전에 영화를 소설로 옮겨 각본 전철홍, 김한민, 지은이 김호경의 명량이 출판되기도 하였다고 하네요!\\n\\n이 작품이 나온지 시간이 좀 흐른 현재 2019년에도 한국 영화 관객 수 1위의 왕좌에 앉아있는 영화로..! 천만 관객 영화들은 대게 명량을 기준으로 비교가 된다고 합니다~! 1700만이라는 충격적인 관객 수는 당분간 깨질 기미가 보지이 않는 것으로 ㅎㅎㅎㅎㅎㅎㅎ\\n\\n \\n \\n영화 명량의 시놉시스도 함께 알아보겠습니다~!\\n\\n1597년 임진왜란 6년, 오랜 전쟁으로 인해 혼란이 극에 달한 조선.. 무서운 속도로 한양으로 북상하는 왜군에 의해 국가존망의 위기에 처하자 누명을 쓰고 파면 당했던 이순신 장군이 삼도수군통제사로 재임명이 됩니다. 하지만 그에게 남은건 전의를 상실한 병사와 두려움에 가득 찬 백성.. 그리고 12척의 배 뿐인데요! 마지막 희망이었던 거북선마저 불타고 잔혹한 성격과 뛰어난 지략을 지닌 용병 구루시마 미치후사가 왜군 수장으로 나서자 조선은 더욱 술렁입니다.... 330척에 달하는 왜군의 배가 속속 집결하고 압도적인 수의 열세에 모두가 패배를 직감하는 순간... 이순신 장군은 단 12척의 배를 이끌고 명량 바다를 향해 나서는데요..!\\n\\n12척의 조선 330척의 왜군의 대결! 역사를 바꾼 위대한 전쟁이 시작됩니다!\\n\\n  \\n  \\n영화 명량의 캐스팅으로는 주연배우가 최민식, 류승룡에 조연들도 이정현, 조진중, 진구, 김명곤, 박보검 등 어느정도 연기력과 이니도를 갖춘 중견배우가 대거 포진하여 큰 이변이 없다면 이들의 연기력만으로도 무난히 본전 이상을 할 것 같은 캐스팅을 갖추고 있었습니다!\\n\\n그래서 그랬을까지 캐스팅 목록만으로도 먼가 든든한 마음이 듭니다ㅋㅋㅋㅋㅋㅋ 이순신이라는 주제에다가 든든한 캐스팅까지... 약간 천만 각오하고 나온느낌이 드는 그런 영화네요!ㅋㅋㅋㅋㅋ\\n\\n \\n \\n영화 명량의 고증 측면에 대해서도 이야기를 해보도록 하겠습니다~!\\n\\n대체로 기존의 한국 사극과 별반 차이가 없는 고증 수준이라는 평가를 받고 잇는데요! 고증에 거금을 들였다고 피력한 것에 비하면 그 기대이하라는 평가를 받고 있습니다~!\\n\\n난중일기에서 이순신 본인이 실로 천행이었다. 라고 처음이자 마지막으로 하늘이 도왔다는 표현을 쓰고 있으며 당시의 양호 등 명나라 장수들의 평가와 조선 측의 사관이나 관리들도 고전 끝에 승리한 것을 매우 높게 평가하고 있습니다. 쉽게 이겼다고 평가한 것은 오직 한 명 선조 뿐이었다고 하네요~ 이런 디테일을 살린 점은 높게 평가 받고 있는 것 같습니다~!ㅎㅎㅎㅎㅎㅎ\\n\\n  \\n \\n이 영화에 대한 평가도 함께 이야기를 해보고싶은데요~!\\n\\n이 작품은 어마어마한 관객수와는 별개로 평가가 애매한 편입니다..! 해전씬은 매우 훌륭하였으나 대부분의 등장인물들의 낮은 비중과 평면적인 캐릭터가 아쉬웠다는 평가를 받고 있는데요! 한국의 엄청난 흥행과는 별개로.. 작품성에 대한 이야기는 호불호가 갈립니다! 중장년층은 대체로 호의적인 반응을 보였으나 젊은층에서는 호불호가 많이 가렸으며 평론가들은 회의적인 반응들을 많이 보여주었다고 하네요..! 그리고 해외 평론가들에게는 관심을 딱히 받지 못한..! 그런 작품입니다 ㅎㅎㅎ\\n\\n영화의 기승전결 구분이 없이 승전전전결~ 같다는 평가나 백성들의 도움을 표현한답시고 어설프게 미화된 신파 또한 지적이 되었습니다..! 또 스크린 독점이야기도 나오고 있고 ㅎㅎㅎ 관객수는 넘사벽이었지만 그 뒤에는 또 여러가지 말이 많았던 영화였네요...!ㅎㅎㅎㅎ 영화 명량은 조선시대 실존 인물인 이순신장군이 임진왜란때\\n\\n12척의 배로 330척의 왜선을 물리친 전투입니다.\\n\\n두번의 백의종군으로 몸과 마음이 피폐해진 이순신장군이\\n\\n자신을 버린 나라를 등을 질수도 있었지만,\\n\\n나라를 위해, 백성을 위해 12척의 배로 승리를 이끌었습니다.\\n\\n\\u200b\\n\\n전세계적으로 유명한 해전중에 하나로 뽑히는 명량해전\\n\\n물론 전세계 4대 해전에는 명량해전이 끼진 못했습니다.\\n\\n하지만 전세계적으로 충격을 준 사건이 바로 명량해전입니다.\\n\\n어느 해전에서도 30배가 넘는 적을 아군의 피해가 거의 없는 상태로\\n\\n승리한 해전은 없었거든요.\\n\\n\\u200b\\n\\n그리고 우리나라의 자랑거리중 하나 \\'한산도해전\\'입니다\\n\\n스페인의  무적함대와 영국과의 해전을 다룬 \\'칼레 해전\\'\\n\\n그리스와 페르시아와의 해전을 다룬 \\'살라미스 해전\\'\\n\\n나폴레옹이 영국과 싸운 \\'트라팔가 해전\\'\\n\\n그리고 우리에게,그리고 전세계적으로 잘 알려진 \\'한산도해전\\'까지\\n\\n한산도 해전에 대해서는 곧 영화로 나온다고 합니다.\\n\\n\\n출처-네이버영화\\n\\n이순신 장군의 심정\\n\\n\\u200b\\n\\n저는 명량을 보면서 많은 생각이 떠올랐습니다.\\n\\n과연 나였다면..12척의 배밖에 남지 않았다면 \\n\\n과연 전투에 나갔을까? 도망치지 않았을까?\\n\\n라는 생각을 많이 했습니다.\\n\\n\\u200b\\n\\n이순신 장군 역시, 12척밖에 남지 않은 전선의 상황을 보고\\n\\n답답함을 느꼇을 것 입니다.\\n\\n그리고 두번이나 나라가 자신을 배신하고,\\n\\n임금마저도 자신을 믿지 않는 이 나라가 미웠을것입니다\\n\\n\\u200b\\n\\n하지만 \"바다를 버리면 조선을 버리는 것이다\"라는 말처럼\\n\\n이순신장군은 바다를 지키기 위해 노력을 했죠\\n\\n\\u200b\\n\\n저는 명량에서 왜선이 끝없이 늘어져있는걸 보고\\n\\n이순신 장군의 감정이 떠올랐습니다\\n\\n\\'내가 이길수 있을까?\\', \\'내가 밀리면 조선은 끝인데..\\'\\n\\n라는 이순신장군의 감정에 이입을 했습니다\\n\\n\\u200b\\n\\n이순신 장군도 무서웠을것입니다\\n\\n누가봐도 이길 확률이 적은 이 싸움에서\\n\\n어느 누가 무섭지 않겠습니까\\n\\n\\u200b\\n\\n영화 명량에서는 이순신장군 역을 맡은 최민식배우가\\n\\n정말 감정연기를 잘 했습니다.\\n\\n두려움에 사로잡혀있으면서도, 그 두려움을 보이면\\n\\n아군의 사기가 떨어지니 안으로만 두려움을 갖고,\\n\\n겉으로는 자신감있는 감정\\n\\n역시 믿고보는 최민식배우라는 말이 괜히 있는게 아닙니다.\\n\\n\\u200b\\n\\n평가\\n\\n\\u200b\\n\\n영화 명량은 1700만 관객을 돌파할 정도로 정말 유명한 영화입니다.\\n\\n사실 \\'국뽕\\'이라는 말도 많았지만, \\n\\n우리나라 영웅의 이야기를 다룬 영화인데 국뽕이 어찌 안차오를수가 있습니까\\n\\n\\u200b\\n\\n128분의 상영시간, 하지만 액션씬이 70분정도 됩니다.\\n\\n액션씬이 너무 길면 눈도 아프고, 지루하지만\\n\\n이 영화는 적당한 선에서 액션을 끊고 다시 액션을 하는 식으로 반복됩니다.\\n\\n\\u200b\\n\\n무엇보다 연기를 하는 배우들의 연기력이 물올랐다고 밖에 볼수 없습니다\\n\\n그리고 사소한 엑스트라까지도 옥의 티를 안내려고 노력한 모습이 보입니다\\n\\n\\u200b\\n\\n국뽕.. 영화 명량을 보다보면 누구라도 국뽕에 취해\\n\\n환호를 하고 있는 모습을 볼수 있을 것입니다 이 명량이라는 영화를 보고 내 머리에 남은 강렬한 기억은 구루지마의 머리를 이순신이 잘라버린것과 역시 이영화의 명대사 \"죽고자하면 살 것이고 살고자 하면 죽을것이다\"이다. 내가 이 영화를 보고 인상 깊게 생각했던건 마지막에 이순신과 그의 부하가 말했던 \\'천행\\'이었다. 천행이란 시민의 도움이었고 그것으로 이순신은 살 수 있었다. 누군가의 도움을 댓가 없이 받는 다는건 참 고마운 일이다. 이순신이 각광받는 이유는 이순신이 목숨을 바쳐 나라를 위해 헌신하고 희생했다는 점이다. 지금 까지도 묘비를 세워 그를 추모하는걸 보면 정말 이 나라를 위해 희생한 그가 참 대단하다고 생각한다. 나라면 그렇게 할 수있었을까 의문도 든다. 그 전쟁상황에서 꽁무니 빼고 도망갔진 않았을까. 무서운 빨간옷을 입은 외놈들에게 눈 한번 깜짝 안하고 상대 할 수 있었을까. 과연 나라면 그 많은 부하들이 따르도록 명령하며 지휘 할 수 있었을까... 참 많은 생각이 들게 하는 영화였다.\\n\\n나라면 상대가 내 눈앞에 왔을때 죽는게 두려워서 또 상대가 두려워서 무거운 연장 다 벗고 도망 갔을 것 같다. 참 어리석지만, 도망가면 외적에게 대륙을 빼앗기고 그들의 노예로 그들의 통치하에 살 수 밖에 없을 것 이지만..그 두려운 상황을 견디지 못했을것 같다. 그들에게 땅을 빼앗겨 노예로 사는게 사는게 아닐꺼란걸 이순신장군은 알았다. 내 땅에서 살아야 행복하단걸 그리고 그래야 후손들도 행복할걸 알았던 이순신 장군님은 선택을 하신것이다. 본인도 살고 싶을 텐데 두려우셨을텐데.. 이순신장군님은 두려움을 극복 하신 분이라는 생각이든다. 내가 만약 이순신 장군이었다면 느꼇을 두려움에 대해서 생각해 보았다. 외놈들에게 질것을 두려워했을것이다. 과연 이길수있을까 에대한 고민을 했을것 같다.\\n\\n이제 이 영화에서 인생의 지혜를 엿볼수있다. 이순신 장군님도 분명 두려움이 있으셨을텐데 두려움을 극복하고자 \\'준비\\'를 한것이다. 그리고 여러 전략을 세워 각각의 상황을 다 염두에 두고 전략적으로 이길 방법을 연구하신것이다. 두려움에 대해 그러면 이제 우리는 인생을 살면서 누구나 겪는 돈과 꿈 이라는 고민을 해결해야 한다. 이순신 장군님은 고민할 시간에 전략을 짜셨고 이 지혜를 우리는 배워야 한다. 이순신 장군님은 우리땅을 외놈으로부터 지키겠다는 일념 하나와 싸워서 이겨야 산다는 마음 하나로 고민에 빠지셨다. 근데 나는 이순신 장군님을 본받아 우리 인생에서 큰 지혜를 배워야 한다고 생각한다. \\n\\n\\u200b 조선을 대표해서 전쟁에 나가는 이순신장군과 일본을 대표해서 전쟁에 나가는\\n구루지마장군의 전략싸움과 라이벌구도가 정말 흥미진진 했습니다.\\n명량(鳴梁) : (2014년 作) \\n그리고 마지막에 이순신장군과 구루지마장군의 정면대결은\\n정말 명장면이라고 뽑을 수 있는 장면이였죠.\\n\\n좋은 한국영화 보고싶다.... \\n명량의 명장면\\n12척의 배로 전장에 뛰어든 조선이 일본의 330척이 되는 배를 마주했을 때\\n조선의 병사들이 느끼는 상실감과 사기저하가 정말 관객들에게도 \\n섬세하게 느껴질만큼 전의를 상실하게 만들었는데요.\\n\\n이순신장군의 울독목 바다를 이용한 전략으로 왜군의 배를 물리칠 때 해볼만하겠다고 느껴지는 감정과\\n사기가 올라간 조선군의 전투모습은 상당히 인상적이였네요.\\n\\n후기\\n당시 2014년 여름에 개봉한 영화 명량.\\n역사영화는 꼭 챙겨보는편이라 보러간 영화였는는데요~\\n이순신장군님의 저력과 위대함을 다시 느낄 수 있었던 영화였네요!\\n명량에게 점수를 매겨본다면 10점 만점에\\n★★★★★★★★★★\\n10개 줄 수 있을것 같습니다!\\n대한민국 국민이라면 꼭 봐야할 영화 명량!\\n추천드립니다!'"
            ],
            "application/vnd.google.colaboratory.intrinsic+json": {
              "type": "string"
            }
          },
          "metadata": {},
          "execution_count": 59
        }
      ]
    },
    {
      "cell_type": "markdown",
      "source": [
        "* 리뷰에서 명사들만 추출하여 nouns에 저장하자."
      ],
      "metadata": {
        "id": "QUsJX8ScQFoc"
      }
    },
    {
      "cell_type": "code",
      "source": [
        "from khaiii import KhaiiiApi\n",
        "api = KhaiiiApi()\n",
        "nouns = []\n",
        "for text in texts:\n",
        "    noun_movie = []\n",
        "    for token in api.analyze(text):\n",
        "        for x in token.morphs:\n",
        "            if x.tag == 'NNG':\n",
        "                noun_movie.append(x.lex)\n",
        "    nouns.append(noun_movie)"
      ],
      "metadata": {
        "id": "RLBFdJvIShcj"
      },
      "execution_count": null,
      "outputs": []
    },
    {
      "cell_type": "markdown",
      "source": [
        "* 첫 번째 영화 리뷰에 들어있는 명사들이다."
      ],
      "metadata": {
        "id": "teng-owrQMw0"
      }
    },
    {
      "cell_type": "code",
      "source": [
        "nouns[0]"
      ],
      "metadata": {
        "colab": {
          "base_uri": "https://localhost:8080/"
        },
        "id": "KnI8iSQVTCSM",
        "outputId": "923605d3-bf69-4848-937c-9b25ffd5c60d"
      },
      "execution_count": null,
      "outputs": [
        {
          "output_type": "execute_result",
          "data": {
            "text/plain": [
              "['영화',\n",
              " '최근',\n",
              " '개봉',\n",
              " '당시',\n",
              " '반감',\n",
              " '곳',\n",
              " '필름',\n",
              " '역사',\n",
              " '표',\n",
              " '후',\n",
              " '영화',\n",
              " '영화',\n",
              " '천만관객',\n",
              " '영화',\n",
              " '꼬리표',\n",
              " '달',\n",
              " '영화',\n",
              " '사실',\n",
              " '그때',\n",
              " '선입견',\n",
              " '필름',\n",
              " '새끼',\n",
              " '선',\n",
              " '한참',\n",
              " '선입견',\n",
              " '새끼',\n",
              " '영화',\n",
              " '영화',\n",
              " '평가',\n",
              " '의식',\n",
              " '흐름',\n",
              " '영화',\n",
              " '전',\n",
              " '임진왜란',\n",
              " '복습',\n",
              " '명량',\n",
              " '해전',\n",
              " '구체',\n",
              " '전투',\n",
              " '장군',\n",
              " '놈새끼',\n",
              " '구체',\n",
              " '영화',\n",
              " '고증',\n",
              " '점수',\n",
              " '약',\n",
              " '억지',\n",
              " '연출',\n",
              " '영화',\n",
              " '캐릭터',\n",
              " '묘사',\n",
              " '원',\n",
              " '장수',\n",
              " '소모품',\n",
              " '거품',\n",
              " '영화',\n",
              " '실제',\n",
              " '말',\n",
              " '장군',\n",
              " '신급',\n",
              " '묘사',\n",
              " '명량',\n",
              " '해전',\n",
              " '장군',\n",
              " '해전',\n",
              " '이후',\n",
              " '후반',\n",
              " '전투',\n",
              " '전대미문',\n",
              " '팀킬',\n",
              " '죽음',\n",
              " '직전',\n",
              " '몸',\n",
              " '기간',\n",
              " '전쟁',\n",
              " '정신',\n",
              " '몸',\n",
              " '피폐',\n",
              " '상태',\n",
              " '유리',\n",
              " '상태',\n",
              " '삼',\n",
              " '수군',\n",
              " '원균',\n",
              " '씹새끼',\n",
              " '트롤짓',\n",
              " '함대',\n",
              " '대부분',\n",
              " '박',\n",
              " '상태',\n",
              " '기',\n",
              " '밑바닥',\n",
              " '와',\n",
              " '삼도수군',\n",
              " '통제사',\n",
              " '왜군',\n",
              " '명량',\n",
              " '상황',\n",
              " '배',\n",
              " '상대',\n",
              " '생각',\n",
              " '생각',\n",
              " '모두',\n",
              " '원균',\n",
              " '개새끼',\n",
              " '트롤짓',\n",
              " '환멸',\n",
              " '상황',\n",
              " '나라',\n",
              " '말',\n",
              " '장군',\n",
              " '상황',\n",
              " '완벽',\n",
              " '유도리',\n",
              " '원칙주의자',\n",
              " '군인',\n",
              " '명령',\n",
              " '전력',\n",
              " '기',\n",
              " '생각',\n",
              " '혼자',\n",
              " '전선',\n",
              " '앞',\n",
              " '영화',\n",
              " '명량',\n",
              " '부분',\n",
              " '고증',\n",
              " '뒤',\n",
              " '혼자',\n",
              " '빵',\n",
              " '역사',\n",
              " '영화',\n",
              " '말',\n",
              " '현실',\n",
              " '장군',\n",
              " '전',\n",
              " '울돌목',\n",
              " '해류',\n",
              " '왜쪽',\n",
              " '불리',\n",
              " '배',\n",
              " '배',\n",
              " '사망자',\n",
              " '안택선',\n",
              " '침몰',\n",
              " '왜군',\n",
              " '후퇴',\n",
              " '다이',\n",
              " '존재',\n",
              " '공포',\n",
              " '자체',\n",
              " '전열',\n",
              " '전투',\n",
              " '사기',\n",
              " '바닥',\n",
              " '상태',\n",
              " '전쟁',\n",
              " '피폐',\n",
              " '왜놈',\n",
              " '명분',\n",
              " '전쟁',\n",
              " '마음',\n",
              " '다이묘',\n",
              " '본토',\n",
              " '당',\n",
              " '장군',\n",
              " '말',\n",
              " '인용',\n",
              " '응원',\n",
              " '문구',\n",
              " '정치',\n",
              " '문구',\n",
              " '해석',\n",
              " '현수막',\n",
              " '진정',\n",
              " '금지',\n",
              " '욱일기',\n",
              " '관련',\n",
              " '디자인',\n",
              " '올림픽',\n",
              " '정신',\n",
              " '국민',\n",
              " '피해',\n",
              " '몰',\n",
              " '자신',\n",
              " '정치',\n",
              " '목적',\n",
              " '올림픽',\n",
              " '이용',\n",
              " '정부',\n",
              " '일언반구',\n",
              " '작금',\n",
              " '사태',\n",
              " '올림픽',\n",
              " '시청',\n",
              " '전',\n",
              " '영속',\n",
              " '패전',\n",
              " '책',\n",
              " '전쟁',\n",
              " '패배',\n",
              " '인정',\n",
              " '지배',\n",
              " '사회학자',\n",
              " '이론',\n",
              " '책',\n",
              " '수준',\n",
              " '수준',\n",
              " '전문',\n",
              " '학자',\n",
              " '민주주의',\n",
              " '정신',\n",
              " '망각',\n",
              " '패배',\n",
              " '승리',\n",
              " '기준',\n",
              " '사회',\n",
              " '평가',\n",
              " '수준',\n",
              " '말',\n",
              " '문제',\n",
              " '영속',\n",
              " '패전',\n",
              " '의미',\n",
              " '파악',\n",
              " '한국인',\n",
              " '발광',\n",
              " '방향',\n",
              " '편향',\n",
              " '사람',\n",
              " '책',\n",
              " '긍정',\n",
              " '표현',\n",
              " '우리나라',\n",
              " '금기',\n",
              " '공산당',\n",
              " '당',\n",
              " '이름',\n",
              " '선전',\n",
              " '조사',\n",
              " '우리나라',\n",
              " '좌적폐',\n",
              " '행동',\n",
              " '말',\n",
              " '원칙',\n",
              " '말',\n",
              " '실체',\n",
              " '독도',\n",
              " '관련',\n",
              " '문제',\n",
              " '불법',\n",
              " '편입',\n",
              " '영토',\n",
              " '토의',\n",
              " '입장',\n",
              " '말',\n",
              " '좌익',\n",
              " '입장',\n",
              " '영속',\n",
              " '패전',\n",
              " '좌적폐',\n",
              " '이론',\n",
              " '미군',\n",
              " '점령',\n",
              " '상태',\n",
              " '지배',\n",
              " '피지배',\n",
              " '이분법',\n",
              " '뒤',\n",
              " '점',\n",
              " '지구',\n",
              " '팩트',\n",
              " '점령',\n",
              " '의미',\n",
              " '냉전',\n",
              " '시대',\n",
              " '상황',\n",
              " '동맹국',\n",
              " '경제',\n",
              " '군사',\n",
              " '차이',\n",
              " '점령',\n",
              " '논리',\n",
              " '새시대',\n",
              " '제국주의',\n",
              " '우생학',\n",
              " '치새끼',\n",
              " '민주',\n",
              " '정권',\n",
              " '우',\n",
              " '전범',\n",
              " '좌',\n",
              " '정치',\n",
              " '판',\n",
              " '일본인',\n",
              " '정치',\n",
              " '혐오',\n",
              " '허무주의',\n",
              " '마음',\n",
              " '나라',\n",
              " '전',\n",
              " '정치',\n",
              " '와중',\n",
              " '일본인',\n",
              " '정신',\n",
              " '소리',\n",
              " '정치인',\n",
              " '판',\n",
              " '사람',\n",
              " '환멸',\n",
              " '좌우',\n",
              " '전',\n",
              " '지구',\n",
              " '정의',\n",
              " '바람',\n",
              " '방향',\n",
              " '정치',\n",
              " '사람',\n",
              " '입헌민주당',\n",
              " '생각',\n",
              " '강령',\n",
              " '자',\n",
              " '헌법',\n",
              " '파괴',\n",
              " '극우',\n",
              " '강령',\n",
              " '방향',\n",
              " '영화',\n",
              " '리뷰',\n",
              " '얘기',\n",
              " '적',\n",
              " '공부',\n",
              " '추측',\n",
              " '손자병법',\n",
              " '격언',\n",
              " '조금',\n",
              " '장군',\n",
              " '상대',\n",
              " '상황',\n",
              " '충성',\n",
              " '절',\n",
              " '애국',\n",
              " '왜군',\n",
              " '생각',\n",
              " '상대방',\n",
              " '전력',\n",
              " '파악',\n",
              " '생각',\n",
              " '조사',\n",
              " '장군',\n",
              " '마음',\n",
              " '지',\n",
              " '백전',\n",
              " '불태',\n",
              " '글로발',\n",
              " '리더',\n",
              " '국가',\n",
              " '자격',\n",
              " '사실',\n",
              " '국민',\n",
              " '나라',\n",
              " '정권',\n",
              " '준비',\n",
              " '임진왜란',\n",
              " '병크',\n",
              " '이후',\n",
              " '번영',\n",
              " '꽃',\n",
              " '애도',\n",
              " '시대',\n",
              " '명목상',\n",
              " '민주주의',\n",
              " '시작',\n",
              " '메이지',\n",
              " '유신',\n",
              " '결말',\n",
              " '좆쓰레기',\n",
              " '싸이',\n",
              " '스',\n",
              " '전범',\n",
              " '국가',\n",
              " '핵',\n",
              " '발',\n",
              " '말',\n",
              " '현',\n",
              " '신의',\n",
              " '반도체',\n",
              " '수출',\n",
              " '규제',\n",
              " '우리나라',\n",
              " '소부장',\n",
              " '안정',\n",
              " '자립',\n",
              " '승리',\n",
              " '결과',\n",
              " '피해',\n",
              " '정황',\n",
              " '왜란',\n",
              " '정치',\n",
              " '자신',\n",
              " '안위',\n",
              " '자국민',\n",
              " '전쟁',\n",
              " '피해',\n",
              " '개씹',\n",
              " '지',\n",
              " '전쟁',\n",
              " '조상',\n",
              " '땅',\n",
              " '정신',\n",
              " '만',\n",
              " '실제',\n",
              " '전쟁',\n",
              " '킬',\n",
              " '정도',\n",
              " '예상',\n",
              " '발',\n",
              " '왜구새끼',\n",
              " '출',\n",
              " '영화',\n",
              " '명량',\n",
              " '리뷰',\n",
              " '작성자',\n",
              " '개봉',\n",
              " '처음',\n",
              " '명량',\n",
              " '이번',\n",
              " '사시험',\n",
              " '준비',\n",
              " '욕구',\n",
              " '결심',\n",
              " '영화',\n",
              " '러닝타임',\n",
              " '절반',\n",
              " '정도',\n",
              " '전투씬',\n",
              " '집중',\n",
              " '영화',\n",
              " '연출',\n",
              " '전투',\n",
              " '때',\n",
              " '아들',\n",
              " '대화',\n",
              " '백성',\n",
              " '장면',\n",
              " '장면',\n",
              " '인상',\n",
              " '아들',\n",
              " '말',\n",
              " '왕',\n",
              " '아들',\n",
              " '질문',\n",
              " '자신',\n",
              " '왕',\n",
              " '백성',\n",
              " '충',\n",
              " '백성',\n",
              " '회오리',\n",
              " '전투',\n",
              " '이유',\n",
              " '말',\n",
              " '신',\n",
              " '백성',\n",
              " '백성',\n",
              " '백성',\n",
              " '서로',\n",
              " '긍정',\n",
              " '영향',\n",
              " '상호',\n",
              " '관계',\n",
              " '왜군',\n",
              " '수군',\n",
              " '목',\n",
              " '장면',\n",
              " '후반',\n",
              " '승리세',\n",
              " '왜군',\n",
              " '수장',\n",
              " '목',\n",
              " '모습',\n",
              " '실화',\n",
              " '연출',\n",
              " '부분',\n",
              " '명언',\n",
              " '두려움',\n",
              " '용기',\n",
              " '기억',\n",
              " '아들',\n",
              " '한마디',\n",
              " '부분',\n",
              " '생각',\n",
              " '천행',\n",
              " '뜻',\n",
              " '백성',\n",
              " '도움',\n",
              " '천행',\n",
              " '말',\n",
              " '전투',\n",
              " '계획',\n",
              " '순간순간',\n",
              " '일사불란',\n",
              " '명령',\n",
              " '모습',\n",
              " '이해',\n",
              " '부분',\n",
              " '영화',\n",
              " '즉시',\n",
              " '리뷰',\n",
              " '배',\n",
              " '첩보원',\n",
              " '구',\n",
              " '부활',\n",
              " '구선',\n",
              " '거북선',\n",
              " '일반',\n",
              " '배',\n",
              " '왜군',\n",
              " '배',\n",
              " '모습',\n",
              " '표현',\n",
              " '아들',\n",
              " '전투',\n",
              " '참가',\n",
              " '아버지',\n",
              " '장면',\n",
              " '생각',\n",
              " '배',\n",
              " '백성',\n",
              " '아들',\n",
              " '수군',\n",
              " '영화',\n",
              " '중간',\n",
              " '배우',\n",
              " '진구',\n",
              " '탐망',\n",
              " '뜻',\n",
              " '정보',\n",
              " '사람',\n",
              " '말',\n",
              " '탐망',\n",
              " '부인',\n",
              " '자신',\n",
              " '죽음',\n",
              " '인지',\n",
              " '뒤',\n",
              " '장군',\n",
              " '장면이',\n",
              " '남편',\n",
              " '아내',\n",
              " '장면',\n",
              " '마음',\n",
              " '공감',\n",
              " '눈물',\n",
              " '탐망',\n",
              " '사람',\n",
              " '명량',\n",
              " '대첩',\n",
              " '사실',\n",
              " '아내',\n",
              " '허구',\n",
              " '인물',\n",
              " '영화',\n",
              " '웃음사냥',\n",
              " '배우',\n",
              " '고경표',\n",
              " '배우',\n",
              " '배역',\n",
              " '군인',\n",
              " '표정',\n",
              " '모습',\n",
              " '배우',\n",
              " '왜놈',\n",
              " '연기',\n",
              " '섹시',\n",
              " '다음',\n",
              " '전쟁',\n",
              " '영화',\n",
              " '때',\n",
              " '진짜',\n",
              " '일본인',\n",
              " '배우',\n",
              " '영화',\n",
              " '마지막',\n",
              " '전쟁',\n",
              " '승리',\n",
              " '후',\n",
              " '수군',\n",
              " '대화',\n",
              " '기억',\n",
              " '영화',\n",
              " '관객',\n",
              " '말',\n",
              " '후손',\n",
              " '고생',\n",
              " '자식',\n",
              " '이번',\n",
              " '기회',\n",
              " '머릿속',\n",
              " '등장인물',\n",
              " '멋',\n",
              " '최고',\n",
              " '자리',\n",
              " '노',\n",
              " '오늘',\n",
              " '스스로',\n",
              " '반성',\n",
              " '영화리뷰',\n",
              " '끝',\n",
              " '\\u200b',\n",
              " '명량',\n",
              " '리뷰',\n",
              " '주저리주저리',\n",
              " '작성자',\n",
              " '유',\n",
              " '영화',\n",
              " '브랜딩',\n",
              " '법칙',\n",
              " '책',\n",
              " '명량',\n",
              " '광해',\n",
              " '언급',\n",
              " '장군',\n",
              " '연기',\n",
              " '감동',\n",
              " '중후',\n",
              " '깊이',\n",
              " '역할',\n",
              " '장군',\n",
              " '활약',\n",
              " '눈',\n",
              " '생각',\n",
              " '일',\n",
              " '승리',\n",
              " '전투신',\n",
              " '태위태',\n",
              " '때',\n",
              " '마음',\n",
              " '콩알',\n",
              " '백성',\n",
              " '배',\n",
              " '대장선',\n",
              " '모습',\n",
              " '감동',\n",
              " '장면',\n",
              " '죽음',\n",
              " '각오',\n",
              " '전장',\n",
              " '군사',\n",
              " '백성',\n",
              " '시대',\n",
              " '감사',\n",
              " '선조',\n",
              " '감사',\n",
              " '표',\n",
              " '영화',\n",
              " '때',\n",
              " '잔인',\n",
              " '장면',\n",
              " '개인',\n",
              " '장면',\n",
              " '연기자',\n",
              " '연기',\n",
              " '몰입감',\n",
              " '연기자',\n",
              " '연기',\n",
              " '해상',\n",
              " '전투신',\n",
              " '거',\n",
              " '감탄',\n",
              " '정도',\n",
              " '장군',\n",
              " '업적',\n",
              " '영화',\n",
              " '후회',\n",
              " '영화',\n",
              " '출',\n",
              " '뷰',\n",
              " '명량',\n",
              " '작성자',\n",
              " '서',\n",
              " '맘',\n",
              " '작품',\n",
              " '관객수',\n",
              " '별개',\n",
              " '평가',\n",
              " '해전씬',\n",
              " '대부분',\n",
              " '등장인물',\n",
              " '비중',\n",
              " '평면',\n",
              " '캐릭터',\n",
              " '평가',\n",
              " '흥행',\n",
              " '별개',\n",
              " '작품',\n",
              " '이야기',\n",
              " '호불호',\n",
              " '중장년',\n",
              " '호의',\n",
              " '반응',\n",
              " '은층',\n",
              " '호불호',\n",
              " '평론가',\n",
              " '회의',\n",
              " '반응',\n",
              " '해외',\n",
              " '평론가',\n",
              " '관심',\n",
              " '작품',\n",
              " 'ㅎ',\n",
              " 'ㅎㅎ',\n",
              " '영화',\n",
              " '기승',\n",
              " '전결',\n",
              " '구분',\n",
              " '승전전',\n",
              " '결',\n",
              " '평가',\n",
              " '백성',\n",
              " '도움',\n",
              " '표현',\n",
              " '미화',\n",
              " '신파',\n",
              " '지적',\n",
              " '스크린',\n",
              " '독점',\n",
              " '기',\n",
              " 'ㅎ',\n",
              " 'ㅎ',\n",
              " 'ㅎ',\n",
              " '관객수',\n",
              " '넘사벽',\n",
              " '뒤',\n",
              " '말',\n",
              " '영화',\n",
              " 'ㅎ',\n",
              " 'ㅎ',\n",
              " 'ㅎ',\n",
              " 'ㅎ',\n",
              " '출',\n",
              " '영화',\n",
              " '명량',\n",
              " '리뷰',\n",
              " '작성자',\n",
              " '달밤',\n",
              " '이번',\n",
              " '소개',\n",
              " '영화',\n",
              " '개봉',\n",
              " '명량',\n",
              " '영화관',\n",
              " '개봉',\n",
              " '작품',\n",
              " '자체',\n",
              " '이야기',\n",
              " '스',\n",
              " '독점',\n",
              " '독과점',\n",
              " '꼬리표',\n",
              " '영화',\n",
              " '처음',\n",
              " '예매',\n",
              " '시간표',\n",
              " '명량',\n",
              " '글자',\n",
              " '마음',\n",
              " '얼떨결',\n",
              " '영화',\n",
              " '그때',\n",
              " '영화',\n",
              " '독과점',\n",
              " '생각',\n",
              " '전체',\n",
              " '연출',\n",
              " '만족',\n",
              " '명량',\n",
              " '영화',\n",
              " '주제',\n",
              " '자체',\n",
              " '역사',\n",
              " '속',\n",
              " '전쟁',\n",
              " '시도때',\n",
              " '장면',\n",
              " '주',\n",
              " '전체',\n",
              " '흐름',\n",
              " '자체',\n",
              " '불편',\n",
              " '영화',\n",
              " '집중',\n",
              " '연출',\n",
              " '분위기',\n",
              " '명량',\n",
              " '영화',\n",
              " '자체',\n",
              " '스토리',\n",
              " '몰입',\n",
              " '명',\n",
              " '역사',\n",
              " '기반',\n",
              " '영화인',\n",
              " '기본',\n",
              " '흥행',\n",
              " '성공',\n",
              " '밖',\n",
              " '대중',\n",
              " '긍정',\n",
              " '생각',\n",
              " '영화',\n",
              " '생각',\n",
              " '스토리',\n",
              " '역사',\n",
              " '사실',\n",
              " '내용',\n",
              " '생각',\n",
              " '세부',\n",
              " '연출',\n",
              " '느낌',\n",
              " '명량',\n",
              " '점',\n",
              " '적재적소',\n",
              " '강약',\n",
              " '조절',\n",
              " '긴박',\n",
              " '곳',\n",
              " '긴박',\n",
              " '때',\n",
              " '시간',\n",
              " '런타임',\n",
              " '생각',\n",
              " '눈',\n",
              " '연출',\n",
              " '영화',\n",
              " '출',\n",
              " '뷰',\n",
              " '명량',\n",
              " '작성자',\n",
              " '슬기',\n",
              " '운영화생활',\n",
              " '가슴',\n",
              " '군인본분',\n",
              " '내용',\n",
              " '정신',\n",
              " '교육',\n",
              " '\\u200b',\n",
              " '명량',\n",
              " '대첩',\n",
              " '영화',\n",
              " '명량',\n",
              " '즉사',\n",
              " '생',\n",
              " '정신',\n",
              " '무장',\n",
              " '모습',\n",
              " '영화',\n",
              " '명량',\n",
              " '경우',\n",
              " '우리나라',\n",
              " '흥행',\n",
              " '기록',\n",
              " '순식간',\n",
              " '흥행작',\n",
              " '\\u200b',\n",
              " '관객',\n",
              " '동원',\n",
              " '역사',\n",
              " '영화',\n",
              " '사람',\n",
              " '심금',\n",
              " '작품',\n",
              " '거두절미',\n",
              " '영화',\n",
              " '명량',\n",
              " '줄거리',\n",
              " '소개',\n",
              " '먹',\n",
              " '리뷰',\n",
              " '해',\n",
              " '명',\n",
              " '해전',\n",
              " '경우',\n",
              " '임진왜란',\n",
              " '종식',\n",
              " '중요',\n",
              " '전투',\n",
              " '장군',\n",
              " '업적',\n",
              " '역사',\n",
              " '영화',\n",
              " '몰입',\n",
              " '작품',\n",
              " '생각',\n",
              " '\\u200b',\n",
              " '최근',\n",
              " '역사',\n",
              " '콘텐츠',\n",
              " '왜곡',\n",
              " '논란',\n",
              " '다큐',\n",
              " '영화',\n",
              " '점',\n",
              " '\\u200b',\n",
              " '사실',\n",
              " '입각',\n",
              " '극',\n",
              " '묘사',\n",
              " '약간',\n",
              " '각색',\n",
              " '수용',\n",
              " '만족',\n",
              " '감상',\n",
              " '오늘',\n",
              " '영화',\n",
              " '후기',\n",
              " '개봉',\n",
              " '당시',\n",
              " '영화관',\n",
              " '최근',\n",
              " 'ㅎ',\n",
              " 'ㅎ',\n",
              " '감동',\n",
              " '영화',\n",
              " '후기',\n",
              " '요',\n",
              " '단',\n",
              " '명량',\n",
              " '장군',\n",
              " '명량',\n",
              " '대첩',\n",
              " '영화',\n",
              " '대표',\n",
              " '거북선',\n",
              " '출정',\n",
              " '승리',\n",
              " '전쟁',\n",
              " '개봉',\n",
              " '영화',\n",
              " '당시',\n",
              " '영화관',\n",
              " 'ㅎ',\n",
              " 'ㅎ',\n",
              " '출연',\n",
              " '배우',\n",
              " '유',\n",
              " '장군',\n",
              " '연대기',\n",
              " '영화',\n",
              " '부작',\n",
              " '영화',\n",
              " '영화',\n",
              " '용',\n",
              " '출현',\n",
              " '개봉',\n",
              " '예정',\n",
              " '확정',\n",
              " 'ㅎ',\n",
              " 'ㅎ',\n",
              " '생각',\n",
              " '말',\n",
              " '과정',\n",
              " '역사',\n",
              " '장군',\n",
              " '생각',\n",
              " '배우',\n",
              " '모두',\n",
              " '연기',\n",
              " '몰입감',\n",
              " 'ㅎ',\n",
              " 'ㅎ',\n",
              " '\\u200b배우',\n",
              " '연기',\n",
              " '해상',\n",
              " '전투신',\n",
              " '손',\n",
              " '땀',\n",
              " '집중',\n",
              " '영화',\n",
              " '작품',\n",
              " '기록',\n",
              " '포스팅',\n",
              " '우리나라',\n",
              " '국민',\n",
              " '대부분',\n",
              " '존경',\n",
              " '인물',\n",
              " '장군이야기',\n",
              " '볼',\n",
              " '출연진',\n",
              " '영화',\n",
              " '역할',\n",
              " '영화',\n",
              " '명량',\n",
              " '흥행',\n",
              " '여부',\n",
              " '후속편',\n",
              " '과',\n",
              " '노량',\n",
              " '관련',\n",
              " '영화',\n",
              " ...]"
            ]
          },
          "metadata": {},
          "execution_count": 64
        }
      ]
    },
    {
      "cell_type": "markdown",
      "source": [
        "* nouns에서 ㅋ, ㅎ, ㅠ와 같은 단어는 삭제한다.\n",
        "* 추천 방법에서는 영화제목은 불필요하므로 삭제한다."
      ],
      "metadata": {
        "id": "dQcZLd9fXXGP"
      }
    },
    {
      "cell_type": "code",
      "source": [
        "import re\n",
        "nouns2 = [[x for x in nouns_movie if re.search('\\xa0|ㅋ|ㅎ|ㅠ|스파이더|트랜스포머',x) is None] for nouns_movie in nouns]"
      ],
      "metadata": {
        "id": "u0rrnHj7Zx99"
      },
      "execution_count": null,
      "outputs": []
    },
    {
      "cell_type": "markdown",
      "source": [
        "* 한글 형태소분석기는 완전하지 않아서 어떤 때는 '다큐', 어떤 때는 '다큐멘터리'와 같이 결과가 다를 수 있다. 모두 '다큐'로 바꾸자.\n",
        "* 리얼, 리얼리티 또는 히어로, 이어, 히어로물 도 같은 방법을 적용한다."
      ],
      "metadata": {
        "id": "TGOeZ_bQYA9U"
      }
    },
    {
      "cell_type": "code",
      "source": [
        "\n",
        "nouns2 = [['히어로' if x in ['히어','히어로물'] else x for x in nouns_movie] for nouns_movie in nouns2]\n",
        "nouns2 = [['다큐' if x in ['다큐멘터리'] else x for x in nouns_movie] for nouns_movie in nouns2]\n",
        "nouns2 = [['리얼' if x in ['리얼리티'] else x for x in nouns_movie] for nouns_movie in nouns2]"
      ],
      "metadata": {
        "id": "FoCT3EGoaXvV"
      },
      "execution_count": null,
      "outputs": []
    },
    {
      "cell_type": "markdown",
      "source": [
        "* 기타 필요없는 단어들은 삭제한다."
      ],
      "metadata": {
        "id": "L5GojNdRYyZL"
      }
    },
    {
      "cell_type": "code",
      "source": [
        "stopwords = ['한편','각각','각종','검색','곳곳','공통','공통점','관객수','관람가','관람객','그간','그날','그동안',\n",
        "             '그중','극장가','근래','근처','기간','기대감','기대작','기대치','기자','기사','기타',\n",
        "             '기획','까닭','도중','등장인물','등급','답변','댓글','리뷰보','리뷰보기','뒷받침',\n",
        "             '든것','만약','반면','정말','한동안', '한때', '한마디', '한번', '한순간', '한정', '한쪽',\n",
        "             '한참', '할수', '할애']\n",
        "nouns2 = [[x for x in nouns_movie if x not in stopwords] for nouns_movie in nouns2]"
      ],
      "metadata": {
        "id": "OEfqMFLwasdg"
      },
      "execution_count": null,
      "outputs": []
    },
    {
      "cell_type": "code",
      "source": [
        "nouns2[99][:10]"
      ],
      "metadata": {
        "colab": {
          "base_uri": "https://localhost:8080/"
        },
        "id": "a_EymXUaa0RG",
        "outputId": "dfc2f947-cc7b-4692-87bd-4ecc4659ff4f"
      },
      "execution_count": null,
      "outputs": [
        {
          "output_type": "execute_result",
          "data": {
            "text/plain": [
              "['마타타', '영화', '라이온', '후기', '프롤로그요즘', '애니메이션', '영화', '실사판', '개봉', '작품']"
            ]
          },
          "metadata": {},
          "execution_count": 68
        }
      ]
    },
    {
      "cell_type": "markdown",
      "source": [
        "* 한 글자 단어도 삭제한다."
      ],
      "metadata": {
        "id": "1pjkYVdOZxM3"
      }
    },
    {
      "cell_type": "code",
      "source": [
        "nouns3 = [[x for x in noun_movie if len(x)>1] for noun_movie in nouns2]"
      ],
      "metadata": {
        "id": "c-4phOUra5Zl"
      },
      "execution_count": null,
      "outputs": []
    },
    {
      "cell_type": "markdown",
      "source": [
        "* CountVectorizer를 사용하여 단어의 개수를 센다."
      ],
      "metadata": {
        "id": "v2RDAAeVZ8Hd"
      }
    },
    {
      "cell_type": "code",
      "source": [
        "corpus = [' '.join(x) for x in nouns3]"
      ],
      "metadata": {
        "id": "7ki1LNFMbKaq"
      },
      "execution_count": null,
      "outputs": []
    },
    {
      "cell_type": "code",
      "source": [
        "corpus[0][:20]"
      ],
      "metadata": {
        "colab": {
          "base_uri": "https://localhost:8080/",
          "height": 36
        },
        "id": "20kh1kS5bPCr",
        "outputId": "bafc017c-c090-4565-f98c-f073043d93b7"
      },
      "execution_count": null,
      "outputs": [
        {
          "output_type": "execute_result",
          "data": {
            "text/plain": [
              "'영화 최근 개봉 당시 반감 필름 역사'"
            ],
            "application/vnd.google.colaboratory.intrinsic+json": {
              "type": "string"
            }
          },
          "metadata": {},
          "execution_count": 71
        }
      ]
    },
    {
      "cell_type": "code",
      "source": [
        "from sklearn.feature_extraction.text import CountVectorizer\n",
        "\n",
        "vectorizer = CountVectorizer(\n",
        "    min_df=20,\n",
        "    max_df=70,\n",
        "    ngram_range=(1,1),\n",
        "    lowercase=False,\n",
        "    tokenizer=lambda x:x.split(' '))\n",
        "# vectorizer = CountVectorizer()\n",
        "\n",
        "X = vectorizer.fit_transform(corpus)"
      ],
      "metadata": {
        "id": "gd5rpXzgbUQT"
      },
      "execution_count": null,
      "outputs": []
    },
    {
      "cell_type": "code",
      "source": [
        "X[0]"
      ],
      "metadata": {
        "colab": {
          "base_uri": "https://localhost:8080/"
        },
        "id": "36WeRAB8cTYW",
        "outputId": "3413d3e0-40a4-4c61-8890-bcefebc0d017"
      },
      "execution_count": null,
      "outputs": [
        {
          "output_type": "execute_result",
          "data": {
            "text/plain": [
              "<1x1360 sparse matrix of type '<class 'numpy.int64'>'\n",
              "\twith 397 stored elements in Compressed Sparse Row format>"
            ]
          },
          "metadata": {},
          "execution_count": 73
        }
      ]
    },
    {
      "cell_type": "code",
      "source": [
        "X2 = X.toarray()"
      ],
      "metadata": {
        "id": "3Uuu1fmicVJ9"
      },
      "execution_count": null,
      "outputs": []
    },
    {
      "cell_type": "code",
      "source": [
        "X2"
      ],
      "metadata": {
        "colab": {
          "base_uri": "https://localhost:8080/"
        },
        "id": "a0S099Xecm6a",
        "outputId": "2be5bd94-08d0-486f-f4cf-58eb1161087e"
      },
      "execution_count": null,
      "outputs": [
        {
          "output_type": "execute_result",
          "data": {
            "text/plain": [
              "array([[0, 1, 0, ..., 1, 3, 1],\n",
              "       [0, 1, 0, ..., 2, 0, 0],\n",
              "       [0, 0, 1, ..., 0, 1, 0],\n",
              "       ...,\n",
              "       [3, 1, 0, ..., 0, 0, 0],\n",
              "       [0, 4, 1, ..., 0, 0, 0],\n",
              "       [0, 0, 1, ..., 0, 0, 1]])"
            ]
          },
          "metadata": {},
          "execution_count": 75
        }
      ]
    },
    {
      "cell_type": "code",
      "source": [
        "vectorizer.get_feature_names()[:10]"
      ],
      "metadata": {
        "colab": {
          "base_uri": "https://localhost:8080/"
        },
        "id": "iwLphkdKcoGG",
        "outputId": "705d194c-2bee-4ff9-de91-18eb0938440f"
      },
      "execution_count": null,
      "outputs": [
        {
          "output_type": "stream",
          "name": "stderr",
          "text": [
            "/usr/local/lib/python3.7/dist-packages/sklearn/utils/deprecation.py:87: FutureWarning: Function get_feature_names is deprecated; get_feature_names is deprecated in 1.0 and will be removed in 1.2. Please use get_feature_names_out instead.\n",
            "  warnings.warn(msg, category=FutureWarning)\n"
          ]
        },
        {
          "output_type": "execute_result",
          "data": {
            "text/plain": [
              "['가난', '가미', '가상', '가슴', '가운데', '가장', '가정', '가족애', '가짜', '가치']"
            ]
          },
          "metadata": {},
          "execution_count": 76
        }
      ]
    },
    {
      "cell_type": "code",
      "source": [
        "len(vectorizer.get_feature_names())"
      ],
      "metadata": {
        "colab": {
          "base_uri": "https://localhost:8080/"
        },
        "id": "QFgj0xl_c0Uh",
        "outputId": "8e510b98-e567-48ab-91dd-af5baf8b9ef6"
      },
      "execution_count": null,
      "outputs": [
        {
          "output_type": "stream",
          "name": "stderr",
          "text": [
            "/usr/local/lib/python3.7/dist-packages/sklearn/utils/deprecation.py:87: FutureWarning: Function get_feature_names is deprecated; get_feature_names is deprecated in 1.0 and will be removed in 1.2. Please use get_feature_names_out instead.\n",
            "  warnings.warn(msg, category=FutureWarning)\n"
          ]
        },
        {
          "output_type": "execute_result",
          "data": {
            "text/plain": [
              "1360"
            ]
          },
          "metadata": {},
          "execution_count": 77
        }
      ]
    },
    {
      "cell_type": "code",
      "source": [
        "words = vectorizer.get_feature_names()\n",
        "freq = dict(zip(words,X2.sum(axis=0)))"
      ],
      "metadata": {
        "id": "acrHU9K9dBHZ",
        "colab": {
          "base_uri": "https://localhost:8080/"
        },
        "outputId": "863ff59f-fabd-4d57-8f11-3d9d0b10ceef"
      },
      "execution_count": null,
      "outputs": [
        {
          "output_type": "stream",
          "name": "stderr",
          "text": [
            "/usr/local/lib/python3.7/dist-packages/sklearn/utils/deprecation.py:87: FutureWarning: Function get_feature_names is deprecated; get_feature_names is deprecated in 1.0 and will be removed in 1.2. Please use get_feature_names_out instead.\n",
            "  warnings.warn(msg, category=FutureWarning)\n"
          ]
        }
      ]
    },
    {
      "cell_type": "code",
      "source": [
        "from wordcloud import WordCloud\n",
        "import matplotlib.pyplot as plt"
      ],
      "metadata": {
        "id": "Yd46A3UdbK0M"
      },
      "execution_count": null,
      "outputs": []
    },
    {
      "cell_type": "code",
      "source": [
        "font_path = '/usr/share/fonts/truetype/nanum/NanumGothic.ttf'\n",
        "wordcloud = WordCloud(font_path=font_path,background_color='white').generate_from_frequencies(freq)"
      ],
      "metadata": {
        "id": "D0C6GwU3bB3j"
      },
      "execution_count": null,
      "outputs": []
    },
    {
      "cell_type": "code",
      "source": [
        "plt.figure(figsize=(10,8)) # 워드클라우드 크기 지정\n",
        "plt.imshow(wordcloud, interpolation='lanczos') # 이미지의 부드럽기 정도\n",
        "plt.axis('off') # x y 축과 숫자 제거\n",
        "plt.show()"
      ],
      "metadata": {
        "colab": {
          "base_uri": "https://localhost:8080/",
          "height": 310
        },
        "id": "L0dnTHVLbEep",
        "outputId": "53fa5066-e82f-4117-ca5b-3ed6d4eb49b8"
      },
      "execution_count": null,
      "outputs": [
        {
          "output_type": "display_data",
          "data": {
            "text/plain": [
              "<Figure size 720x576 with 1 Axes>"
            ],
            "image/png": "[encoded data removed]"
          },
          "metadata": {
            "needs_background": "light"
          }
        }
      ]
    },
    {
      "cell_type": "code",
      "source": [
        ""
      ],
      "metadata": {
        "id": "_7suJPkabTF-"
      },
      "execution_count": null,
      "outputs": []
    }
  ]
}